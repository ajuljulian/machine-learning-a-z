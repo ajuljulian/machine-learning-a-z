{
 "cells": [
  {
   "cell_type": "code",
   "execution_count": 11,
   "metadata": {},
   "outputs": [],
   "source": [
    "import simplejson\n",
    "from pathlib import Path\n",
    "\n",
    "home = str(Path.home())\n",
    "\n",
    "with open(home + \"/creds.json.nogit\") as fh:\n",
    "    credentials = simplejson.loads(fh.read())"
   ]
  },
  {
   "cell_type": "code",
   "execution_count": 12,
   "metadata": {},
   "outputs": [],
   "source": [
    "import pandas as pd\n",
    "import plotly\n",
    "from plotly.graph_objs import *\n",
    "from plotly.offline import download_plotlyjs, init_notebook_mode, plot, iplot"
   ]
  },
  {
   "cell_type": "code",
   "execution_count": 13,
   "metadata": {},
   "outputs": [],
   "source": [
    "plotly.tools.set_credentials_file(username=credentials[\"plotly\"][\"username\"], api_key=credentials[\"plotly\"][\"apikey\"])"
   ]
  },
  {
   "cell_type": "code",
   "execution_count": 14,
   "metadata": {},
   "outputs": [],
   "source": [
    "mapbox_access_token = credentials[\"mapbox\"]\n",
    "\n",
    "filename = \"https://raw.githubusercontent.com/spencerlawrence36/basic/master/places.csv\"\n",
    "df = pd.read_csv(filename, encoding='utf-8')\n",
    "df = df.head(100)"
   ]
  },
  {
   "cell_type": "code",
   "execution_count": 15,
   "metadata": {},
   "outputs": [
    {
     "data": {
      "text/plain": [
       "Index(['lng', 'lat'], dtype='object')"
      ]
     },
     "execution_count": 15,
     "metadata": {},
     "output_type": "execute_result"
    }
   ],
   "source": [
    "df.columns"
   ]
  },
  {
   "cell_type": "code",
   "execution_count": 16,
   "metadata": {},
   "outputs": [],
   "source": [
    "data = [dict(type='scattermapbox',\n",
    "               lat=[33.49],\n",
    "               lon=[-112.05],\n",
    "               mode='markers',\n",
    "               marker=dict(size=15, color='#000000')\n",
    "            )\n",
    "        ]\n",
    "\n",
    "layout = dict(\n",
    "    autosize=True,\n",
    "    hovermode='closest',\n",
    "    mapbox=dict(accesstoken=mapbox_access_token,\n",
    "                bearing=0,\n",
    "                center=dict(lat=33.49,\n",
    "                            lon=-112.05\n",
    "                            ),\n",
    "                pitch=0,\n",
    "                zoom=10,\n",
    "                style='light'\n",
    "                )\n",
    "            )"
   ]
  },
  {
   "cell_type": "code",
   "execution_count": 17,
   "metadata": {},
   "outputs": [],
   "source": [
    "lats=list(df['lat'])\n",
    "lons=list(df['lng'])"
   ]
  },
  {
   "cell_type": "code",
   "execution_count": 18,
   "metadata": {},
   "outputs": [],
   "source": [
    "frames=[dict(data= [dict(lat=lats[k:k+1],\n",
    "                         lon=lons[k:k+1])\n",
    "                   ],\n",
    "             traces= [0],\n",
    "             name='frame{}'.format(k)       \n",
    "            ) for k  in  range(1, len(df))]\n",
    "            "
   ]
  },
  {
   "cell_type": "code",
   "execution_count": 19,
   "metadata": {},
   "outputs": [],
   "source": [
    "sliders=[dict(steps= [dict(method= 'animate',\n",
    "                           args= [[ 'frame{}'.format(k) ],\n",
    "                                  dict(mode= 'immediate',\n",
    "                                  frame= dict( duration=200, redraw= False ),\n",
    "                                           transition=dict( duration= 0)\n",
    "                                          )\n",
    "                                    ],\n",
    "                            label='{:d}'.format(k)\n",
    "                             ) for k in range(len(df))], \n",
    "                transition= dict(duration= 0 ),\n",
    "                x=0,#slider starting position  \n",
    "                y=0, \n",
    "                currentvalue=dict(font=dict(size=12), \n",
    "                                  prefix='Point: ', \n",
    "                                  visible=True, \n",
    "                                  xanchor= 'center'\n",
    "                                 ),  \n",
    "                len=1.0)#slider length)\n",
    "           ]"
   ]
  },
  {
   "cell_type": "code",
   "execution_count": 20,
   "metadata": {},
   "outputs": [],
   "source": [
    "layout.update(updatemenus=[dict(type='buttons', showactive=False,\n",
    "                                y=0,\n",
    "                                x=1.05,\n",
    "                                xanchor='right',\n",
    "                                yanchor='top',\n",
    "                                pad=dict(t=0, r=10),\n",
    "                                buttons=[dict(label='Play',\n",
    "                                              method='animate',\n",
    "                                              args=[None, \n",
    "                                                    dict(frame=dict(duration=200, \n",
    "                                                                    redraw=False),\n",
    "                                                         transition=dict(duration=0),\n",
    "                                                         fromcurrent=True,\n",
    "                                                         mode='immediate'\n",
    "                                                        )\n",
    "                                                   ]\n",
    "                                             )\n",
    "                                        ]\n",
    "                               )\n",
    "                          ],\n",
    "              sliders=sliders)"
   ]
  },
  {
   "cell_type": "code",
   "execution_count": 21,
   "metadata": {},
   "outputs": [
    {
     "data": {
      "text/plain": [
       "'file:///Users/arajuljulian/Development/personal/machine_learning_a_z/plotly-basics/temp-plot.html'"
      ]
     },
     "execution_count": 21,
     "metadata": {},
     "output_type": "execute_result"
    }
   ],
   "source": [
    "import time\n",
    "\n",
    "fig=dict(data=data, layout=layout, frames=frames)\n",
    "plot(fig, validate=False)"
   ]
  },
  {
   "cell_type": "code",
   "execution_count": null,
   "metadata": {},
   "outputs": [],
   "source": []
  }
 ],
 "metadata": {
  "kernelspec": {
   "display_name": "Python 3",
   "language": "python",
   "name": "python3"
  },
  "language_info": {
   "codemirror_mode": {
    "name": "ipython",
    "version": 3
   },
   "file_extension": ".py",
   "mimetype": "text/x-python",
   "name": "python",
   "nbconvert_exporter": "python",
   "pygments_lexer": "ipython3",
   "version": "3.6.5"
  }
 },
 "nbformat": 4,
 "nbformat_minor": 2
}
