{
 "cells": [
  {
   "cell_type": "code",
   "execution_count": 1,
   "id": "686cfddf",
   "metadata": {},
   "outputs": [
    {
     "data": {
      "text/html": [
       "\n",
       "        <iframe\n",
       "            width=\"100%\"\n",
       "            height=\"650\"\n",
       "            src=\"http://127.0.0.1:8060/\"\n",
       "            frameborder=\"0\"\n",
       "            allowfullscreen\n",
       "            \n",
       "        ></iframe>\n",
       "        "
      ],
      "text/plain": [
       "<IPython.lib.display.IFrame at 0x1070a2ca0>"
      ]
     },
     "metadata": {},
     "output_type": "display_data"
    }
   ],
   "source": [
    "import dash\n",
    "from dash import Dash, dcc, html, Input, Output\n",
    "from jupyter_dash import JupyterDash\n",
    "import plotly.graph_objects as go\n",
    "\n",
    "from dash.dependencies import Output, Input, State\n",
    "from plotly.subplots import make_subplots\n",
    "\n",
    "figure = make_subplots(rows=2, cols=1, shared_xaxes=True)\n",
    "figure.update_layout(xaxis=go.layout.XAxis(rangeslider=dict(autorange=True)))\n",
    "\n",
    "app = JupyterDash(__name__)\n",
    "app.layout = html.Div([\n",
    "    dcc.Graph(id='my-graph', figure=figure),\n",
    "    dcc.Interval(id='my-interval'),\n",
    "    html.Div(id='my-div')\n",
    "])\n",
    "\n",
    "\n",
    "@app.callback(Output('my-div', 'children'),\n",
    "              [Input('my-graph', \"figure\"), Input('my-interval', 'n_intervals')],\n",
    "              [State('my-div', 'children')])\n",
    "def update(figure, n_intervals, x_range_state_str):\n",
    "    if figure is None or n_intervals is None:\n",
    "        return dash.no_update\n",
    "    # Check if update is needed.\n",
    "    x_range_value = figure['layout']['xaxis']['range']\n",
    "    x_range_value_str = (\"({:3f},{:3f})\").format(x_range_value[0], x_range_value[1])\n",
    "    if x_range_value_str == x_range_state_str:\n",
    "        return dash.no_update\n",
    "    # Do the update.\n",
    "    return x_range_value_str\n",
    "\n",
    "\n",
    "if __name__ == '__main__':\n",
    "    app.run_server(debug=True, port=8060, mode='inline')"
   ]
  },
  {
   "cell_type": "code",
   "execution_count": null,
   "id": "8c4c1bdc",
   "metadata": {},
   "outputs": [],
   "source": []
  }
 ],
 "metadata": {
  "kernelspec": {
   "display_name": ".ml-az-env",
   "language": "python",
   "name": ".ml-az-env"
  },
  "language_info": {
   "codemirror_mode": {
    "name": "ipython",
    "version": 3
   },
   "file_extension": ".py",
   "mimetype": "text/x-python",
   "name": "python",
   "nbconvert_exporter": "python",
   "pygments_lexer": "ipython3",
   "version": "3.9.2"
  }
 },
 "nbformat": 4,
 "nbformat_minor": 5
}
