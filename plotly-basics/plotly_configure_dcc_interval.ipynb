{
 "cells": [
  {
   "cell_type": "code",
   "execution_count": 1,
   "id": "3e5b1940",
   "metadata": {},
   "outputs": [],
   "source": [
    "import datetime\n",
    "from dash import Dash, dcc, html, Input, Output\n",
    "from jupyter_dash import JupyterDash"
   ]
  },
  {
   "cell_type": "code",
   "execution_count": 2,
   "id": "d464efb3",
   "metadata": {},
   "outputs": [
    {
     "data": {
      "text/plain": [
       "'\\napp = JupyterDash(__name__)\\n\\napp.layout = html.Div([\\n    html.Div(id=\\'latest-timestamp\\', style={\"padding\": \"20px\"}),\\n    dcc.Interval(\\n            id=\\'interval-component\\',\\n            interval=1 * 1000,\\n            n_intervals=0\\n    ),\\n])\\n\\n@app.callback(\\n    [Output(component_id=\\'latest-timestamp\\', component_property=\\'children\\')],\\n    [Input(\\'interval-component\\', \\'n_intervals\\')]\\n)\\ndef update_timestamp(interval):\\n    return [html.Span(f\"Last updated: {datetime.datetime.now()}\")]\\n\\nif __name__ == \\'__main__\\':\\n    app.run_server(debug=True, port=8090, mode=\\'inline\\')\\n'"
      ]
     },
     "execution_count": 2,
     "metadata": {},
     "output_type": "execute_result"
    }
   ],
   "source": [
    "\"\"\"\n",
    "app = JupyterDash(__name__)\n",
    "\n",
    "app.layout = html.Div([\n",
    "    html.Div(id='latest-timestamp', style={\"padding\": \"20px\"}),\n",
    "    dcc.Interval(\n",
    "            id='interval-component',\n",
    "            interval=1 * 1000,\n",
    "            n_intervals=0\n",
    "    ),\n",
    "])\n",
    "\n",
    "@app.callback(\n",
    "    [Output(component_id='latest-timestamp', component_property='children')],\n",
    "    [Input('interval-component', 'n_intervals')]\n",
    ")\n",
    "def update_timestamp(interval):\n",
    "    return [html.Span(f\"Last updated: {datetime.datetime.now()}\")]\n",
    "\n",
    "if __name__ == '__main__':\n",
    "    app.run_server(debug=True, port=8090, mode='inline')\n",
    "\"\"\""
   ]
  },
  {
   "cell_type": "code",
   "execution_count": 4,
   "id": "ba2a60cf",
   "metadata": {},
   "outputs": [
    {
     "data": {
      "text/html": [
       "\n",
       "        <iframe\n",
       "            width=\"100%\"\n",
       "            height=\"650\"\n",
       "            src=\"http://127.0.0.1:8091/\"\n",
       "            frameborder=\"0\"\n",
       "            allowfullscreen\n",
       "            \n",
       "        ></iframe>\n",
       "        "
      ],
      "text/plain": [
       "<IPython.lib.display.IFrame at 0x1077abe20>"
      ]
     },
     "metadata": {},
     "output_type": "display_data"
    }
   ],
   "source": [
    "app = JupyterDash(__name__)\n",
    "app.layout = html.Div([\n",
    "    html.Div(children=[\n",
    "        dcc.Slider(min=0.5, max=5, step=0.5, value=1, id='interval-refresh'), \n",
    "    ], style={'width': '20%'}),\n",
    "    html.Div(id='latest-timestamp', style={\"padding\": \"20px\"}),\n",
    "    dcc.Interval(\n",
    "            id='interval-component',\n",
    "            interval=1 * 1000,\n",
    "            n_intervals=0\n",
    "    ),\n",
    "])\n",
    "\n",
    "@app.callback(\n",
    "    [Output(component_id='interval-component', component_property='interval')],\n",
    "    [Input('interval-refresh', 'value')])\n",
    "def update_refresh_rate(value):\n",
    "    return [value * 1000] \n",
    "\n",
    "@app.callback(\n",
    "    [Output(component_id='latest-timestamp', component_property='children')],\n",
    "    [Input('interval-component', 'n_intervals')]\n",
    ")\n",
    "def update_timestamp(interval):\n",
    "    return [html.Span(f\"Last updated: {datetime.datetime.now()}\")]\n",
    "\n",
    "if __name__ == '__main__':\n",
    "    app.run_server(debug=True, port=8091, mode='inline')"
   ]
  },
  {
   "cell_type": "code",
   "execution_count": null,
   "id": "bd3d7fc4",
   "metadata": {},
   "outputs": [],
   "source": []
  }
 ],
 "metadata": {
  "kernelspec": {
   "display_name": ".ml-az-env",
   "language": "python",
   "name": ".ml-az-env"
  },
  "language_info": {
   "codemirror_mode": {
    "name": "ipython",
    "version": 3
   },
   "file_extension": ".py",
   "mimetype": "text/x-python",
   "name": "python",
   "nbconvert_exporter": "python",
   "pygments_lexer": "ipython3",
   "version": "3.9.2"
  }
 },
 "nbformat": 4,
 "nbformat_minor": 5
}
