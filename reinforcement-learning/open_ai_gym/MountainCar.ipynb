{
 "cells": [
  {
   "cell_type": "markdown",
   "metadata": {},
   "source": [
    "https://en.wikipedia.org/wiki/Mountain_car_problem"
   ]
  },
  {
   "cell_type": "code",
   "execution_count": 17,
   "metadata": {},
   "outputs": [],
   "source": [
    "import gym"
   ]
  },
  {
   "cell_type": "code",
   "execution_count": 18,
   "metadata": {},
   "outputs": [
    {
     "name": "stdout",
     "output_type": "stream",
     "text": [
      "\u001b[33mWARN: gym.spaces.Box autodetected dtype as <class 'numpy.float32'>. Please provide explicit dtype.\u001b[0m\n"
     ]
    }
   ],
   "source": [
    "env = gym.make('MountainCar-v0')"
   ]
  },
  {
   "cell_type": "code",
   "execution_count": 19,
   "metadata": {},
   "outputs": [],
   "source": [
    "observation = env.reset()"
   ]
  },
  {
   "cell_type": "code",
   "execution_count": 20,
   "metadata": {},
   "outputs": [
    {
     "data": {
      "text/plain": [
       "array([-0.48438065,  0.        ])"
      ]
     },
     "execution_count": 20,
     "metadata": {},
     "output_type": "execute_result"
    }
   ],
   "source": [
    "observation"
   ]
  },
  {
   "cell_type": "code",
   "execution_count": 21,
   "metadata": {},
   "outputs": [
    {
     "data": {
      "text/plain": [
       "Discrete(3)"
      ]
     },
     "execution_count": 21,
     "metadata": {},
     "output_type": "execute_result"
    }
   ],
   "source": [
    "# 3 actions: push left (0), no push (1), push right (2)\n",
    "env.action_space"
   ]
  },
  {
   "cell_type": "code",
   "execution_count": 6,
   "metadata": {},
   "outputs": [
    {
     "data": {
      "text/plain": [
       "Box(2,)"
      ]
     },
     "execution_count": 6,
     "metadata": {},
     "output_type": "execute_result"
    }
   ],
   "source": [
    "env.observation_space"
   ]
  },
  {
   "cell_type": "code",
   "execution_count": 7,
   "metadata": {},
   "outputs": [
    {
     "name": "stdout",
     "output_type": "stream",
     "text": [
      "[0.6  0.07]\n",
      "[-1.2  -0.07]\n"
     ]
    }
   ],
   "source": [
    "print(env.observation_space.high)\n",
    "print(env.observation_space.low)"
   ]
  },
  {
   "cell_type": "code",
   "execution_count": 13,
   "metadata": {},
   "outputs": [],
   "source": [
    "for i in range(1000):\n",
    "    env.render()\n",
    "    env.step(env.action_space.sample())\n",
    "    "
   ]
  },
  {
   "cell_type": "code",
   "execution_count": 11,
   "metadata": {},
   "outputs": [
    {
     "data": {
      "text/plain": [
       "(array([-0.76775078,  0.00150308]), -1.0, True, {})"
      ]
     },
     "execution_count": 11,
     "metadata": {},
     "output_type": "execute_result"
    }
   ],
   "source": [
    "env.step(env.action_space.sample())"
   ]
  },
  {
   "cell_type": "code",
   "execution_count": 27,
   "metadata": {},
   "outputs": [
    {
     "name": "stdout",
     "output_type": "stream",
     "text": [
      "\u001b[33mWARN: gym.spaces.Box autodetected dtype as <class 'numpy.float32'>. Please provide explicit dtype.\u001b[0m\n",
      "done within 199 time\n",
      "episode: 0/50, score: 199, e: 0.43\n",
      "done within 199 time\n",
      "episode: 1/50, score: 199, e: 0.16\n",
      "done within 199 time\n",
      "episode: 2/50, score: 199, e: 0.059\n",
      "done within 199 time\n",
      "episode: 3/50, score: 199, e: 0.022\n",
      "done within 199 time\n",
      "episode: 4/50, score: 199, e: 0.01\n",
      "done within 199 time\n",
      "episode: 5/50, score: 199, e: 0.01\n",
      "done within 199 time\n",
      "episode: 6/50, score: 199, e: 0.01\n",
      "done within 199 time\n",
      "episode: 7/50, score: 199, e: 0.01\n",
      "done within 199 time\n",
      "episode: 8/50, score: 199, e: 0.01\n",
      "done within 199 time\n",
      "episode: 9/50, score: 199, e: 0.01\n",
      "done within 199 time\n",
      "episode: 10/50, score: 199, e: 0.01\n",
      "done within 199 time\n",
      "episode: 11/50, score: 199, e: 0.01\n",
      "done within 199 time\n",
      "episode: 12/50, score: 199, e: 0.01\n",
      "done within 199 time\n",
      "episode: 13/50, score: 199, e: 0.01\n",
      "done within 199 time\n",
      "episode: 14/50, score: 199, e: 0.01\n",
      "done within 199 time\n",
      "episode: 15/50, score: 199, e: 0.01\n",
      "done within 199 time\n",
      "episode: 16/50, score: 199, e: 0.01\n",
      "done within 199 time\n",
      "episode: 17/50, score: 199, e: 0.01\n",
      "done within 199 time\n",
      "episode: 18/50, score: 199, e: 0.01\n",
      "done within 199 time\n",
      "episode: 19/50, score: 199, e: 0.01\n",
      "done within 199 time\n",
      "episode: 20/50, score: 199, e: 0.01\n",
      "done within 199 time\n",
      "episode: 21/50, score: 199, e: 0.01\n",
      "done within 199 time\n",
      "episode: 22/50, score: 199, e: 0.01\n",
      "done within 199 time\n",
      "episode: 23/50, score: 199, e: 0.01\n",
      "done within 199 time\n",
      "episode: 24/50, score: 199, e: 0.01\n",
      "done within 199 time\n",
      "episode: 25/50, score: 199, e: 0.01\n",
      "done within 199 time\n",
      "episode: 26/50, score: 199, e: 0.01\n",
      "done within 199 time\n",
      "episode: 27/50, score: 199, e: 0.01\n",
      "done within 199 time\n",
      "episode: 28/50, score: 199, e: 0.01\n",
      "done within 199 time\n",
      "episode: 29/50, score: 199, e: 0.01\n",
      "done within 199 time\n",
      "episode: 30/50, score: 199, e: 0.01\n",
      "done within 199 time\n",
      "episode: 31/50, score: 199, e: 0.01\n",
      "done within 199 time\n",
      "episode: 32/50, score: 199, e: 0.01\n",
      "done within 199 time\n",
      "episode: 33/50, score: 199, e: 0.01\n",
      "done within 199 time\n",
      "episode: 34/50, score: 199, e: 0.01\n",
      "done within 199 time\n",
      "episode: 35/50, score: 199, e: 0.01\n",
      "done within 199 time\n",
      "episode: 36/50, score: 199, e: 0.01\n",
      "done within 199 time\n",
      "episode: 37/50, score: 199, e: 0.01\n",
      "done within 199 time\n",
      "episode: 38/50, score: 199, e: 0.01\n",
      "done within 199 time\n",
      "episode: 39/50, score: 199, e: 0.01\n",
      "done within 199 time\n",
      "episode: 40/50, score: 199, e: 0.01\n",
      "done within 199 time\n",
      "episode: 41/50, score: 199, e: 0.01\n",
      "done within 199 time\n",
      "episode: 42/50, score: 199, e: 0.01\n",
      "done within 199 time\n",
      "episode: 43/50, score: 199, e: 0.01\n",
      "done within 199 time\n",
      "episode: 44/50, score: 199, e: 0.01\n",
      "done within 199 time\n",
      "episode: 45/50, score: 199, e: 0.01\n",
      "done within 199 time\n",
      "episode: 46/50, score: 199, e: 0.01\n",
      "done within 199 time\n",
      "episode: 47/50, score: 199, e: 0.01\n",
      "done within 199 time\n",
      "episode: 48/50, score: 199, e: 0.01\n",
      "done within 199 time\n",
      "episode: 49/50, score: 199, e: 0.01\n"
     ]
    }
   ],
   "source": [
    "import random\n",
    "import gym\n",
    "import numpy as np\n",
    "from collections import deque\n",
    "from keras.models import Sequential\n",
    "from keras.layers import Dense\n",
    "from keras.optimizers import Adam\n",
    "\n",
    "EPISODES = 50\n",
    "\n",
    "class DQNAgent:\n",
    "    def __init__(self, state_size, action_size):\n",
    "        self.state_size = state_size\n",
    "        self.action_size = action_size\n",
    "        self.memory = deque(maxlen=2000)\n",
    "        self.gamma = 0.95    # discount rate\n",
    "        self.epsilon = 1.0  # exploration rate\n",
    "        self.epsilon_min = 0.01\n",
    "        self.epsilon_decay = 0.995\n",
    "        self.learning_rate = 0.001\n",
    "        self.model = self._build_model()\n",
    "\n",
    "    def _build_model(self):\n",
    "        # Neural Net for Deep-Q learning Model\n",
    "        model = Sequential()\n",
    "        model.add(Dense(24, input_dim=self.state_size, activation='relu'))\n",
    "        model.add(Dense(24, activation='relu'))\n",
    "        model.add(Dense(self.action_size, activation='linear'))\n",
    "        model.compile(loss='mse',\n",
    "                      optimizer=Adam(lr=self.learning_rate))\n",
    "        return model\n",
    "\n",
    "    def remember(self, state, action, reward, next_state, done):\n",
    "        self.memory.append((state, action, reward, next_state, done))\n",
    "\n",
    "    def act(self, state):\n",
    "        if np.random.rand() <= self.epsilon:\n",
    "            return random.randrange(self.action_size)\n",
    "        act_values = self.model.predict(state)\n",
    "        return np.argmax(act_values[0])  # returns action\n",
    "\n",
    "    def replay(self, batch_size):\n",
    "        minibatch = random.sample(self.memory, batch_size)\n",
    "        for state, action, reward, next_state, done in minibatch:\n",
    "            target = reward\n",
    "            #print(\"state: {}, action: {}, reward: {}, next_state: {}, done: {}\".format(state, action, reward, next_state, done))\n",
    "            if not done:\n",
    "                target = (reward + self.gamma *\n",
    "                          np.amax(self.model.predict(next_state)[0]))\n",
    "            target_f = self.model.predict(state)\n",
    "            target_f[0][action] = target\n",
    "            self.model.fit(state, target_f, epochs=1, verbose=0)\n",
    "        if self.epsilon > self.epsilon_min:\n",
    "            self.epsilon *= self.epsilon_decay\n",
    "\n",
    "    def load(self, name):\n",
    "        self.model.load_weights(name)\n",
    "\n",
    "    def save(self, name):\n",
    "        self.model.save_weights(name)\n",
    "\n",
    "\n",
    "if __name__ == \"__main__\":\n",
    "    env = gym.make('MountainCar-v0')\n",
    "    state_size = env.observation_space.shape[0]\n",
    "    action_size = env.action_space.n\n",
    "    agent = DQNAgent(state_size, action_size)\n",
    "    done = False\n",
    "    batch_size = 32\n",
    "\n",
    "    for e in range(EPISODES):\n",
    "        \n",
    "        state = env.reset()\n",
    "        state = np.reshape(state, [1, state_size])\n",
    "        \n",
    "        for time in range(200):\n",
    "            # turn this off if you don't want to render\n",
    "            env.render()\n",
    "            \n",
    "            action = agent.act(state)\n",
    "            \n",
    "            next_state, reward, done, _ = env.step(action)\n",
    "            if done:\n",
    "                print(\"done within {} time\".format(time))\n",
    "            reward = abs(reward) if not done else -10\n",
    "            next_state = np.reshape(next_state, [1, state_size])\n",
    "            \n",
    "            agent.remember(state, action, reward, next_state, done)\n",
    "            state = next_state\n",
    "            if done:\n",
    "                print(\"episode: {}/{}, score: {}, e: {:.2}\".format(e, EPISODES, time, agent.epsilon))\n",
    "                break\n",
    "            if len(agent.memory) > batch_size:\n",
    "                agent.replay(batch_size)"
   ]
  },
  {
   "cell_type": "code",
   "execution_count": null,
   "metadata": {},
   "outputs": [],
   "source": []
  }
 ],
 "metadata": {
  "kernelspec": {
   "display_name": "Python 3",
   "language": "python",
   "name": "python3"
  },
  "language_info": {
   "codemirror_mode": {
    "name": "ipython",
    "version": 3
   },
   "file_extension": ".py",
   "mimetype": "text/x-python",
   "name": "python",
   "nbconvert_exporter": "python",
   "pygments_lexer": "ipython3",
   "version": "3.6.5"
  }
 },
 "nbformat": 4,
 "nbformat_minor": 2
}
