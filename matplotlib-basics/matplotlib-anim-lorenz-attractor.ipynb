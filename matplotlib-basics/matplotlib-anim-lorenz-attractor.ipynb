{
 "cells": [
  {
   "cell_type": "markdown",
   "metadata": {},
   "source": [
    "source: https://matplotlib.org/examples/mplot3d/lorenz_attractor.html"
   ]
  },
  {
   "cell_type": "code",
   "execution_count": 8,
   "metadata": {},
   "outputs": [],
   "source": [
    "import numpy as np\n",
    "import matplotlib.pyplot as plt\n",
    "from mpl_toolkits.mplot3d import Axes3D\n",
    "import numpy as np\n",
    "from matplotlib.animation import FuncAnimation"
   ]
  },
  {
   "cell_type": "code",
   "execution_count": 9,
   "metadata": {},
   "outputs": [],
   "source": [
    "# length of the time step\n",
    "DELTA_T = 0.01\n",
    "# number of time steps\n",
    "STEPS = 1500\n",
    "# number of model time steps per animation frame\n",
    "STEPS_PER_FRAME = 5\n",
    "# plot padding\n",
    "PADDING = 2.5\n",
    "# output directory (the folder must be created on the drive)\n",
    "OUTPUT_DIR = \"lorenz_attractor\""
   ]
  },
  {
   "cell_type": "code",
   "execution_count": 10,
   "metadata": {},
   "outputs": [],
   "source": [
    "# Auxiliary function calculating derivatives of successive co-ordinates\n",
    "def lorenz(x, y, z, s=10, r=28, b=2.667):\n",
    "    x_dot = s*(y - x)\n",
    "    y_dot = r*x - y - x*z\n",
    "    z_dot = x*y - b*z\n",
    "    return x_dot, y_dot, z_dot\n",
    "\n",
    "# Function that calculates points belonging to the trajectory, for a specified starting point and time step\n",
    "def build_lorenz_trajectory(dt, steps, initial_values=(0., 1., 1.05), s=10, r=28, b=2.667):\n",
    "    xs = np.empty((steps + 1,))\n",
    "    ys = np.empty((steps + 1,))\n",
    "    zs = np.empty((steps + 1,))\n",
    "    \n",
    "    xs[0], ys[0], zs[0] = initial_values\n",
    "    \n",
    "    for i in range(steps):\n",
    "        x_dot, y_dot, z_dot = lorenz(xs[i], ys[i], zs[i])\n",
    "        xs[i + 1] = xs[i] + (x_dot * dt)\n",
    "        ys[i + 1] = ys[i] + (y_dot * dt)\n",
    "        zs[i + 1] = zs[i] + (z_dot * dt)\n",
    "        \n",
    "    return (xs, ys, zs)"
   ]
  },
  {
   "cell_type": "code",
   "execution_count": 11,
   "metadata": {},
   "outputs": [],
   "source": [
    "# create a blank 3D chart with styling\n",
    "def create_blank_chart_with_styling(data, ax_padding, plot_size):\n",
    "    # my favorite styling kit\n",
    "    plt.style.use('dark_background')\n",
    "    # determining the size of the graph\n",
    "    fig = plt.figure(figsize=plot_size)\n",
    "    # 3D mode\n",
    "    ax = fig.gca(projection='3d')\n",
    "    # transparent axis pane background \n",
    "    ax.xaxis.pane.fill = False\n",
    "    ax.yaxis.pane.fill = False\n",
    "    ax.zaxis.pane.fill = False\n",
    "    # setting chart axis names\n",
    "    ax.set_xlabel(\"X Axis\")\n",
    "    ax.set_ylabel(\"Y Axis\")\n",
    "    ax.set_zlabel(\"Z Axis\")\n",
    "    \n",
    "    xs = np.array([])\n",
    "    ys = np.array([])\n",
    "    zs = np.array([])\n",
    "    \n",
    "    for trajectory in data:\n",
    "        xs = np.append(xs, trajectory[0])\n",
    "        ys = np.append(ys, trajectory[1])\n",
    "        zs = np.append(zs, trajectory[2])\n",
    "    \n",
    "    ax.set_xlim3d(xs.min() - ax_padding, xs.max() + ax_padding)\n",
    "    ax.set_ylim3d(ys.min() - ax_padding, ys.max() + ax_padding)\n",
    "    ax.set_zlim3d(zs.min() - ax_padding, zs.max() + ax_padding)\n",
    "    return (fig, ax)"
   ]
  },
  {
   "cell_type": "code",
   "execution_count": 12,
   "metadata": {},
   "outputs": [],
   "source": [
    "initial_conditions = [\n",
    "    (0., 1., 1.05),\n",
    "    (0., 1., 1.06),\n",
    "    (0., 1., 1.07),\n",
    "]\n",
    "colors = [\n",
    "    \"#99b898\",\n",
    "    \"#fecea8\",\n",
    "    \"#e84a5f\",\n",
    "]"
   ]
  },
  {
   "cell_type": "code",
   "execution_count": 13,
   "metadata": {},
   "outputs": [
    {
     "ename": "TypeError",
     "evalue": "gca() got an unexpected keyword argument 'projection'",
     "output_type": "error",
     "traceback": [
      "\u001b[0;31m---------------------------------------------------------------------------\u001b[0m",
      "\u001b[0;31mTypeError\u001b[0m                                 Traceback (most recent call last)",
      "Cell \u001b[0;32mIn [13], line 6\u001b[0m\n\u001b[1;32m      2\u001b[0m plots_data \u001b[38;5;241m=\u001b[39m [build_lorenz_trajectory(DELTA_T, STEPS, \n\u001b[1;32m      3\u001b[0m     initial_values\u001b[38;5;241m=\u001b[39minitial_conditions[i]) \u001b[38;5;28;01mfor\u001b[39;00m i \u001b[38;5;129;01min\u001b[39;00m \u001b[38;5;28mrange\u001b[39m(\u001b[38;5;241m3\u001b[39m)]\n\u001b[1;32m      5\u001b[0m \u001b[38;5;66;03m# Creation of an empty chart\u001b[39;00m\n\u001b[0;32m----> 6\u001b[0m fig, ax \u001b[38;5;241m=\u001b[39m \u001b[43mcreate_blank_chart_with_styling\u001b[49m\u001b[43m(\u001b[49m\u001b[43mplots_data\u001b[49m\u001b[43m,\u001b[49m\u001b[43m \u001b[49m\u001b[43mPADDING\u001b[49m\u001b[43m,\u001b[49m\u001b[43m \u001b[49m\u001b[43m(\u001b[49m\u001b[38;5;241;43m8\u001b[39;49m\u001b[43m,\u001b[49m\u001b[43m \u001b[49m\u001b[38;5;241;43m8\u001b[39;49m\u001b[43m)\u001b[49m\u001b[43m)\u001b[49m\n\u001b[1;32m      8\u001b[0m \u001b[38;5;66;03m# Setting up (for the time being empty) data sequences\u001b[39;00m\n\u001b[1;32m      9\u001b[0m plots \u001b[38;5;241m=\u001b[39m [ax\u001b[38;5;241m.\u001b[39mplot([],[],[], color\u001b[38;5;241m=\u001b[39mcolors[i], label\u001b[38;5;241m=\u001b[39m\u001b[38;5;28mstr\u001b[39m(initial_conditions[i]),\n\u001b[1;32m     10\u001b[0m     lw\u001b[38;5;241m=\u001b[39m\u001b[38;5;241m2\u001b[39m, alpha\u001b[38;5;241m=\u001b[39m\u001b[38;5;241m0.75\u001b[39m, animated\u001b[38;5;241m=\u001b[39m\u001b[38;5;28;01mTrue\u001b[39;00m)[\u001b[38;5;241m0\u001b[39m] \u001b[38;5;28;01mfor\u001b[39;00m i \u001b[38;5;129;01min\u001b[39;00m \u001b[38;5;28mrange\u001b[39m(\u001b[38;5;241m3\u001b[39m)]\n",
      "Cell \u001b[0;32mIn [11], line 8\u001b[0m, in \u001b[0;36mcreate_blank_chart_with_styling\u001b[0;34m(data, ax_padding, plot_size)\u001b[0m\n\u001b[1;32m      6\u001b[0m fig \u001b[38;5;241m=\u001b[39m plt\u001b[38;5;241m.\u001b[39mfigure(figsize\u001b[38;5;241m=\u001b[39mplot_size)\n\u001b[1;32m      7\u001b[0m \u001b[38;5;66;03m# 3D mode\u001b[39;00m\n\u001b[0;32m----> 8\u001b[0m ax \u001b[38;5;241m=\u001b[39m \u001b[43mfig\u001b[49m\u001b[38;5;241;43m.\u001b[39;49m\u001b[43mgca\u001b[49m\u001b[43m(\u001b[49m\u001b[43mprojection\u001b[49m\u001b[38;5;241;43m=\u001b[39;49m\u001b[38;5;124;43m'\u001b[39;49m\u001b[38;5;124;43m3d\u001b[39;49m\u001b[38;5;124;43m'\u001b[39;49m\u001b[43m)\u001b[49m\n\u001b[1;32m      9\u001b[0m \u001b[38;5;66;03m# transparent axis pane background \u001b[39;00m\n\u001b[1;32m     10\u001b[0m ax\u001b[38;5;241m.\u001b[39mxaxis\u001b[38;5;241m.\u001b[39mpane\u001b[38;5;241m.\u001b[39mfill \u001b[38;5;241m=\u001b[39m \u001b[38;5;28;01mFalse\u001b[39;00m\n",
      "\u001b[0;31mTypeError\u001b[0m: gca() got an unexpected keyword argument 'projection'"
     ]
    },
    {
     "data": {
      "text/plain": [
       "<Figure size 800x800 with 0 Axes>"
      ]
     },
     "metadata": {},
     "output_type": "display_data"
    }
   ],
   "source": [
    "# Calculation of the points belonging to the three trajectories, based on the given starting conditions\n",
    "plots_data = [build_lorenz_trajectory(DELTA_T, STEPS, \n",
    "    initial_values=initial_conditions[i]) for i in range(3)]\n",
    "\n",
    "# Creation of an empty chart\n",
    "fig, ax = create_blank_chart_with_styling(plots_data, PADDING, (8, 8))\n",
    "\n",
    "# Setting up (for the time being empty) data sequences\n",
    "plots = [ax.plot([],[],[], color=colors[i], label=str(initial_conditions[i]),\n",
    "    lw=2, alpha=0.75, animated=True)[0] for i in range(3)]\n",
    "\n",
    "# Each trajectory starts with a point moving in space\n",
    "dots = [ax.scatter([],[],[], s=100, c=colors[i], animated=True) for i in range(3)]\n",
    "\n",
    "# Updating chart\n",
    "def update(i):\n",
    "    frame_end = (i + 1) * STEPS_PER_FRAME\n",
    "    for plot, dot, data in zip(plots, dots, plots_data):\n",
    "        xs, ys, zs = data\n",
    "        # Updating the trajectory\n",
    "        plot.set_data(xs[:frame_end], ys[:frame_end])\n",
    "        plot.set_3d_properties(zs[:frame_end])\n",
    "        # Updating the position of dots\n",
    "        dot._offsets3d = ([xs[frame_end]], [ys[frame_end]], [zs[frame_end]])\n",
    "        \n",
    "    # Adding a legend\n",
    "    ax.legend(loc=2, prop={'size': 10})\n",
    "    # Rotating the chart\n",
    "    ax.view_init(30, 45 + i)\n",
    "        \n",
    "# Animation creation\n",
    "anim = FuncAnimation(fig, update, frames=np.arange(0, int(STEPS/STEPS_PER_FRAME)), interval=40)\n",
    "# Saving animation\n",
    "anim.save('lorenz_attractor_short.gif', dpi=80, writer='imagemagick')\n"
   ]
  },
  {
   "cell_type": "code",
   "execution_count": 7,
   "metadata": {},
   "outputs": [
    {
     "ename": "NameError",
     "evalue": "name 'anim' is not defined",
     "output_type": "error",
     "traceback": [
      "\u001b[0;31m---------------------------------------------------------------------------\u001b[0m",
      "\u001b[0;31mNameError\u001b[0m                                 Traceback (most recent call last)",
      "Cell \u001b[0;32mIn [7], line 2\u001b[0m\n\u001b[1;32m      1\u001b[0m \u001b[38;5;28;01mfrom\u001b[39;00m \u001b[38;5;21;01mIPython\u001b[39;00m\u001b[38;5;21;01m.\u001b[39;00m\u001b[38;5;21;01mdisplay\u001b[39;00m \u001b[38;5;28;01mimport\u001b[39;00m HTML\n\u001b[0;32m----> 2\u001b[0m HTML(\u001b[43manim\u001b[49m\u001b[38;5;241m.\u001b[39mto_html5_video())\n",
      "\u001b[0;31mNameError\u001b[0m: name 'anim' is not defined"
     ]
    }
   ],
   "source": [
    "from IPython.display import HTML\n",
    "HTML(anim.to_html5_video())"
   ]
  },
  {
   "cell_type": "code",
   "execution_count": null,
   "metadata": {},
   "outputs": [],
   "source": []
  }
 ],
 "metadata": {
  "kernelspec": {
   "display_name": ".ml-az-env",
   "language": "python",
   "name": ".ml-az-env"
  },
  "language_info": {
   "codemirror_mode": {
    "name": "ipython",
    "version": 3
   },
   "file_extension": ".py",
   "mimetype": "text/x-python",
   "name": "python",
   "nbconvert_exporter": "python",
   "pygments_lexer": "ipython3",
   "version": "3.9.2"
  }
 },
 "nbformat": 4,
 "nbformat_minor": 2
}
