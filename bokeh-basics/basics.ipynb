{
 "cells": [
  {
   "cell_type": "code",
   "execution_count": 1,
   "id": "b0737333-a55c-420c-8f0c-51a894713939",
   "metadata": {},
   "outputs": [],
   "source": [
    "from bokeh.plotting import figure, show\n",
    "from bokeh.io import output_notebook"
   ]
  },
  {
   "cell_type": "code",
   "execution_count": 2,
   "id": "907afaba-3030-4f87-802f-fbc14c5e04ae",
   "metadata": {},
   "outputs": [
    {
     "data": {
      "text/html": [
       "<div class=\"bk-root\">\n",
       "        <a href=\"https://bokeh.org\" target=\"_blank\" class=\"bk-logo bk-logo-small bk-logo-notebook\"></a>\n",
       "        <span id=\"1002\">Loading BokehJS ...</span>\n",
       "    </div>\n"
      ]
     },
     "metadata": {},
     "output_type": "display_data"
    },
    {
     "data": {
      "application/javascript": [
       "(function(root) {\n",
       "  function now() {\n",
       "    return new Date();\n",
       "  }\n",
       "\n",
       "  const force = true;\n",
       "\n",
       "  if (typeof root._bokeh_onload_callbacks === \"undefined\" || force === true) {\n",
       "    root._bokeh_onload_callbacks = [];\n",
       "    root._bokeh_is_loading = undefined;\n",
       "  }\n",
       "\n",
       "const JS_MIME_TYPE = 'application/javascript';\n",
       "  const HTML_MIME_TYPE = 'text/html';\n",
       "  const EXEC_MIME_TYPE = 'application/vnd.bokehjs_exec.v0+json';\n",
       "  const CLASS_NAME = 'output_bokeh rendered_html';\n",
       "\n",
       "  /**\n",
       "   * Render data to the DOM node\n",
       "   */\n",
       "  function render(props, node) {\n",
       "    const script = document.createElement(\"script\");\n",
       "    node.appendChild(script);\n",
       "  }\n",
       "\n",
       "  /**\n",
       "   * Handle when an output is cleared or removed\n",
       "   */\n",
       "  function handleClearOutput(event, handle) {\n",
       "    const cell = handle.cell;\n",
       "\n",
       "    const id = cell.output_area._bokeh_element_id;\n",
       "    const server_id = cell.output_area._bokeh_server_id;\n",
       "    // Clean up Bokeh references\n",
       "    if (id != null && id in Bokeh.index) {\n",
       "      Bokeh.index[id].model.document.clear();\n",
       "      delete Bokeh.index[id];\n",
       "    }\n",
       "\n",
       "    if (server_id !== undefined) {\n",
       "      // Clean up Bokeh references\n",
       "      const cmd_clean = \"from bokeh.io.state import curstate; print(curstate().uuid_to_server['\" + server_id + \"'].get_sessions()[0].document.roots[0]._id)\";\n",
       "      cell.notebook.kernel.execute(cmd_clean, {\n",
       "        iopub: {\n",
       "          output: function(msg) {\n",
       "            const id = msg.content.text.trim();\n",
       "            if (id in Bokeh.index) {\n",
       "              Bokeh.index[id].model.document.clear();\n",
       "              delete Bokeh.index[id];\n",
       "            }\n",
       "          }\n",
       "        }\n",
       "      });\n",
       "      // Destroy server and session\n",
       "      const cmd_destroy = \"import bokeh.io.notebook as ion; ion.destroy_server('\" + server_id + \"')\";\n",
       "      cell.notebook.kernel.execute(cmd_destroy);\n",
       "    }\n",
       "  }\n",
       "\n",
       "  /**\n",
       "   * Handle when a new output is added\n",
       "   */\n",
       "  function handleAddOutput(event, handle) {\n",
       "    const output_area = handle.output_area;\n",
       "    const output = handle.output;\n",
       "\n",
       "    // limit handleAddOutput to display_data with EXEC_MIME_TYPE content only\n",
       "    if ((output.output_type != \"display_data\") || (!Object.prototype.hasOwnProperty.call(output.data, EXEC_MIME_TYPE))) {\n",
       "      return\n",
       "    }\n",
       "\n",
       "    const toinsert = output_area.element.find(\".\" + CLASS_NAME.split(' ')[0]);\n",
       "\n",
       "    if (output.metadata[EXEC_MIME_TYPE][\"id\"] !== undefined) {\n",
       "      toinsert[toinsert.length - 1].firstChild.textContent = output.data[JS_MIME_TYPE];\n",
       "      // store reference to embed id on output_area\n",
       "      output_area._bokeh_element_id = output.metadata[EXEC_MIME_TYPE][\"id\"];\n",
       "    }\n",
       "    if (output.metadata[EXEC_MIME_TYPE][\"server_id\"] !== undefined) {\n",
       "      const bk_div = document.createElement(\"div\");\n",
       "      bk_div.innerHTML = output.data[HTML_MIME_TYPE];\n",
       "      const script_attrs = bk_div.children[0].attributes;\n",
       "      for (let i = 0; i < script_attrs.length; i++) {\n",
       "        toinsert[toinsert.length - 1].firstChild.setAttribute(script_attrs[i].name, script_attrs[i].value);\n",
       "        toinsert[toinsert.length - 1].firstChild.textContent = bk_div.children[0].textContent\n",
       "      }\n",
       "      // store reference to server id on output_area\n",
       "      output_area._bokeh_server_id = output.metadata[EXEC_MIME_TYPE][\"server_id\"];\n",
       "    }\n",
       "  }\n",
       "\n",
       "  function register_renderer(events, OutputArea) {\n",
       "\n",
       "    function append_mime(data, metadata, element) {\n",
       "      // create a DOM node to render to\n",
       "      const toinsert = this.create_output_subarea(\n",
       "        metadata,\n",
       "        CLASS_NAME,\n",
       "        EXEC_MIME_TYPE\n",
       "      );\n",
       "      this.keyboard_manager.register_events(toinsert);\n",
       "      // Render to node\n",
       "      const props = {data: data, metadata: metadata[EXEC_MIME_TYPE]};\n",
       "      render(props, toinsert[toinsert.length - 1]);\n",
       "      element.append(toinsert);\n",
       "      return toinsert\n",
       "    }\n",
       "\n",
       "    /* Handle when an output is cleared or removed */\n",
       "    events.on('clear_output.CodeCell', handleClearOutput);\n",
       "    events.on('delete.Cell', handleClearOutput);\n",
       "\n",
       "    /* Handle when a new output is added */\n",
       "    events.on('output_added.OutputArea', handleAddOutput);\n",
       "\n",
       "    /**\n",
       "     * Register the mime type and append_mime function with output_area\n",
       "     */\n",
       "    OutputArea.prototype.register_mime_type(EXEC_MIME_TYPE, append_mime, {\n",
       "      /* Is output safe? */\n",
       "      safe: true,\n",
       "      /* Index of renderer in `output_area.display_order` */\n",
       "      index: 0\n",
       "    });\n",
       "  }\n",
       "\n",
       "  // register the mime type if in Jupyter Notebook environment and previously unregistered\n",
       "  if (root.Jupyter !== undefined) {\n",
       "    const events = require('base/js/events');\n",
       "    const OutputArea = require('notebook/js/outputarea').OutputArea;\n",
       "\n",
       "    if (OutputArea.prototype.mime_types().indexOf(EXEC_MIME_TYPE) == -1) {\n",
       "      register_renderer(events, OutputArea);\n",
       "    }\n",
       "  }\n",
       "  if (typeof (root._bokeh_timeout) === \"undefined\" || force === true) {\n",
       "    root._bokeh_timeout = Date.now() + 5000;\n",
       "    root._bokeh_failed_load = false;\n",
       "  }\n",
       "\n",
       "  const NB_LOAD_WARNING = {'data': {'text/html':\n",
       "     \"<div style='background-color: #fdd'>\\n\"+\n",
       "     \"<p>\\n\"+\n",
       "     \"BokehJS does not appear to have successfully loaded. If loading BokehJS from CDN, this \\n\"+\n",
       "     \"may be due to a slow or bad network connection. Possible fixes:\\n\"+\n",
       "     \"</p>\\n\"+\n",
       "     \"<ul>\\n\"+\n",
       "     \"<li>re-rerun `output_notebook()` to attempt to load from CDN again, or</li>\\n\"+\n",
       "     \"<li>use INLINE resources instead, as so:</li>\\n\"+\n",
       "     \"</ul>\\n\"+\n",
       "     \"<code>\\n\"+\n",
       "     \"from bokeh.resources import INLINE\\n\"+\n",
       "     \"output_notebook(resources=INLINE)\\n\"+\n",
       "     \"</code>\\n\"+\n",
       "     \"</div>\"}};\n",
       "\n",
       "  function display_loaded() {\n",
       "    const el = document.getElementById(\"1002\");\n",
       "    if (el != null) {\n",
       "      el.textContent = \"BokehJS is loading...\";\n",
       "    }\n",
       "    if (root.Bokeh !== undefined) {\n",
       "      if (el != null) {\n",
       "        el.textContent = \"BokehJS \" + root.Bokeh.version + \" successfully loaded.\";\n",
       "      }\n",
       "    } else if (Date.now() < root._bokeh_timeout) {\n",
       "      setTimeout(display_loaded, 100)\n",
       "    }\n",
       "  }\n",
       "\n",
       "  function run_callbacks() {\n",
       "    try {\n",
       "      root._bokeh_onload_callbacks.forEach(function(callback) {\n",
       "        if (callback != null)\n",
       "          callback();\n",
       "      });\n",
       "    } finally {\n",
       "      delete root._bokeh_onload_callbacks\n",
       "    }\n",
       "    console.debug(\"Bokeh: all callbacks have finished\");\n",
       "  }\n",
       "\n",
       "  function load_libs(css_urls, js_urls, callback) {\n",
       "    if (css_urls == null) css_urls = [];\n",
       "    if (js_urls == null) js_urls = [];\n",
       "\n",
       "    root._bokeh_onload_callbacks.push(callback);\n",
       "    if (root._bokeh_is_loading > 0) {\n",
       "      console.debug(\"Bokeh: BokehJS is being loaded, scheduling callback at\", now());\n",
       "      return null;\n",
       "    }\n",
       "    if (js_urls == null || js_urls.length === 0) {\n",
       "      run_callbacks();\n",
       "      return null;\n",
       "    }\n",
       "    console.debug(\"Bokeh: BokehJS not loaded, scheduling load and callback at\", now());\n",
       "    root._bokeh_is_loading = css_urls.length + js_urls.length;\n",
       "\n",
       "    function on_load() {\n",
       "      root._bokeh_is_loading--;\n",
       "      if (root._bokeh_is_loading === 0) {\n",
       "        console.debug(\"Bokeh: all BokehJS libraries/stylesheets loaded\");\n",
       "        run_callbacks()\n",
       "      }\n",
       "    }\n",
       "\n",
       "    function on_error(url) {\n",
       "      console.error(\"failed to load \" + url);\n",
       "    }\n",
       "\n",
       "    for (let i = 0; i < css_urls.length; i++) {\n",
       "      const url = css_urls[i];\n",
       "      const element = document.createElement(\"link\");\n",
       "      element.onload = on_load;\n",
       "      element.onerror = on_error.bind(null, url);\n",
       "      element.rel = \"stylesheet\";\n",
       "      element.type = \"text/css\";\n",
       "      element.href = url;\n",
       "      console.debug(\"Bokeh: injecting link tag for BokehJS stylesheet: \", url);\n",
       "      document.body.appendChild(element);\n",
       "    }\n",
       "\n",
       "    for (let i = 0; i < js_urls.length; i++) {\n",
       "      const url = js_urls[i];\n",
       "      const element = document.createElement('script');\n",
       "      element.onload = on_load;\n",
       "      element.onerror = on_error.bind(null, url);\n",
       "      element.async = false;\n",
       "      element.src = url;\n",
       "      console.debug(\"Bokeh: injecting script tag for BokehJS library: \", url);\n",
       "      document.head.appendChild(element);\n",
       "    }\n",
       "  };\n",
       "\n",
       "  function inject_raw_css(css) {\n",
       "    const element = document.createElement(\"style\");\n",
       "    element.appendChild(document.createTextNode(css));\n",
       "    document.body.appendChild(element);\n",
       "  }\n",
       "\n",
       "  const js_urls = [\"https://cdn.bokeh.org/bokeh/release/bokeh-2.4.3.min.js\", \"https://cdn.bokeh.org/bokeh/release/bokeh-gl-2.4.3.min.js\", \"https://cdn.bokeh.org/bokeh/release/bokeh-widgets-2.4.3.min.js\", \"https://cdn.bokeh.org/bokeh/release/bokeh-tables-2.4.3.min.js\", \"https://cdn.bokeh.org/bokeh/release/bokeh-mathjax-2.4.3.min.js\"];\n",
       "  const css_urls = [];\n",
       "\n",
       "  const inline_js = [    function(Bokeh) {\n",
       "      Bokeh.set_log_level(\"info\");\n",
       "    },\n",
       "function(Bokeh) {\n",
       "    }\n",
       "  ];\n",
       "\n",
       "  function run_inline_js() {\n",
       "    if (root.Bokeh !== undefined || force === true) {\n",
       "          for (let i = 0; i < inline_js.length; i++) {\n",
       "      inline_js[i].call(root, root.Bokeh);\n",
       "    }\n",
       "if (force === true) {\n",
       "        display_loaded();\n",
       "      }} else if (Date.now() < root._bokeh_timeout) {\n",
       "      setTimeout(run_inline_js, 100);\n",
       "    } else if (!root._bokeh_failed_load) {\n",
       "      console.log(\"Bokeh: BokehJS failed to load within specified timeout.\");\n",
       "      root._bokeh_failed_load = true;\n",
       "    } else if (force !== true) {\n",
       "      const cell = $(document.getElementById(\"1002\")).parents('.cell').data().cell;\n",
       "      cell.output_area.append_execute_result(NB_LOAD_WARNING)\n",
       "    }\n",
       "  }\n",
       "\n",
       "  if (root._bokeh_is_loading === 0) {\n",
       "    console.debug(\"Bokeh: BokehJS loaded, going straight to plotting\");\n",
       "    run_inline_js();\n",
       "  } else {\n",
       "    load_libs(css_urls, js_urls, function() {\n",
       "      console.debug(\"Bokeh: BokehJS plotting callback run at\", now());\n",
       "      run_inline_js();\n",
       "    });\n",
       "  }\n",
       "}(window));"
      ],
      "application/vnd.bokehjs_load.v0+json": "(function(root) {\n  function now() {\n    return new Date();\n  }\n\n  const force = true;\n\n  if (typeof root._bokeh_onload_callbacks === \"undefined\" || force === true) {\n    root._bokeh_onload_callbacks = [];\n    root._bokeh_is_loading = undefined;\n  }\n\n\n  if (typeof (root._bokeh_timeout) === \"undefined\" || force === true) {\n    root._bokeh_timeout = Date.now() + 5000;\n    root._bokeh_failed_load = false;\n  }\n\n  const NB_LOAD_WARNING = {'data': {'text/html':\n     \"<div style='background-color: #fdd'>\\n\"+\n     \"<p>\\n\"+\n     \"BokehJS does not appear to have successfully loaded. If loading BokehJS from CDN, this \\n\"+\n     \"may be due to a slow or bad network connection. Possible fixes:\\n\"+\n     \"</p>\\n\"+\n     \"<ul>\\n\"+\n     \"<li>re-rerun `output_notebook()` to attempt to load from CDN again, or</li>\\n\"+\n     \"<li>use INLINE resources instead, as so:</li>\\n\"+\n     \"</ul>\\n\"+\n     \"<code>\\n\"+\n     \"from bokeh.resources import INLINE\\n\"+\n     \"output_notebook(resources=INLINE)\\n\"+\n     \"</code>\\n\"+\n     \"</div>\"}};\n\n  function display_loaded() {\n    const el = document.getElementById(\"1002\");\n    if (el != null) {\n      el.textContent = \"BokehJS is loading...\";\n    }\n    if (root.Bokeh !== undefined) {\n      if (el != null) {\n        el.textContent = \"BokehJS \" + root.Bokeh.version + \" successfully loaded.\";\n      }\n    } else if (Date.now() < root._bokeh_timeout) {\n      setTimeout(display_loaded, 100)\n    }\n  }\n\n  function run_callbacks() {\n    try {\n      root._bokeh_onload_callbacks.forEach(function(callback) {\n        if (callback != null)\n          callback();\n      });\n    } finally {\n      delete root._bokeh_onload_callbacks\n    }\n    console.debug(\"Bokeh: all callbacks have finished\");\n  }\n\n  function load_libs(css_urls, js_urls, callback) {\n    if (css_urls == null) css_urls = [];\n    if (js_urls == null) js_urls = [];\n\n    root._bokeh_onload_callbacks.push(callback);\n    if (root._bokeh_is_loading > 0) {\n      console.debug(\"Bokeh: BokehJS is being loaded, scheduling callback at\", now());\n      return null;\n    }\n    if (js_urls == null || js_urls.length === 0) {\n      run_callbacks();\n      return null;\n    }\n    console.debug(\"Bokeh: BokehJS not loaded, scheduling load and callback at\", now());\n    root._bokeh_is_loading = css_urls.length + js_urls.length;\n\n    function on_load() {\n      root._bokeh_is_loading--;\n      if (root._bokeh_is_loading === 0) {\n        console.debug(\"Bokeh: all BokehJS libraries/stylesheets loaded\");\n        run_callbacks()\n      }\n    }\n\n    function on_error(url) {\n      console.error(\"failed to load \" + url);\n    }\n\n    for (let i = 0; i < css_urls.length; i++) {\n      const url = css_urls[i];\n      const element = document.createElement(\"link\");\n      element.onload = on_load;\n      element.onerror = on_error.bind(null, url);\n      element.rel = \"stylesheet\";\n      element.type = \"text/css\";\n      element.href = url;\n      console.debug(\"Bokeh: injecting link tag for BokehJS stylesheet: \", url);\n      document.body.appendChild(element);\n    }\n\n    for (let i = 0; i < js_urls.length; i++) {\n      const url = js_urls[i];\n      const element = document.createElement('script');\n      element.onload = on_load;\n      element.onerror = on_error.bind(null, url);\n      element.async = false;\n      element.src = url;\n      console.debug(\"Bokeh: injecting script tag for BokehJS library: \", url);\n      document.head.appendChild(element);\n    }\n  };\n\n  function inject_raw_css(css) {\n    const element = document.createElement(\"style\");\n    element.appendChild(document.createTextNode(css));\n    document.body.appendChild(element);\n  }\n\n  const js_urls = [\"https://cdn.bokeh.org/bokeh/release/bokeh-2.4.3.min.js\", \"https://cdn.bokeh.org/bokeh/release/bokeh-gl-2.4.3.min.js\", \"https://cdn.bokeh.org/bokeh/release/bokeh-widgets-2.4.3.min.js\", \"https://cdn.bokeh.org/bokeh/release/bokeh-tables-2.4.3.min.js\", \"https://cdn.bokeh.org/bokeh/release/bokeh-mathjax-2.4.3.min.js\"];\n  const css_urls = [];\n\n  const inline_js = [    function(Bokeh) {\n      Bokeh.set_log_level(\"info\");\n    },\nfunction(Bokeh) {\n    }\n  ];\n\n  function run_inline_js() {\n    if (root.Bokeh !== undefined || force === true) {\n          for (let i = 0; i < inline_js.length; i++) {\n      inline_js[i].call(root, root.Bokeh);\n    }\nif (force === true) {\n        display_loaded();\n      }} else if (Date.now() < root._bokeh_timeout) {\n      setTimeout(run_inline_js, 100);\n    } else if (!root._bokeh_failed_load) {\n      console.log(\"Bokeh: BokehJS failed to load within specified timeout.\");\n      root._bokeh_failed_load = true;\n    } else if (force !== true) {\n      const cell = $(document.getElementById(\"1002\")).parents('.cell').data().cell;\n      cell.output_area.append_execute_result(NB_LOAD_WARNING)\n    }\n  }\n\n  if (root._bokeh_is_loading === 0) {\n    console.debug(\"Bokeh: BokehJS loaded, going straight to plotting\");\n    run_inline_js();\n  } else {\n    load_libs(css_urls, js_urls, function() {\n      console.debug(\"Bokeh: BokehJS plotting callback run at\", now());\n      run_inline_js();\n    });\n  }\n}(window));"
     },
     "metadata": {},
     "output_type": "display_data"
    }
   ],
   "source": [
    "output_notebook()"
   ]
  },
  {
   "cell_type": "markdown",
   "id": "cb474417-0068-4e7e-9171-31a9b481f16e",
   "metadata": {},
   "source": [
    "Line Chart"
   ]
  },
  {
   "cell_type": "code",
   "execution_count": 3,
   "id": "6d2a5765-a16e-4a88-8a6c-8476ccda1bc9",
   "metadata": {},
   "outputs": [
    {
     "data": {
      "text/html": [
       "\n",
       "  <div class=\"bk-root\" id=\"18312e32-f620-4344-b7bc-a819aeb7704d\" data-root-id=\"1003\"></div>\n"
      ]
     },
     "metadata": {},
     "output_type": "display_data"
    },
    {
     "data": {
      "application/javascript": [
       "(function(root) {\n",
       "  function embed_document(root) {\n",
       "  const docs_json = {\"0f242f31-13e6-4898-bdf0-7fcf467cee57\":{\"defs\":[],\"roots\":{\"references\":[{\"attributes\":{\"below\":[{\"id\":\"1014\"}],\"center\":[{\"id\":\"1017\"},{\"id\":\"1021\"},{\"id\":\"1052\"}],\"left\":[{\"id\":\"1018\"}],\"renderers\":[{\"id\":\"1040\"}],\"title\":{\"id\":\"1004\"},\"toolbar\":{\"id\":\"1029\"},\"x_range\":{\"id\":\"1006\"},\"x_scale\":{\"id\":\"1010\"},\"y_range\":{\"id\":\"1008\"},\"y_scale\":{\"id\":\"1012\"}},\"id\":\"1003\",\"subtype\":\"Figure\",\"type\":\"Plot\"},{\"attributes\":{},\"id\":\"1027\",\"type\":\"HelpTool\"},{\"attributes\":{},\"id\":\"1025\",\"type\":\"SaveTool\"},{\"attributes\":{},\"id\":\"1026\",\"type\":\"ResetTool\"},{\"attributes\":{},\"id\":\"1047\",\"type\":\"BasicTickFormatter\"},{\"attributes\":{\"line_alpha\":0.2,\"line_color\":\"#1f77b4\",\"line_width\":2,\"x\":{\"field\":\"x\"},\"y\":{\"field\":\"y\"}},\"id\":\"1039\",\"type\":\"Line\"},{\"attributes\":{\"bottom_units\":\"screen\",\"coordinates\":null,\"fill_alpha\":0.5,\"fill_color\":\"lightgrey\",\"group\":null,\"left_units\":\"screen\",\"level\":\"overlay\",\"line_alpha\":1.0,\"line_color\":\"black\",\"line_dash\":[4,4],\"line_width\":2,\"right_units\":\"screen\",\"syncable\":false,\"top_units\":\"screen\"},\"id\":\"1028\",\"type\":\"BoxAnnotation\"},{\"attributes\":{\"axis_label\":\"y\",\"coordinates\":null,\"formatter\":{\"id\":\"1044\"},\"group\":null,\"major_label_policy\":{\"id\":\"1045\"},\"ticker\":{\"id\":\"1019\"}},\"id\":\"1018\",\"type\":\"LinearAxis\"},{\"attributes\":{},\"id\":\"1049\",\"type\":\"UnionRenderers\"},{\"attributes\":{\"coordinates\":null,\"group\":null,\"items\":[{\"id\":\"1053\"}]},\"id\":\"1052\",\"type\":\"Legend\"},{\"attributes\":{},\"id\":\"1050\",\"type\":\"Selection\"},{\"attributes\":{},\"id\":\"1019\",\"type\":\"BasicTicker\"},{\"attributes\":{\"line_alpha\":0.1,\"line_color\":\"#1f77b4\",\"line_width\":2,\"x\":{\"field\":\"x\"},\"y\":{\"field\":\"y\"}},\"id\":\"1038\",\"type\":\"Line\"},{\"attributes\":{},\"id\":\"1008\",\"type\":\"DataRange1d\"},{\"attributes\":{},\"id\":\"1010\",\"type\":\"LinearScale\"},{\"attributes\":{\"axis\":{\"id\":\"1018\"},\"coordinates\":null,\"dimension\":1,\"group\":null,\"ticker\":null},\"id\":\"1021\",\"type\":\"Grid\"},{\"attributes\":{\"axis_label\":\"x\",\"coordinates\":null,\"formatter\":{\"id\":\"1047\"},\"group\":null,\"major_label_policy\":{\"id\":\"1048\"},\"ticker\":{\"id\":\"1015\"}},\"id\":\"1014\",\"type\":\"LinearAxis\"},{\"attributes\":{\"source\":{\"id\":\"1036\"}},\"id\":\"1041\",\"type\":\"CDSView\"},{\"attributes\":{},\"id\":\"1015\",\"type\":\"BasicTicker\"},{\"attributes\":{\"coordinates\":null,\"data_source\":{\"id\":\"1036\"},\"glyph\":{\"id\":\"1037\"},\"group\":null,\"hover_glyph\":null,\"muted_glyph\":{\"id\":\"1039\"},\"nonselection_glyph\":{\"id\":\"1038\"},\"view\":{\"id\":\"1041\"}},\"id\":\"1040\",\"type\":\"GlyphRenderer\"},{\"attributes\":{},\"id\":\"1044\",\"type\":\"BasicTickFormatter\"},{\"attributes\":{\"tools\":[{\"id\":\"1022\"},{\"id\":\"1023\"},{\"id\":\"1024\"},{\"id\":\"1025\"},{\"id\":\"1026\"},{\"id\":\"1027\"}]},\"id\":\"1029\",\"type\":\"Toolbar\"},{\"attributes\":{\"axis\":{\"id\":\"1014\"},\"coordinates\":null,\"group\":null,\"ticker\":null},\"id\":\"1017\",\"type\":\"Grid\"},{\"attributes\":{\"coordinates\":null,\"group\":null,\"text\":\"Simple line example\"},\"id\":\"1004\",\"type\":\"Title\"},{\"attributes\":{},\"id\":\"1006\",\"type\":\"DataRange1d\"},{\"attributes\":{},\"id\":\"1022\",\"type\":\"PanTool\"},{\"attributes\":{},\"id\":\"1023\",\"type\":\"WheelZoomTool\"},{\"attributes\":{\"overlay\":{\"id\":\"1028\"}},\"id\":\"1024\",\"type\":\"BoxZoomTool\"},{\"attributes\":{},\"id\":\"1048\",\"type\":\"AllLabels\"},{\"attributes\":{\"data\":{\"x\":[1,2,3,4,5],\"y\":[6,7,2,4,5]},\"selected\":{\"id\":\"1050\"},\"selection_policy\":{\"id\":\"1049\"}},\"id\":\"1036\",\"type\":\"ColumnDataSource\"},{\"attributes\":{\"line_color\":\"#1f77b4\",\"line_width\":2,\"x\":{\"field\":\"x\"},\"y\":{\"field\":\"y\"}},\"id\":\"1037\",\"type\":\"Line\"},{\"attributes\":{\"label\":{\"value\":\"Temp.\"},\"renderers\":[{\"id\":\"1040\"}]},\"id\":\"1053\",\"type\":\"LegendItem\"},{\"attributes\":{},\"id\":\"1012\",\"type\":\"LinearScale\"},{\"attributes\":{},\"id\":\"1045\",\"type\":\"AllLabels\"}],\"root_ids\":[\"1003\"]},\"title\":\"Bokeh Application\",\"version\":\"2.4.3\"}};\n",
       "  const render_items = [{\"docid\":\"0f242f31-13e6-4898-bdf0-7fcf467cee57\",\"root_ids\":[\"1003\"],\"roots\":{\"1003\":\"18312e32-f620-4344-b7bc-a819aeb7704d\"}}];\n",
       "  root.Bokeh.embed.embed_items_notebook(docs_json, render_items);\n",
       "  }\n",
       "  if (root.Bokeh !== undefined) {\n",
       "    embed_document(root);\n",
       "  } else {\n",
       "    let attempts = 0;\n",
       "    const timer = setInterval(function(root) {\n",
       "      if (root.Bokeh !== undefined) {\n",
       "        clearInterval(timer);\n",
       "        embed_document(root);\n",
       "      } else {\n",
       "        attempts++;\n",
       "        if (attempts > 100) {\n",
       "          clearInterval(timer);\n",
       "          console.log(\"Bokeh: ERROR: Unable to run BokehJS code because BokehJS library is missing\");\n",
       "        }\n",
       "      }\n",
       "    }, 10, root)\n",
       "  }\n",
       "})(window);"
      ],
      "application/vnd.bokehjs_exec.v0+json": ""
     },
     "metadata": {
      "application/vnd.bokehjs_exec.v0+json": {
       "id": "1003"
      }
     },
     "output_type": "display_data"
    }
   ],
   "source": [
    "x = [1, 2, 3, 4, 5]\n",
    "y = [6, 7, 2, 4, 5]\n",
    "\n",
    "p = figure(title=\"Simple line example\", x_axis_label='x', y_axis_label='y')\n",
    "p.line(x, y, legend_label=\"Temp.\", line_width=2)\n",
    "show(p)"
   ]
  },
  {
   "cell_type": "markdown",
   "id": "404578bf-830a-4800-a20a-daea0409e256",
   "metadata": {},
   "source": [
    "Combining multiple graphs"
   ]
  },
  {
   "cell_type": "code",
   "execution_count": 4,
   "id": "a93d645a-ea36-4223-af12-36a70081c3c6",
   "metadata": {},
   "outputs": [
    {
     "data": {
      "text/html": [
       "\n",
       "  <div class=\"bk-root\" id=\"edeb1678-b517-4d3e-aece-82db91058b38\" data-root-id=\"1114\"></div>\n"
      ]
     },
     "metadata": {},
     "output_type": "display_data"
    },
    {
     "data": {
      "application/javascript": [
       "(function(root) {\n",
       "  function embed_document(root) {\n",
       "  const docs_json = {\"b610ce06-10e4-4dfa-aae6-e9198f0201a6\":{\"defs\":[],\"roots\":{\"references\":[{\"attributes\":{\"below\":[{\"id\":\"1125\"}],\"center\":[{\"id\":\"1128\"},{\"id\":\"1132\"},{\"id\":\"1163\"}],\"left\":[{\"id\":\"1129\"}],\"renderers\":[{\"id\":\"1151\"},{\"id\":\"1169\"},{\"id\":\"1188\"}],\"title\":{\"id\":\"1115\"},\"toolbar\":{\"id\":\"1140\"},\"x_range\":{\"id\":\"1117\"},\"x_scale\":{\"id\":\"1121\"},\"y_range\":{\"id\":\"1119\"},\"y_scale\":{\"id\":\"1123\"}},\"id\":\"1114\",\"subtype\":\"Figure\",\"type\":\"Plot\"},{\"attributes\":{\"axis_label\":\"y\",\"coordinates\":null,\"formatter\":{\"id\":\"1155\"},\"group\":null,\"major_label_policy\":{\"id\":\"1156\"},\"ticker\":{\"id\":\"1130\"}},\"id\":\"1129\",\"type\":\"LinearAxis\"},{\"attributes\":{},\"id\":\"1158\",\"type\":\"BasicTickFormatter\"},{\"attributes\":{},\"id\":\"1134\",\"type\":\"WheelZoomTool\"},{\"attributes\":{\"coordinates\":null,\"data_source\":{\"id\":\"1184\"},\"glyph\":{\"id\":\"1185\"},\"group\":null,\"hover_glyph\":null,\"muted_glyph\":{\"id\":\"1187\"},\"nonselection_glyph\":{\"id\":\"1186\"},\"view\":{\"id\":\"1189\"}},\"id\":\"1188\",\"type\":\"GlyphRenderer\"},{\"attributes\":{},\"id\":\"1160\",\"type\":\"UnionRenderers\"},{\"attributes\":{\"source\":{\"id\":\"1165\"}},\"id\":\"1170\",\"type\":\"CDSView\"},{\"attributes\":{},\"id\":\"1161\",\"type\":\"Selection\"},{\"attributes\":{},\"id\":\"1156\",\"type\":\"AllLabels\"},{\"attributes\":{\"line_alpha\":0.2,\"line_color\":\"blue\",\"line_width\":2,\"x\":{\"field\":\"x\"},\"y\":{\"field\":\"y\"}},\"id\":\"1150\",\"type\":\"Line\"},{\"attributes\":{},\"id\":\"1155\",\"type\":\"BasicTickFormatter\"},{\"attributes\":{\"axis_label\":\"x\",\"coordinates\":null,\"formatter\":{\"id\":\"1158\"},\"group\":null,\"major_label_policy\":{\"id\":\"1159\"},\"ticker\":{\"id\":\"1126\"}},\"id\":\"1125\",\"type\":\"LinearAxis\"},{\"attributes\":{\"label\":{\"value\":\"Temp.\"},\"renderers\":[{\"id\":\"1151\"}]},\"id\":\"1164\",\"type\":\"LegendItem\"},{\"attributes\":{},\"id\":\"1121\",\"type\":\"LinearScale\"},{\"attributes\":{\"source\":{\"id\":\"1184\"}},\"id\":\"1189\",\"type\":\"CDSView\"},{\"attributes\":{\"axis\":{\"id\":\"1125\"},\"coordinates\":null,\"group\":null,\"ticker\":null},\"id\":\"1128\",\"type\":\"Grid\"},{\"attributes\":{},\"id\":\"1133\",\"type\":\"PanTool\"},{\"attributes\":{\"label\":{\"value\":\"Objects\"},\"renderers\":[{\"id\":\"1188\"}]},\"id\":\"1204\",\"type\":\"LegendItem\"},{\"attributes\":{\"line_color\":\"green\",\"line_width\":2,\"x\":{\"field\":\"x\"},\"y\":{\"field\":\"y\"}},\"id\":\"1185\",\"type\":\"Line\"},{\"attributes\":{},\"id\":\"1126\",\"type\":\"BasicTicker\"},{\"attributes\":{\"axis\":{\"id\":\"1129\"},\"coordinates\":null,\"dimension\":1,\"group\":null,\"ticker\":null},\"id\":\"1132\",\"type\":\"Grid\"},{\"attributes\":{\"line_alpha\":0.2,\"line_color\":\"green\",\"line_width\":2,\"x\":{\"field\":\"x\"},\"y\":{\"field\":\"y\"}},\"id\":\"1187\",\"type\":\"Line\"},{\"attributes\":{\"line_alpha\":0.1,\"line_color\":\"green\",\"line_width\":2,\"x\":{\"field\":\"x\"},\"y\":{\"field\":\"y\"}},\"id\":\"1186\",\"type\":\"Line\"},{\"attributes\":{\"coordinates\":null,\"group\":null,\"text\":\"Multiple line example\"},\"id\":\"1115\",\"type\":\"Title\"},{\"attributes\":{\"coordinates\":null,\"data_source\":{\"id\":\"1165\"},\"glyph\":{\"id\":\"1166\"},\"group\":null,\"hover_glyph\":null,\"muted_glyph\":{\"id\":\"1168\"},\"nonselection_glyph\":{\"id\":\"1167\"},\"view\":{\"id\":\"1170\"}},\"id\":\"1169\",\"type\":\"GlyphRenderer\"},{\"attributes\":{},\"id\":\"1136\",\"type\":\"SaveTool\"},{\"attributes\":{},\"id\":\"1123\",\"type\":\"LinearScale\"},{\"attributes\":{\"data\":{\"x\":[1,2,3,4,5],\"y\":[4,5,5,7,2]},\"selected\":{\"id\":\"1202\"},\"selection_policy\":{\"id\":\"1201\"}},\"id\":\"1184\",\"type\":\"ColumnDataSource\"},{\"attributes\":{\"tools\":[{\"id\":\"1133\"},{\"id\":\"1134\"},{\"id\":\"1135\"},{\"id\":\"1136\"},{\"id\":\"1137\"},{\"id\":\"1138\"}]},\"id\":\"1140\",\"type\":\"Toolbar\"},{\"attributes\":{\"data\":{\"x\":[1,2,3,4,5],\"y\":[2,3,4,5,6]},\"selected\":{\"id\":\"1181\"},\"selection_policy\":{\"id\":\"1180\"}},\"id\":\"1165\",\"type\":\"ColumnDataSource\"},{\"attributes\":{},\"id\":\"1137\",\"type\":\"ResetTool\"},{\"attributes\":{},\"id\":\"1181\",\"type\":\"Selection\"},{\"attributes\":{},\"id\":\"1117\",\"type\":\"DataRange1d\"},{\"attributes\":{},\"id\":\"1201\",\"type\":\"UnionRenderers\"},{\"attributes\":{\"data\":{\"x\":[1,2,3,4,5],\"y\":[6,7,2,4,5]},\"selected\":{\"id\":\"1161\"},\"selection_policy\":{\"id\":\"1160\"}},\"id\":\"1147\",\"type\":\"ColumnDataSource\"},{\"attributes\":{\"line_alpha\":0.2,\"line_color\":\"red\",\"line_width\":2,\"x\":{\"field\":\"x\"},\"y\":{\"field\":\"y\"}},\"id\":\"1168\",\"type\":\"Line\"},{\"attributes\":{\"coordinates\":null,\"group\":null,\"items\":[{\"id\":\"1164\"},{\"id\":\"1183\"},{\"id\":\"1204\"}]},\"id\":\"1163\",\"type\":\"Legend\"},{\"attributes\":{\"line_alpha\":0.1,\"line_color\":\"red\",\"line_width\":2,\"x\":{\"field\":\"x\"},\"y\":{\"field\":\"y\"}},\"id\":\"1167\",\"type\":\"Line\"},{\"attributes\":{},\"id\":\"1202\",\"type\":\"Selection\"},{\"attributes\":{\"line_alpha\":0.1,\"line_color\":\"blue\",\"line_width\":2,\"x\":{\"field\":\"x\"},\"y\":{\"field\":\"y\"}},\"id\":\"1149\",\"type\":\"Line\"},{\"attributes\":{\"bottom_units\":\"screen\",\"coordinates\":null,\"fill_alpha\":0.5,\"fill_color\":\"lightgrey\",\"group\":null,\"left_units\":\"screen\",\"level\":\"overlay\",\"line_alpha\":1.0,\"line_color\":\"black\",\"line_dash\":[4,4],\"line_width\":2,\"right_units\":\"screen\",\"syncable\":false,\"top_units\":\"screen\"},\"id\":\"1139\",\"type\":\"BoxAnnotation\"},{\"attributes\":{\"line_color\":\"red\",\"line_width\":2,\"x\":{\"field\":\"x\"},\"y\":{\"field\":\"y\"}},\"id\":\"1166\",\"type\":\"Line\"},{\"attributes\":{},\"id\":\"1119\",\"type\":\"DataRange1d\"},{\"attributes\":{},\"id\":\"1180\",\"type\":\"UnionRenderers\"},{\"attributes\":{\"line_color\":\"blue\",\"line_width\":2,\"x\":{\"field\":\"x\"},\"y\":{\"field\":\"y\"}},\"id\":\"1148\",\"type\":\"Line\"},{\"attributes\":{\"source\":{\"id\":\"1147\"}},\"id\":\"1152\",\"type\":\"CDSView\"},{\"attributes\":{\"overlay\":{\"id\":\"1139\"}},\"id\":\"1135\",\"type\":\"BoxZoomTool\"},{\"attributes\":{},\"id\":\"1138\",\"type\":\"HelpTool\"},{\"attributes\":{\"coordinates\":null,\"data_source\":{\"id\":\"1147\"},\"glyph\":{\"id\":\"1148\"},\"group\":null,\"hover_glyph\":null,\"muted_glyph\":{\"id\":\"1150\"},\"nonselection_glyph\":{\"id\":\"1149\"},\"view\":{\"id\":\"1152\"}},\"id\":\"1151\",\"type\":\"GlyphRenderer\"},{\"attributes\":{\"label\":{\"value\":\"Rate\"},\"renderers\":[{\"id\":\"1169\"}]},\"id\":\"1183\",\"type\":\"LegendItem\"},{\"attributes\":{},\"id\":\"1159\",\"type\":\"AllLabels\"},{\"attributes\":{},\"id\":\"1130\",\"type\":\"BasicTicker\"}],\"root_ids\":[\"1114\"]},\"title\":\"Bokeh Application\",\"version\":\"2.4.3\"}};\n",
       "  const render_items = [{\"docid\":\"b610ce06-10e4-4dfa-aae6-e9198f0201a6\",\"root_ids\":[\"1114\"],\"roots\":{\"1114\":\"edeb1678-b517-4d3e-aece-82db91058b38\"}}];\n",
       "  root.Bokeh.embed.embed_items_notebook(docs_json, render_items);\n",
       "  }\n",
       "  if (root.Bokeh !== undefined) {\n",
       "    embed_document(root);\n",
       "  } else {\n",
       "    let attempts = 0;\n",
       "    const timer = setInterval(function(root) {\n",
       "      if (root.Bokeh !== undefined) {\n",
       "        clearInterval(timer);\n",
       "        embed_document(root);\n",
       "      } else {\n",
       "        attempts++;\n",
       "        if (attempts > 100) {\n",
       "          clearInterval(timer);\n",
       "          console.log(\"Bokeh: ERROR: Unable to run BokehJS code because BokehJS library is missing\");\n",
       "        }\n",
       "      }\n",
       "    }, 10, root)\n",
       "  }\n",
       "})(window);"
      ],
      "application/vnd.bokehjs_exec.v0+json": ""
     },
     "metadata": {
      "application/vnd.bokehjs_exec.v0+json": {
       "id": "1114"
      }
     },
     "output_type": "display_data"
    }
   ],
   "source": [
    "# prepare some data\n",
    "x = [1, 2, 3, 4, 5]\n",
    "y1 = [6, 7, 2, 4, 5]\n",
    "y2 = [2, 3, 4, 5, 6]\n",
    "y3 = [4, 5, 5, 7, 2]\n",
    "\n",
    "# create a new plot with a title and axis labels\n",
    "p = figure(title=\"Multiple line example\", x_axis_label=\"x\", y_axis_label=\"y\")\n",
    "\n",
    "# add multiple renderers\n",
    "p.line(x, y1, legend_label=\"Temp.\", color=\"blue\", line_width=2)\n",
    "p.line(x, y2, legend_label=\"Rate\", color=\"red\", line_width=2)\n",
    "p.line(x, y3, legend_label=\"Objects\", color=\"green\", line_width=2)\n",
    "\n",
    "# show the results\n",
    "show(p)\n"
   ]
  },
  {
   "cell_type": "markdown",
   "id": "623d3668-c5ae-4207-9866-fd8b83dd454e",
   "metadata": {},
   "source": [
    "Rendering circles"
   ]
  },
  {
   "cell_type": "code",
   "execution_count": 5,
   "id": "01e21cb8-15ce-4b68-83e5-d5c3b9016802",
   "metadata": {},
   "outputs": [
    {
     "data": {
      "text/html": [
       "\n",
       "  <div class=\"bk-root\" id=\"1d165042-8b6b-4775-ac2e-f8e06e5b2699\" data-root-id=\"1299\"></div>\n"
      ]
     },
     "metadata": {},
     "output_type": "display_data"
    },
    {
     "data": {
      "application/javascript": [
       "(function(root) {\n",
       "  function embed_document(root) {\n",
       "  const docs_json = {\"fc41ca28-30aa-4b02-ba55-62e60b397334\":{\"defs\":[],\"roots\":{\"references\":[{\"attributes\":{\"below\":[{\"id\":\"1310\"}],\"center\":[{\"id\":\"1313\"},{\"id\":\"1317\"},{\"id\":\"1348\"}],\"left\":[{\"id\":\"1314\"}],\"renderers\":[{\"id\":\"1336\"},{\"id\":\"1354\"},{\"id\":\"1373\"}],\"title\":{\"id\":\"1300\"},\"toolbar\":{\"id\":\"1325\"},\"x_range\":{\"id\":\"1302\"},\"x_scale\":{\"id\":\"1306\"},\"y_range\":{\"id\":\"1304\"},\"y_scale\":{\"id\":\"1308\"}},\"id\":\"1299\",\"subtype\":\"Figure\",\"type\":\"Plot\"},{\"attributes\":{},\"id\":\"1386\",\"type\":\"UnionRenderers\"},{\"attributes\":{\"coordinates\":null,\"data_source\":{\"id\":\"1369\"},\"glyph\":{\"id\":\"1370\"},\"group\":null,\"hover_glyph\":null,\"muted_glyph\":{\"id\":\"1372\"},\"nonselection_glyph\":{\"id\":\"1371\"},\"view\":{\"id\":\"1374\"}},\"id\":\"1373\",\"type\":\"GlyphRenderer\"},{\"attributes\":{\"fill_alpha\":{\"value\":0.2},\"fill_color\":{\"value\":\"yellow\"},\"hatch_alpha\":{\"value\":0.2},\"hatch_color\":{\"value\":\"yellow\"},\"line_alpha\":{\"value\":0.2},\"line_color\":{\"value\":\"yellow\"},\"size\":{\"value\":12},\"x\":{\"field\":\"x\"},\"y\":{\"field\":\"y\"}},\"id\":\"1372\",\"type\":\"Circle\"},{\"attributes\":{},\"id\":\"1341\",\"type\":\"AllLabels\"},{\"attributes\":{\"source\":{\"id\":\"1369\"}},\"id\":\"1374\",\"type\":\"CDSView\"},{\"attributes\":{\"coordinates\":null,\"group\":null,\"items\":[{\"id\":\"1349\"},{\"id\":\"1368\"},{\"id\":\"1389\"}]},\"id\":\"1348\",\"type\":\"Legend\"},{\"attributes\":{\"source\":{\"id\":\"1332\"}},\"id\":\"1337\",\"type\":\"CDSView\"},{\"attributes\":{},\"id\":\"1346\",\"type\":\"Selection\"},{\"attributes\":{},\"id\":\"1366\",\"type\":\"Selection\"},{\"attributes\":{\"fill_alpha\":{\"value\":0.1},\"fill_color\":{\"value\":\"yellow\"},\"hatch_alpha\":{\"value\":0.1},\"hatch_color\":{\"value\":\"yellow\"},\"line_alpha\":{\"value\":0.1},\"line_color\":{\"value\":\"yellow\"},\"size\":{\"value\":12},\"x\":{\"field\":\"x\"},\"y\":{\"field\":\"y\"}},\"id\":\"1371\",\"type\":\"Circle\"},{\"attributes\":{\"label\":{\"value\":\"Objects\"},\"renderers\":[{\"id\":\"1373\"}]},\"id\":\"1389\",\"type\":\"LegendItem\"},{\"attributes\":{},\"id\":\"1365\",\"type\":\"UnionRenderers\"},{\"attributes\":{},\"id\":\"1344\",\"type\":\"AllLabels\"},{\"attributes\":{\"coordinates\":null,\"data_source\":{\"id\":\"1350\"},\"glyph\":{\"id\":\"1351\"},\"group\":null,\"hover_glyph\":null,\"muted_glyph\":{\"id\":\"1353\"},\"nonselection_glyph\":{\"id\":\"1352\"},\"view\":{\"id\":\"1355\"}},\"id\":\"1354\",\"type\":\"GlyphRenderer\"},{\"attributes\":{},\"id\":\"1387\",\"type\":\"Selection\"},{\"attributes\":{\"label\":{\"value\":\"Temp.\"},\"renderers\":[{\"id\":\"1336\"}]},\"id\":\"1349\",\"type\":\"LegendItem\"},{\"attributes\":{\"line_color\":\"blue\",\"line_width\":2,\"x\":{\"field\":\"x\"},\"y\":{\"field\":\"y\"}},\"id\":\"1333\",\"type\":\"Line\"},{\"attributes\":{},\"id\":\"1304\",\"type\":\"DataRange1d\"},{\"attributes\":{\"data\":{\"x\":[1,2,3,4,5],\"y\":[2,3,4,5,6]},\"selected\":{\"id\":\"1366\"},\"selection_policy\":{\"id\":\"1365\"}},\"id\":\"1350\",\"type\":\"ColumnDataSource\"},{\"attributes\":{},\"id\":\"1345\",\"type\":\"UnionRenderers\"},{\"attributes\":{\"fill_color\":{\"value\":\"yellow\"},\"hatch_color\":{\"value\":\"yellow\"},\"line_color\":{\"value\":\"yellow\"},\"size\":{\"value\":12},\"x\":{\"field\":\"x\"},\"y\":{\"field\":\"y\"}},\"id\":\"1370\",\"type\":\"Circle\"},{\"attributes\":{\"data\":{\"x\":[1,2,3,4,5],\"y\":[6,7,2,4,5]},\"selected\":{\"id\":\"1346\"},\"selection_policy\":{\"id\":\"1345\"}},\"id\":\"1332\",\"type\":\"ColumnDataSource\"},{\"attributes\":{},\"id\":\"1343\",\"type\":\"BasicTickFormatter\"},{\"attributes\":{},\"id\":\"1302\",\"type\":\"DataRange1d\"},{\"attributes\":{},\"id\":\"1308\",\"type\":\"LinearScale\"},{\"attributes\":{},\"id\":\"1340\",\"type\":\"BasicTickFormatter\"},{\"attributes\":{\"coordinates\":null,\"group\":null,\"text\":\"Multiple glyphs example\"},\"id\":\"1300\",\"type\":\"Title\"},{\"attributes\":{},\"id\":\"1311\",\"type\":\"BasicTicker\"},{\"attributes\":{},\"id\":\"1322\",\"type\":\"ResetTool\"},{\"attributes\":{\"axis\":{\"id\":\"1310\"},\"coordinates\":null,\"group\":null,\"ticker\":null},\"id\":\"1313\",\"type\":\"Grid\"},{\"attributes\":{\"coordinates\":null,\"data_source\":{\"id\":\"1332\"},\"glyph\":{\"id\":\"1333\"},\"group\":null,\"hover_glyph\":null,\"muted_glyph\":{\"id\":\"1335\"},\"nonselection_glyph\":{\"id\":\"1334\"},\"view\":{\"id\":\"1337\"}},\"id\":\"1336\",\"type\":\"GlyphRenderer\"},{\"attributes\":{},\"id\":\"1321\",\"type\":\"SaveTool\"},{\"attributes\":{},\"id\":\"1306\",\"type\":\"LinearScale\"},{\"attributes\":{\"data\":{\"x\":[1,2,3,4,5],\"y\":[4,5,5,7,2]},\"selected\":{\"id\":\"1387\"},\"selection_policy\":{\"id\":\"1386\"}},\"id\":\"1369\",\"type\":\"ColumnDataSource\"},{\"attributes\":{\"overlay\":{\"id\":\"1324\"}},\"id\":\"1320\",\"type\":\"BoxZoomTool\"},{\"attributes\":{\"axis_label\":\"x\",\"coordinates\":null,\"formatter\":{\"id\":\"1343\"},\"group\":null,\"major_label_policy\":{\"id\":\"1344\"},\"ticker\":{\"id\":\"1311\"}},\"id\":\"1310\",\"type\":\"LinearAxis\"},{\"attributes\":{\"source\":{\"id\":\"1350\"}},\"id\":\"1355\",\"type\":\"CDSView\"},{\"attributes\":{},\"id\":\"1318\",\"type\":\"PanTool\"},{\"attributes\":{\"tools\":[{\"id\":\"1318\"},{\"id\":\"1319\"},{\"id\":\"1320\"},{\"id\":\"1321\"},{\"id\":\"1322\"},{\"id\":\"1323\"}]},\"id\":\"1325\",\"type\":\"Toolbar\"},{\"attributes\":{},\"id\":\"1323\",\"type\":\"HelpTool\"},{\"attributes\":{\"bottom_units\":\"screen\",\"coordinates\":null,\"fill_alpha\":0.5,\"fill_color\":\"lightgrey\",\"group\":null,\"left_units\":\"screen\",\"level\":\"overlay\",\"line_alpha\":1.0,\"line_color\":\"black\",\"line_dash\":[4,4],\"line_width\":2,\"right_units\":\"screen\",\"syncable\":false,\"top_units\":\"screen\"},\"id\":\"1324\",\"type\":\"BoxAnnotation\"},{\"attributes\":{},\"id\":\"1319\",\"type\":\"WheelZoomTool\"},{\"attributes\":{\"label\":{\"value\":\"Rate\"},\"renderers\":[{\"id\":\"1354\"}]},\"id\":\"1368\",\"type\":\"LegendItem\"},{\"attributes\":{\"axis_label\":\"y\",\"coordinates\":null,\"formatter\":{\"id\":\"1340\"},\"group\":null,\"major_label_policy\":{\"id\":\"1341\"},\"ticker\":{\"id\":\"1315\"}},\"id\":\"1314\",\"type\":\"LinearAxis\"},{\"attributes\":{\"line_alpha\":0.2,\"line_color\":\"red\",\"line_width\":2,\"x\":{\"field\":\"x\"},\"y\":{\"field\":\"y\"}},\"id\":\"1353\",\"type\":\"Line\"},{\"attributes\":{\"axis\":{\"id\":\"1314\"},\"coordinates\":null,\"dimension\":1,\"group\":null,\"ticker\":null},\"id\":\"1317\",\"type\":\"Grid\"},{\"attributes\":{\"line_color\":\"red\",\"line_width\":2,\"x\":{\"field\":\"x\"},\"y\":{\"field\":\"y\"}},\"id\":\"1351\",\"type\":\"Line\"},{\"attributes\":{},\"id\":\"1315\",\"type\":\"BasicTicker\"},{\"attributes\":{\"line_alpha\":0.1,\"line_color\":\"red\",\"line_width\":2,\"x\":{\"field\":\"x\"},\"y\":{\"field\":\"y\"}},\"id\":\"1352\",\"type\":\"Line\"},{\"attributes\":{\"line_alpha\":0.2,\"line_color\":\"blue\",\"line_width\":2,\"x\":{\"field\":\"x\"},\"y\":{\"field\":\"y\"}},\"id\":\"1335\",\"type\":\"Line\"},{\"attributes\":{\"line_alpha\":0.1,\"line_color\":\"blue\",\"line_width\":2,\"x\":{\"field\":\"x\"},\"y\":{\"field\":\"y\"}},\"id\":\"1334\",\"type\":\"Line\"}],\"root_ids\":[\"1299\"]},\"title\":\"Bokeh Application\",\"version\":\"2.4.3\"}};\n",
       "  const render_items = [{\"docid\":\"fc41ca28-30aa-4b02-ba55-62e60b397334\",\"root_ids\":[\"1299\"],\"roots\":{\"1299\":\"1d165042-8b6b-4775-ac2e-f8e06e5b2699\"}}];\n",
       "  root.Bokeh.embed.embed_items_notebook(docs_json, render_items);\n",
       "  }\n",
       "  if (root.Bokeh !== undefined) {\n",
       "    embed_document(root);\n",
       "  } else {\n",
       "    let attempts = 0;\n",
       "    const timer = setInterval(function(root) {\n",
       "      if (root.Bokeh !== undefined) {\n",
       "        clearInterval(timer);\n",
       "        embed_document(root);\n",
       "      } else {\n",
       "        attempts++;\n",
       "        if (attempts > 100) {\n",
       "          clearInterval(timer);\n",
       "          console.log(\"Bokeh: ERROR: Unable to run BokehJS code because BokehJS library is missing\");\n",
       "        }\n",
       "      }\n",
       "    }, 10, root)\n",
       "  }\n",
       "})(window);"
      ],
      "application/vnd.bokehjs_exec.v0+json": ""
     },
     "metadata": {
      "application/vnd.bokehjs_exec.v0+json": {
       "id": "1299"
      }
     },
     "output_type": "display_data"
    }
   ],
   "source": [
    "x = [1, 2, 3, 4, 5]\n",
    "y1 = [6, 7, 2, 4, 5]\n",
    "y2 = [2, 3, 4, 5, 6]\n",
    "y3 = [4, 5, 5, 7, 2]\n",
    "\n",
    "# create a new plot with a title and axis labels\n",
    "p = figure(title=\"Multiple glyphs example\", x_axis_label=\"x\", y_axis_label=\"y\")\n",
    "\n",
    "# add multiple renderers\n",
    "p.line(x, y1, legend_label=\"Temp.\", color=\"blue\", line_width=2)\n",
    "p.line(x, y2, legend_label=\"Rate\", color=\"red\", line_width=2)\n",
    "p.circle(x, y3, legend_label=\"Objects\", color=\"yellow\", size=12)\n",
    "\n",
    "# show the results\n",
    "show(p)"
   ]
  },
  {
   "cell_type": "markdown",
   "id": "1eb1d7c7-5a19-4fde-9c40-79d9575477ac",
   "metadata": {},
   "source": [
    "Rendering bars"
   ]
  },
  {
   "cell_type": "code",
   "execution_count": 6,
   "id": "80d7de9f-38c1-48c8-b5e7-a2da2adec6cd",
   "metadata": {},
   "outputs": [
    {
     "data": {
      "text/html": [
       "\n",
       "  <div class=\"bk-root\" id=\"721185a0-1638-4147-8264-5df4f0e752d5\" data-root-id=\"1498\"></div>\n"
      ]
     },
     "metadata": {},
     "output_type": "display_data"
    },
    {
     "data": {
      "application/javascript": [
       "(function(root) {\n",
       "  function embed_document(root) {\n",
       "  const docs_json = {\"e088d103-2f4b-44a3-8d4e-7905e90448de\":{\"defs\":[],\"roots\":{\"references\":[{\"attributes\":{\"below\":[{\"id\":\"1509\"}],\"center\":[{\"id\":\"1512\"},{\"id\":\"1516\"},{\"id\":\"1547\"}],\"left\":[{\"id\":\"1513\"}],\"renderers\":[{\"id\":\"1535\"},{\"id\":\"1553\"},{\"id\":\"1572\"}],\"title\":{\"id\":\"1499\"},\"toolbar\":{\"id\":\"1524\"},\"x_range\":{\"id\":\"1501\"},\"x_scale\":{\"id\":\"1505\"},\"y_range\":{\"id\":\"1503\"},\"y_scale\":{\"id\":\"1507\"}},\"id\":\"1498\",\"subtype\":\"Figure\",\"type\":\"Plot\"},{\"attributes\":{\"fill_color\":{\"value\":\"red\"},\"hatch_color\":{\"value\":\"red\"},\"line_color\":{\"value\":\"red\"},\"top\":{\"field\":\"top\"},\"width\":{\"value\":0.5},\"x\":{\"field\":\"x\"}},\"id\":\"1550\",\"type\":\"VBar\"},{\"attributes\":{\"data\":{\"x\":[1,2,3,4,5],\"y\":[6,7,2,4,5]},\"selected\":{\"id\":\"1545\"},\"selection_policy\":{\"id\":\"1544\"}},\"id\":\"1531\",\"type\":\"ColumnDataSource\"},{\"attributes\":{\"bottom_units\":\"screen\",\"coordinates\":null,\"fill_alpha\":0.5,\"fill_color\":\"lightgrey\",\"group\":null,\"left_units\":\"screen\",\"level\":\"overlay\",\"line_alpha\":1.0,\"line_color\":\"black\",\"line_dash\":[4,4],\"line_width\":2,\"right_units\":\"screen\",\"syncable\":false,\"top_units\":\"screen\"},\"id\":\"1523\",\"type\":\"BoxAnnotation\"},{\"attributes\":{\"line_color\":\"blue\",\"line_width\":2,\"x\":{\"field\":\"x\"},\"y\":{\"field\":\"y\"}},\"id\":\"1532\",\"type\":\"Line\"},{\"attributes\":{\"coordinates\":null,\"data_source\":{\"id\":\"1549\"},\"glyph\":{\"id\":\"1550\"},\"group\":null,\"hover_glyph\":null,\"muted_glyph\":{\"id\":\"1552\"},\"nonselection_glyph\":{\"id\":\"1551\"},\"view\":{\"id\":\"1554\"}},\"id\":\"1553\",\"type\":\"GlyphRenderer\"},{\"attributes\":{},\"id\":\"1544\",\"type\":\"UnionRenderers\"},{\"attributes\":{\"coordinates\":null,\"group\":null,\"items\":[{\"id\":\"1548\"},{\"id\":\"1567\"},{\"id\":\"1588\"}]},\"id\":\"1547\",\"type\":\"Legend\"},{\"attributes\":{},\"id\":\"1540\",\"type\":\"AllLabels\"},{\"attributes\":{},\"id\":\"1545\",\"type\":\"Selection\"},{\"attributes\":{},\"id\":\"1586\",\"type\":\"Selection\"},{\"attributes\":{\"data\":{\"x\":[1,2,3,4,5],\"y\":[4,5,5,7,2]},\"selected\":{\"id\":\"1586\"},\"selection_policy\":{\"id\":\"1585\"}},\"id\":\"1568\",\"type\":\"ColumnDataSource\"},{\"attributes\":{\"coordinates\":null,\"data_source\":{\"id\":\"1568\"},\"glyph\":{\"id\":\"1569\"},\"group\":null,\"hover_glyph\":null,\"muted_glyph\":{\"id\":\"1571\"},\"nonselection_glyph\":{\"id\":\"1570\"},\"view\":{\"id\":\"1573\"}},\"id\":\"1572\",\"type\":\"GlyphRenderer\"},{\"attributes\":{\"source\":{\"id\":\"1549\"}},\"id\":\"1554\",\"type\":\"CDSView\"},{\"attributes\":{\"fill_alpha\":{\"value\":0.2},\"fill_color\":{\"value\":\"yellow\"},\"hatch_alpha\":{\"value\":0.2},\"hatch_color\":{\"value\":\"yellow\"},\"line_alpha\":{\"value\":0.2},\"line_color\":{\"value\":\"yellow\"},\"size\":{\"value\":12},\"x\":{\"field\":\"x\"},\"y\":{\"field\":\"y\"}},\"id\":\"1571\",\"type\":\"Circle\"},{\"attributes\":{\"fill_alpha\":{\"value\":0.2},\"fill_color\":{\"value\":\"red\"},\"hatch_alpha\":{\"value\":0.2},\"hatch_color\":{\"value\":\"red\"},\"line_alpha\":{\"value\":0.2},\"line_color\":{\"value\":\"red\"},\"top\":{\"field\":\"top\"},\"width\":{\"value\":0.5},\"x\":{\"field\":\"x\"}},\"id\":\"1552\",\"type\":\"VBar\"},{\"attributes\":{},\"id\":\"1505\",\"type\":\"LinearScale\"},{\"attributes\":{\"fill_alpha\":{\"value\":0.1},\"fill_color\":{\"value\":\"red\"},\"hatch_alpha\":{\"value\":0.1},\"hatch_color\":{\"value\":\"red\"},\"line_alpha\":{\"value\":0.1},\"line_color\":{\"value\":\"red\"},\"top\":{\"field\":\"top\"},\"width\":{\"value\":0.5},\"x\":{\"field\":\"x\"}},\"id\":\"1551\",\"type\":\"VBar\"},{\"attributes\":{\"label\":{\"value\":\"Rate\"},\"renderers\":[{\"id\":\"1553\"}]},\"id\":\"1567\",\"type\":\"LegendItem\"},{\"attributes\":{\"line_alpha\":0.2,\"line_color\":\"blue\",\"line_width\":2,\"x\":{\"field\":\"x\"},\"y\":{\"field\":\"y\"}},\"id\":\"1534\",\"type\":\"Line\"},{\"attributes\":{\"line_alpha\":0.1,\"line_color\":\"blue\",\"line_width\":2,\"x\":{\"field\":\"x\"},\"y\":{\"field\":\"y\"}},\"id\":\"1533\",\"type\":\"Line\"},{\"attributes\":{\"source\":{\"id\":\"1568\"}},\"id\":\"1573\",\"type\":\"CDSView\"},{\"attributes\":{\"fill_alpha\":{\"value\":0.1},\"fill_color\":{\"value\":\"yellow\"},\"hatch_alpha\":{\"value\":0.1},\"hatch_color\":{\"value\":\"yellow\"},\"line_alpha\":{\"value\":0.1},\"line_color\":{\"value\":\"yellow\"},\"size\":{\"value\":12},\"x\":{\"field\":\"x\"},\"y\":{\"field\":\"y\"}},\"id\":\"1570\",\"type\":\"Circle\"},{\"attributes\":{},\"id\":\"1564\",\"type\":\"UnionRenderers\"},{\"attributes\":{\"label\":{\"value\":\"Objects\"},\"renderers\":[{\"id\":\"1572\"}]},\"id\":\"1588\",\"type\":\"LegendItem\"},{\"attributes\":{\"tools\":[{\"id\":\"1517\"},{\"id\":\"1518\"},{\"id\":\"1519\"},{\"id\":\"1520\"},{\"id\":\"1521\"},{\"id\":\"1522\"}]},\"id\":\"1524\",\"type\":\"Toolbar\"},{\"attributes\":{},\"id\":\"1542\",\"type\":\"BasicTickFormatter\"},{\"attributes\":{},\"id\":\"1585\",\"type\":\"UnionRenderers\"},{\"attributes\":{},\"id\":\"1565\",\"type\":\"Selection\"},{\"attributes\":{\"source\":{\"id\":\"1531\"}},\"id\":\"1536\",\"type\":\"CDSView\"},{\"attributes\":{\"coordinates\":null,\"data_source\":{\"id\":\"1531\"},\"glyph\":{\"id\":\"1532\"},\"group\":null,\"hover_glyph\":null,\"muted_glyph\":{\"id\":\"1534\"},\"nonselection_glyph\":{\"id\":\"1533\"},\"view\":{\"id\":\"1536\"}},\"id\":\"1535\",\"type\":\"GlyphRenderer\"},{\"attributes\":{},\"id\":\"1501\",\"type\":\"DataRange1d\"},{\"attributes\":{},\"id\":\"1543\",\"type\":\"AllLabels\"},{\"attributes\":{},\"id\":\"1503\",\"type\":\"DataRange1d\"},{\"attributes\":{\"label\":{\"value\":\"Temp.\"},\"renderers\":[{\"id\":\"1535\"}]},\"id\":\"1548\",\"type\":\"LegendItem\"},{\"attributes\":{\"fill_color\":{\"value\":\"yellow\"},\"hatch_color\":{\"value\":\"yellow\"},\"line_color\":{\"value\":\"yellow\"},\"size\":{\"value\":12},\"x\":{\"field\":\"x\"},\"y\":{\"field\":\"y\"}},\"id\":\"1569\",\"type\":\"Circle\"},{\"attributes\":{},\"id\":\"1507\",\"type\":\"LinearScale\"},{\"attributes\":{\"coordinates\":null,\"group\":null,\"text\":\"Multiple glyphs example\"},\"id\":\"1499\",\"type\":\"Title\"},{\"attributes\":{\"overlay\":{\"id\":\"1523\"}},\"id\":\"1519\",\"type\":\"BoxZoomTool\"},{\"attributes\":{},\"id\":\"1510\",\"type\":\"BasicTicker\"},{\"attributes\":{},\"id\":\"1517\",\"type\":\"PanTool\"},{\"attributes\":{\"axis\":{\"id\":\"1509\"},\"coordinates\":null,\"group\":null,\"ticker\":null},\"id\":\"1512\",\"type\":\"Grid\"},{\"attributes\":{},\"id\":\"1522\",\"type\":\"HelpTool\"},{\"attributes\":{},\"id\":\"1539\",\"type\":\"BasicTickFormatter\"},{\"attributes\":{},\"id\":\"1514\",\"type\":\"BasicTicker\"},{\"attributes\":{\"axis\":{\"id\":\"1513\"},\"coordinates\":null,\"dimension\":1,\"group\":null,\"ticker\":null},\"id\":\"1516\",\"type\":\"Grid\"},{\"attributes\":{\"axis_label\":\"y\",\"coordinates\":null,\"formatter\":{\"id\":\"1539\"},\"group\":null,\"major_label_policy\":{\"id\":\"1540\"},\"ticker\":{\"id\":\"1514\"}},\"id\":\"1513\",\"type\":\"LinearAxis\"},{\"attributes\":{\"data\":{\"top\":[2,3,4,5,6],\"x\":[1,2,3,4,5]},\"selected\":{\"id\":\"1565\"},\"selection_policy\":{\"id\":\"1564\"}},\"id\":\"1549\",\"type\":\"ColumnDataSource\"},{\"attributes\":{},\"id\":\"1518\",\"type\":\"WheelZoomTool\"},{\"attributes\":{\"axis_label\":\"x\",\"coordinates\":null,\"formatter\":{\"id\":\"1542\"},\"group\":null,\"major_label_policy\":{\"id\":\"1543\"},\"ticker\":{\"id\":\"1510\"}},\"id\":\"1509\",\"type\":\"LinearAxis\"},{\"attributes\":{},\"id\":\"1520\",\"type\":\"SaveTool\"},{\"attributes\":{},\"id\":\"1521\",\"type\":\"ResetTool\"}],\"root_ids\":[\"1498\"]},\"title\":\"Bokeh Application\",\"version\":\"2.4.3\"}};\n",
       "  const render_items = [{\"docid\":\"e088d103-2f4b-44a3-8d4e-7905e90448de\",\"root_ids\":[\"1498\"],\"roots\":{\"1498\":\"721185a0-1638-4147-8264-5df4f0e752d5\"}}];\n",
       "  root.Bokeh.embed.embed_items_notebook(docs_json, render_items);\n",
       "  }\n",
       "  if (root.Bokeh !== undefined) {\n",
       "    embed_document(root);\n",
       "  } else {\n",
       "    let attempts = 0;\n",
       "    const timer = setInterval(function(root) {\n",
       "      if (root.Bokeh !== undefined) {\n",
       "        clearInterval(timer);\n",
       "        embed_document(root);\n",
       "      } else {\n",
       "        attempts++;\n",
       "        if (attempts > 100) {\n",
       "          clearInterval(timer);\n",
       "          console.log(\"Bokeh: ERROR: Unable to run BokehJS code because BokehJS library is missing\");\n",
       "        }\n",
       "      }\n",
       "    }, 10, root)\n",
       "  }\n",
       "})(window);"
      ],
      "application/vnd.bokehjs_exec.v0+json": ""
     },
     "metadata": {
      "application/vnd.bokehjs_exec.v0+json": {
       "id": "1498"
      }
     },
     "output_type": "display_data"
    }
   ],
   "source": [
    "x = [1, 2, 3, 4, 5]\n",
    "y1 = [6, 7, 2, 4, 5]\n",
    "y2 = [2, 3, 4, 5, 6]\n",
    "y3 = [4, 5, 5, 7, 2]\n",
    "\n",
    "# create a new plot with a title and axis labels\n",
    "p = figure(title=\"Multiple glyphs example\", x_axis_label=\"x\", y_axis_label=\"y\")\n",
    "\n",
    "# add multiple renderers\n",
    "p.line(x, y1, legend_label=\"Temp.\", color=\"blue\", line_width=2)\n",
    "p.vbar(x=x, top=y2, legend_label=\"Rate\", width=0.5, bottom=0, color=\"red\")\n",
    "p.circle(x, y3, legend_label=\"Objects\", color=\"yellow\", size=12)\n",
    "\n",
    "# show the results\n",
    "show(p)"
   ]
  },
  {
   "cell_type": "markdown",
   "id": "b638465a-59c0-405e-b89c-7bd478c2aa15",
   "metadata": {},
   "source": [
    "Defining properties of new glyphs"
   ]
  },
  {
   "cell_type": "code",
   "execution_count": 7,
   "id": "af791968-ae67-49ea-b0a4-782d2defaf3a",
   "metadata": {},
   "outputs": [
    {
     "data": {
      "text/html": [
       "\n",
       "  <div class=\"bk-root\" id=\"56002d04-3238-4501-9bf7-d7816961029c\" data-root-id=\"1711\"></div>\n"
      ]
     },
     "metadata": {},
     "output_type": "display_data"
    },
    {
     "data": {
      "application/javascript": [
       "(function(root) {\n",
       "  function embed_document(root) {\n",
       "  const docs_json = {\"bf1d086f-fde4-4476-946a-a95c2cf10457\":{\"defs\":[],\"roots\":{\"references\":[{\"attributes\":{\"below\":[{\"id\":\"1722\"}],\"center\":[{\"id\":\"1725\"},{\"id\":\"1729\"},{\"id\":\"1760\"}],\"left\":[{\"id\":\"1726\"}],\"renderers\":[{\"id\":\"1748\"}],\"title\":{\"id\":\"1712\"},\"toolbar\":{\"id\":\"1737\"},\"x_range\":{\"id\":\"1714\"},\"x_scale\":{\"id\":\"1718\"},\"y_range\":{\"id\":\"1716\"},\"y_scale\":{\"id\":\"1720\"}},\"id\":\"1711\",\"subtype\":\"Figure\",\"type\":\"Plot\"},{\"attributes\":{},\"id\":\"1731\",\"type\":\"WheelZoomTool\"},{\"attributes\":{},\"id\":\"1730\",\"type\":\"PanTool\"},{\"attributes\":{},\"id\":\"1735\",\"type\":\"HelpTool\"},{\"attributes\":{},\"id\":\"1727\",\"type\":\"BasicTicker\"},{\"attributes\":{},\"id\":\"1757\",\"type\":\"UnionRenderers\"},{\"attributes\":{\"coordinates\":null,\"data_source\":{\"id\":\"1744\"},\"glyph\":{\"id\":\"1745\"},\"group\":null,\"hover_glyph\":null,\"muted_glyph\":{\"id\":\"1747\"},\"nonselection_glyph\":{\"id\":\"1746\"},\"view\":{\"id\":\"1749\"}},\"id\":\"1748\",\"type\":\"GlyphRenderer\"},{\"attributes\":{\"axis\":{\"id\":\"1726\"},\"coordinates\":null,\"dimension\":1,\"group\":null,\"ticker\":null},\"id\":\"1729\",\"type\":\"Grid\"},{\"attributes\":{\"axis_label\":\"y\",\"coordinates\":null,\"formatter\":{\"id\":\"1752\"},\"group\":null,\"major_label_policy\":{\"id\":\"1753\"},\"ticker\":{\"id\":\"1727\"}},\"id\":\"1726\",\"type\":\"LinearAxis\"},{\"attributes\":{\"coordinates\":null,\"group\":null,\"items\":[{\"id\":\"1761\"}]},\"id\":\"1760\",\"type\":\"Legend\"},{\"attributes\":{},\"id\":\"1718\",\"type\":\"LinearScale\"},{\"attributes\":{\"data\":{\"x\":[1,2,3,4,5],\"y\":[4,5,5,7,2]},\"selected\":{\"id\":\"1758\"},\"selection_policy\":{\"id\":\"1757\"}},\"id\":\"1744\",\"type\":\"ColumnDataSource\"},{\"attributes\":{\"axis\":{\"id\":\"1722\"},\"coordinates\":null,\"group\":null,\"ticker\":null},\"id\":\"1725\",\"type\":\"Grid\"},{\"attributes\":{},\"id\":\"1758\",\"type\":\"Selection\"},{\"attributes\":{\"fill_alpha\":{\"value\":0.5},\"fill_color\":{\"value\":\"red\"},\"line_color\":{\"value\":\"blue\"},\"size\":{\"value\":80},\"x\":{\"field\":\"x\"},\"y\":{\"field\":\"y\"}},\"id\":\"1745\",\"type\":\"Circle\"},{\"attributes\":{\"label\":{\"value\":\"Objects\"},\"renderers\":[{\"id\":\"1748\"}]},\"id\":\"1761\",\"type\":\"LegendItem\"},{\"attributes\":{\"fill_alpha\":{\"value\":0.1},\"fill_color\":{\"value\":\"red\"},\"hatch_alpha\":{\"value\":0.1},\"line_alpha\":{\"value\":0.1},\"line_color\":{\"value\":\"blue\"},\"size\":{\"value\":80},\"x\":{\"field\":\"x\"},\"y\":{\"field\":\"y\"}},\"id\":\"1746\",\"type\":\"Circle\"},{\"attributes\":{\"axis_label\":\"x\",\"coordinates\":null,\"formatter\":{\"id\":\"1755\"},\"group\":null,\"major_label_policy\":{\"id\":\"1756\"},\"ticker\":{\"id\":\"1723\"}},\"id\":\"1722\",\"type\":\"LinearAxis\"},{\"attributes\":{\"tools\":[{\"id\":\"1730\"},{\"id\":\"1731\"},{\"id\":\"1732\"},{\"id\":\"1733\"},{\"id\":\"1734\"},{\"id\":\"1735\"}]},\"id\":\"1737\",\"type\":\"Toolbar\"},{\"attributes\":{},\"id\":\"1752\",\"type\":\"BasicTickFormatter\"},{\"attributes\":{},\"id\":\"1753\",\"type\":\"AllLabels\"},{\"attributes\":{\"coordinates\":null,\"group\":null,\"text\":\"Glyphs properties example\"},\"id\":\"1712\",\"type\":\"Title\"},{\"attributes\":{},\"id\":\"1733\",\"type\":\"SaveTool\"},{\"attributes\":{\"fill_alpha\":{\"value\":0.2},\"fill_color\":{\"value\":\"red\"},\"hatch_alpha\":{\"value\":0.2},\"line_alpha\":{\"value\":0.2},\"line_color\":{\"value\":\"blue\"},\"size\":{\"value\":80},\"x\":{\"field\":\"x\"},\"y\":{\"field\":\"y\"}},\"id\":\"1747\",\"type\":\"Circle\"},{\"attributes\":{},\"id\":\"1755\",\"type\":\"BasicTickFormatter\"},{\"attributes\":{\"source\":{\"id\":\"1744\"}},\"id\":\"1749\",\"type\":\"CDSView\"},{\"attributes\":{\"bottom_units\":\"screen\",\"coordinates\":null,\"fill_alpha\":0.5,\"fill_color\":\"lightgrey\",\"group\":null,\"left_units\":\"screen\",\"level\":\"overlay\",\"line_alpha\":1.0,\"line_color\":\"black\",\"line_dash\":[4,4],\"line_width\":2,\"right_units\":\"screen\",\"syncable\":false,\"top_units\":\"screen\"},\"id\":\"1736\",\"type\":\"BoxAnnotation\"},{\"attributes\":{},\"id\":\"1716\",\"type\":\"DataRange1d\"},{\"attributes\":{},\"id\":\"1756\",\"type\":\"AllLabels\"},{\"attributes\":{},\"id\":\"1714\",\"type\":\"DataRange1d\"},{\"attributes\":{},\"id\":\"1734\",\"type\":\"ResetTool\"},{\"attributes\":{},\"id\":\"1720\",\"type\":\"LinearScale\"},{\"attributes\":{},\"id\":\"1723\",\"type\":\"BasicTicker\"},{\"attributes\":{\"overlay\":{\"id\":\"1736\"}},\"id\":\"1732\",\"type\":\"BoxZoomTool\"}],\"root_ids\":[\"1711\"]},\"title\":\"Bokeh Application\",\"version\":\"2.4.3\"}};\n",
       "  const render_items = [{\"docid\":\"bf1d086f-fde4-4476-946a-a95c2cf10457\",\"root_ids\":[\"1711\"],\"roots\":{\"1711\":\"56002d04-3238-4501-9bf7-d7816961029c\"}}];\n",
       "  root.Bokeh.embed.embed_items_notebook(docs_json, render_items);\n",
       "  }\n",
       "  if (root.Bokeh !== undefined) {\n",
       "    embed_document(root);\n",
       "  } else {\n",
       "    let attempts = 0;\n",
       "    const timer = setInterval(function(root) {\n",
       "      if (root.Bokeh !== undefined) {\n",
       "        clearInterval(timer);\n",
       "        embed_document(root);\n",
       "      } else {\n",
       "        attempts++;\n",
       "        if (attempts > 100) {\n",
       "          clearInterval(timer);\n",
       "          console.log(\"Bokeh: ERROR: Unable to run BokehJS code because BokehJS library is missing\");\n",
       "        }\n",
       "      }\n",
       "    }, 10, root)\n",
       "  }\n",
       "})(window);"
      ],
      "application/vnd.bokehjs_exec.v0+json": ""
     },
     "metadata": {
      "application/vnd.bokehjs_exec.v0+json": {
       "id": "1711"
      }
     },
     "output_type": "display_data"
    }
   ],
   "source": [
    "x = [1, 2, 3, 4, 5]\n",
    "y = [4, 5, 5, 7, 2]\n",
    "\n",
    "# create a new plot with a title and axis labels\n",
    "p = figure(title=\"Glyphs properties example\", x_axis_label=\"x\", y_axis_label=\"y\")\n",
    "\n",
    "# add circle renderer with additional arguments\n",
    "p.circle(\n",
    "    x,\n",
    "    y,\n",
    "    legend_label=\"Objects\",\n",
    "    fill_color=\"red\",\n",
    "    fill_alpha=0.5,\n",
    "    line_color=\"blue\",\n",
    "    size=80,\n",
    ")\n",
    "\n",
    "# show the results\n",
    "show(p)"
   ]
  },
  {
   "cell_type": "markdown",
   "id": "6406dd33-47e9-4b18-a3c8-6a65fdb7715a",
   "metadata": {},
   "source": [
    "Altering properties of existing glyphs"
   ]
  },
  {
   "cell_type": "code",
   "execution_count": 8,
   "id": "f660a619-998a-4e95-b7fd-d55cfd62f4eb",
   "metadata": {},
   "outputs": [
    {
     "data": {
      "text/html": [
       "\n",
       "  <div class=\"bk-root\" id=\"304ac245-32c0-46a5-bb7c-ca5effdf61d5\" data-root-id=\"1874\"></div>\n"
      ]
     },
     "metadata": {},
     "output_type": "display_data"
    },
    {
     "data": {
      "application/javascript": [
       "(function(root) {\n",
       "  function embed_document(root) {\n",
       "  const docs_json = {\"08a33748-04cf-4c40-ab83-a96a70c6d6fc\":{\"defs\":[],\"roots\":{\"references\":[{\"attributes\":{\"below\":[{\"id\":\"1885\"}],\"center\":[{\"id\":\"1888\"},{\"id\":\"1892\"},{\"id\":\"1923\"}],\"left\":[{\"id\":\"1889\"}],\"renderers\":[{\"id\":\"1911\"}],\"title\":{\"id\":\"1875\"},\"toolbar\":{\"id\":\"1900\"},\"x_range\":{\"id\":\"1877\"},\"x_scale\":{\"id\":\"1881\"},\"y_range\":{\"id\":\"1879\"},\"y_scale\":{\"id\":\"1883\"}},\"id\":\"1874\",\"subtype\":\"Figure\",\"type\":\"Plot\"},{\"attributes\":{\"fill_alpha\":{\"value\":0.5},\"fill_color\":{\"value\":\"blue\"},\"line_color\":{\"value\":\"blue\"},\"size\":{\"value\":80},\"x\":{\"field\":\"x\"},\"y\":{\"field\":\"y\"}},\"id\":\"1908\",\"type\":\"Circle\"},{\"attributes\":{\"fill_alpha\":{\"value\":0.2},\"fill_color\":{\"value\":\"red\"},\"hatch_alpha\":{\"value\":0.2},\"line_alpha\":{\"value\":0.2},\"line_color\":{\"value\":\"blue\"},\"size\":{\"value\":80},\"x\":{\"field\":\"x\"},\"y\":{\"field\":\"y\"}},\"id\":\"1910\",\"type\":\"Circle\"},{\"attributes\":{},\"id\":\"1877\",\"type\":\"DataRange1d\"},{\"attributes\":{},\"id\":\"1921\",\"type\":\"Selection\"},{\"attributes\":{},\"id\":\"1919\",\"type\":\"AllLabels\"},{\"attributes\":{\"axis\":{\"id\":\"1889\"},\"coordinates\":null,\"dimension\":1,\"group\":null,\"ticker\":null},\"id\":\"1892\",\"type\":\"Grid\"},{\"attributes\":{\"fill_alpha\":{\"value\":0.1},\"fill_color\":{\"value\":\"red\"},\"hatch_alpha\":{\"value\":0.1},\"line_alpha\":{\"value\":0.1},\"line_color\":{\"value\":\"blue\"},\"size\":{\"value\":80},\"x\":{\"field\":\"x\"},\"y\":{\"field\":\"y\"}},\"id\":\"1909\",\"type\":\"Circle\"},{\"attributes\":{\"coordinates\":null,\"group\":null,\"items\":[{\"id\":\"1924\"}]},\"id\":\"1923\",\"type\":\"Legend\"},{\"attributes\":{},\"id\":\"1879\",\"type\":\"DataRange1d\"},{\"attributes\":{},\"id\":\"1883\",\"type\":\"LinearScale\"},{\"attributes\":{\"data\":{\"x\":[1,2,3,4,5],\"y\":[4,5,5,7,2]},\"selected\":{\"id\":\"1921\"},\"selection_policy\":{\"id\":\"1920\"}},\"id\":\"1907\",\"type\":\"ColumnDataSource\"},{\"attributes\":{},\"id\":\"1893\",\"type\":\"PanTool\"},{\"attributes\":{},\"id\":\"1920\",\"type\":\"UnionRenderers\"},{\"attributes\":{},\"id\":\"1897\",\"type\":\"ResetTool\"},{\"attributes\":{},\"id\":\"1881\",\"type\":\"LinearScale\"},{\"attributes\":{\"coordinates\":null,\"group\":null,\"text\":\"Glyphs properties example\"},\"id\":\"1875\",\"type\":\"Title\"},{\"attributes\":{\"source\":{\"id\":\"1907\"}},\"id\":\"1912\",\"type\":\"CDSView\"},{\"attributes\":{\"coordinates\":null,\"data_source\":{\"id\":\"1907\"},\"glyph\":{\"id\":\"1908\"},\"group\":null,\"hover_glyph\":null,\"muted_glyph\":{\"id\":\"1910\"},\"nonselection_glyph\":{\"id\":\"1909\"},\"view\":{\"id\":\"1912\"}},\"id\":\"1911\",\"type\":\"GlyphRenderer\"},{\"attributes\":{\"label\":{\"value\":\"Objects\"},\"renderers\":[{\"id\":\"1911\"}]},\"id\":\"1924\",\"type\":\"LegendItem\"},{\"attributes\":{\"axis\":{\"id\":\"1885\"},\"coordinates\":null,\"group\":null,\"ticker\":null},\"id\":\"1888\",\"type\":\"Grid\"},{\"attributes\":{},\"id\":\"1890\",\"type\":\"BasicTicker\"},{\"attributes\":{\"overlay\":{\"id\":\"1899\"}},\"id\":\"1895\",\"type\":\"BoxZoomTool\"},{\"attributes\":{\"axis_label\":\"y\",\"coordinates\":null,\"formatter\":{\"id\":\"1915\"},\"group\":null,\"major_label_policy\":{\"id\":\"1916\"},\"ticker\":{\"id\":\"1890\"}},\"id\":\"1889\",\"type\":\"LinearAxis\"},{\"attributes\":{\"bottom_units\":\"screen\",\"coordinates\":null,\"fill_alpha\":0.5,\"fill_color\":\"lightgrey\",\"group\":null,\"left_units\":\"screen\",\"level\":\"overlay\",\"line_alpha\":1.0,\"line_color\":\"black\",\"line_dash\":[4,4],\"line_width\":2,\"right_units\":\"screen\",\"syncable\":false,\"top_units\":\"screen\"},\"id\":\"1899\",\"type\":\"BoxAnnotation\"},{\"attributes\":{},\"id\":\"1886\",\"type\":\"BasicTicker\"},{\"attributes\":{},\"id\":\"1896\",\"type\":\"SaveTool\"},{\"attributes\":{},\"id\":\"1894\",\"type\":\"WheelZoomTool\"},{\"attributes\":{},\"id\":\"1915\",\"type\":\"BasicTickFormatter\"},{\"attributes\":{\"axis_label\":\"x\",\"coordinates\":null,\"formatter\":{\"id\":\"1918\"},\"group\":null,\"major_label_policy\":{\"id\":\"1919\"},\"ticker\":{\"id\":\"1886\"}},\"id\":\"1885\",\"type\":\"LinearAxis\"},{\"attributes\":{},\"id\":\"1916\",\"type\":\"AllLabels\"},{\"attributes\":{\"tools\":[{\"id\":\"1893\"},{\"id\":\"1894\"},{\"id\":\"1895\"},{\"id\":\"1896\"},{\"id\":\"1897\"},{\"id\":\"1898\"}]},\"id\":\"1900\",\"type\":\"Toolbar\"},{\"attributes\":{},\"id\":\"1898\",\"type\":\"HelpTool\"},{\"attributes\":{},\"id\":\"1918\",\"type\":\"BasicTickFormatter\"}],\"root_ids\":[\"1874\"]},\"title\":\"Bokeh Application\",\"version\":\"2.4.3\"}};\n",
       "  const render_items = [{\"docid\":\"08a33748-04cf-4c40-ab83-a96a70c6d6fc\",\"root_ids\":[\"1874\"],\"roots\":{\"1874\":\"304ac245-32c0-46a5-bb7c-ca5effdf61d5\"}}];\n",
       "  root.Bokeh.embed.embed_items_notebook(docs_json, render_items);\n",
       "  }\n",
       "  if (root.Bokeh !== undefined) {\n",
       "    embed_document(root);\n",
       "  } else {\n",
       "    let attempts = 0;\n",
       "    const timer = setInterval(function(root) {\n",
       "      if (root.Bokeh !== undefined) {\n",
       "        clearInterval(timer);\n",
       "        embed_document(root);\n",
       "      } else {\n",
       "        attempts++;\n",
       "        if (attempts > 100) {\n",
       "          clearInterval(timer);\n",
       "          console.log(\"Bokeh: ERROR: Unable to run BokehJS code because BokehJS library is missing\");\n",
       "        }\n",
       "      }\n",
       "    }, 10, root)\n",
       "  }\n",
       "})(window);"
      ],
      "application/vnd.bokehjs_exec.v0+json": ""
     },
     "metadata": {
      "application/vnd.bokehjs_exec.v0+json": {
       "id": "1874"
      }
     },
     "output_type": "display_data"
    }
   ],
   "source": [
    "x = [1, 2, 3, 4, 5]\n",
    "y = [4, 5, 5, 7, 2]\n",
    "\n",
    "# create a new plot with a title and axis labels\n",
    "p = figure(title=\"Glyphs properties example\", x_axis_label=\"x\", y_axis_label=\"y\")\n",
    "\n",
    "# add circle renderer with additional arguments\n",
    "circle = p.circle(\n",
    "    x,\n",
    "    y,\n",
    "    legend_label=\"Objects\",\n",
    "    fill_color=\"red\",\n",
    "    fill_alpha=0.5,\n",
    "    line_color=\"blue\",\n",
    "    size=80,\n",
    ")\n",
    "\n",
    "# change color of previously created object's glyph\n",
    "glyph = circle.glyph\n",
    "glyph.fill_color = \"blue\"\n",
    "\n",
    "# show the results\n",
    "show(p)"
   ]
  },
  {
   "cell_type": "markdown",
   "id": "cb33a7ec-6dcf-4be9-9795-3f6975ed3c78",
   "metadata": {},
   "source": [
    "Adding and styling a legend"
   ]
  },
  {
   "cell_type": "code",
   "execution_count": 9,
   "id": "d641cb1f-20dd-48f6-9249-a15677a0a48f",
   "metadata": {},
   "outputs": [
    {
     "data": {
      "text/html": [
       "\n",
       "  <div class=\"bk-root\" id=\"de2daa9a-cae4-4da2-846e-0dedc350504a\" data-root-id=\"2047\"></div>\n"
      ]
     },
     "metadata": {},
     "output_type": "display_data"
    },
    {
     "data": {
      "application/javascript": [
       "(function(root) {\n",
       "  function embed_document(root) {\n",
       "  const docs_json = {\"68bd4a58-c4ba-46b3-a0f2-f1db5ee6d5ff\":{\"defs\":[],\"roots\":{\"references\":[{\"attributes\":{\"below\":[{\"id\":\"2058\"}],\"center\":[{\"id\":\"2061\"},{\"id\":\"2065\"},{\"id\":\"2096\"}],\"left\":[{\"id\":\"2062\"}],\"renderers\":[{\"id\":\"2084\"},{\"id\":\"2102\"}],\"title\":{\"id\":\"2048\"},\"toolbar\":{\"id\":\"2073\"},\"x_range\":{\"id\":\"2050\"},\"x_scale\":{\"id\":\"2054\"},\"y_range\":{\"id\":\"2052\"},\"y_scale\":{\"id\":\"2056\"}},\"id\":\"2047\",\"subtype\":\"Figure\",\"type\":\"Plot\"},{\"attributes\":{},\"id\":\"2114\",\"type\":\"Selection\"},{\"attributes\":{\"bottom_units\":\"screen\",\"coordinates\":null,\"fill_alpha\":0.5,\"fill_color\":\"lightgrey\",\"group\":null,\"left_units\":\"screen\",\"level\":\"overlay\",\"line_alpha\":1.0,\"line_color\":\"black\",\"line_dash\":[4,4],\"line_width\":2,\"right_units\":\"screen\",\"syncable\":false,\"top_units\":\"screen\"},\"id\":\"2072\",\"type\":\"BoxAnnotation\"},{\"attributes\":{\"tools\":[{\"id\":\"2066\"},{\"id\":\"2067\"},{\"id\":\"2068\"},{\"id\":\"2069\"},{\"id\":\"2070\"},{\"id\":\"2071\"}]},\"id\":\"2073\",\"type\":\"Toolbar\"},{\"attributes\":{\"coordinates\":null,\"data_source\":{\"id\":\"2098\"},\"glyph\":{\"id\":\"2099\"},\"group\":null,\"hover_glyph\":null,\"muted_glyph\":{\"id\":\"2101\"},\"nonselection_glyph\":{\"id\":\"2100\"},\"view\":{\"id\":\"2103\"}},\"id\":\"2102\",\"type\":\"GlyphRenderer\"},{\"attributes\":{},\"id\":\"2093\",\"type\":\"UnionRenderers\"},{\"attributes\":{},\"id\":\"2094\",\"type\":\"Selection\"},{\"attributes\":{\"fill_alpha\":{\"value\":0.1},\"fill_color\":{\"value\":\"red\"},\"hatch_alpha\":{\"value\":0.1},\"line_alpha\":{\"value\":0.1},\"line_color\":{\"value\":\"blue\"},\"size\":{\"value\":80},\"x\":{\"field\":\"x\"},\"y\":{\"field\":\"y\"}},\"id\":\"2100\",\"type\":\"Circle\"},{\"attributes\":{\"source\":{\"id\":\"2098\"}},\"id\":\"2103\",\"type\":\"CDSView\"},{\"attributes\":{},\"id\":\"2092\",\"type\":\"AllLabels\"},{\"attributes\":{\"label\":{\"value\":\"Temp.\"},\"renderers\":[{\"id\":\"2084\"}]},\"id\":\"2097\",\"type\":\"LegendItem\"},{\"attributes\":{},\"id\":\"2070\",\"type\":\"ResetTool\"},{\"attributes\":{},\"id\":\"2069\",\"type\":\"SaveTool\"},{\"attributes\":{},\"id\":\"2113\",\"type\":\"UnionRenderers\"},{\"attributes\":{\"source\":{\"id\":\"2080\"}},\"id\":\"2085\",\"type\":\"CDSView\"},{\"attributes\":{\"overlay\":{\"id\":\"2072\"}},\"id\":\"2068\",\"type\":\"BoxZoomTool\"},{\"attributes\":{},\"id\":\"2066\",\"type\":\"PanTool\"},{\"attributes\":{},\"id\":\"2067\",\"type\":\"WheelZoomTool\"},{\"attributes\":{},\"id\":\"2063\",\"type\":\"BasicTicker\"},{\"attributes\":{},\"id\":\"2089\",\"type\":\"AllLabels\"},{\"attributes\":{\"fill_alpha\":{\"value\":0.2},\"fill_color\":{\"value\":\"red\"},\"hatch_alpha\":{\"value\":0.2},\"line_alpha\":{\"value\":0.2},\"line_color\":{\"value\":\"blue\"},\"size\":{\"value\":80},\"x\":{\"field\":\"x\"},\"y\":{\"field\":\"y\"}},\"id\":\"2101\",\"type\":\"Circle\"},{\"attributes\":{},\"id\":\"2091\",\"type\":\"BasicTickFormatter\"},{\"attributes\":{\"coordinates\":null,\"data_source\":{\"id\":\"2080\"},\"glyph\":{\"id\":\"2081\"},\"group\":null,\"hover_glyph\":null,\"muted_glyph\":{\"id\":\"2083\"},\"nonselection_glyph\":{\"id\":\"2082\"},\"view\":{\"id\":\"2085\"}},\"id\":\"2084\",\"type\":\"GlyphRenderer\"},{\"attributes\":{\"line_alpha\":0.2,\"line_color\":\"blue\",\"line_width\":2,\"x\":{\"field\":\"x\"},\"y\":{\"field\":\"y\"}},\"id\":\"2083\",\"type\":\"Line\"},{\"attributes\":{},\"id\":\"2059\",\"type\":\"BasicTicker\"},{\"attributes\":{\"axis\":{\"id\":\"2058\"},\"coordinates\":null,\"group\":null,\"ticker\":null},\"id\":\"2061\",\"type\":\"Grid\"},{\"attributes\":{},\"id\":\"2052\",\"type\":\"DataRange1d\"},{\"attributes\":{\"coordinates\":null,\"formatter\":{\"id\":\"2088\"},\"group\":null,\"major_label_policy\":{\"id\":\"2089\"},\"ticker\":{\"id\":\"2063\"}},\"id\":\"2062\",\"type\":\"LinearAxis\"},{\"attributes\":{},\"id\":\"2088\",\"type\":\"BasicTickFormatter\"},{\"attributes\":{\"coordinates\":null,\"formatter\":{\"id\":\"2091\"},\"group\":null,\"major_label_policy\":{\"id\":\"2092\"},\"ticker\":{\"id\":\"2059\"}},\"id\":\"2058\",\"type\":\"LinearAxis\"},{\"attributes\":{\"line_color\":\"blue\",\"line_width\":2,\"x\":{\"field\":\"x\"},\"y\":{\"field\":\"y\"}},\"id\":\"2081\",\"type\":\"Line\"},{\"attributes\":{\"label\":{\"value\":\"Objects\"},\"renderers\":[{\"id\":\"2102\"}]},\"id\":\"2116\",\"type\":\"LegendItem\"},{\"attributes\":{\"data\":{\"x\":[1,2,3,4,5],\"y\":[2,3,4,5,6]},\"selected\":{\"id\":\"2114\"},\"selection_policy\":{\"id\":\"2113\"}},\"id\":\"2098\",\"type\":\"ColumnDataSource\"},{\"attributes\":{},\"id\":\"2071\",\"type\":\"HelpTool\"},{\"attributes\":{\"data\":{\"x\":[1,2,3,4,5],\"y\":[4,5,5,7,2]},\"selected\":{\"id\":\"2094\"},\"selection_policy\":{\"id\":\"2093\"}},\"id\":\"2080\",\"type\":\"ColumnDataSource\"},{\"attributes\":{\"fill_alpha\":{\"value\":0.5},\"fill_color\":{\"value\":\"red\"},\"line_color\":{\"value\":\"blue\"},\"size\":{\"value\":80},\"x\":{\"field\":\"x\"},\"y\":{\"field\":\"y\"}},\"id\":\"2099\",\"type\":\"Circle\"},{\"attributes\":{},\"id\":\"2050\",\"type\":\"DataRange1d\"},{\"attributes\":{\"background_fill_alpha\":0.2,\"background_fill_color\":\"navy\",\"border_line_alpha\":0.8,\"border_line_color\":\"navy\",\"border_line_width\":3,\"coordinates\":null,\"group\":null,\"items\":[{\"id\":\"2097\"},{\"id\":\"2116\"}],\"label_text_color\":\"navy\",\"label_text_font\":\"times\",\"label_text_font_style\":\"italic\",\"location\":\"top_left\",\"title\":\"Obervations\"},\"id\":\"2096\",\"type\":\"Legend\"},{\"attributes\":{\"axis\":{\"id\":\"2062\"},\"coordinates\":null,\"dimension\":1,\"group\":null,\"ticker\":null},\"id\":\"2065\",\"type\":\"Grid\"},{\"attributes\":{\"line_alpha\":0.1,\"line_color\":\"blue\",\"line_width\":2,\"x\":{\"field\":\"x\"},\"y\":{\"field\":\"y\"}},\"id\":\"2082\",\"type\":\"Line\"},{\"attributes\":{},\"id\":\"2056\",\"type\":\"LinearScale\"},{\"attributes\":{\"coordinates\":null,\"group\":null,\"text\":\"Legend example\"},\"id\":\"2048\",\"type\":\"Title\"},{\"attributes\":{},\"id\":\"2054\",\"type\":\"LinearScale\"}],\"root_ids\":[\"2047\"]},\"title\":\"Bokeh Application\",\"version\":\"2.4.3\"}};\n",
       "  const render_items = [{\"docid\":\"68bd4a58-c4ba-46b3-a0f2-f1db5ee6d5ff\",\"root_ids\":[\"2047\"],\"roots\":{\"2047\":\"de2daa9a-cae4-4da2-846e-0dedc350504a\"}}];\n",
       "  root.Bokeh.embed.embed_items_notebook(docs_json, render_items);\n",
       "  }\n",
       "  if (root.Bokeh !== undefined) {\n",
       "    embed_document(root);\n",
       "  } else {\n",
       "    let attempts = 0;\n",
       "    const timer = setInterval(function(root) {\n",
       "      if (root.Bokeh !== undefined) {\n",
       "        clearInterval(timer);\n",
       "        embed_document(root);\n",
       "      } else {\n",
       "        attempts++;\n",
       "        if (attempts > 100) {\n",
       "          clearInterval(timer);\n",
       "          console.log(\"Bokeh: ERROR: Unable to run BokehJS code because BokehJS library is missing\");\n",
       "        }\n",
       "      }\n",
       "    }, 10, root)\n",
       "  }\n",
       "})(window);"
      ],
      "application/vnd.bokehjs_exec.v0+json": ""
     },
     "metadata": {
      "application/vnd.bokehjs_exec.v0+json": {
       "id": "2047"
      }
     },
     "output_type": "display_data"
    }
   ],
   "source": [
    "x = [1, 2, 3, 4, 5]\n",
    "y1 = [4, 5, 5, 7, 2]\n",
    "y2 = [2, 3, 4, 5, 6]\n",
    "\n",
    "# create a new plot\n",
    "p = figure(title=\"Legend example\")\n",
    "\n",
    "# add circle renderer with legend_label arguments\n",
    "line = p.line(x, y1, legend_label=\"Temp.\", line_color=\"blue\", line_width=2)\n",
    "circle = p.circle(\n",
    "    x,\n",
    "    y2,\n",
    "    legend_label=\"Objects\",\n",
    "    fill_color=\"red\",\n",
    "    fill_alpha=0.5,\n",
    "    line_color=\"blue\",\n",
    "    size=80,\n",
    ")\n",
    "\n",
    "# display legend in top left corner (default is top right corner)\n",
    "p.legend.location = \"top_left\"\n",
    "\n",
    "# add a title to your legend\n",
    "p.legend.title = \"Obervations\"\n",
    "\n",
    "# change appearance of legend text\n",
    "p.legend.label_text_font = \"times\"\n",
    "p.legend.label_text_font_style = \"italic\"\n",
    "p.legend.label_text_color = \"navy\"\n",
    "\n",
    "# change border and background of legend\n",
    "p.legend.border_line_width = 3\n",
    "p.legend.border_line_color = \"navy\"\n",
    "p.legend.border_line_alpha = 0.8\n",
    "p.legend.background_fill_color = \"navy\"\n",
    "p.legend.background_fill_alpha = 0.2\n",
    "\n",
    "# show the results\n",
    "show(p)"
   ]
  },
  {
   "cell_type": "markdown",
   "id": "aaa788d8-b8d4-48de-a201-b4e9bc93ba03",
   "metadata": {},
   "source": [
    "Customizing headlines"
   ]
  },
  {
   "cell_type": "code",
   "execution_count": 10,
   "id": "2ebb97af-7a1c-4a72-b685-5a434f582e31",
   "metadata": {},
   "outputs": [
    {
     "data": {
      "text/html": [
       "\n",
       "  <div class=\"bk-root\" id=\"1444f861-2e4d-45a7-891e-eed20e9ed889\" data-root-id=\"2261\"></div>\n"
      ]
     },
     "metadata": {},
     "output_type": "display_data"
    },
    {
     "data": {
      "application/javascript": [
       "(function(root) {\n",
       "  function embed_document(root) {\n",
       "  const docs_json = {\"9e823473-282a-46b8-8937-ff702b6b5937\":{\"defs\":[],\"roots\":{\"references\":[{\"attributes\":{\"below\":[{\"id\":\"2272\"}],\"center\":[{\"id\":\"2275\"},{\"id\":\"2279\"},{\"id\":\"2310\"}],\"left\":[{\"id\":\"2276\"}],\"renderers\":[{\"id\":\"2298\"}],\"title\":{\"id\":\"2262\"},\"title_location\":\"left\",\"toolbar\":{\"id\":\"2287\"},\"x_range\":{\"id\":\"2264\"},\"x_scale\":{\"id\":\"2268\"},\"y_range\":{\"id\":\"2266\"},\"y_scale\":{\"id\":\"2270\"}},\"id\":\"2261\",\"subtype\":\"Figure\",\"type\":\"Plot\"},{\"attributes\":{},\"id\":\"2268\",\"type\":\"LinearScale\"},{\"attributes\":{},\"id\":\"2302\",\"type\":\"BasicTickFormatter\"},{\"attributes\":{},\"id\":\"2277\",\"type\":\"BasicTicker\"},{\"attributes\":{},\"id\":\"2303\",\"type\":\"AllLabels\"},{\"attributes\":{},\"id\":\"2306\",\"type\":\"AllLabels\"},{\"attributes\":{},\"id\":\"2281\",\"type\":\"WheelZoomTool\"},{\"attributes\":{\"line_alpha\":0.2,\"line_color\":\"#1f77b4\",\"line_width\":2,\"x\":{\"field\":\"x\"},\"y\":{\"field\":\"y\"}},\"id\":\"2297\",\"type\":\"Line\"},{\"attributes\":{},\"id\":\"2280\",\"type\":\"PanTool\"},{\"attributes\":{\"overlay\":{\"id\":\"2286\"}},\"id\":\"2282\",\"type\":\"BoxZoomTool\"},{\"attributes\":{},\"id\":\"2283\",\"type\":\"SaveTool\"},{\"attributes\":{\"axis\":{\"id\":\"2276\"},\"coordinates\":null,\"dimension\":1,\"group\":null,\"ticker\":null},\"id\":\"2279\",\"type\":\"Grid\"},{\"attributes\":{\"line_color\":\"#1f77b4\",\"line_width\":2,\"x\":{\"field\":\"x\"},\"y\":{\"field\":\"y\"}},\"id\":\"2295\",\"type\":\"Line\"},{\"attributes\":{},\"id\":\"2284\",\"type\":\"ResetTool\"},{\"attributes\":{},\"id\":\"2264\",\"type\":\"DataRange1d\"},{\"attributes\":{\"tools\":[{\"id\":\"2280\"},{\"id\":\"2281\"},{\"id\":\"2282\"},{\"id\":\"2283\"},{\"id\":\"2284\"},{\"id\":\"2285\"}]},\"id\":\"2287\",\"type\":\"Toolbar\"},{\"attributes\":{\"source\":{\"id\":\"2294\"}},\"id\":\"2299\",\"type\":\"CDSView\"},{\"attributes\":{\"label\":{\"value\":\"Temp.\"},\"renderers\":[{\"id\":\"2298\"}]},\"id\":\"2311\",\"type\":\"LegendItem\"},{\"attributes\":{},\"id\":\"2307\",\"type\":\"UnionRenderers\"},{\"attributes\":{\"data\":{\"x\":[1,2,3,4,5],\"y\":[6,7,2,4,5]},\"selected\":{\"id\":\"2308\"},\"selection_policy\":{\"id\":\"2307\"}},\"id\":\"2294\",\"type\":\"ColumnDataSource\"},{\"attributes\":{\"line_alpha\":0.1,\"line_color\":\"#1f77b4\",\"line_width\":2,\"x\":{\"field\":\"x\"},\"y\":{\"field\":\"y\"}},\"id\":\"2296\",\"type\":\"Line\"},{\"attributes\":{},\"id\":\"2308\",\"type\":\"Selection\"},{\"attributes\":{},\"id\":\"2270\",\"type\":\"LinearScale\"},{\"attributes\":{\"coordinates\":null,\"group\":null,\"items\":[{\"id\":\"2311\"}]},\"id\":\"2310\",\"type\":\"Legend\"},{\"attributes\":{\"bottom_units\":\"screen\",\"coordinates\":null,\"fill_alpha\":0.5,\"fill_color\":\"lightgrey\",\"group\":null,\"left_units\":\"screen\",\"level\":\"overlay\",\"line_alpha\":1.0,\"line_color\":\"black\",\"line_dash\":[4,4],\"line_width\":2,\"right_units\":\"screen\",\"syncable\":false,\"top_units\":\"screen\"},\"id\":\"2286\",\"type\":\"BoxAnnotation\"},{\"attributes\":{\"align\":\"right\",\"background_fill_color\":\"darkgrey\",\"coordinates\":null,\"group\":null,\"text\":\"Changing headline text example\",\"text_color\":\"white\",\"text_font_size\":\"25px\"},\"id\":\"2262\",\"type\":\"Title\"},{\"attributes\":{\"coordinates\":null,\"formatter\":{\"id\":\"2302\"},\"group\":null,\"major_label_policy\":{\"id\":\"2303\"},\"ticker\":{\"id\":\"2277\"}},\"id\":\"2276\",\"type\":\"LinearAxis\"},{\"attributes\":{\"coordinates\":null,\"data_source\":{\"id\":\"2294\"},\"glyph\":{\"id\":\"2295\"},\"group\":null,\"hover_glyph\":null,\"muted_glyph\":{\"id\":\"2297\"},\"nonselection_glyph\":{\"id\":\"2296\"},\"view\":{\"id\":\"2299\"}},\"id\":\"2298\",\"type\":\"GlyphRenderer\"},{\"attributes\":{},\"id\":\"2266\",\"type\":\"DataRange1d\"},{\"attributes\":{},\"id\":\"2273\",\"type\":\"BasicTicker\"},{\"attributes\":{\"axis\":{\"id\":\"2272\"},\"coordinates\":null,\"group\":null,\"ticker\":null},\"id\":\"2275\",\"type\":\"Grid\"},{\"attributes\":{},\"id\":\"2285\",\"type\":\"HelpTool\"},{\"attributes\":{\"coordinates\":null,\"formatter\":{\"id\":\"2305\"},\"group\":null,\"major_label_policy\":{\"id\":\"2306\"},\"ticker\":{\"id\":\"2273\"}},\"id\":\"2272\",\"type\":\"LinearAxis\"},{\"attributes\":{},\"id\":\"2305\",\"type\":\"BasicTickFormatter\"}],\"root_ids\":[\"2261\"]},\"title\":\"Bokeh Application\",\"version\":\"2.4.3\"}};\n",
       "  const render_items = [{\"docid\":\"9e823473-282a-46b8-8937-ff702b6b5937\",\"root_ids\":[\"2261\"],\"roots\":{\"2261\":\"1444f861-2e4d-45a7-891e-eed20e9ed889\"}}];\n",
       "  root.Bokeh.embed.embed_items_notebook(docs_json, render_items);\n",
       "  }\n",
       "  if (root.Bokeh !== undefined) {\n",
       "    embed_document(root);\n",
       "  } else {\n",
       "    let attempts = 0;\n",
       "    const timer = setInterval(function(root) {\n",
       "      if (root.Bokeh !== undefined) {\n",
       "        clearInterval(timer);\n",
       "        embed_document(root);\n",
       "      } else {\n",
       "        attempts++;\n",
       "        if (attempts > 100) {\n",
       "          clearInterval(timer);\n",
       "          console.log(\"Bokeh: ERROR: Unable to run BokehJS code because BokehJS library is missing\");\n",
       "        }\n",
       "      }\n",
       "    }, 10, root)\n",
       "  }\n",
       "})(window);"
      ],
      "application/vnd.bokehjs_exec.v0+json": ""
     },
     "metadata": {
      "application/vnd.bokehjs_exec.v0+json": {
       "id": "2261"
      }
     },
     "output_type": "display_data"
    }
   ],
   "source": [
    "x = [1, 2, 3, 4, 5]\n",
    "y = [6, 7, 2, 4, 5]\n",
    "\n",
    "# create new plot\n",
    "p = figure(title=\"Headline example\")\n",
    "\n",
    "# add line renderer with a legend\n",
    "p.line(x, y, legend_label=\"Temp.\", line_width=2)\n",
    "\n",
    "# change headline location to the left\n",
    "p.title_location = \"left\"\n",
    "\n",
    "# change headline text\n",
    "p.title.text = \"Changing headline text example\"\n",
    "\n",
    "# style the headline\n",
    "p.title.text_font_size = \"25px\"\n",
    "p.title.align = \"right\"\n",
    "p.title.background_fill_color = \"darkgrey\"\n",
    "p.title.text_color = \"white\"\n",
    "\n",
    "# show the results\n",
    "show(p)"
   ]
  },
  {
   "cell_type": "markdown",
   "id": "a4ae8336-9c9d-46df-a911-3e7715838c80",
   "metadata": {},
   "source": [
    "Using annotations"
   ]
  },
  {
   "cell_type": "code",
   "execution_count": 11,
   "id": "d7d30503-06a2-4d22-8e12-9709529437b1",
   "metadata": {},
   "outputs": [
    {
     "data": {
      "text/html": [
       "\n",
       "  <div class=\"bk-root\" id=\"f327c77a-a2d9-4cb1-9777-486ce6f38e79\" data-root-id=\"2456\"></div>\n"
      ]
     },
     "metadata": {},
     "output_type": "display_data"
    },
    {
     "data": {
      "application/javascript": [
       "(function(root) {\n",
       "  function embed_document(root) {\n",
       "  const docs_json = {\"c654dd11-1645-4962-86b6-d8482166ab01\":{\"defs\":[],\"roots\":{\"references\":[{\"attributes\":{\"below\":[{\"id\":\"2467\"}],\"center\":[{\"id\":\"2470\"},{\"id\":\"2474\"},{\"id\":\"2495\"},{\"id\":\"2496\"},{\"id\":\"2497\"}],\"left\":[{\"id\":\"2471\"}],\"renderers\":[{\"id\":\"2493\"}],\"title\":{\"id\":\"2457\"},\"toolbar\":{\"id\":\"2482\"},\"x_range\":{\"id\":\"2459\"},\"x_scale\":{\"id\":\"2463\"},\"y_range\":{\"id\":\"2461\"},\"y_scale\":{\"id\":\"2465\"}},\"id\":\"2456\",\"subtype\":\"Figure\",\"type\":\"Plot\"},{\"attributes\":{},\"id\":\"2459\",\"type\":\"DataRange1d\"},{\"attributes\":{\"axis\":{\"id\":\"2471\"},\"coordinates\":null,\"dimension\":1,\"group\":null,\"ticker\":null},\"id\":\"2474\",\"type\":\"Grid\"},{\"attributes\":{\"coordinates\":null,\"formatter\":{\"id\":\"2594\"},\"group\":null,\"major_label_policy\":{\"id\":\"2595\"},\"ticker\":{\"id\":\"2472\"}},\"id\":\"2471\",\"type\":\"LinearAxis\"},{\"attributes\":{\"line_color\":\"#000000\",\"line_width\":2,\"x\":{\"field\":\"x\"},\"y\":{\"field\":\"y\"}},\"id\":\"2490\",\"type\":\"Line\"},{\"attributes\":{},\"id\":\"2598\",\"type\":\"AllLabels\"},{\"attributes\":{\"coordinates\":null,\"fill_alpha\":0.2,\"fill_color\":\"#F0E442\",\"group\":null,\"top\":20},\"id\":\"2495\",\"type\":\"BoxAnnotation\"},{\"attributes\":{},\"id\":\"2478\",\"type\":\"SaveTool\"},{\"attributes\":{\"bottom_units\":\"screen\",\"coordinates\":null,\"fill_alpha\":0.5,\"fill_color\":\"lightgrey\",\"group\":null,\"left_units\":\"screen\",\"level\":\"overlay\",\"line_alpha\":1.0,\"line_color\":\"black\",\"line_dash\":[4,4],\"line_width\":2,\"right_units\":\"screen\",\"syncable\":false,\"top_units\":\"screen\"},\"id\":\"2481\",\"type\":\"BoxAnnotation\"},{\"attributes\":{},\"id\":\"2461\",\"type\":\"DataRange1d\"},{\"attributes\":{},\"id\":\"2600\",\"type\":\"Selection\"},{\"attributes\":{\"data\":{\"x\":[0,1,2,3,4,5,6,7,8,9,10,11,12,13,14,15,16,17,18,19,20,21,22,23,24,25,26,27,28,29,30,31,32,33,34,35,36,37,38,39,40,41,42,43,44,45,46,47,48,49,50],\"y\":[57,70,40,17,90,93,15,60,87,12,30,32,13,22,42,98,55,0,71,29,58,3,94,68,34,5,39,19,76,4,51,79,20,25,26,88,80,77,47,85,64,2,74,7,67,10,18,81,45,65,61]},\"selected\":{\"id\":\"2600\"},\"selection_policy\":{\"id\":\"2599\"}},\"id\":\"2489\",\"type\":\"ColumnDataSource\"},{\"attributes\":{},\"id\":\"2465\",\"type\":\"LinearScale\"},{\"attributes\":{\"coordinates\":null,\"group\":null,\"text\":\"Box annotation example\"},\"id\":\"2457\",\"type\":\"Title\"},{\"attributes\":{\"source\":{\"id\":\"2489\"}},\"id\":\"2494\",\"type\":\"CDSView\"},{\"attributes\":{\"axis\":{\"id\":\"2467\"},\"coordinates\":null,\"group\":null,\"ticker\":null},\"id\":\"2470\",\"type\":\"Grid\"},{\"attributes\":{},\"id\":\"2468\",\"type\":\"BasicTicker\"},{\"attributes\":{},\"id\":\"2480\",\"type\":\"HelpTool\"},{\"attributes\":{\"overlay\":{\"id\":\"2481\"}},\"id\":\"2477\",\"type\":\"BoxZoomTool\"},{\"attributes\":{},\"id\":\"2475\",\"type\":\"PanTool\"},{\"attributes\":{\"bottom\":80,\"coordinates\":null,\"fill_alpha\":0.2,\"fill_color\":\"#F0E442\",\"group\":null},\"id\":\"2497\",\"type\":\"BoxAnnotation\"},{\"attributes\":{\"tools\":[{\"id\":\"2475\"},{\"id\":\"2476\"},{\"id\":\"2477\"},{\"id\":\"2478\"},{\"id\":\"2479\"},{\"id\":\"2480\"}]},\"id\":\"2482\",\"type\":\"Toolbar\"},{\"attributes\":{},\"id\":\"2594\",\"type\":\"BasicTickFormatter\"},{\"attributes\":{\"bottom\":20,\"coordinates\":null,\"fill_alpha\":0.2,\"fill_color\":\"#009E73\",\"group\":null,\"top\":80},\"id\":\"2496\",\"type\":\"BoxAnnotation\"},{\"attributes\":{},\"id\":\"2472\",\"type\":\"BasicTicker\"},{\"attributes\":{},\"id\":\"2476\",\"type\":\"WheelZoomTool\"},{\"attributes\":{},\"id\":\"2599\",\"type\":\"UnionRenderers\"},{\"attributes\":{\"coordinates\":null,\"data_source\":{\"id\":\"2489\"},\"glyph\":{\"id\":\"2490\"},\"group\":null,\"hover_glyph\":null,\"muted_glyph\":{\"id\":\"2492\"},\"nonselection_glyph\":{\"id\":\"2491\"},\"view\":{\"id\":\"2494\"}},\"id\":\"2493\",\"type\":\"GlyphRenderer\"},{\"attributes\":{},\"id\":\"2479\",\"type\":\"ResetTool\"},{\"attributes\":{\"line_alpha\":0.1,\"line_color\":\"#000000\",\"line_width\":2,\"x\":{\"field\":\"x\"},\"y\":{\"field\":\"y\"}},\"id\":\"2491\",\"type\":\"Line\"},{\"attributes\":{},\"id\":\"2595\",\"type\":\"AllLabels\"},{\"attributes\":{\"line_alpha\":0.2,\"line_color\":\"#000000\",\"line_width\":2,\"x\":{\"field\":\"x\"},\"y\":{\"field\":\"y\"}},\"id\":\"2492\",\"type\":\"Line\"},{\"attributes\":{},\"id\":\"2597\",\"type\":\"BasicTickFormatter\"},{\"attributes\":{\"coordinates\":null,\"formatter\":{\"id\":\"2597\"},\"group\":null,\"major_label_policy\":{\"id\":\"2598\"},\"ticker\":{\"id\":\"2468\"}},\"id\":\"2467\",\"type\":\"LinearAxis\"},{\"attributes\":{},\"id\":\"2463\",\"type\":\"LinearScale\"}],\"root_ids\":[\"2456\"]},\"title\":\"Bokeh Application\",\"version\":\"2.4.3\"}};\n",
       "  const render_items = [{\"docid\":\"c654dd11-1645-4962-86b6-d8482166ab01\",\"root_ids\":[\"2456\"],\"roots\":{\"2456\":\"f327c77a-a2d9-4cb1-9777-486ce6f38e79\"}}];\n",
       "  root.Bokeh.embed.embed_items_notebook(docs_json, render_items);\n",
       "  }\n",
       "  if (root.Bokeh !== undefined) {\n",
       "    embed_document(root);\n",
       "  } else {\n",
       "    let attempts = 0;\n",
       "    const timer = setInterval(function(root) {\n",
       "      if (root.Bokeh !== undefined) {\n",
       "        clearInterval(timer);\n",
       "        embed_document(root);\n",
       "      } else {\n",
       "        attempts++;\n",
       "        if (attempts > 100) {\n",
       "          clearInterval(timer);\n",
       "          console.log(\"Bokeh: ERROR: Unable to run BokehJS code because BokehJS library is missing\");\n",
       "        }\n",
       "      }\n",
       "    }, 10, root)\n",
       "  }\n",
       "})(window);"
      ],
      "application/vnd.bokehjs_exec.v0+json": ""
     },
     "metadata": {
      "application/vnd.bokehjs_exec.v0+json": {
       "id": "2456"
      }
     },
     "output_type": "display_data"
    }
   ],
   "source": [
    "import random\n",
    "\n",
    "from bokeh.models import BoxAnnotation\n",
    "from bokeh.plotting import figure, show\n",
    "\n",
    "# generate some data (1-50 for x, random values for y)\n",
    "x = list(range(0, 51))\n",
    "y = random.sample(range(0, 100), 51)\n",
    "\n",
    "# create new plot\n",
    "p = figure(title=\"Box annotation example\")\n",
    "\n",
    "# add line renderer\n",
    "line = p.line(x, y, line_color=\"#000000\", line_width=2)\n",
    "\n",
    "# add box annotations\n",
    "low_box = BoxAnnotation(top=20, fill_alpha=0.2, fill_color=\"#F0E442\")\n",
    "mid_box = BoxAnnotation(bottom=20, top=80, fill_alpha=0.2, fill_color=\"#009E73\")\n",
    "high_box = BoxAnnotation(bottom=80, fill_alpha=0.2, fill_color=\"#F0E442\")\n",
    "\n",
    "# add boxes to existing figure\n",
    "p.add_layout(low_box)\n",
    "p.add_layout(mid_box)\n",
    "p.add_layout(high_box)\n",
    "\n",
    "# show the results\n",
    "show(p)"
   ]
  },
  {
   "cell_type": "markdown",
   "id": "468f910d-291d-401c-8a7d-3ab5cbbe1127",
   "metadata": {},
   "source": [
    "Using themes"
   ]
  },
  {
   "cell_type": "code",
   "execution_count": 12,
   "id": "9a63a1da-9620-491e-b4d3-41b5f2056db8",
   "metadata": {},
   "outputs": [
    {
     "data": {
      "text/html": [
       "\n",
       "  <div class=\"bk-root\" id=\"311794da-cf68-414d-ab68-3aa5de28682a\" data-root-id=\"2652\"></div>\n"
      ]
     },
     "metadata": {},
     "output_type": "display_data"
    },
    {
     "data": {
      "application/javascript": [
       "(function(root) {\n",
       "  function embed_document(root) {\n",
       "  const docs_json = {\"de735e43-1e80-48d0-820e-854c2db66fb6\":{\"defs\":[],\"roots\":{\"references\":[{\"attributes\":{\"background_fill_color\":\"#20262B\",\"below\":[{\"id\":\"2661\"}],\"border_fill_color\":\"#15191C\",\"center\":[{\"id\":\"2664\"},{\"id\":\"2668\"}],\"height\":250,\"left\":[{\"id\":\"2665\"}],\"max_width\":500,\"outline_line_alpha\":0.25,\"outline_line_color\":\"#E0E0E0\",\"renderers\":[{\"id\":\"2687\"}],\"sizing_mode\":\"stretch_width\",\"title\":{\"id\":\"2793\"},\"toolbar\":{\"id\":\"2676\"},\"x_range\":{\"id\":\"2653\"},\"x_scale\":{\"id\":\"2657\"},\"y_range\":{\"id\":\"2655\"},\"y_scale\":{\"id\":\"2659\"}},\"id\":\"2652\",\"subtype\":\"Figure\",\"type\":\"Plot\"},{\"attributes\":{\"source\":{\"id\":\"2683\"}},\"id\":\"2688\",\"type\":\"CDSView\"},{\"attributes\":{},\"id\":\"2796\",\"type\":\"BasicTickFormatter\"},{\"attributes\":{\"tools\":[{\"id\":\"2669\"},{\"id\":\"2670\"},{\"id\":\"2671\"},{\"id\":\"2672\"},{\"id\":\"2673\"},{\"id\":\"2674\"}]},\"id\":\"2676\",\"type\":\"Toolbar\"},{\"attributes\":{\"line_alpha\":0.2,\"line_color\":\"#1f77b4\",\"x\":{\"field\":\"x\"},\"y\":{\"field\":\"y\"}},\"id\":\"2686\",\"type\":\"Line\"},{\"attributes\":{},\"id\":\"2802\",\"type\":\"Selection\"},{\"attributes\":{\"line_alpha\":0.1,\"line_color\":\"#1f77b4\",\"x\":{\"field\":\"x\"},\"y\":{\"field\":\"y\"}},\"id\":\"2685\",\"type\":\"Line\"},{\"attributes\":{\"overlay\":{\"id\":\"2675\"}},\"id\":\"2671\",\"type\":\"BoxZoomTool\"},{\"attributes\":{},\"id\":\"2669\",\"type\":\"PanTool\"},{\"attributes\":{},\"id\":\"2799\",\"type\":\"BasicTickFormatter\"},{\"attributes\":{},\"id\":\"2670\",\"type\":\"WheelZoomTool\"},{\"attributes\":{},\"id\":\"2672\",\"type\":\"SaveTool\"},{\"attributes\":{},\"id\":\"2673\",\"type\":\"ResetTool\"},{\"attributes\":{},\"id\":\"2666\",\"type\":\"BasicTicker\"},{\"attributes\":{},\"id\":\"2659\",\"type\":\"LinearScale\"},{\"attributes\":{\"bottom_units\":\"screen\",\"coordinates\":null,\"fill_alpha\":0.5,\"fill_color\":\"lightgrey\",\"group\":null,\"left_units\":\"screen\",\"level\":\"overlay\",\"line_alpha\":1.0,\"line_color\":\"black\",\"line_dash\":[4,4],\"line_width\":2,\"right_units\":\"screen\",\"syncable\":false,\"top_units\":\"screen\"},\"id\":\"2675\",\"type\":\"BoxAnnotation\"},{\"attributes\":{},\"id\":\"2674\",\"type\":\"HelpTool\"},{\"attributes\":{},\"id\":\"2657\",\"type\":\"LinearScale\"},{\"attributes\":{\"axis\":{\"id\":\"2661\"},\"coordinates\":null,\"grid_line_alpha\":0.25,\"grid_line_color\":\"#E0E0E0\",\"group\":null,\"ticker\":null},\"id\":\"2664\",\"type\":\"Grid\"},{\"attributes\":{\"axis_label_standoff\":10,\"axis_label_text_color\":\"#E0E0E0\",\"axis_label_text_font\":\"Helvetica\",\"axis_label_text_font_size\":\"1.25em\",\"axis_label_text_font_style\":\"normal\",\"axis_line_alpha\":0,\"axis_line_color\":\"#E0E0E0\",\"coordinates\":null,\"formatter\":{\"id\":\"2796\"},\"group\":null,\"major_label_policy\":{\"id\":\"2797\"},\"major_label_text_color\":\"#E0E0E0\",\"major_label_text_font\":\"Helvetica\",\"major_label_text_font_size\":\"1.025em\",\"major_tick_line_alpha\":0,\"major_tick_line_color\":\"#E0E0E0\",\"minor_tick_line_alpha\":0,\"minor_tick_line_color\":\"#E0E0E0\",\"ticker\":{\"id\":\"2666\"}},\"id\":\"2665\",\"type\":\"LinearAxis\"},{\"attributes\":{\"axis_label_standoff\":10,\"axis_label_text_color\":\"#E0E0E0\",\"axis_label_text_font\":\"Helvetica\",\"axis_label_text_font_size\":\"1.25em\",\"axis_label_text_font_style\":\"normal\",\"axis_line_alpha\":0,\"axis_line_color\":\"#E0E0E0\",\"coordinates\":null,\"formatter\":{\"id\":\"2799\"},\"group\":null,\"major_label_policy\":{\"id\":\"2800\"},\"major_label_text_color\":\"#E0E0E0\",\"major_label_text_font\":\"Helvetica\",\"major_label_text_font_size\":\"1.025em\",\"major_tick_line_alpha\":0,\"major_tick_line_color\":\"#E0E0E0\",\"minor_tick_line_alpha\":0,\"minor_tick_line_color\":\"#E0E0E0\",\"ticker\":{\"id\":\"2662\"}},\"id\":\"2661\",\"type\":\"LinearAxis\"},{\"attributes\":{\"axis\":{\"id\":\"2665\"},\"coordinates\":null,\"dimension\":1,\"grid_line_alpha\":0.25,\"grid_line_color\":\"#E0E0E0\",\"group\":null,\"ticker\":null},\"id\":\"2668\",\"type\":\"Grid\"},{\"attributes\":{},\"id\":\"2662\",\"type\":\"BasicTicker\"},{\"attributes\":{},\"id\":\"2800\",\"type\":\"AllLabels\"},{\"attributes\":{},\"id\":\"2653\",\"type\":\"DataRange1d\"},{\"attributes\":{},\"id\":\"2797\",\"type\":\"AllLabels\"},{\"attributes\":{},\"id\":\"2655\",\"type\":\"DataRange1d\"},{\"attributes\":{\"coordinates\":null,\"group\":null,\"text_color\":\"#E0E0E0\",\"text_font\":\"Helvetica\",\"text_font_size\":\"1.15em\"},\"id\":\"2793\",\"type\":\"Title\"},{\"attributes\":{},\"id\":\"2801\",\"type\":\"UnionRenderers\"},{\"attributes\":{\"data\":{\"x\":[1,2,3,4,5],\"y\":[4,5,5,7,2]},\"selected\":{\"id\":\"2802\"},\"selection_policy\":{\"id\":\"2801\"}},\"id\":\"2683\",\"type\":\"ColumnDataSource\"},{\"attributes\":{\"line_color\":\"#1f77b4\",\"x\":{\"field\":\"x\"},\"y\":{\"field\":\"y\"}},\"id\":\"2684\",\"type\":\"Line\"},{\"attributes\":{\"coordinates\":null,\"data_source\":{\"id\":\"2683\"},\"glyph\":{\"id\":\"2684\"},\"group\":null,\"hover_glyph\":null,\"muted_glyph\":{\"id\":\"2686\"},\"nonselection_glyph\":{\"id\":\"2685\"},\"view\":{\"id\":\"2688\"}},\"id\":\"2687\",\"type\":\"GlyphRenderer\"}],\"root_ids\":[\"2652\"]},\"title\":\"Bokeh Application\",\"version\":\"2.4.3\"}};\n",
       "  const render_items = [{\"docid\":\"de735e43-1e80-48d0-820e-854c2db66fb6\",\"root_ids\":[\"2652\"],\"roots\":{\"2652\":\"311794da-cf68-414d-ab68-3aa5de28682a\"}}];\n",
       "  root.Bokeh.embed.embed_items_notebook(docs_json, render_items);\n",
       "  }\n",
       "  if (root.Bokeh !== undefined) {\n",
       "    embed_document(root);\n",
       "  } else {\n",
       "    let attempts = 0;\n",
       "    const timer = setInterval(function(root) {\n",
       "      if (root.Bokeh !== undefined) {\n",
       "        clearInterval(timer);\n",
       "        embed_document(root);\n",
       "      } else {\n",
       "        attempts++;\n",
       "        if (attempts > 100) {\n",
       "          clearInterval(timer);\n",
       "          console.log(\"Bokeh: ERROR: Unable to run BokehJS code because BokehJS library is missing\");\n",
       "        }\n",
       "      }\n",
       "    }, 10, root)\n",
       "  }\n",
       "})(window);"
      ],
      "application/vnd.bokehjs_exec.v0+json": ""
     },
     "metadata": {
      "application/vnd.bokehjs_exec.v0+json": {
       "id": "2652"
      }
     },
     "output_type": "display_data"
    }
   ],
   "source": [
    "from bokeh.io import curdoc\n",
    "from bokeh.plotting import figure, show\n",
    "\n",
    "# prepare some data\n",
    "x = [1, 2, 3, 4, 5]\n",
    "y = [4, 5, 5, 7, 2]\n",
    "\n",
    "# apply theme to current document\n",
    "curdoc().theme = \"dark_minimal\"\n",
    "\n",
    "# create a plot\n",
    "p = figure(sizing_mode=\"stretch_width\", max_width=500, height=250)\n",
    "\n",
    "# add a renderer\n",
    "p.line(x, y)\n",
    "\n",
    "# show the results\n",
    "show(p)"
   ]
  },
  {
   "cell_type": "markdown",
   "id": "45879fc0-14a2-4c92-8b9f-c13501ef3439",
   "metadata": {},
   "source": [
    "Setting width and height"
   ]
  },
  {
   "cell_type": "code",
   "execution_count": 13,
   "id": "74ac1a42-1287-49c9-87e5-60b8d246e2d7",
   "metadata": {},
   "outputs": [
    {
     "data": {
      "text/html": [
       "\n",
       "  <div class=\"bk-root\" id=\"5e70d0d5-21af-4db9-bb25-cea726de4089\" data-root-id=\"2859\"></div>\n"
      ]
     },
     "metadata": {},
     "output_type": "display_data"
    },
    {
     "data": {
      "application/javascript": [
       "(function(root) {\n",
       "  function embed_document(root) {\n",
       "  const docs_json = {\"e85e3892-952d-4ebf-807b-6cb87af8e889\":{\"defs\":[],\"roots\":{\"references\":[{\"attributes\":{\"below\":[{\"id\":\"2870\"}],\"center\":[{\"id\":\"2873\"},{\"id\":\"2877\"}],\"height\":250,\"left\":[{\"id\":\"2874\"}],\"renderers\":[{\"id\":\"2896\"}],\"title\":{\"id\":\"2860\"},\"toolbar\":{\"id\":\"2885\"},\"width\":350,\"x_range\":{\"id\":\"2862\"},\"x_scale\":{\"id\":\"2866\"},\"y_range\":{\"id\":\"2864\"},\"y_scale\":{\"id\":\"2868\"}},\"id\":\"2859\",\"subtype\":\"Figure\",\"type\":\"Plot\"},{\"attributes\":{},\"id\":\"2879\",\"type\":\"WheelZoomTool\"},{\"attributes\":{},\"id\":\"2882\",\"type\":\"ResetTool\"},{\"attributes\":{\"tools\":[{\"id\":\"2878\"},{\"id\":\"2879\"},{\"id\":\"2880\"},{\"id\":\"2881\"},{\"id\":\"2882\"},{\"id\":\"2883\"}]},\"id\":\"2885\",\"type\":\"Toolbar\"},{\"attributes\":{\"source\":{\"id\":\"2892\"}},\"id\":\"2897\",\"type\":\"CDSView\"},{\"attributes\":{},\"id\":\"2881\",\"type\":\"SaveTool\"},{\"attributes\":{\"fill_alpha\":{\"value\":0.2},\"fill_color\":{\"value\":\"red\"},\"hatch_alpha\":{\"value\":0.2},\"line_alpha\":{\"value\":0.2},\"line_color\":{\"value\":\"#1f77b4\"},\"size\":{\"value\":15},\"x\":{\"field\":\"x\"},\"y\":{\"field\":\"y\"}},\"id\":\"2895\",\"type\":\"Circle\"},{\"attributes\":{},\"id\":\"2864\",\"type\":\"DataRange1d\"},{\"attributes\":{\"overlay\":{\"id\":\"2884\"}},\"id\":\"2880\",\"type\":\"BoxZoomTool\"},{\"attributes\":{},\"id\":\"3020\",\"type\":\"UnionRenderers\"},{\"attributes\":{\"data\":{\"x\":[1,2,3,4,5],\"y\":[4,5,5,7,2]},\"selected\":{\"id\":\"3021\"},\"selection_policy\":{\"id\":\"3020\"}},\"id\":\"2892\",\"type\":\"ColumnDataSource\"},{\"attributes\":{},\"id\":\"2878\",\"type\":\"PanTool\"},{\"attributes\":{},\"id\":\"3021\",\"type\":\"Selection\"},{\"attributes\":{\"axis_label\":\"x\",\"axis_label_standoff\":10,\"axis_label_text_color\":\"#5B5B5B\",\"axis_label_text_font\":\"Calibri Light\",\"axis_label_text_font_size\":\"1.15em\",\"axis_label_text_font_style\":\"bold\",\"axis_line_alpha\":1,\"axis_line_color\":\"#5B5B5B\",\"coordinates\":null,\"formatter\":{\"id\":\"3018\"},\"group\":null,\"major_label_policy\":{\"id\":\"3019\"},\"major_label_text_color\":\"#5B5B5B\",\"major_label_text_font\":\"Calibri Light\",\"major_label_text_font_size\":\"0.95em\",\"major_label_text_font_style\":\"bold\",\"major_tick_in\":0,\"major_tick_line_alpha\":0.25,\"major_tick_line_color\":\"#5B5B5B\",\"major_tick_out\":3,\"minor_tick_line_alpha\":0.25,\"minor_tick_line_color\":\"#5B5B5B\",\"ticker\":{\"id\":\"2871\"}},\"id\":\"2870\",\"type\":\"LinearAxis\"},{\"attributes\":{\"fill_color\":{\"value\":\"red\"},\"line_color\":{\"value\":\"#1f77b4\"},\"size\":{\"value\":15},\"x\":{\"field\":\"x\"},\"y\":{\"field\":\"y\"}},\"id\":\"2893\",\"type\":\"Circle\"},{\"attributes\":{},\"id\":\"2868\",\"type\":\"LinearScale\"},{\"attributes\":{},\"id\":\"2871\",\"type\":\"BasicTicker\"},{\"attributes\":{\"coordinates\":null,\"group\":null,\"text\":\"Plot sizing example\",\"text_color\":\"#5B5B5B\",\"text_font\":\"Calibri Light\",\"text_font_size\":\"1.25em\",\"text_font_style\":\"bold\"},\"id\":\"2860\",\"type\":\"Title\"},{\"attributes\":{},\"id\":\"2866\",\"type\":\"LinearScale\"},{\"attributes\":{},\"id\":\"2875\",\"type\":\"BasicTicker\"},{\"attributes\":{\"axis_label\":\"y\",\"axis_label_standoff\":10,\"axis_label_text_color\":\"#5B5B5B\",\"axis_label_text_font\":\"Calibri Light\",\"axis_label_text_font_size\":\"1.15em\",\"axis_label_text_font_style\":\"bold\",\"axis_line_alpha\":1,\"axis_line_color\":\"#5B5B5B\",\"coordinates\":null,\"formatter\":{\"id\":\"3015\"},\"group\":null,\"major_label_policy\":{\"id\":\"3016\"},\"major_label_text_color\":\"#5B5B5B\",\"major_label_text_font\":\"Calibri Light\",\"major_label_text_font_size\":\"0.95em\",\"major_label_text_font_style\":\"bold\",\"major_tick_in\":0,\"major_tick_line_alpha\":0.25,\"major_tick_line_color\":\"#5B5B5B\",\"major_tick_out\":3,\"minor_tick_line_alpha\":0.25,\"minor_tick_line_color\":\"#5B5B5B\",\"ticker\":{\"id\":\"2875\"}},\"id\":\"2874\",\"type\":\"LinearAxis\"},{\"attributes\":{\"axis\":{\"id\":\"2870\"},\"coordinates\":null,\"group\":null,\"ticker\":null},\"id\":\"2873\",\"type\":\"Grid\"},{\"attributes\":{\"axis\":{\"id\":\"2874\"},\"coordinates\":null,\"dimension\":1,\"group\":null,\"ticker\":null},\"id\":\"2877\",\"type\":\"Grid\"},{\"attributes\":{\"fill_alpha\":{\"value\":0.1},\"fill_color\":{\"value\":\"red\"},\"hatch_alpha\":{\"value\":0.1},\"line_alpha\":{\"value\":0.1},\"line_color\":{\"value\":\"#1f77b4\"},\"size\":{\"value\":15},\"x\":{\"field\":\"x\"},\"y\":{\"field\":\"y\"}},\"id\":\"2894\",\"type\":\"Circle\"},{\"attributes\":{},\"id\":\"2883\",\"type\":\"HelpTool\"},{\"attributes\":{},\"id\":\"2862\",\"type\":\"DataRange1d\"},{\"attributes\":{},\"id\":\"3018\",\"type\":\"BasicTickFormatter\"},{\"attributes\":{\"bottom_units\":\"screen\",\"coordinates\":null,\"fill_alpha\":0.5,\"fill_color\":\"lightgrey\",\"group\":null,\"left_units\":\"screen\",\"level\":\"overlay\",\"line_alpha\":1.0,\"line_color\":\"black\",\"line_dash\":[4,4],\"line_width\":2,\"right_units\":\"screen\",\"syncable\":false,\"top_units\":\"screen\"},\"id\":\"2884\",\"type\":\"BoxAnnotation\"},{\"attributes\":{},\"id\":\"3015\",\"type\":\"BasicTickFormatter\"},{\"attributes\":{},\"id\":\"3019\",\"type\":\"AllLabels\"},{\"attributes\":{\"coordinates\":null,\"data_source\":{\"id\":\"2892\"},\"glyph\":{\"id\":\"2893\"},\"group\":null,\"hover_glyph\":null,\"muted_glyph\":{\"id\":\"2895\"},\"nonselection_glyph\":{\"id\":\"2894\"},\"view\":{\"id\":\"2897\"}},\"id\":\"2896\",\"type\":\"GlyphRenderer\"},{\"attributes\":{},\"id\":\"3016\",\"type\":\"AllLabels\"}],\"root_ids\":[\"2859\"]},\"title\":\"Bokeh Application\",\"version\":\"2.4.3\"}};\n",
       "  const render_items = [{\"docid\":\"e85e3892-952d-4ebf-807b-6cb87af8e889\",\"root_ids\":[\"2859\"],\"roots\":{\"2859\":\"5e70d0d5-21af-4db9-bb25-cea726de4089\"}}];\n",
       "  root.Bokeh.embed.embed_items_notebook(docs_json, render_items);\n",
       "  }\n",
       "  if (root.Bokeh !== undefined) {\n",
       "    embed_document(root);\n",
       "  } else {\n",
       "    let attempts = 0;\n",
       "    const timer = setInterval(function(root) {\n",
       "      if (root.Bokeh !== undefined) {\n",
       "        clearInterval(timer);\n",
       "        embed_document(root);\n",
       "      } else {\n",
       "        attempts++;\n",
       "        if (attempts > 100) {\n",
       "          clearInterval(timer);\n",
       "          console.log(\"Bokeh: ERROR: Unable to run BokehJS code because BokehJS library is missing\");\n",
       "        }\n",
       "      }\n",
       "    }, 10, root)\n",
       "  }\n",
       "})(window);"
      ],
      "application/vnd.bokehjs_exec.v0+json": ""
     },
     "metadata": {
      "application/vnd.bokehjs_exec.v0+json": {
       "id": "2859"
      }
     },
     "output_type": "display_data"
    }
   ],
   "source": [
    "from bokeh.plotting import figure, show\n",
    "\n",
    "# prepare some data\n",
    "x = [1, 2, 3, 4, 5]\n",
    "y = [4, 5, 5, 7, 2]\n",
    "\n",
    "curdoc().theme = \"caliber\"\n",
    "\n",
    "# create a new plot with a specific size\n",
    "p = figure(\n",
    "    title=\"Plot sizing example\",\n",
    "    width=350,\n",
    "    height=250,\n",
    "    x_axis_label=\"x\",\n",
    "    y_axis_label=\"y\",\n",
    ")\n",
    "\n",
    "# add circle renderer\n",
    "circle = p.circle(x, y, fill_color=\"red\", size=15)\n",
    "\n",
    "# show the results\n",
    "show(p)"
   ]
  },
  {
   "cell_type": "markdown",
   "id": "4f7a5c23-610b-4074-b382-5aa2b6eb5608",
   "metadata": {},
   "source": [
    "Enabling responsive plot sizing"
   ]
  },
  {
   "cell_type": "code",
   "execution_count": 14,
   "id": "62c7c3bb-83ef-45c5-a839-73b8d8be808e",
   "metadata": {},
   "outputs": [
    {
     "data": {
      "text/html": [
       "\n",
       "  <div class=\"bk-root\" id=\"02817a5a-1cc5-4f72-98ab-e515f9c75346\" data-root-id=\"3073\"></div>\n"
      ]
     },
     "metadata": {},
     "output_type": "display_data"
    },
    {
     "data": {
      "application/javascript": [
       "(function(root) {\n",
       "  function embed_document(root) {\n",
       "  const docs_json = {\"1745e61e-d6a1-4dcb-99e5-f271c2a235b6\":{\"defs\":[],\"roots\":{\"references\":[{\"attributes\":{\"below\":[{\"id\":\"3084\"}],\"center\":[{\"id\":\"3087\"},{\"id\":\"3091\"}],\"height\":250,\"left\":[{\"id\":\"3088\"}],\"renderers\":[{\"id\":\"3110\"}],\"sizing_mode\":\"stretch_width\",\"title\":{\"id\":\"3074\"},\"toolbar\":{\"id\":\"3099\"},\"x_range\":{\"id\":\"3076\"},\"x_scale\":{\"id\":\"3080\"},\"y_range\":{\"id\":\"3078\"},\"y_scale\":{\"id\":\"3082\"}},\"id\":\"3073\",\"subtype\":\"Figure\",\"type\":\"Plot\"},{\"attributes\":{\"axis_label\":\"x\",\"axis_label_standoff\":10,\"axis_label_text_color\":\"#5B5B5B\",\"axis_label_text_font\":\"Calibri Light\",\"axis_label_text_font_size\":\"1.15em\",\"axis_label_text_font_style\":\"bold\",\"axis_line_alpha\":1,\"axis_line_color\":\"#5B5B5B\",\"coordinates\":null,\"formatter\":{\"id\":\"3242\"},\"group\":null,\"major_label_policy\":{\"id\":\"3243\"},\"major_label_text_color\":\"#5B5B5B\",\"major_label_text_font\":\"Calibri Light\",\"major_label_text_font_size\":\"0.95em\",\"major_label_text_font_style\":\"bold\",\"major_tick_in\":0,\"major_tick_line_alpha\":0.25,\"major_tick_line_color\":\"#5B5B5B\",\"major_tick_out\":3,\"minor_tick_line_alpha\":0.25,\"minor_tick_line_color\":\"#5B5B5B\",\"ticker\":{\"id\":\"3085\"}},\"id\":\"3084\",\"type\":\"LinearAxis\"},{\"attributes\":{\"coordinates\":null,\"data_source\":{\"id\":\"3106\"},\"glyph\":{\"id\":\"3107\"},\"group\":null,\"hover_glyph\":null,\"muted_glyph\":{\"id\":\"3109\"},\"nonselection_glyph\":{\"id\":\"3108\"},\"view\":{\"id\":\"3111\"}},\"id\":\"3110\",\"type\":\"GlyphRenderer\"},{\"attributes\":{},\"id\":\"3242\",\"type\":\"BasicTickFormatter\"},{\"attributes\":{},\"id\":\"3093\",\"type\":\"WheelZoomTool\"},{\"attributes\":{},\"id\":\"3243\",\"type\":\"AllLabels\"},{\"attributes\":{\"source\":{\"id\":\"3106\"}},\"id\":\"3111\",\"type\":\"CDSView\"},{\"attributes\":{},\"id\":\"3082\",\"type\":\"LinearScale\"},{\"attributes\":{},\"id\":\"3096\",\"type\":\"ResetTool\"},{\"attributes\":{},\"id\":\"3095\",\"type\":\"SaveTool\"},{\"attributes\":{\"overlay\":{\"id\":\"3098\"}},\"id\":\"3094\",\"type\":\"BoxZoomTool\"},{\"attributes\":{},\"id\":\"3244\",\"type\":\"UnionRenderers\"},{\"attributes\":{},\"id\":\"3076\",\"type\":\"DataRange1d\"},{\"attributes\":{\"fill_color\":{\"value\":\"red\"},\"line_color\":{\"value\":\"#1f77b4\"},\"size\":{\"value\":15},\"x\":{\"field\":\"x\"},\"y\":{\"field\":\"y\"}},\"id\":\"3107\",\"type\":\"Circle\"},{\"attributes\":{},\"id\":\"3245\",\"type\":\"Selection\"},{\"attributes\":{},\"id\":\"3092\",\"type\":\"PanTool\"},{\"attributes\":{\"data\":{\"x\":[1,2,3,4,5],\"y\":[4,5,5,7,2]},\"selected\":{\"id\":\"3245\"},\"selection_policy\":{\"id\":\"3244\"}},\"id\":\"3106\",\"type\":\"ColumnDataSource\"},{\"attributes\":{},\"id\":\"3078\",\"type\":\"DataRange1d\"},{\"attributes\":{\"fill_alpha\":{\"value\":0.1},\"fill_color\":{\"value\":\"red\"},\"hatch_alpha\":{\"value\":0.1},\"line_alpha\":{\"value\":0.1},\"line_color\":{\"value\":\"#1f77b4\"},\"size\":{\"value\":15},\"x\":{\"field\":\"x\"},\"y\":{\"field\":\"y\"}},\"id\":\"3108\",\"type\":\"Circle\"},{\"attributes\":{},\"id\":\"3097\",\"type\":\"HelpTool\"},{\"attributes\":{},\"id\":\"3080\",\"type\":\"LinearScale\"},{\"attributes\":{\"tools\":[{\"id\":\"3092\"},{\"id\":\"3093\"},{\"id\":\"3094\"},{\"id\":\"3095\"},{\"id\":\"3096\"},{\"id\":\"3097\"}]},\"id\":\"3099\",\"type\":\"Toolbar\"},{\"attributes\":{\"axis_label\":\"y\",\"axis_label_standoff\":10,\"axis_label_text_color\":\"#5B5B5B\",\"axis_label_text_font\":\"Calibri Light\",\"axis_label_text_font_size\":\"1.15em\",\"axis_label_text_font_style\":\"bold\",\"axis_line_alpha\":1,\"axis_line_color\":\"#5B5B5B\",\"coordinates\":null,\"formatter\":{\"id\":\"3239\"},\"group\":null,\"major_label_policy\":{\"id\":\"3240\"},\"major_label_text_color\":\"#5B5B5B\",\"major_label_text_font\":\"Calibri Light\",\"major_label_text_font_size\":\"0.95em\",\"major_label_text_font_style\":\"bold\",\"major_tick_in\":0,\"major_tick_line_alpha\":0.25,\"major_tick_line_color\":\"#5B5B5B\",\"major_tick_out\":3,\"minor_tick_line_alpha\":0.25,\"minor_tick_line_color\":\"#5B5B5B\",\"ticker\":{\"id\":\"3089\"}},\"id\":\"3088\",\"type\":\"LinearAxis\"},{\"attributes\":{\"axis\":{\"id\":\"3088\"},\"coordinates\":null,\"dimension\":1,\"group\":null,\"ticker\":null},\"id\":\"3091\",\"type\":\"Grid\"},{\"attributes\":{\"coordinates\":null,\"group\":null,\"text\":\"Plot responsive sizing example\",\"text_color\":\"#5B5B5B\",\"text_font\":\"Calibri Light\",\"text_font_size\":\"1.25em\",\"text_font_style\":\"bold\"},\"id\":\"3074\",\"type\":\"Title\"},{\"attributes\":{\"bottom_units\":\"screen\",\"coordinates\":null,\"fill_alpha\":0.5,\"fill_color\":\"lightgrey\",\"group\":null,\"left_units\":\"screen\",\"level\":\"overlay\",\"line_alpha\":1.0,\"line_color\":\"black\",\"line_dash\":[4,4],\"line_width\":2,\"right_units\":\"screen\",\"syncable\":false,\"top_units\":\"screen\"},\"id\":\"3098\",\"type\":\"BoxAnnotation\"},{\"attributes\":{},\"id\":\"3085\",\"type\":\"BasicTicker\"},{\"attributes\":{\"fill_alpha\":{\"value\":0.2},\"fill_color\":{\"value\":\"red\"},\"hatch_alpha\":{\"value\":0.2},\"line_alpha\":{\"value\":0.2},\"line_color\":{\"value\":\"#1f77b4\"},\"size\":{\"value\":15},\"x\":{\"field\":\"x\"},\"y\":{\"field\":\"y\"}},\"id\":\"3109\",\"type\":\"Circle\"},{\"attributes\":{},\"id\":\"3089\",\"type\":\"BasicTicker\"},{\"attributes\":{},\"id\":\"3239\",\"type\":\"BasicTickFormatter\"},{\"attributes\":{\"axis\":{\"id\":\"3084\"},\"coordinates\":null,\"group\":null,\"ticker\":null},\"id\":\"3087\",\"type\":\"Grid\"},{\"attributes\":{},\"id\":\"3240\",\"type\":\"AllLabels\"}],\"root_ids\":[\"3073\"]},\"title\":\"Bokeh Application\",\"version\":\"2.4.3\"}};\n",
       "  const render_items = [{\"docid\":\"1745e61e-d6a1-4dcb-99e5-f271c2a235b6\",\"root_ids\":[\"3073\"],\"roots\":{\"3073\":\"02817a5a-1cc5-4f72-98ab-e515f9c75346\"}}];\n",
       "  root.Bokeh.embed.embed_items_notebook(docs_json, render_items);\n",
       "  }\n",
       "  if (root.Bokeh !== undefined) {\n",
       "    embed_document(root);\n",
       "  } else {\n",
       "    let attempts = 0;\n",
       "    const timer = setInterval(function(root) {\n",
       "      if (root.Bokeh !== undefined) {\n",
       "        clearInterval(timer);\n",
       "        embed_document(root);\n",
       "      } else {\n",
       "        attempts++;\n",
       "        if (attempts > 100) {\n",
       "          clearInterval(timer);\n",
       "          console.log(\"Bokeh: ERROR: Unable to run BokehJS code because BokehJS library is missing\");\n",
       "        }\n",
       "      }\n",
       "    }, 10, root)\n",
       "  }\n",
       "})(window);"
      ],
      "application/vnd.bokehjs_exec.v0+json": ""
     },
     "metadata": {
      "application/vnd.bokehjs_exec.v0+json": {
       "id": "3073"
      }
     },
     "output_type": "display_data"
    }
   ],
   "source": [
    "from bokeh.plotting import figure, show\n",
    "\n",
    "# prepare some data\n",
    "x = [1, 2, 3, 4, 5]\n",
    "y = [4, 5, 5, 7, 2]\n",
    "\n",
    "# create a new plot with responsive width\n",
    "p = figure(\n",
    "    title=\"Plot responsive sizing example\",\n",
    "    sizing_mode=\"stretch_width\",\n",
    "    height=250,\n",
    "    x_axis_label=\"x\",\n",
    "    y_axis_label=\"y\",\n",
    ")\n",
    "\n",
    "# add circle renderer\n",
    "circle = p.circle(x, y, fill_color=\"red\", size=15)\n",
    "\n",
    "# show the results\n",
    "show(p)"
   ]
  },
  {
   "cell_type": "markdown",
   "id": "72fb22b2-6b7e-4664-8a3a-15754c311d64",
   "metadata": {},
   "source": [
    "Setting axes' appearance"
   ]
  },
  {
   "cell_type": "code",
   "execution_count": 15,
   "id": "7793e5f5-2948-4630-8452-211966073194",
   "metadata": {},
   "outputs": [
    {
     "data": {
      "text/html": [
       "\n",
       "  <div class=\"bk-root\" id=\"b0703250-b72c-4031-bfc9-c81e75247c6a\" data-root-id=\"3297\"></div>\n"
      ]
     },
     "metadata": {},
     "output_type": "display_data"
    },
    {
     "data": {
      "application/javascript": [
       "(function(root) {\n",
       "  function embed_document(root) {\n",
       "  const docs_json = {\"081e2c69-5a34-449e-a1a2-b84da846cc6c\":{\"defs\":[],\"roots\":{\"references\":[{\"attributes\":{\"below\":[{\"id\":\"3308\"}],\"center\":[{\"id\":\"3311\"},{\"id\":\"3315\"}],\"height\":350,\"left\":[{\"id\":\"3312\"}],\"max_width\":500,\"renderers\":[{\"id\":\"3334\"}],\"sizing_mode\":\"stretch_width\",\"title\":{\"id\":\"3298\"},\"toolbar\":{\"id\":\"3323\"},\"x_range\":{\"id\":\"3300\"},\"x_scale\":{\"id\":\"3304\"},\"y_range\":{\"id\":\"3302\"},\"y_scale\":{\"id\":\"3306\"}},\"id\":\"3297\",\"subtype\":\"Figure\",\"type\":\"Plot\"},{\"attributes\":{},\"id\":\"3300\",\"type\":\"DataRange1d\"},{\"attributes\":{},\"id\":\"3474\",\"type\":\"AllLabels\"},{\"attributes\":{\"fill_color\":{\"value\":\"#1f77b4\"},\"line_color\":{\"value\":\"#1f77b4\"},\"size\":{\"value\":10},\"x\":{\"field\":\"x\"},\"y\":{\"field\":\"y\"}},\"id\":\"3331\",\"type\":\"Circle\"},{\"attributes\":{\"fill_alpha\":{\"value\":0.2},\"fill_color\":{\"value\":\"#1f77b4\"},\"hatch_alpha\":{\"value\":0.2},\"line_alpha\":{\"value\":0.2},\"line_color\":{\"value\":\"#1f77b4\"},\"size\":{\"value\":10},\"x\":{\"field\":\"x\"},\"y\":{\"field\":\"y\"}},\"id\":\"3333\",\"type\":\"Circle\"},{\"attributes\":{\"fill_alpha\":{\"value\":0.1},\"fill_color\":{\"value\":\"#1f77b4\"},\"hatch_alpha\":{\"value\":0.1},\"line_alpha\":{\"value\":0.1},\"line_color\":{\"value\":\"#1f77b4\"},\"size\":{\"value\":10},\"x\":{\"field\":\"x\"},\"y\":{\"field\":\"y\"}},\"id\":\"3332\",\"type\":\"Circle\"},{\"attributes\":{\"data\":{\"x\":[1,2,3,4,5],\"y\":[4,5,5,7,2]},\"selected\":{\"id\":\"3479\"},\"selection_policy\":{\"id\":\"3478\"}},\"id\":\"3330\",\"type\":\"ColumnDataSource\"},{\"attributes\":{},\"id\":\"3476\",\"type\":\"BasicTickFormatter\"},{\"attributes\":{},\"id\":\"3302\",\"type\":\"DataRange1d\"},{\"attributes\":{},\"id\":\"3304\",\"type\":\"LinearScale\"},{\"attributes\":{},\"id\":\"3477\",\"type\":\"AllLabels\"},{\"attributes\":{\"axis_label\":\"Temp\",\"axis_label_standoff\":10,\"axis_label_text_color\":\"#5B5B5B\",\"axis_label_text_font\":\"Calibri Light\",\"axis_label_text_font_size\":\"1.15em\",\"axis_label_text_font_style\":\"bold\",\"axis_line_alpha\":1,\"axis_line_color\":\"red\",\"axis_line_width\":3,\"coordinates\":null,\"formatter\":{\"id\":\"3476\"},\"group\":null,\"major_label_policy\":{\"id\":\"3477\"},\"major_label_text_color\":\"#5B5B5B\",\"major_label_text_font\":\"Calibri Light\",\"major_label_text_font_size\":\"0.95em\",\"major_label_text_font_style\":\"bold\",\"major_tick_in\":0,\"major_tick_line_alpha\":0.25,\"major_tick_line_color\":\"#5B5B5B\",\"major_tick_out\":3,\"minor_tick_in\":-3,\"minor_tick_line_alpha\":0.25,\"minor_tick_line_color\":\"#5B5B5B\",\"minor_tick_out\":6,\"ticker\":{\"id\":\"3309\"}},\"id\":\"3308\",\"type\":\"LinearAxis\"},{\"attributes\":{},\"id\":\"3321\",\"type\":\"HelpTool\"},{\"attributes\":{\"axis\":{\"id\":\"3312\"},\"coordinates\":null,\"dimension\":1,\"group\":null,\"ticker\":null},\"id\":\"3315\",\"type\":\"Grid\"},{\"attributes\":{\"coordinates\":null,\"group\":null,\"text\":\"Customized axes example\",\"text_color\":\"#5B5B5B\",\"text_font\":\"Calibri Light\",\"text_font_size\":\"1.25em\",\"text_font_style\":\"bold\"},\"id\":\"3298\",\"type\":\"Title\"},{\"attributes\":{},\"id\":\"3313\",\"type\":\"BasicTicker\"},{\"attributes\":{},\"id\":\"3306\",\"type\":\"LinearScale\"},{\"attributes\":{\"tools\":[{\"id\":\"3316\"},{\"id\":\"3317\"},{\"id\":\"3318\"},{\"id\":\"3319\"},{\"id\":\"3320\"},{\"id\":\"3321\"}]},\"id\":\"3323\",\"type\":\"Toolbar\"},{\"attributes\":{\"axis_label\":\"Pressure\",\"axis_label_standoff\":10,\"axis_label_text_color\":\"#5B5B5B\",\"axis_label_text_font\":\"Calibri Light\",\"axis_label_text_font_size\":\"1.15em\",\"axis_label_text_font_style\":\"bold\",\"axis_line_alpha\":1,\"axis_line_color\":\"#5B5B5B\",\"coordinates\":null,\"formatter\":{\"id\":\"3473\"},\"group\":null,\"major_label_orientation\":\"vertical\",\"major_label_policy\":{\"id\":\"3474\"},\"major_label_text_color\":\"orange\",\"major_label_text_font\":\"Calibri Light\",\"major_label_text_font_size\":\"0.95em\",\"major_label_text_font_style\":\"bold\",\"major_tick_in\":0,\"major_tick_line_alpha\":0.25,\"major_tick_line_color\":\"#5B5B5B\",\"major_tick_out\":3,\"minor_tick_in\":-3,\"minor_tick_line_alpha\":0.25,\"minor_tick_line_color\":\"#5B5B5B\",\"minor_tick_out\":6,\"ticker\":{\"id\":\"3313\"}},\"id\":\"3312\",\"type\":\"LinearAxis\"},{\"attributes\":{},\"id\":\"3317\",\"type\":\"WheelZoomTool\"},{\"attributes\":{},\"id\":\"3309\",\"type\":\"BasicTicker\"},{\"attributes\":{\"axis\":{\"id\":\"3308\"},\"coordinates\":null,\"group\":null,\"ticker\":null},\"id\":\"3311\",\"type\":\"Grid\"},{\"attributes\":{},\"id\":\"3316\",\"type\":\"PanTool\"},{\"attributes\":{\"overlay\":{\"id\":\"3322\"}},\"id\":\"3318\",\"type\":\"BoxZoomTool\"},{\"attributes\":{},\"id\":\"3478\",\"type\":\"UnionRenderers\"},{\"attributes\":{},\"id\":\"3479\",\"type\":\"Selection\"},{\"attributes\":{},\"id\":\"3473\",\"type\":\"BasicTickFormatter\"},{\"attributes\":{\"source\":{\"id\":\"3330\"}},\"id\":\"3335\",\"type\":\"CDSView\"},{\"attributes\":{},\"id\":\"3320\",\"type\":\"ResetTool\"},{\"attributes\":{\"coordinates\":null,\"data_source\":{\"id\":\"3330\"},\"glyph\":{\"id\":\"3331\"},\"group\":null,\"hover_glyph\":null,\"muted_glyph\":{\"id\":\"3333\"},\"nonselection_glyph\":{\"id\":\"3332\"},\"view\":{\"id\":\"3335\"}},\"id\":\"3334\",\"type\":\"GlyphRenderer\"},{\"attributes\":{},\"id\":\"3319\",\"type\":\"SaveTool\"},{\"attributes\":{\"bottom_units\":\"screen\",\"coordinates\":null,\"fill_alpha\":0.5,\"fill_color\":\"lightgrey\",\"group\":null,\"left_units\":\"screen\",\"level\":\"overlay\",\"line_alpha\":1.0,\"line_color\":\"black\",\"line_dash\":[4,4],\"line_width\":2,\"right_units\":\"screen\",\"syncable\":false,\"top_units\":\"screen\"},\"id\":\"3322\",\"type\":\"BoxAnnotation\"}],\"root_ids\":[\"3297\"]},\"title\":\"Bokeh Application\",\"version\":\"2.4.3\"}};\n",
       "  const render_items = [{\"docid\":\"081e2c69-5a34-449e-a1a2-b84da846cc6c\",\"root_ids\":[\"3297\"],\"roots\":{\"3297\":\"b0703250-b72c-4031-bfc9-c81e75247c6a\"}}];\n",
       "  root.Bokeh.embed.embed_items_notebook(docs_json, render_items);\n",
       "  }\n",
       "  if (root.Bokeh !== undefined) {\n",
       "    embed_document(root);\n",
       "  } else {\n",
       "    let attempts = 0;\n",
       "    const timer = setInterval(function(root) {\n",
       "      if (root.Bokeh !== undefined) {\n",
       "        clearInterval(timer);\n",
       "        embed_document(root);\n",
       "      } else {\n",
       "        attempts++;\n",
       "        if (attempts > 100) {\n",
       "          clearInterval(timer);\n",
       "          console.log(\"Bokeh: ERROR: Unable to run BokehJS code because BokehJS library is missing\");\n",
       "        }\n",
       "      }\n",
       "    }, 10, root)\n",
       "  }\n",
       "})(window);"
      ],
      "application/vnd.bokehjs_exec.v0+json": ""
     },
     "metadata": {
      "application/vnd.bokehjs_exec.v0+json": {
       "id": "3297"
      }
     },
     "output_type": "display_data"
    }
   ],
   "source": [
    "from bokeh.plotting import figure, show\n",
    "\n",
    "# prepare some data\n",
    "x = [1, 2, 3, 4, 5]\n",
    "y = [4, 5, 5, 7, 2]\n",
    "\n",
    "# create a plot\n",
    "p = figure(\n",
    "    title=\"Customized axes example\",\n",
    "    sizing_mode=\"stretch_width\",\n",
    "    max_width=500,\n",
    "    height=350,\n",
    ")\n",
    "\n",
    "# add a renderer\n",
    "p.circle(x, y, size=10)\n",
    "\n",
    "# change some things about the x-axis\n",
    "p.xaxis.axis_label = \"Temp\"\n",
    "p.xaxis.axis_line_width = 3\n",
    "p.xaxis.axis_line_color = \"red\"\n",
    "\n",
    "# change some things about the y-axis\n",
    "p.yaxis.axis_label = \"Pressure\"\n",
    "p.yaxis.major_label_text_color = \"orange\"\n",
    "p.yaxis.major_label_orientation = \"vertical\"\n",
    "\n",
    "# change things on all axes\n",
    "p.axis.minor_tick_in = -3\n",
    "p.axis.minor_tick_out = 6\n",
    "\n",
    "# show the results\n",
    "show(p)"
   ]
  },
  {
   "cell_type": "markdown",
   "id": "46268969-bbce-4030-a2ae-02c398e2d741",
   "metadata": {},
   "source": [
    "Defininf axis ranges"
   ]
  },
  {
   "cell_type": "code",
   "execution_count": 16,
   "id": "dabb7eee-1ecf-449c-aae9-ff3948901354",
   "metadata": {},
   "outputs": [
    {
     "data": {
      "text/html": [
       "\n",
       "  <div class=\"bk-root\" id=\"7402c94c-bbd9-48ef-a279-e7a8e2d1053e\" data-root-id=\"3531\"></div>\n"
      ]
     },
     "metadata": {},
     "output_type": "display_data"
    },
    {
     "data": {
      "application/javascript": [
       "(function(root) {\n",
       "  function embed_document(root) {\n",
       "  const docs_json = {\"85a49370-6173-4380-97d3-654836745b39\":{\"defs\":[],\"roots\":{\"references\":[{\"attributes\":{\"below\":[{\"id\":\"3542\"}],\"center\":[{\"id\":\"3545\"},{\"id\":\"3549\"}],\"height\":250,\"left\":[{\"id\":\"3546\"}],\"max_width\":500,\"renderers\":[{\"id\":\"3568\"}],\"sizing_mode\":\"stretch_width\",\"title\":{\"id\":\"3532\"},\"toolbar\":{\"id\":\"3557\"},\"x_range\":{\"id\":\"3534\"},\"x_scale\":{\"id\":\"3538\"},\"y_range\":{\"id\":\"3536\"},\"y_scale\":{\"id\":\"3540\"}},\"id\":\"3531\",\"subtype\":\"Figure\",\"type\":\"Plot\"},{\"attributes\":{},\"id\":\"3723\",\"type\":\"Selection\"},{\"attributes\":{\"fill_alpha\":{\"value\":0.1},\"fill_color\":{\"value\":\"#1f77b4\"},\"hatch_alpha\":{\"value\":0.1},\"line_alpha\":{\"value\":0.1},\"line_color\":{\"value\":\"#1f77b4\"},\"size\":{\"value\":8},\"x\":{\"field\":\"x\"},\"y\":{\"field\":\"y\"}},\"id\":\"3566\",\"type\":\"Circle\"},{\"attributes\":{\"data\":{\"x\":[1,2,3,4,5],\"y\":[4,5,5,7,2]},\"selected\":{\"id\":\"3723\"},\"selection_policy\":{\"id\":\"3722\"}},\"id\":\"3564\",\"type\":\"ColumnDataSource\"},{\"attributes\":{},\"id\":\"3555\",\"type\":\"HelpTool\"},{\"attributes\":{},\"id\":\"3534\",\"type\":\"DataRange1d\"},{\"attributes\":{},\"id\":\"3721\",\"type\":\"AllLabels\"},{\"attributes\":{\"end\":25},\"id\":\"3536\",\"type\":\"Range1d\"},{\"attributes\":{},\"id\":\"3543\",\"type\":\"BasicTicker\"},{\"attributes\":{},\"id\":\"3720\",\"type\":\"BasicTickFormatter\"},{\"attributes\":{\"tools\":[{\"id\":\"3550\"},{\"id\":\"3551\"},{\"id\":\"3552\"},{\"id\":\"3553\"},{\"id\":\"3554\"},{\"id\":\"3555\"}]},\"id\":\"3557\",\"type\":\"Toolbar\"},{\"attributes\":{\"bottom_units\":\"screen\",\"coordinates\":null,\"fill_alpha\":0.5,\"fill_color\":\"lightgrey\",\"group\":null,\"left_units\":\"screen\",\"level\":\"overlay\",\"line_alpha\":1.0,\"line_color\":\"black\",\"line_dash\":[4,4],\"line_width\":2,\"right_units\":\"screen\",\"syncable\":false,\"top_units\":\"screen\"},\"id\":\"3556\",\"type\":\"BoxAnnotation\"},{\"attributes\":{},\"id\":\"3718\",\"type\":\"AllLabels\"},{\"attributes\":{},\"id\":\"3554\",\"type\":\"ResetTool\"},{\"attributes\":{},\"id\":\"3538\",\"type\":\"LinearScale\"},{\"attributes\":{},\"id\":\"3717\",\"type\":\"BasicTickFormatter\"},{\"attributes\":{},\"id\":\"3553\",\"type\":\"SaveTool\"},{\"attributes\":{},\"id\":\"3550\",\"type\":\"PanTool\"},{\"attributes\":{},\"id\":\"3551\",\"type\":\"WheelZoomTool\"},{\"attributes\":{\"coordinates\":null,\"group\":null,\"text\":\"Axis range example\",\"text_color\":\"#5B5B5B\",\"text_font\":\"Calibri Light\",\"text_font_size\":\"1.25em\",\"text_font_style\":\"bold\"},\"id\":\"3532\",\"type\":\"Title\"},{\"attributes\":{\"axis_label_standoff\":10,\"axis_label_text_color\":\"#5B5B5B\",\"axis_label_text_font\":\"Calibri Light\",\"axis_label_text_font_size\":\"1.15em\",\"axis_label_text_font_style\":\"bold\",\"axis_line_alpha\":1,\"axis_line_color\":\"#5B5B5B\",\"coordinates\":null,\"formatter\":{\"id\":\"3720\"},\"group\":null,\"major_label_policy\":{\"id\":\"3721\"},\"major_label_text_color\":\"#5B5B5B\",\"major_label_text_font\":\"Calibri Light\",\"major_label_text_font_size\":\"0.95em\",\"major_label_text_font_style\":\"bold\",\"major_tick_in\":0,\"major_tick_line_alpha\":0.25,\"major_tick_line_color\":\"#5B5B5B\",\"major_tick_out\":3,\"minor_tick_line_alpha\":0.25,\"minor_tick_line_color\":\"#5B5B5B\",\"ticker\":{\"id\":\"3543\"}},\"id\":\"3542\",\"type\":\"LinearAxis\"},{\"attributes\":{\"source\":{\"id\":\"3564\"}},\"id\":\"3569\",\"type\":\"CDSView\"},{\"attributes\":{},\"id\":\"3722\",\"type\":\"UnionRenderers\"},{\"attributes\":{\"fill_color\":{\"value\":\"#1f77b4\"},\"line_color\":{\"value\":\"#1f77b4\"},\"size\":{\"value\":8},\"x\":{\"field\":\"x\"},\"y\":{\"field\":\"y\"}},\"id\":\"3565\",\"type\":\"Circle\"},{\"attributes\":{\"overlay\":{\"id\":\"3556\"}},\"id\":\"3552\",\"type\":\"BoxZoomTool\"},{\"attributes\":{\"axis_label_standoff\":10,\"axis_label_text_color\":\"#5B5B5B\",\"axis_label_text_font\":\"Calibri Light\",\"axis_label_text_font_size\":\"1.15em\",\"axis_label_text_font_style\":\"bold\",\"axis_line_alpha\":1,\"axis_line_color\":\"#5B5B5B\",\"coordinates\":null,\"formatter\":{\"id\":\"3717\"},\"group\":null,\"major_label_policy\":{\"id\":\"3718\"},\"major_label_text_color\":\"#5B5B5B\",\"major_label_text_font\":\"Calibri Light\",\"major_label_text_font_size\":\"0.95em\",\"major_label_text_font_style\":\"bold\",\"major_tick_in\":0,\"major_tick_line_alpha\":0.25,\"major_tick_line_color\":\"#5B5B5B\",\"major_tick_out\":3,\"minor_tick_line_alpha\":0.25,\"minor_tick_line_color\":\"#5B5B5B\",\"ticker\":{\"id\":\"3547\"}},\"id\":\"3546\",\"type\":\"LinearAxis\"},{\"attributes\":{},\"id\":\"3540\",\"type\":\"LinearScale\"},{\"attributes\":{\"axis\":{\"id\":\"3542\"},\"coordinates\":null,\"group\":null,\"ticker\":null},\"id\":\"3545\",\"type\":\"Grid\"},{\"attributes\":{\"axis\":{\"id\":\"3546\"},\"coordinates\":null,\"dimension\":1,\"group\":null,\"ticker\":null},\"id\":\"3549\",\"type\":\"Grid\"},{\"attributes\":{\"fill_alpha\":{\"value\":0.2},\"fill_color\":{\"value\":\"#1f77b4\"},\"hatch_alpha\":{\"value\":0.2},\"line_alpha\":{\"value\":0.2},\"line_color\":{\"value\":\"#1f77b4\"},\"size\":{\"value\":8},\"x\":{\"field\":\"x\"},\"y\":{\"field\":\"y\"}},\"id\":\"3567\",\"type\":\"Circle\"},{\"attributes\":{},\"id\":\"3547\",\"type\":\"BasicTicker\"},{\"attributes\":{\"coordinates\":null,\"data_source\":{\"id\":\"3564\"},\"glyph\":{\"id\":\"3565\"},\"group\":null,\"hover_glyph\":null,\"muted_glyph\":{\"id\":\"3567\"},\"nonselection_glyph\":{\"id\":\"3566\"},\"view\":{\"id\":\"3569\"}},\"id\":\"3568\",\"type\":\"GlyphRenderer\"}],\"root_ids\":[\"3531\"]},\"title\":\"Bokeh Application\",\"version\":\"2.4.3\"}};\n",
       "  const render_items = [{\"docid\":\"85a49370-6173-4380-97d3-654836745b39\",\"root_ids\":[\"3531\"],\"roots\":{\"3531\":\"7402c94c-bbd9-48ef-a279-e7a8e2d1053e\"}}];\n",
       "  root.Bokeh.embed.embed_items_notebook(docs_json, render_items);\n",
       "  }\n",
       "  if (root.Bokeh !== undefined) {\n",
       "    embed_document(root);\n",
       "  } else {\n",
       "    let attempts = 0;\n",
       "    const timer = setInterval(function(root) {\n",
       "      if (root.Bokeh !== undefined) {\n",
       "        clearInterval(timer);\n",
       "        embed_document(root);\n",
       "      } else {\n",
       "        attempts++;\n",
       "        if (attempts > 100) {\n",
       "          clearInterval(timer);\n",
       "          console.log(\"Bokeh: ERROR: Unable to run BokehJS code because BokehJS library is missing\");\n",
       "        }\n",
       "      }\n",
       "    }, 10, root)\n",
       "  }\n",
       "})(window);"
      ],
      "application/vnd.bokehjs_exec.v0+json": ""
     },
     "metadata": {
      "application/vnd.bokehjs_exec.v0+json": {
       "id": "3531"
      }
     },
     "output_type": "display_data"
    }
   ],
   "source": [
    "from bokeh.plotting import figure, show\n",
    "\n",
    "# prepare some data\n",
    "x = [1, 2, 3, 4, 5]\n",
    "y = [4, 5, 5, 7, 2]\n",
    "\n",
    "# create a new plot with responsive width\n",
    "p = figure(\n",
    "    y_range=(0, 25),\n",
    "    title=\"Axis range example\",\n",
    "    sizing_mode=\"stretch_width\",\n",
    "    max_width=500,\n",
    "    height=250,\n",
    ")\n",
    "\n",
    "# add circle renderer with additional arguments\n",
    "circle = p.circle(x, y, size=8)\n",
    "\n",
    "# show the results\n",
    "show(p)"
   ]
  },
  {
   "cell_type": "markdown",
   "id": "d6224bb6-38e1-4824-bc63-aa60ef96ec4c",
   "metadata": {},
   "source": [
    "Formatting axis ticks"
   ]
  },
  {
   "cell_type": "code",
   "execution_count": 17,
   "id": "c825698c-343f-4852-85d6-60cfd0eb32b7",
   "metadata": {},
   "outputs": [
    {
     "data": {
      "text/html": [
       "\n",
       "  <div class=\"bk-root\" id=\"ff8e6761-fd62-4438-b4d9-ab8ceb8e7af6\" data-root-id=\"3775\"></div>\n"
      ]
     },
     "metadata": {},
     "output_type": "display_data"
    },
    {
     "data": {
      "application/javascript": [
       "(function(root) {\n",
       "  function embed_document(root) {\n",
       "  const docs_json = {\"3474c4aa-33eb-4978-924f-22088a0ac207\":{\"defs\":[],\"roots\":{\"references\":[{\"attributes\":{\"below\":[{\"id\":\"3786\"}],\"center\":[{\"id\":\"3789\"},{\"id\":\"3793\"}],\"height\":250,\"left\":[{\"id\":\"3790\"}],\"max_width\":500,\"renderers\":[{\"id\":\"3814\"},{\"id\":\"3820\"}],\"sizing_mode\":\"stretch_width\",\"title\":{\"id\":\"3776\"},\"toolbar\":{\"id\":\"3801\"},\"x_range\":{\"id\":\"3778\"},\"x_scale\":{\"id\":\"3782\"},\"y_range\":{\"id\":\"3780\"},\"y_scale\":{\"id\":\"3784\"}},\"id\":\"3775\",\"subtype\":\"Figure\",\"type\":\"Plot\"},{\"attributes\":{\"coordinates\":null,\"data_source\":{\"id\":\"3810\"},\"glyph\":{\"id\":\"3811\"},\"group\":null,\"hover_glyph\":null,\"muted_glyph\":{\"id\":\"3813\"},\"nonselection_glyph\":{\"id\":\"3812\"},\"view\":{\"id\":\"3815\"}},\"id\":\"3814\",\"type\":\"GlyphRenderer\"},{\"attributes\":{},\"id\":\"3795\",\"type\":\"WheelZoomTool\"},{\"attributes\":{},\"id\":\"3797\",\"type\":\"SaveTool\"},{\"attributes\":{},\"id\":\"3985\",\"type\":\"UnionRenderers\"},{\"attributes\":{},\"id\":\"3787\",\"type\":\"BasicTicker\"},{\"attributes\":{},\"id\":\"3986\",\"type\":\"Selection\"},{\"attributes\":{\"bottom_units\":\"screen\",\"coordinates\":null,\"fill_alpha\":0.5,\"fill_color\":\"lightgrey\",\"group\":null,\"left_units\":\"screen\",\"level\":\"overlay\",\"line_alpha\":1.0,\"line_color\":\"black\",\"line_dash\":[4,4],\"line_width\":2,\"right_units\":\"screen\",\"syncable\":false,\"top_units\":\"screen\"},\"id\":\"3800\",\"type\":\"BoxAnnotation\"},{\"attributes\":{},\"id\":\"3983\",\"type\":\"UnionRenderers\"},{\"attributes\":{\"fill_alpha\":{\"value\":0.1},\"fill_color\":{\"value\":\"#1f77b4\"},\"hatch_alpha\":{\"value\":0.1},\"line_alpha\":{\"value\":0.1},\"line_color\":{\"value\":\"#1f77b4\"},\"size\":{\"value\":8},\"x\":{\"field\":\"x\"},\"y\":{\"field\":\"y\"}},\"id\":\"3812\",\"type\":\"Circle\"},{\"attributes\":{\"axis_label_standoff\":10,\"axis_label_text_color\":\"#5B5B5B\",\"axis_label_text_font\":\"Calibri Light\",\"axis_label_text_font_size\":\"1.15em\",\"axis_label_text_font_style\":\"bold\",\"axis_line_alpha\":1,\"axis_line_color\":\"#5B5B5B\",\"coordinates\":null,\"formatter\":{\"id\":\"3808\"},\"group\":null,\"major_label_policy\":{\"id\":\"3979\"},\"major_label_text_color\":\"#5B5B5B\",\"major_label_text_font\":\"Calibri Light\",\"major_label_text_font_size\":\"0.95em\",\"major_label_text_font_style\":\"bold\",\"major_tick_in\":0,\"major_tick_line_alpha\":0.25,\"major_tick_line_color\":\"#5B5B5B\",\"major_tick_out\":3,\"minor_tick_line_alpha\":0.25,\"minor_tick_line_color\":\"#5B5B5B\",\"ticker\":{\"id\":\"3791\"}},\"id\":\"3790\",\"type\":\"LinearAxis\"},{\"attributes\":{\"line_alpha\":0.1,\"line_color\":\"navy\",\"x\":{\"field\":\"x\"},\"y\":{\"field\":\"y\"}},\"id\":\"3818\",\"type\":\"Line\"},{\"attributes\":{\"tools\":[{\"id\":\"3794\"},{\"id\":\"3795\"},{\"id\":\"3796\"},{\"id\":\"3797\"},{\"id\":\"3798\"},{\"id\":\"3799\"}]},\"id\":\"3801\",\"type\":\"Toolbar\"},{\"attributes\":{\"source\":{\"id\":\"3810\"}},\"id\":\"3815\",\"type\":\"CDSView\"},{\"attributes\":{},\"id\":\"3984\",\"type\":\"Selection\"},{\"attributes\":{},\"id\":\"3798\",\"type\":\"ResetTool\"},{\"attributes\":{\"format\":\"$0.00\"},\"id\":\"3808\",\"type\":\"NumeralTickFormatter\"},{\"attributes\":{\"axis_label_standoff\":10,\"axis_label_text_color\":\"#5B5B5B\",\"axis_label_text_font\":\"Calibri Light\",\"axis_label_text_font_size\":\"1.15em\",\"axis_label_text_font_style\":\"bold\",\"axis_line_alpha\":1,\"axis_line_color\":\"#5B5B5B\",\"coordinates\":null,\"formatter\":{\"id\":\"3981\"},\"group\":null,\"major_label_policy\":{\"id\":\"3982\"},\"major_label_text_color\":\"#5B5B5B\",\"major_label_text_font\":\"Calibri Light\",\"major_label_text_font_size\":\"0.95em\",\"major_label_text_font_style\":\"bold\",\"major_tick_in\":0,\"major_tick_line_alpha\":0.25,\"major_tick_line_color\":\"#5B5B5B\",\"major_tick_out\":3,\"minor_tick_line_alpha\":0.25,\"minor_tick_line_color\":\"#5B5B5B\",\"ticker\":{\"id\":\"3787\"}},\"id\":\"3786\",\"type\":\"LinearAxis\"},{\"attributes\":{\"data\":{\"x\":[1,2,3,4,5],\"y\":[4,5,5,7,2]},\"selected\":{\"id\":\"3984\"},\"selection_policy\":{\"id\":\"3983\"}},\"id\":\"3810\",\"type\":\"ColumnDataSource\"},{\"attributes\":{},\"id\":\"3782\",\"type\":\"LinearScale\"},{\"attributes\":{},\"id\":\"3780\",\"type\":\"DataRange1d\"},{\"attributes\":{},\"id\":\"3799\",\"type\":\"HelpTool\"},{\"attributes\":{\"axis\":{\"id\":\"3786\"},\"coordinates\":null,\"group\":null,\"ticker\":null},\"id\":\"3789\",\"type\":\"Grid\"},{\"attributes\":{},\"id\":\"3784\",\"type\":\"LinearScale\"},{\"attributes\":{\"axis\":{\"id\":\"3790\"},\"coordinates\":null,\"dimension\":1,\"group\":null,\"ticker\":null},\"id\":\"3793\",\"type\":\"Grid\"},{\"attributes\":{\"fill_color\":{\"value\":\"#1f77b4\"},\"line_color\":{\"value\":\"#1f77b4\"},\"size\":{\"value\":8},\"x\":{\"field\":\"x\"},\"y\":{\"field\":\"y\"}},\"id\":\"3811\",\"type\":\"Circle\"},{\"attributes\":{\"data\":{\"x\":[1,2,3,4,5],\"y\":[4,5,5,7,2]},\"selected\":{\"id\":\"3986\"},\"selection_policy\":{\"id\":\"3985\"}},\"id\":\"3816\",\"type\":\"ColumnDataSource\"},{\"attributes\":{},\"id\":\"3791\",\"type\":\"BasicTicker\"},{\"attributes\":{\"line_color\":\"navy\",\"x\":{\"field\":\"x\"},\"y\":{\"field\":\"y\"}},\"id\":\"3817\",\"type\":\"Line\"},{\"attributes\":{},\"id\":\"3981\",\"type\":\"BasicTickFormatter\"},{\"attributes\":{\"fill_alpha\":{\"value\":0.2},\"fill_color\":{\"value\":\"#1f77b4\"},\"hatch_alpha\":{\"value\":0.2},\"line_alpha\":{\"value\":0.2},\"line_color\":{\"value\":\"#1f77b4\"},\"size\":{\"value\":8},\"x\":{\"field\":\"x\"},\"y\":{\"field\":\"y\"}},\"id\":\"3813\",\"type\":\"Circle\"},{\"attributes\":{\"coordinates\":null,\"group\":null,\"text\":\"Tick formatter example\",\"text_color\":\"#5B5B5B\",\"text_font\":\"Calibri Light\",\"text_font_size\":\"1.25em\",\"text_font_style\":\"bold\"},\"id\":\"3776\",\"type\":\"Title\"},{\"attributes\":{},\"id\":\"3979\",\"type\":\"AllLabels\"},{\"attributes\":{},\"id\":\"3982\",\"type\":\"AllLabels\"},{\"attributes\":{\"overlay\":{\"id\":\"3800\"}},\"id\":\"3796\",\"type\":\"BoxZoomTool\"},{\"attributes\":{},\"id\":\"3778\",\"type\":\"DataRange1d\"},{\"attributes\":{},\"id\":\"3794\",\"type\":\"PanTool\"},{\"attributes\":{\"line_alpha\":0.2,\"line_color\":\"navy\",\"x\":{\"field\":\"x\"},\"y\":{\"field\":\"y\"}},\"id\":\"3819\",\"type\":\"Line\"},{\"attributes\":{\"coordinates\":null,\"data_source\":{\"id\":\"3816\"},\"glyph\":{\"id\":\"3817\"},\"group\":null,\"hover_glyph\":null,\"muted_glyph\":{\"id\":\"3819\"},\"nonselection_glyph\":{\"id\":\"3818\"},\"view\":{\"id\":\"3821\"}},\"id\":\"3820\",\"type\":\"GlyphRenderer\"},{\"attributes\":{\"source\":{\"id\":\"3816\"}},\"id\":\"3821\",\"type\":\"CDSView\"}],\"root_ids\":[\"3775\"]},\"title\":\"Bokeh Application\",\"version\":\"2.4.3\"}};\n",
       "  const render_items = [{\"docid\":\"3474c4aa-33eb-4978-924f-22088a0ac207\",\"root_ids\":[\"3775\"],\"roots\":{\"3775\":\"ff8e6761-fd62-4438-b4d9-ab8ceb8e7af6\"}}];\n",
       "  root.Bokeh.embed.embed_items_notebook(docs_json, render_items);\n",
       "  }\n",
       "  if (root.Bokeh !== undefined) {\n",
       "    embed_document(root);\n",
       "  } else {\n",
       "    let attempts = 0;\n",
       "    const timer = setInterval(function(root) {\n",
       "      if (root.Bokeh !== undefined) {\n",
       "        clearInterval(timer);\n",
       "        embed_document(root);\n",
       "      } else {\n",
       "        attempts++;\n",
       "        if (attempts > 100) {\n",
       "          clearInterval(timer);\n",
       "          console.log(\"Bokeh: ERROR: Unable to run BokehJS code because BokehJS library is missing\");\n",
       "        }\n",
       "      }\n",
       "    }, 10, root)\n",
       "  }\n",
       "})(window);"
      ],
      "application/vnd.bokehjs_exec.v0+json": ""
     },
     "metadata": {
      "application/vnd.bokehjs_exec.v0+json": {
       "id": "3775"
      }
     },
     "output_type": "display_data"
    }
   ],
   "source": [
    "from bokeh.models import NumeralTickFormatter\n",
    "from bokeh.plotting import figure, show\n",
    "\n",
    "# prepare some data\n",
    "x = [1, 2, 3, 4, 5]\n",
    "y = [4, 5, 5, 7, 2]\n",
    "\n",
    "# create new plot\n",
    "p = figure(\n",
    "    title=\"Tick formatter example\",\n",
    "    sizing_mode=\"stretch_width\",\n",
    "    max_width=500,\n",
    "    height=250,\n",
    ")\n",
    "\n",
    "# format axes ticks\n",
    "p.yaxis[0].formatter = NumeralTickFormatter(format=\"$0.00\")\n",
    "\n",
    "# add renderers\n",
    "p.circle(x, y, size=8)\n",
    "p.line(x, y, color=\"navy\", line_width=1)\n",
    "\n",
    "# show the results\n",
    "show(p)"
   ]
  },
  {
   "cell_type": "markdown",
   "id": "236e2c91-bfe0-4007-bf72-5d2d1bd4f16b",
   "metadata": {},
   "source": [
    "Enabling logarithmix axes"
   ]
  },
  {
   "cell_type": "code",
   "execution_count": 18,
   "id": "944ca535-6e4c-4b11-863e-0a43ef5fb896",
   "metadata": {},
   "outputs": [
    {
     "data": {
      "text/html": [
       "\n",
       "  <div class=\"bk-root\" id=\"14f85386-4e2f-444f-8ce4-debcc974885e\" data-root-id=\"4043\"></div>\n"
      ]
     },
     "metadata": {},
     "output_type": "display_data"
    },
    {
     "data": {
      "application/javascript": [
       "(function(root) {\n",
       "  function embed_document(root) {\n",
       "  const docs_json = {\"2a869442-85ac-40a6-80f0-7cdb38d73c48\":{\"defs\":[],\"roots\":{\"references\":[{\"attributes\":{\"below\":[{\"id\":\"4054\"}],\"center\":[{\"id\":\"4057\"},{\"id\":\"4061\"},{\"id\":\"4092\"}],\"height\":300,\"left\":[{\"id\":\"4058\"}],\"max_width\":500,\"renderers\":[{\"id\":\"4080\"},{\"id\":\"4098\"},{\"id\":\"4116\"},{\"id\":\"4137\"},{\"id\":\"4160\"},{\"id\":\"4184\"}],\"sizing_mode\":\"stretch_width\",\"title\":{\"id\":\"4044\"},\"toolbar\":{\"id\":\"4069\"},\"x_range\":{\"id\":\"4046\"},\"x_scale\":{\"id\":\"4050\"},\"y_range\":{\"id\":\"4048\"},\"y_scale\":{\"id\":\"4052\"}},\"id\":\"4043\",\"subtype\":\"Figure\",\"type\":\"Plot\"},{\"attributes\":{},\"id\":\"4090\",\"type\":\"Selection\"},{\"attributes\":{\"fill_color\":{\"value\":\"red\"},\"line_color\":{\"value\":\"red\"},\"size\":{\"value\":6},\"x\":{\"field\":\"x\"},\"y\":{\"field\":\"y\"}},\"id\":\"4157\",\"type\":\"Circle\"},{\"attributes\":{},\"id\":\"4089\",\"type\":\"UnionRenderers\"},{\"attributes\":{\"fill_alpha\":{\"value\":0.1},\"fill_color\":{\"value\":\"red\"},\"hatch_alpha\":{\"value\":0.1},\"line_alpha\":{\"value\":0.1},\"line_color\":{\"value\":\"red\"},\"size\":{\"value\":6},\"x\":{\"field\":\"x\"},\"y\":{\"field\":\"y\"}},\"id\":\"4158\",\"type\":\"Circle\"},{\"attributes\":{\"fill_alpha\":{\"value\":0.2},\"fill_color\":{\"value\":\"white\"},\"hatch_alpha\":{\"value\":0.2},\"line_alpha\":{\"value\":0.2},\"line_color\":{\"value\":\"#1f77b4\"},\"size\":{\"value\":8},\"x\":{\"field\":\"x\"},\"y\":{\"field\":\"y\"}},\"id\":\"4097\",\"type\":\"Circle\"},{\"attributes\":{\"coordinates\":null,\"data_source\":{\"id\":\"4094\"},\"glyph\":{\"id\":\"4095\"},\"group\":null,\"hover_glyph\":null,\"muted_glyph\":{\"id\":\"4097\"},\"nonselection_glyph\":{\"id\":\"4096\"},\"view\":{\"id\":\"4099\"}},\"id\":\"4098\",\"type\":\"GlyphRenderer\"},{\"attributes\":{\"data\":{\"x\":[0.1,0.5,1.0,1.5,2.0,2.5,3.0],\"y\":[0.010000000000000002,0.25,1.0,2.25,4.0,6.25,9.0]},\"selected\":{\"id\":\"4130\"},\"selection_policy\":{\"id\":\"4129\"}},\"id\":\"4112\",\"type\":\"ColumnDataSource\"},{\"attributes\":{\"source\":{\"id\":\"4094\"}},\"id\":\"4099\",\"type\":\"CDSView\"},{\"attributes\":{\"fill_alpha\":{\"value\":0.2},\"fill_color\":{\"value\":\"red\"},\"hatch_alpha\":{\"value\":0.2},\"line_alpha\":{\"value\":0.2},\"line_color\":{\"value\":\"red\"},\"size\":{\"value\":6},\"x\":{\"field\":\"x\"},\"y\":{\"field\":\"y\"}},\"id\":\"4159\",\"type\":\"Circle\"},{\"attributes\":{\"coordinates\":null,\"data_source\":{\"id\":\"4112\"},\"glyph\":{\"id\":\"4113\"},\"group\":null,\"hover_glyph\":null,\"muted_glyph\":{\"id\":\"4115\"},\"nonselection_glyph\":{\"id\":\"4114\"},\"view\":{\"id\":\"4117\"}},\"id\":\"4116\",\"type\":\"GlyphRenderer\"},{\"attributes\":{\"fill_alpha\":{\"value\":0.1},\"fill_color\":{\"value\":\"white\"},\"hatch_alpha\":{\"value\":0.1},\"line_alpha\":{\"value\":0.1},\"line_color\":{\"value\":\"#1f77b4\"},\"size\":{\"value\":8},\"x\":{\"field\":\"x\"},\"y\":{\"field\":\"y\"}},\"id\":\"4096\",\"type\":\"Circle\"},{\"attributes\":{\"coordinates\":null,\"data_source\":{\"id\":\"4156\"},\"glyph\":{\"id\":\"4157\"},\"group\":null,\"hover_glyph\":null,\"muted_glyph\":{\"id\":\"4159\"},\"nonselection_glyph\":{\"id\":\"4158\"},\"view\":{\"id\":\"4161\"}},\"id\":\"4160\",\"type\":\"GlyphRenderer\"},{\"attributes\":{\"coordinates\":null,\"data_source\":{\"id\":\"4133\"},\"glyph\":{\"id\":\"4134\"},\"group\":null,\"hover_glyph\":null,\"muted_glyph\":{\"id\":\"4136\"},\"nonselection_glyph\":{\"id\":\"4135\"},\"view\":{\"id\":\"4138\"}},\"id\":\"4137\",\"type\":\"GlyphRenderer\"},{\"attributes\":{},\"id\":\"4109\",\"type\":\"UnionRenderers\"},{\"attributes\":{},\"id\":\"4110\",\"type\":\"Selection\"},{\"attributes\":{\"data\":{\"x\":[0.1,0.5,1.0,1.5,2.0,2.5,3.0],\"y\":[0.1,0.5,1.0,1.5,2.0,2.5,3.0]},\"selected\":{\"id\":\"4090\"},\"selection_policy\":{\"id\":\"4089\"}},\"id\":\"4076\",\"type\":\"ColumnDataSource\"},{\"attributes\":{\"source\":{\"id\":\"4076\"}},\"id\":\"4081\",\"type\":\"CDSView\"},{\"attributes\":{},\"id\":\"4063\",\"type\":\"WheelZoomTool\"},{\"attributes\":{\"axis\":{\"id\":\"4058\"},\"coordinates\":null,\"dimension\":1,\"group\":null,\"ticker\":null},\"id\":\"4061\",\"type\":\"Grid\"},{\"attributes\":{},\"id\":\"4062\",\"type\":\"PanTool\"},{\"attributes\":{\"overlay\":{\"id\":\"4068\"}},\"id\":\"4064\",\"type\":\"BoxZoomTool\"},{\"attributes\":{},\"id\":\"4065\",\"type\":\"SaveTool\"},{\"attributes\":{},\"id\":\"4066\",\"type\":\"ResetTool\"},{\"attributes\":{\"bottom_units\":\"screen\",\"coordinates\":null,\"fill_alpha\":0.5,\"fill_color\":\"lightgrey\",\"group\":null,\"left_units\":\"screen\",\"level\":\"overlay\",\"line_alpha\":1.0,\"line_color\":\"black\",\"line_dash\":[4,4],\"line_width\":2,\"right_units\":\"screen\",\"syncable\":false,\"top_units\":\"screen\"},\"id\":\"4068\",\"type\":\"BoxAnnotation\"},{\"attributes\":{\"tools\":[{\"id\":\"4062\"},{\"id\":\"4063\"},{\"id\":\"4064\"},{\"id\":\"4065\"},{\"id\":\"4066\"},{\"id\":\"4067\"}]},\"id\":\"4069\",\"type\":\"Toolbar\"},{\"attributes\":{\"data\":{\"x\":[0.1,0.5,1.0,1.5,2.0,2.5,3.0],\"y\":[1.2589254117941673,3.1622776601683795,10.0,31.622776601683793,100.0,316.22776601683796,1000.0]},\"selected\":{\"id\":\"4153\"},\"selection_policy\":{\"id\":\"4152\"}},\"id\":\"4133\",\"type\":\"ColumnDataSource\"},{\"attributes\":{},\"id\":\"4067\",\"type\":\"HelpTool\"},{\"attributes\":{\"line_alpha\":0.1,\"line_color\":\"#1f77b4\",\"x\":{\"field\":\"x\"},\"y\":{\"field\":\"y\"}},\"id\":\"4078\",\"type\":\"Line\"},{\"attributes\":{\"line_alpha\":0.2,\"line_color\":\"#1f77b4\",\"x\":{\"field\":\"x\"},\"y\":{\"field\":\"y\"}},\"id\":\"4079\",\"type\":\"Line\"},{\"attributes\":{\"line_alpha\":0.1,\"line_color\":\"#1f77b4\",\"line_width\":3,\"x\":{\"field\":\"x\"},\"y\":{\"field\":\"y\"}},\"id\":\"4114\",\"type\":\"Line\"},{\"attributes\":{\"line_alpha\":0.2,\"line_color\":\"#1f77b4\",\"line_width\":3,\"x\":{\"field\":\"x\"},\"y\":{\"field\":\"y\"}},\"id\":\"4115\",\"type\":\"Line\"},{\"attributes\":{\"source\":{\"id\":\"4112\"}},\"id\":\"4117\",\"type\":\"CDSView\"},{\"attributes\":{\"label\":{\"value\":\"y=x^2\"},\"renderers\":[{\"id\":\"4116\"}]},\"id\":\"4132\",\"type\":\"LegendItem\"},{\"attributes\":{},\"id\":\"4177\",\"type\":\"UnionRenderers\"},{\"attributes\":{\"line_color\":\"#1f77b4\",\"line_width\":3,\"x\":{\"field\":\"x\"},\"y\":{\"field\":\"y\"}},\"id\":\"4113\",\"type\":\"Line\"},{\"attributes\":{},\"id\":\"4130\",\"type\":\"Selection\"},{\"attributes\":{},\"id\":\"4129\",\"type\":\"UnionRenderers\"},{\"attributes\":{},\"id\":\"4088\",\"type\":\"AllLabels\"},{\"attributes\":{\"source\":{\"id\":\"4180\"}},\"id\":\"4185\",\"type\":\"CDSView\"},{\"attributes\":{},\"id\":\"4087\",\"type\":\"BasicTickFormatter\"},{\"attributes\":{\"coordinates\":null,\"data_source\":{\"id\":\"4180\"},\"glyph\":{\"id\":\"4181\"},\"group\":null,\"hover_glyph\":null,\"muted_glyph\":{\"id\":\"4183\"},\"nonselection_glyph\":{\"id\":\"4182\"},\"view\":{\"id\":\"4185\"}},\"id\":\"4184\",\"type\":\"GlyphRenderer\"},{\"attributes\":{},\"id\":\"4055\",\"type\":\"BasicTicker\"},{\"attributes\":{\"label\":{\"value\":\"y=10^x^2\"},\"renderers\":[{\"id\":\"4184\"}]},\"id\":\"4206\",\"type\":\"LegendItem\"},{\"attributes\":{\"line_alpha\":0.2,\"line_color\":\"orange\",\"line_dash\":[4,4],\"x\":{\"field\":\"x\"},\"y\":{\"field\":\"y\"}},\"id\":\"4183\",\"type\":\"Line\"},{\"attributes\":{},\"id\":\"4178\",\"type\":\"Selection\"},{\"attributes\":{\"line_alpha\":0.1,\"line_color\":\"orange\",\"line_dash\":[4,4],\"x\":{\"field\":\"x\"},\"y\":{\"field\":\"y\"}},\"id\":\"4182\",\"type\":\"Line\"},{\"attributes\":{\"num_minor_ticks\":10},\"id\":\"4059\",\"type\":\"LogTicker\"},{\"attributes\":{\"end\":100000000000,\"start\":0.001},\"id\":\"4048\",\"type\":\"Range1d\"},{\"attributes\":{\"data\":{\"x\":[0.1,0.5,1.0,1.5,2.0,2.5,3.0],\"y\":[0.1,0.5,1.0,1.5,2.0,2.5,3.0]},\"selected\":{\"id\":\"4110\"},\"selection_policy\":{\"id\":\"4109\"}},\"id\":\"4094\",\"type\":\"ColumnDataSource\"},{\"attributes\":{},\"id\":\"4050\",\"type\":\"LinearScale\"},{\"attributes\":{\"axis_label\":\"sections\",\"axis_label_standoff\":10,\"axis_label_text_color\":\"#5B5B5B\",\"axis_label_text_font\":\"Calibri Light\",\"axis_label_text_font_size\":\"1.15em\",\"axis_label_text_font_style\":\"bold\",\"axis_line_alpha\":1,\"axis_line_color\":\"#5B5B5B\",\"coordinates\":null,\"formatter\":{\"id\":\"4087\"},\"group\":null,\"major_label_policy\":{\"id\":\"4088\"},\"major_label_text_color\":\"#5B5B5B\",\"major_label_text_font\":\"Calibri Light\",\"major_label_text_font_size\":\"0.95em\",\"major_label_text_font_style\":\"bold\",\"major_tick_in\":0,\"major_tick_line_alpha\":0.25,\"major_tick_line_color\":\"#5B5B5B\",\"major_tick_out\":3,\"minor_tick_line_alpha\":0.25,\"minor_tick_line_color\":\"#5B5B5B\",\"ticker\":{\"id\":\"4055\"}},\"id\":\"4054\",\"type\":\"LinearAxis\"},{\"attributes\":{\"data\":{\"x\":[0.1,0.5,1.0,1.5,2.0,2.5,3.0],\"y\":[1.2589254117941673,3.1622776601683795,10.0,31.622776601683793,100.0,316.22776601683796,1000.0]},\"selected\":{\"id\":\"4178\"},\"selection_policy\":{\"id\":\"4177\"}},\"id\":\"4156\",\"type\":\"ColumnDataSource\"},{\"attributes\":{\"line_alpha\":0.2,\"line_color\":\"red\",\"x\":{\"field\":\"x\"},\"y\":{\"field\":\"y\"}},\"id\":\"4136\",\"type\":\"Line\"},{\"attributes\":{\"line_color\":\"#1f77b4\",\"x\":{\"field\":\"x\"},\"y\":{\"field\":\"y\"}},\"id\":\"4077\",\"type\":\"Line\"},{\"attributes\":{\"source\":{\"id\":\"4133\"}},\"id\":\"4138\",\"type\":\"CDSView\"},{\"attributes\":{\"line_alpha\":0.1,\"line_color\":\"red\",\"x\":{\"field\":\"x\"},\"y\":{\"field\":\"y\"}},\"id\":\"4135\",\"type\":\"Line\"},{\"attributes\":{\"label\":{\"value\":\"y=x\"},\"renderers\":[{\"id\":\"4080\"},{\"id\":\"4098\"}]},\"id\":\"4093\",\"type\":\"LegendItem\"},{\"attributes\":{\"line_color\":\"red\",\"x\":{\"field\":\"x\"},\"y\":{\"field\":\"y\"}},\"id\":\"4134\",\"type\":\"Line\"},{\"attributes\":{},\"id\":\"4203\",\"type\":\"UnionRenderers\"},{\"attributes\":{\"label\":{\"value\":\"y=10^x\"},\"renderers\":[{\"id\":\"4137\"},{\"id\":\"4160\"}]},\"id\":\"4155\",\"type\":\"LegendItem\"},{\"attributes\":{},\"id\":\"4153\",\"type\":\"Selection\"},{\"attributes\":{\"background_fill_alpha\":0.25,\"border_line_alpha\":0,\"coordinates\":null,\"glyph_width\":15,\"group\":null,\"items\":[{\"id\":\"4093\"},{\"id\":\"4132\"},{\"id\":\"4155\"},{\"id\":\"4206\"}],\"label_standoff\":8,\"label_text_color\":\"#5B5B5B\",\"label_text_font\":\"Calibri Light\",\"label_text_font_size\":\"0.95em\",\"label_text_font_style\":\"bold\",\"spacing\":8},\"id\":\"4092\",\"type\":\"Legend\"},{\"attributes\":{},\"id\":\"4152\",\"type\":\"UnionRenderers\"},{\"attributes\":{\"fill_color\":{\"value\":\"white\"},\"line_color\":{\"value\":\"#1f77b4\"},\"size\":{\"value\":8},\"x\":{\"field\":\"x\"},\"y\":{\"field\":\"y\"}},\"id\":\"4095\",\"type\":\"Circle\"},{\"attributes\":{\"source\":{\"id\":\"4156\"}},\"id\":\"4161\",\"type\":\"CDSView\"},{\"attributes\":{},\"id\":\"4204\",\"type\":\"Selection\"},{\"attributes\":{},\"id\":\"4046\",\"type\":\"DataRange1d\"},{\"attributes\":{\"axis_label\":\"particles\",\"axis_label_standoff\":10,\"axis_label_text_color\":\"#5B5B5B\",\"axis_label_text_font\":\"Calibri Light\",\"axis_label_text_font_size\":\"1.15em\",\"axis_label_text_font_style\":\"bold\",\"axis_line_alpha\":1,\"axis_line_color\":\"#5B5B5B\",\"coordinates\":null,\"formatter\":{\"id\":\"4084\"},\"group\":null,\"major_label_policy\":{\"id\":\"4085\"},\"major_label_text_color\":\"#5B5B5B\",\"major_label_text_font\":\"Calibri Light\",\"major_label_text_font_size\":\"0.95em\",\"major_label_text_font_style\":\"bold\",\"major_tick_in\":0,\"major_tick_line_alpha\":0.25,\"major_tick_line_color\":\"#5B5B5B\",\"major_tick_out\":3,\"minor_tick_line_alpha\":0.25,\"minor_tick_line_color\":\"#5B5B5B\",\"ticker\":{\"id\":\"4059\"}},\"id\":\"4058\",\"type\":\"LogAxis\"},{\"attributes\":{},\"id\":\"4052\",\"type\":\"LogScale\"},{\"attributes\":{\"coordinates\":null,\"data_source\":{\"id\":\"4076\"},\"glyph\":{\"id\":\"4077\"},\"group\":null,\"hover_glyph\":null,\"muted_glyph\":{\"id\":\"4079\"},\"nonselection_glyph\":{\"id\":\"4078\"},\"view\":{\"id\":\"4081\"}},\"id\":\"4080\",\"type\":\"GlyphRenderer\"},{\"attributes\":{\"axis\":{\"id\":\"4054\"},\"coordinates\":null,\"group\":null,\"ticker\":null},\"id\":\"4057\",\"type\":\"Grid\"},{\"attributes\":{\"line_color\":\"orange\",\"line_dash\":[4,4],\"x\":{\"field\":\"x\"},\"y\":{\"field\":\"y\"}},\"id\":\"4181\",\"type\":\"Line\"},{\"attributes\":{\"coordinates\":null,\"group\":null,\"text\":\"Logarithmic axis example\",\"text_color\":\"#5B5B5B\",\"text_font\":\"Calibri Light\",\"text_font_size\":\"1.25em\",\"text_font_style\":\"bold\"},\"id\":\"4044\",\"type\":\"Title\"},{\"attributes\":{\"data\":{\"x\":[0.1,0.5,1.0,1.5,2.0,2.5,3.0],\"y\":[1.023292992280754,1.7782794100389228,10.0,177.82794100389228,10000.0,1778279.410038923,1000000000.0]},\"selected\":{\"id\":\"4204\"},\"selection_policy\":{\"id\":\"4203\"}},\"id\":\"4180\",\"type\":\"ColumnDataSource\"},{\"attributes\":{\"ticker\":null},\"id\":\"4084\",\"type\":\"LogTickFormatter\"},{\"attributes\":{},\"id\":\"4085\",\"type\":\"AllLabels\"}],\"root_ids\":[\"4043\"]},\"title\":\"Bokeh Application\",\"version\":\"2.4.3\"}};\n",
       "  const render_items = [{\"docid\":\"2a869442-85ac-40a6-80f0-7cdb38d73c48\",\"root_ids\":[\"4043\"],\"roots\":{\"4043\":\"14f85386-4e2f-444f-8ce4-debcc974885e\"}}];\n",
       "  root.Bokeh.embed.embed_items_notebook(docs_json, render_items);\n",
       "  }\n",
       "  if (root.Bokeh !== undefined) {\n",
       "    embed_document(root);\n",
       "  } else {\n",
       "    let attempts = 0;\n",
       "    const timer = setInterval(function(root) {\n",
       "      if (root.Bokeh !== undefined) {\n",
       "        clearInterval(timer);\n",
       "        embed_document(root);\n",
       "      } else {\n",
       "        attempts++;\n",
       "        if (attempts > 100) {\n",
       "          clearInterval(timer);\n",
       "          console.log(\"Bokeh: ERROR: Unable to run BokehJS code because BokehJS library is missing\");\n",
       "        }\n",
       "      }\n",
       "    }, 10, root)\n",
       "  }\n",
       "})(window);"
      ],
      "application/vnd.bokehjs_exec.v0+json": ""
     },
     "metadata": {
      "application/vnd.bokehjs_exec.v0+json": {
       "id": "4043"
      }
     },
     "output_type": "display_data"
    }
   ],
   "source": [
    "from bokeh.plotting import figure, show\n",
    "\n",
    "# prepare some data\n",
    "x = [0.1, 0.5, 1.0, 1.5, 2.0, 2.5, 3.0]\n",
    "y0 = [i**2 for i in x]\n",
    "y1 = [10**i for i in x]\n",
    "y2 = [10**(i**2) for i in x]\n",
    "\n",
    "# create a new plot with a logarithmic axis type\n",
    "p = figure(\n",
    "    title=\"Logarithmic axis example\",\n",
    "    sizing_mode=\"stretch_width\",\n",
    "    height=300,\n",
    "    max_width=500,\n",
    "    y_axis_type=\"log\",\n",
    "    y_range=[0.001, 10 ** 11],\n",
    "    x_axis_label=\"sections\",\n",
    "    y_axis_label=\"particles\",\n",
    ")\n",
    "\n",
    "# add some renderers\n",
    "p.line(x, x, legend_label=\"y=x\")\n",
    "p.circle(x, x, legend_label=\"y=x\", fill_color=\"white\", size=8)\n",
    "p.line(x, y0, legend_label=\"y=x^2\", line_width=3)\n",
    "p.line(x, y1, legend_label=\"y=10^x\", line_color=\"red\")\n",
    "p.circle(x, y1, legend_label=\"y=10^x\", fill_color=\"red\", line_color=\"red\", size=6)\n",
    "p.line(x, y2, legend_label=\"y=10^x^2\", line_color=\"orange\", line_dash=\"4 4\")\n",
    "\n",
    "# show the results\n",
    "show(p)"
   ]
  },
  {
   "cell_type": "markdown",
   "id": "d087b585-83e0-4d5c-9f42-54d7f0ef63ca",
   "metadata": {},
   "source": [
    "Enabling datetime axes"
   ]
  },
  {
   "cell_type": "code",
   "execution_count": 19,
   "id": "79133918-2bb3-4c92-b1c6-a12847cb5512",
   "metadata": {},
   "outputs": [
    {
     "data": {
      "text/html": [
       "\n",
       "  <div class=\"bk-root\" id=\"002f459d-3977-41a7-8ad8-a0757b2bfbbb\" data-root-id=\"4493\"></div>\n"
      ]
     },
     "metadata": {},
     "output_type": "display_data"
    },
    {
     "data": {
      "application/javascript": [
       "(function(root) {\n",
       "  function embed_document(root) {\n",
       "  const docs_json = {\"ee058dcd-3818-49b9-ac78-3a447cb66a70\":{\"defs\":[],\"roots\":{\"references\":[{\"attributes\":{\"below\":[{\"id\":\"4504\"}],\"center\":[{\"id\":\"4507\"},{\"id\":\"4511\"}],\"height\":250,\"left\":[{\"id\":\"4508\"}],\"max_width\":500,\"renderers\":[{\"id\":\"4530\"},{\"id\":\"4536\"}],\"sizing_mode\":\"stretch_width\",\"title\":{\"id\":\"4494\"},\"toolbar\":{\"id\":\"4519\"},\"x_range\":{\"id\":\"4496\"},\"x_scale\":{\"id\":\"4500\"},\"y_range\":{\"id\":\"4498\"},\"y_scale\":{\"id\":\"4502\"}},\"id\":\"4493\",\"subtype\":\"Figure\",\"type\":\"Plot\"},{\"attributes\":{},\"id\":\"4735\",\"type\":\"UnionRenderers\"},{\"attributes\":{},\"id\":\"4736\",\"type\":\"Selection\"},{\"attributes\":{},\"id\":\"4517\",\"type\":\"HelpTool\"},{\"attributes\":{\"axis\":{\"id\":\"4504\"},\"coordinates\":null,\"group\":null,\"ticker\":null},\"id\":\"4507\",\"type\":\"Grid\"},{\"attributes\":{\"months\":[\"%b %Y\"]},\"id\":\"4540\",\"type\":\"DatetimeTickFormatter\"},{\"attributes\":{},\"id\":\"4513\",\"type\":\"WheelZoomTool\"},{\"attributes\":{},\"id\":\"4502\",\"type\":\"LinearScale\"},{\"attributes\":{\"bottom_units\":\"screen\",\"coordinates\":null,\"fill_alpha\":0.5,\"fill_color\":\"lightgrey\",\"group\":null,\"left_units\":\"screen\",\"level\":\"overlay\",\"line_alpha\":1.0,\"line_color\":\"black\",\"line_dash\":[4,4],\"line_width\":2,\"right_units\":\"screen\",\"syncable\":false,\"top_units\":\"screen\"},\"id\":\"4518\",\"type\":\"BoxAnnotation\"},{\"attributes\":{},\"id\":\"4516\",\"type\":\"ResetTool\"},{\"attributes\":{},\"id\":\"4509\",\"type\":\"BasicTicker\"},{\"attributes\":{},\"id\":\"4515\",\"type\":\"SaveTool\"},{\"attributes\":{\"axis_label_standoff\":10,\"axis_label_text_color\":\"#5B5B5B\",\"axis_label_text_font\":\"Calibri Light\",\"axis_label_text_font_size\":\"1.15em\",\"axis_label_text_font_style\":\"bold\",\"axis_line_alpha\":1,\"axis_line_color\":\"#5B5B5B\",\"coordinates\":null,\"formatter\":{\"id\":\"4538\"},\"group\":null,\"major_label_policy\":{\"id\":\"4730\"},\"major_label_text_color\":\"#5B5B5B\",\"major_label_text_font\":\"Calibri Light\",\"major_label_text_font_size\":\"0.95em\",\"major_label_text_font_style\":\"bold\",\"major_tick_in\":0,\"major_tick_line_alpha\":0.25,\"major_tick_line_color\":\"#5B5B5B\",\"major_tick_out\":3,\"minor_tick_line_alpha\":0.25,\"minor_tick_line_color\":\"#5B5B5B\",\"ticker\":{\"id\":\"4509\"}},\"id\":\"4508\",\"type\":\"LinearAxis\"},{\"attributes\":{\"fill_alpha\":{\"value\":0.1},\"fill_color\":{\"value\":\"#1f77b4\"},\"hatch_alpha\":{\"value\":0.1},\"line_alpha\":{\"value\":0.1},\"line_color\":{\"value\":\"#1f77b4\"},\"size\":{\"value\":8},\"x\":{\"field\":\"x\"},\"y\":{\"field\":\"y\"}},\"id\":\"4528\",\"type\":\"Circle\"},{\"attributes\":{\"source\":{\"id\":\"4532\"}},\"id\":\"4537\",\"type\":\"CDSView\"},{\"attributes\":{\"axis_label_standoff\":10,\"axis_label_text_color\":\"#5B5B5B\",\"axis_label_text_font\":\"Calibri Light\",\"axis_label_text_font_size\":\"1.15em\",\"axis_label_text_font_style\":\"bold\",\"axis_line_alpha\":1,\"axis_line_color\":\"#5B5B5B\",\"coordinates\":null,\"formatter\":{\"id\":\"4540\"},\"group\":null,\"major_label_policy\":{\"id\":\"4732\"},\"major_label_text_color\":\"#5B5B5B\",\"major_label_text_font\":\"Calibri Light\",\"major_label_text_font_size\":\"0.95em\",\"major_label_text_font_style\":\"bold\",\"major_tick_in\":0,\"major_tick_line_alpha\":0.25,\"major_tick_line_color\":\"#5B5B5B\",\"major_tick_out\":3,\"minor_tick_line_alpha\":0.25,\"minor_tick_line_color\":\"#5B5B5B\",\"ticker\":{\"id\":\"4505\"}},\"id\":\"4504\",\"type\":\"DatetimeAxis\"},{\"attributes\":{},\"id\":\"4730\",\"type\":\"AllLabels\"},{\"attributes\":{},\"id\":\"4732\",\"type\":\"AllLabels\"},{\"attributes\":{},\"id\":\"4498\",\"type\":\"DataRange1d\"},{\"attributes\":{},\"id\":\"4512\",\"type\":\"PanTool\"},{\"attributes\":{},\"id\":\"4496\",\"type\":\"DataRange1d\"},{\"attributes\":{\"num_minor_ticks\":5,\"tickers\":[{\"id\":\"4738\"},{\"id\":\"4739\"},{\"id\":\"4740\"},{\"id\":\"4741\"},{\"id\":\"4742\"},{\"id\":\"4743\"},{\"id\":\"4744\"},{\"id\":\"4745\"},{\"id\":\"4746\"},{\"id\":\"4747\"},{\"id\":\"4748\"},{\"id\":\"4749\"}]},\"id\":\"4505\",\"type\":\"DatetimeTicker\"},{\"attributes\":{},\"id\":\"4500\",\"type\":\"LinearScale\"},{\"attributes\":{\"coordinates\":null,\"group\":null,\"text\":\"datetime axis example\",\"text_color\":\"#5B5B5B\",\"text_font\":\"Calibri Light\",\"text_font_size\":\"1.25em\",\"text_font_style\":\"bold\"},\"id\":\"4494\",\"type\":\"Title\"},{\"attributes\":{\"line_color\":\"navy\",\"x\":{\"field\":\"x\"},\"y\":{\"field\":\"y\"}},\"id\":\"4533\",\"type\":\"Line\"},{\"attributes\":{},\"id\":\"4734\",\"type\":\"Selection\"},{\"attributes\":{\"fill_color\":{\"value\":\"#1f77b4\"},\"line_color\":{\"value\":\"#1f77b4\"},\"size\":{\"value\":8},\"x\":{\"field\":\"x\"},\"y\":{\"field\":\"y\"}},\"id\":\"4527\",\"type\":\"Circle\"},{\"attributes\":{\"mantissas\":[1,2,5],\"max_interval\":500.0,\"num_minor_ticks\":0},\"id\":\"4738\",\"type\":\"AdaptiveTicker\"},{\"attributes\":{\"tools\":[{\"id\":\"4512\"},{\"id\":\"4513\"},{\"id\":\"4514\"},{\"id\":\"4515\"},{\"id\":\"4516\"},{\"id\":\"4517\"}]},\"id\":\"4519\",\"type\":\"Toolbar\"},{\"attributes\":{\"format\":\"$0.00\"},\"id\":\"4538\",\"type\":\"NumeralTickFormatter\"},{\"attributes\":{\"base\":60,\"mantissas\":[1,2,5,10,15,20,30],\"max_interval\":1800000.0,\"min_interval\":1000.0,\"num_minor_ticks\":0},\"id\":\"4739\",\"type\":\"AdaptiveTicker\"},{\"attributes\":{\"source\":{\"id\":\"4526\"}},\"id\":\"4531\",\"type\":\"CDSView\"},{\"attributes\":{\"data\":{\"x\":[1666798155160.9448,1667402955160.9521,1668007755160.9548,1668612555160.957,1669217355160.958,1669822155160.96,1670426955160.9622,1671031755160.964,1671636555160.9648,1672241355160.967,1672846155160.968,1673450955160.97,1674055755160.971,1674660555160.9731,1675265355160.975,1675870155160.9758,1676474955160.978,1677079755160.979,1677684555160.981,1678289355160.982,1678894155160.9841,1679498955160.985,1680103755160.9868,1680708555160.989,1681313355160.99,1681918155160.992],\"y\":[99,24,16,59,37,78,26,32,57,11,51,70,90,3,35,36,63,20,40,18,80,79,68,47,87,27]},\"selected\":{\"id\":\"4734\"},\"selection_policy\":{\"id\":\"4733\"}},\"id\":\"4526\",\"type\":\"ColumnDataSource\"},{\"attributes\":{\"line_alpha\":0.1,\"line_color\":\"navy\",\"x\":{\"field\":\"x\"},\"y\":{\"field\":\"y\"}},\"id\":\"4534\",\"type\":\"Line\"},{\"attributes\":{\"base\":24,\"mantissas\":[1,2,4,6,8,12],\"max_interval\":43200000.0,\"min_interval\":3600000.0,\"num_minor_ticks\":0},\"id\":\"4740\",\"type\":\"AdaptiveTicker\"},{\"attributes\":{},\"id\":\"4749\",\"type\":\"YearsTicker\"},{\"attributes\":{\"fill_alpha\":{\"value\":0.2},\"fill_color\":{\"value\":\"#1f77b4\"},\"hatch_alpha\":{\"value\":0.2},\"line_alpha\":{\"value\":0.2},\"line_color\":{\"value\":\"#1f77b4\"},\"size\":{\"value\":8},\"x\":{\"field\":\"x\"},\"y\":{\"field\":\"y\"}},\"id\":\"4529\",\"type\":\"Circle\"},{\"attributes\":{\"months\":[0,1,2,3,4,5,6,7,8,9,10,11]},\"id\":\"4745\",\"type\":\"MonthsTicker\"},{\"attributes\":{\"days\":[1,15]},\"id\":\"4744\",\"type\":\"DaysTicker\"},{\"attributes\":{\"coordinates\":null,\"data_source\":{\"id\":\"4526\"},\"glyph\":{\"id\":\"4527\"},\"group\":null,\"hover_glyph\":null,\"muted_glyph\":{\"id\":\"4529\"},\"nonselection_glyph\":{\"id\":\"4528\"},\"view\":{\"id\":\"4531\"}},\"id\":\"4530\",\"type\":\"GlyphRenderer\"},{\"attributes\":{\"days\":[1,2,3,4,5,6,7,8,9,10,11,12,13,14,15,16,17,18,19,20,21,22,23,24,25,26,27,28,29,30,31]},\"id\":\"4741\",\"type\":\"DaysTicker\"},{\"attributes\":{\"days\":[1,4,7,10,13,16,19,22,25,28]},\"id\":\"4742\",\"type\":\"DaysTicker\"},{\"attributes\":{\"line_alpha\":0.2,\"line_color\":\"navy\",\"x\":{\"field\":\"x\"},\"y\":{\"field\":\"y\"}},\"id\":\"4535\",\"type\":\"Line\"},{\"attributes\":{},\"id\":\"4733\",\"type\":\"UnionRenderers\"},{\"attributes\":{\"days\":[1,8,15,22]},\"id\":\"4743\",\"type\":\"DaysTicker\"},{\"attributes\":{\"months\":[0,6]},\"id\":\"4748\",\"type\":\"MonthsTicker\"},{\"attributes\":{\"overlay\":{\"id\":\"4518\"}},\"id\":\"4514\",\"type\":\"BoxZoomTool\"},{\"attributes\":{\"months\":[0,2,4,6,8,10]},\"id\":\"4746\",\"type\":\"MonthsTicker\"},{\"attributes\":{\"data\":{\"x\":[1666798155160.9448,1667402955160.9521,1668007755160.9548,1668612555160.957,1669217355160.958,1669822155160.96,1670426955160.9622,1671031755160.964,1671636555160.9648,1672241355160.967,1672846155160.968,1673450955160.97,1674055755160.971,1674660555160.9731,1675265355160.975,1675870155160.9758,1676474955160.978,1677079755160.979,1677684555160.981,1678289355160.982,1678894155160.9841,1679498955160.985,1680103755160.9868,1680708555160.989,1681313355160.99,1681918155160.992],\"y\":[99,24,16,59,37,78,26,32,57,11,51,70,90,3,35,36,63,20,40,18,80,79,68,47,87,27]},\"selected\":{\"id\":\"4736\"},\"selection_policy\":{\"id\":\"4735\"}},\"id\":\"4532\",\"type\":\"ColumnDataSource\"},{\"attributes\":{\"coordinates\":null,\"data_source\":{\"id\":\"4532\"},\"glyph\":{\"id\":\"4533\"},\"group\":null,\"hover_glyph\":null,\"muted_glyph\":{\"id\":\"4535\"},\"nonselection_glyph\":{\"id\":\"4534\"},\"view\":{\"id\":\"4537\"}},\"id\":\"4536\",\"type\":\"GlyphRenderer\"},{\"attributes\":{\"axis\":{\"id\":\"4508\"},\"coordinates\":null,\"dimension\":1,\"group\":null,\"ticker\":null},\"id\":\"4511\",\"type\":\"Grid\"},{\"attributes\":{\"months\":[0,4,8]},\"id\":\"4747\",\"type\":\"MonthsTicker\"}],\"root_ids\":[\"4493\"]},\"title\":\"Bokeh Application\",\"version\":\"2.4.3\"}};\n",
       "  const render_items = [{\"docid\":\"ee058dcd-3818-49b9-ac78-3a447cb66a70\",\"root_ids\":[\"4493\"],\"roots\":{\"4493\":\"002f459d-3977-41a7-8ad8-a0757b2bfbbb\"}}];\n",
       "  root.Bokeh.embed.embed_items_notebook(docs_json, render_items);\n",
       "  }\n",
       "  if (root.Bokeh !== undefined) {\n",
       "    embed_document(root);\n",
       "  } else {\n",
       "    let attempts = 0;\n",
       "    const timer = setInterval(function(root) {\n",
       "      if (root.Bokeh !== undefined) {\n",
       "        clearInterval(timer);\n",
       "        embed_document(root);\n",
       "      } else {\n",
       "        attempts++;\n",
       "        if (attempts > 100) {\n",
       "          clearInterval(timer);\n",
       "          console.log(\"Bokeh: ERROR: Unable to run BokehJS code because BokehJS library is missing\");\n",
       "        }\n",
       "      }\n",
       "    }, 10, root)\n",
       "  }\n",
       "})(window);"
      ],
      "application/vnd.bokehjs_exec.v0+json": ""
     },
     "metadata": {
      "application/vnd.bokehjs_exec.v0+json": {
       "id": "4493"
      }
     },
     "output_type": "display_data"
    }
   ],
   "source": [
    "import random\n",
    "from datetime import datetime, timedelta\n",
    "\n",
    "from bokeh.models import DatetimeTickFormatter, NumeralTickFormatter\n",
    "from bokeh.plotting import figure, show\n",
    "\n",
    "# generate list of dates (today's date in subsequent weeks)\n",
    "dates = [(datetime.now() + timedelta(day * 7)) for day in range(0, 26)]\n",
    "\n",
    "# generate 25 random data points\n",
    "y = random.sample(range(0, 100), 26)\n",
    "\n",
    "# create new plot\n",
    "p = figure(\n",
    "    title=\"datetime axis example\",\n",
    "    x_axis_type=\"datetime\",\n",
    "    sizing_mode=\"stretch_width\",\n",
    "    max_width=500,\n",
    "    height=250,\n",
    ")\n",
    "\n",
    "# add renderers\n",
    "p.circle(dates, y, size=8)\n",
    "p.line(dates, y, color=\"navy\", line_width=1)\n",
    "\n",
    "# format axes ticks\n",
    "p.yaxis[0].formatter = NumeralTickFormatter(format=\"$0.00\")\n",
    "p.xaxis[0].formatter = DatetimeTickFormatter(months=\"%b %Y\")\n",
    "\n",
    "# show the results\n",
    "show(p)"
   ]
  },
  {
   "cell_type": "markdown",
   "id": "0193d019-c595-4fb4-93dd-c4879ac0f577",
   "metadata": {},
   "source": [
    "Styling lines"
   ]
  },
  {
   "cell_type": "code",
   "execution_count": 20,
   "id": "d904b5c9-d857-4106-ab83-9f8f6fb56508",
   "metadata": {},
   "outputs": [
    {
     "data": {
      "text/html": [
       "\n",
       "  <div class=\"bk-root\" id=\"dd25e92a-b983-4902-8fde-13804eb35c34\" data-root-id=\"4860\"></div>\n"
      ]
     },
     "metadata": {},
     "output_type": "display_data"
    },
    {
     "data": {
      "application/javascript": [
       "(function(root) {\n",
       "  function embed_document(root) {\n",
       "  const docs_json = {\"3e6f4fef-5a7b-48d5-af54-e92e03bfb4e2\":{\"defs\":[],\"roots\":{\"references\":[{\"attributes\":{\"below\":[{\"id\":\"4871\"}],\"center\":[{\"id\":\"4874\"},{\"id\":\"4878\"}],\"height\":250,\"left\":[{\"id\":\"4875\"}],\"max_width\":500,\"renderers\":[{\"id\":\"4897\"}],\"sizing_mode\":\"stretch_width\",\"title\":{\"id\":\"4861\"},\"toolbar\":{\"id\":\"4886\"},\"x_range\":{\"id\":\"4863\"},\"x_scale\":{\"id\":\"4867\"},\"y_range\":{\"id\":\"4865\"},\"y_scale\":{\"id\":\"4869\"}},\"id\":\"4860\",\"subtype\":\"Figure\",\"type\":\"Plot\"},{\"attributes\":{},\"id\":\"4869\",\"type\":\"LinearScale\"},{\"attributes\":{\"overlay\":{\"id\":\"4885\"}},\"id\":\"4881\",\"type\":\"BoxZoomTool\"},{\"attributes\":{},\"id\":\"5114\",\"type\":\"UnionRenderers\"},{\"attributes\":{},\"id\":\"4863\",\"type\":\"DataRange1d\"},{\"attributes\":{},\"id\":\"5112\",\"type\":\"BasicTickFormatter\"},{\"attributes\":{},\"id\":\"5115\",\"type\":\"Selection\"},{\"attributes\":{\"line_color\":\"green\",\"line_width\":2,\"x\":{\"field\":\"x\"},\"y\":{\"field\":\"y\"}},\"id\":\"4894\",\"type\":\"Line\"},{\"attributes\":{\"axis\":{\"id\":\"4871\"},\"coordinates\":null,\"grid_line_color\":\"red\",\"group\":null,\"ticker\":null},\"id\":\"4874\",\"type\":\"Grid\"},{\"attributes\":{},\"id\":\"5110\",\"type\":\"AllLabels\"},{\"attributes\":{\"axis_label_standoff\":10,\"axis_label_text_color\":\"#5B5B5B\",\"axis_label_text_font\":\"Calibri Light\",\"axis_label_text_font_size\":\"1.15em\",\"axis_label_text_font_style\":\"bold\",\"axis_line_alpha\":1,\"axis_line_color\":\"#5B5B5B\",\"coordinates\":null,\"formatter\":{\"id\":\"5109\"},\"group\":null,\"major_label_policy\":{\"id\":\"5110\"},\"major_label_text_color\":\"#5B5B5B\",\"major_label_text_font\":\"Calibri Light\",\"major_label_text_font_size\":\"0.95em\",\"major_label_text_font_style\":\"bold\",\"major_tick_in\":0,\"major_tick_line_alpha\":0.25,\"major_tick_line_color\":\"#5B5B5B\",\"major_tick_out\":3,\"minor_tick_line_alpha\":0.25,\"minor_tick_line_color\":\"#5B5B5B\",\"ticker\":{\"id\":\"4876\"}},\"id\":\"4875\",\"type\":\"LinearAxis\"},{\"attributes\":{\"coordinates\":null,\"data_source\":{\"id\":\"4893\"},\"glyph\":{\"id\":\"4894\"},\"group\":null,\"hover_glyph\":null,\"muted_glyph\":{\"id\":\"4896\"},\"nonselection_glyph\":{\"id\":\"4895\"},\"view\":{\"id\":\"4898\"}},\"id\":\"4897\",\"type\":\"GlyphRenderer\"},{\"attributes\":{\"axis\":{\"id\":\"4875\"},\"coordinates\":null,\"dimension\":1,\"grid_line_alpha\":0.8,\"grid_line_dash\":[6,4],\"group\":null,\"ticker\":null},\"id\":\"4878\",\"type\":\"Grid\"},{\"attributes\":{\"line_alpha\":0.1,\"line_color\":\"green\",\"line_width\":2,\"x\":{\"field\":\"x\"},\"y\":{\"field\":\"y\"}},\"id\":\"4895\",\"type\":\"Line\"},{\"attributes\":{\"bottom_units\":\"screen\",\"coordinates\":null,\"fill_alpha\":0.5,\"fill_color\":\"lightgrey\",\"group\":null,\"left_units\":\"screen\",\"level\":\"overlay\",\"line_alpha\":1.0,\"line_color\":\"black\",\"line_dash\":[4,4],\"line_width\":2,\"right_units\":\"screen\",\"syncable\":false,\"top_units\":\"screen\"},\"id\":\"4885\",\"type\":\"BoxAnnotation\"},{\"attributes\":{\"coordinates\":null,\"group\":null,\"text\":\"Customized grid lines example\",\"text_color\":\"#5B5B5B\",\"text_font\":\"Calibri Light\",\"text_font_size\":\"1.25em\",\"text_font_style\":\"bold\"},\"id\":\"4861\",\"type\":\"Title\"},{\"attributes\":{},\"id\":\"4876\",\"type\":\"BasicTicker\"},{\"attributes\":{\"axis_label_standoff\":10,\"axis_label_text_color\":\"#5B5B5B\",\"axis_label_text_font\":\"Calibri Light\",\"axis_label_text_font_size\":\"1.15em\",\"axis_label_text_font_style\":\"bold\",\"axis_line_alpha\":1,\"axis_line_color\":\"#5B5B5B\",\"coordinates\":null,\"formatter\":{\"id\":\"5112\"},\"group\":null,\"major_label_policy\":{\"id\":\"5113\"},\"major_label_text_color\":\"#5B5B5B\",\"major_label_text_font\":\"Calibri Light\",\"major_label_text_font_size\":\"0.95em\",\"major_label_text_font_style\":\"bold\",\"major_tick_in\":0,\"major_tick_line_alpha\":0.25,\"major_tick_line_color\":\"#5B5B5B\",\"major_tick_out\":3,\"minor_tick_line_alpha\":0.25,\"minor_tick_line_color\":\"#5B5B5B\",\"ticker\":{\"id\":\"4872\"}},\"id\":\"4871\",\"type\":\"LinearAxis\"},{\"attributes\":{},\"id\":\"4883\",\"type\":\"ResetTool\"},{\"attributes\":{},\"id\":\"4884\",\"type\":\"HelpTool\"},{\"attributes\":{},\"id\":\"5113\",\"type\":\"AllLabels\"},{\"attributes\":{\"data\":{\"x\":[1,2,3,4,5],\"y\":[4,5,5,7,2]},\"selected\":{\"id\":\"5115\"},\"selection_policy\":{\"id\":\"5114\"}},\"id\":\"4893\",\"type\":\"ColumnDataSource\"},{\"attributes\":{},\"id\":\"5109\",\"type\":\"BasicTickFormatter\"},{\"attributes\":{},\"id\":\"4865\",\"type\":\"DataRange1d\"},{\"attributes\":{},\"id\":\"4879\",\"type\":\"PanTool\"},{\"attributes\":{},\"id\":\"4880\",\"type\":\"WheelZoomTool\"},{\"attributes\":{},\"id\":\"4867\",\"type\":\"LinearScale\"},{\"attributes\":{},\"id\":\"4882\",\"type\":\"SaveTool\"},{\"attributes\":{\"line_alpha\":0.2,\"line_color\":\"green\",\"line_width\":2,\"x\":{\"field\":\"x\"},\"y\":{\"field\":\"y\"}},\"id\":\"4896\",\"type\":\"Line\"},{\"attributes\":{\"source\":{\"id\":\"4893\"}},\"id\":\"4898\",\"type\":\"CDSView\"},{\"attributes\":{},\"id\":\"4872\",\"type\":\"BasicTicker\"},{\"attributes\":{\"tools\":[{\"id\":\"4879\"},{\"id\":\"4880\"},{\"id\":\"4881\"},{\"id\":\"4882\"},{\"id\":\"4883\"},{\"id\":\"4884\"}]},\"id\":\"4886\",\"type\":\"Toolbar\"}],\"root_ids\":[\"4860\"]},\"title\":\"Bokeh Application\",\"version\":\"2.4.3\"}};\n",
       "  const render_items = [{\"docid\":\"3e6f4fef-5a7b-48d5-af54-e92e03bfb4e2\",\"root_ids\":[\"4860\"],\"roots\":{\"4860\":\"dd25e92a-b983-4902-8fde-13804eb35c34\"}}];\n",
       "  root.Bokeh.embed.embed_items_notebook(docs_json, render_items);\n",
       "  }\n",
       "  if (root.Bokeh !== undefined) {\n",
       "    embed_document(root);\n",
       "  } else {\n",
       "    let attempts = 0;\n",
       "    const timer = setInterval(function(root) {\n",
       "      if (root.Bokeh !== undefined) {\n",
       "        clearInterval(timer);\n",
       "        embed_document(root);\n",
       "      } else {\n",
       "        attempts++;\n",
       "        if (attempts > 100) {\n",
       "          clearInterval(timer);\n",
       "          console.log(\"Bokeh: ERROR: Unable to run BokehJS code because BokehJS library is missing\");\n",
       "        }\n",
       "      }\n",
       "    }, 10, root)\n",
       "  }\n",
       "})(window);"
      ],
      "application/vnd.bokehjs_exec.v0+json": ""
     },
     "metadata": {
      "application/vnd.bokehjs_exec.v0+json": {
       "id": "4860"
      }
     },
     "output_type": "display_data"
    }
   ],
   "source": [
    "from bokeh.plotting import figure, show\n",
    "\n",
    "# prepare some data\n",
    "x = [1, 2, 3, 4, 5]\n",
    "y = [4, 5, 5, 7, 2]\n",
    "\n",
    "# create a plot\n",
    "p = figure(\n",
    "    title=\"Customized grid lines example\",\n",
    "    sizing_mode=\"stretch_width\",\n",
    "    max_width=500,\n",
    "    height=250,\n",
    ")\n",
    "\n",
    "# add a renderer\n",
    "p.line(x, y, line_color=\"green\", line_width=2)\n",
    "\n",
    "# change just some things about the x-grid\n",
    "p.xgrid.grid_line_color = \"red\"\n",
    "\n",
    "# change just some things about the y-grid\n",
    "p.ygrid.grid_line_alpha = 0.8\n",
    "p.ygrid.grid_line_dash = [6, 4]\n",
    "\n",
    "# show the results\n",
    "show(p)"
   ]
  },
  {
   "cell_type": "markdown",
   "id": "fbff866b-e8c6-4bc7-87b2-9502e2e323d3",
   "metadata": {},
   "source": [
    "Using bands and bounds"
   ]
  },
  {
   "cell_type": "code",
   "execution_count": 21,
   "id": "5c9896f0-726e-4e65-99cd-166b95c1a84c",
   "metadata": {},
   "outputs": [
    {
     "data": {
      "text/html": [
       "\n",
       "  <div class=\"bk-root\" id=\"79b205c5-b5d9-45f6-a084-68e666d052f0\" data-root-id=\"5167\"></div>\n"
      ]
     },
     "metadata": {},
     "output_type": "display_data"
    },
    {
     "data": {
      "application/javascript": [
       "(function(root) {\n",
       "  function embed_document(root) {\n",
       "  const docs_json = {\"6b30f35e-ed77-439f-9cb0-11a4ace9f61f\":{\"defs\":[],\"roots\":{\"references\":[{\"attributes\":{\"below\":[{\"id\":\"5178\"}],\"center\":[{\"id\":\"5181\"},{\"id\":\"5185\"}],\"height\":250,\"left\":[{\"id\":\"5182\"}],\"max_width\":500,\"renderers\":[{\"id\":\"5204\"}],\"sizing_mode\":\"stretch_width\",\"title\":{\"id\":\"5168\"},\"toolbar\":{\"id\":\"5193\"},\"x_range\":{\"id\":\"5170\"},\"x_scale\":{\"id\":\"5174\"},\"y_range\":{\"id\":\"5172\"},\"y_scale\":{\"id\":\"5176\"}},\"id\":\"5167\",\"subtype\":\"Figure\",\"type\":\"Plot\"},{\"attributes\":{},\"id\":\"5187\",\"type\":\"WheelZoomTool\"},{\"attributes\":{},\"id\":\"5191\",\"type\":\"HelpTool\"},{\"attributes\":{\"axis_label_standoff\":10,\"axis_label_text_color\":\"#5B5B5B\",\"axis_label_text_font\":\"Calibri Light\",\"axis_label_text_font_size\":\"1.15em\",\"axis_label_text_font_style\":\"bold\",\"axis_line_alpha\":1,\"axis_line_color\":\"#5B5B5B\",\"coordinates\":null,\"formatter\":{\"id\":\"5429\"},\"group\":null,\"major_label_policy\":{\"id\":\"5430\"},\"major_label_text_color\":\"#5B5B5B\",\"major_label_text_font\":\"Calibri Light\",\"major_label_text_font_size\":\"0.95em\",\"major_label_text_font_style\":\"bold\",\"major_tick_in\":0,\"major_tick_line_alpha\":0.25,\"major_tick_line_color\":\"#5B5B5B\",\"major_tick_out\":3,\"minor_tick_line_alpha\":0.25,\"minor_tick_line_color\":\"#5B5B5B\",\"ticker\":{\"id\":\"5179\"}},\"id\":\"5178\",\"type\":\"LinearAxis\"},{\"attributes\":{},\"id\":\"5186\",\"type\":\"PanTool\"},{\"attributes\":{\"overlay\":{\"id\":\"5192\"}},\"id\":\"5188\",\"type\":\"BoxZoomTool\"},{\"attributes\":{},\"id\":\"5189\",\"type\":\"SaveTool\"},{\"attributes\":{},\"id\":\"5179\",\"type\":\"BasicTicker\"},{\"attributes\":{},\"id\":\"5190\",\"type\":\"ResetTool\"},{\"attributes\":{},\"id\":\"5430\",\"type\":\"AllLabels\"},{\"attributes\":{\"axis_label_standoff\":10,\"axis_label_text_color\":\"#5B5B5B\",\"axis_label_text_font\":\"Calibri Light\",\"axis_label_text_font_size\":\"1.15em\",\"axis_label_text_font_style\":\"bold\",\"axis_line_alpha\":1,\"axis_line_color\":\"#5B5B5B\",\"coordinates\":null,\"formatter\":{\"id\":\"5426\"},\"group\":null,\"major_label_policy\":{\"id\":\"5427\"},\"major_label_text_color\":\"#5B5B5B\",\"major_label_text_font\":\"Calibri Light\",\"major_label_text_font_size\":\"0.95em\",\"major_label_text_font_style\":\"bold\",\"major_tick_in\":0,\"major_tick_line_alpha\":0.25,\"major_tick_line_color\":\"#5B5B5B\",\"major_tick_out\":3,\"minor_tick_line_alpha\":0.25,\"minor_tick_line_color\":\"#5B5B5B\",\"ticker\":{\"id\":\"5183\"}},\"id\":\"5182\",\"type\":\"LinearAxis\"},{\"attributes\":{},\"id\":\"5176\",\"type\":\"LinearScale\"},{\"attributes\":{\"bottom_units\":\"screen\",\"coordinates\":null,\"fill_alpha\":0.5,\"fill_color\":\"lightgrey\",\"group\":null,\"left_units\":\"screen\",\"level\":\"overlay\",\"line_alpha\":1.0,\"line_color\":\"black\",\"line_dash\":[4,4],\"line_width\":2,\"right_units\":\"screen\",\"syncable\":false,\"top_units\":\"screen\"},\"id\":\"5192\",\"type\":\"BoxAnnotation\"},{\"attributes\":{\"axis\":{\"id\":\"5178\"},\"bounds\":[2,4],\"coordinates\":null,\"group\":null,\"ticker\":null},\"id\":\"5181\",\"type\":\"Grid\"},{\"attributes\":{\"coordinates\":null,\"data_source\":{\"id\":\"5200\"},\"glyph\":{\"id\":\"5201\"},\"group\":null,\"hover_glyph\":null,\"muted_glyph\":{\"id\":\"5203\"},\"nonselection_glyph\":{\"id\":\"5202\"},\"view\":{\"id\":\"5205\"}},\"id\":\"5204\",\"type\":\"GlyphRenderer\"},{\"attributes\":{\"coordinates\":null,\"group\":null,\"text\":\"Bands and bonds example\",\"text_color\":\"#5B5B5B\",\"text_font\":\"Calibri Light\",\"text_font_size\":\"1.25em\",\"text_font_style\":\"bold\"},\"id\":\"5168\",\"type\":\"Title\"},{\"attributes\":{},\"id\":\"5170\",\"type\":\"DataRange1d\"},{\"attributes\":{\"line_color\":\"green\",\"line_width\":2,\"x\":{\"field\":\"x\"},\"y\":{\"field\":\"y\"}},\"id\":\"5201\",\"type\":\"Line\"},{\"attributes\":{\"axis\":{\"id\":\"5182\"},\"band_fill_alpha\":0.1,\"band_fill_color\":\"olive\",\"coordinates\":null,\"dimension\":1,\"group\":null,\"ticker\":null},\"id\":\"5185\",\"type\":\"Grid\"},{\"attributes\":{\"data\":{\"x\":[1,2,3,4,5],\"y\":[4,5,5,7,2]},\"selected\":{\"id\":\"5432\"},\"selection_policy\":{\"id\":\"5431\"}},\"id\":\"5200\",\"type\":\"ColumnDataSource\"},{\"attributes\":{\"line_alpha\":0.1,\"line_color\":\"green\",\"line_width\":2,\"x\":{\"field\":\"x\"},\"y\":{\"field\":\"y\"}},\"id\":\"5202\",\"type\":\"Line\"},{\"attributes\":{},\"id\":\"5429\",\"type\":\"BasicTickFormatter\"},{\"attributes\":{\"tools\":[{\"id\":\"5186\"},{\"id\":\"5187\"},{\"id\":\"5188\"},{\"id\":\"5189\"},{\"id\":\"5190\"},{\"id\":\"5191\"}]},\"id\":\"5193\",\"type\":\"Toolbar\"},{\"attributes\":{},\"id\":\"5432\",\"type\":\"Selection\"},{\"attributes\":{\"source\":{\"id\":\"5200\"}},\"id\":\"5205\",\"type\":\"CDSView\"},{\"attributes\":{},\"id\":\"5427\",\"type\":\"AllLabels\"},{\"attributes\":{},\"id\":\"5172\",\"type\":\"DataRange1d\"},{\"attributes\":{\"line_alpha\":0.2,\"line_color\":\"green\",\"line_width\":2,\"x\":{\"field\":\"x\"},\"y\":{\"field\":\"y\"}},\"id\":\"5203\",\"type\":\"Line\"},{\"attributes\":{},\"id\":\"5174\",\"type\":\"LinearScale\"},{\"attributes\":{},\"id\":\"5183\",\"type\":\"BasicTicker\"},{\"attributes\":{},\"id\":\"5426\",\"type\":\"BasicTickFormatter\"},{\"attributes\":{},\"id\":\"5431\",\"type\":\"UnionRenderers\"}],\"root_ids\":[\"5167\"]},\"title\":\"Bokeh Application\",\"version\":\"2.4.3\"}};\n",
       "  const render_items = [{\"docid\":\"6b30f35e-ed77-439f-9cb0-11a4ace9f61f\",\"root_ids\":[\"5167\"],\"roots\":{\"5167\":\"79b205c5-b5d9-45f6-a084-68e666d052f0\"}}];\n",
       "  root.Bokeh.embed.embed_items_notebook(docs_json, render_items);\n",
       "  }\n",
       "  if (root.Bokeh !== undefined) {\n",
       "    embed_document(root);\n",
       "  } else {\n",
       "    let attempts = 0;\n",
       "    const timer = setInterval(function(root) {\n",
       "      if (root.Bokeh !== undefined) {\n",
       "        clearInterval(timer);\n",
       "        embed_document(root);\n",
       "      } else {\n",
       "        attempts++;\n",
       "        if (attempts > 100) {\n",
       "          clearInterval(timer);\n",
       "          console.log(\"Bokeh: ERROR: Unable to run BokehJS code because BokehJS library is missing\");\n",
       "        }\n",
       "      }\n",
       "    }, 10, root)\n",
       "  }\n",
       "})(window);"
      ],
      "application/vnd.bokehjs_exec.v0+json": ""
     },
     "metadata": {
      "application/vnd.bokehjs_exec.v0+json": {
       "id": "5167"
      }
     },
     "output_type": "display_data"
    }
   ],
   "source": [
    "from bokeh.plotting import figure, show\n",
    "\n",
    "# prepare some data\n",
    "x = [1, 2, 3, 4, 5]\n",
    "y = [4, 5, 5, 7, 2]\n",
    "\n",
    "# create a plot\n",
    "p = figure(\n",
    "    title=\"Bands and bonds example\",\n",
    "    sizing_mode=\"stretch_width\",\n",
    "    max_width=500,\n",
    "    height=250,\n",
    ")\n",
    "\n",
    "# add a renderer\n",
    "p.line(x, y, line_color=\"green\", line_width=2)\n",
    "\n",
    "# add bands to the y-grid\n",
    "p.ygrid.band_fill_color = \"olive\"\n",
    "p.ygrid.band_fill_alpha = 0.1\n",
    "\n",
    "# define vertical bonds\n",
    "p.xgrid.bounds = (2, 4)\n",
    "\n",
    "# show the results\n",
    "show(p)"
   ]
  },
  {
   "cell_type": "markdown",
   "id": "a1eaa742-0bff-4bd3-a501-54243a942fb1",
   "metadata": {},
   "source": [
    "Setting background colors"
   ]
  },
  {
   "cell_type": "code",
   "execution_count": 22,
   "id": "fc74083e-c3ea-4fd1-aa77-d226634d58f4",
   "metadata": {},
   "outputs": [
    {
     "data": {
      "text/html": [
       "\n",
       "  <div class=\"bk-root\" id=\"5a73a2e5-35fb-4659-97e7-4cfabf66a3ea\" data-root-id=\"5484\"></div>\n"
      ]
     },
     "metadata": {},
     "output_type": "display_data"
    },
    {
     "data": {
      "application/javascript": [
       "(function(root) {\n",
       "  function embed_document(root) {\n",
       "  const docs_json = {\"185b15e7-70af-41b8-9e90-7b8016d5d1ef\":{\"defs\":[],\"roots\":{\"references\":[{\"attributes\":{\"background_fill_color\":\"rgb(204, 255, 255)\",\"below\":[{\"id\":\"5495\"}],\"border_fill_color\":\"rgb(102, 204, 255)\",\"center\":[{\"id\":\"5498\"},{\"id\":\"5502\"}],\"height\":250,\"left\":[{\"id\":\"5499\"}],\"max_width\":500,\"outline_line_color\":\"rgb(0, 0, 255)\",\"renderers\":[{\"id\":\"5521\"}],\"sizing_mode\":\"stretch_width\",\"title\":{\"id\":\"5485\"},\"toolbar\":{\"id\":\"5510\"},\"x_range\":{\"id\":\"5487\"},\"x_scale\":{\"id\":\"5491\"},\"y_range\":{\"id\":\"5489\"},\"y_scale\":{\"id\":\"5493\"}},\"id\":\"5484\",\"subtype\":\"Figure\",\"type\":\"Plot\"},{\"attributes\":{},\"id\":\"5487\",\"type\":\"DataRange1d\"},{\"attributes\":{\"line_color\":\"green\",\"line_width\":2,\"x\":{\"field\":\"x\"},\"y\":{\"field\":\"y\"}},\"id\":\"5518\",\"type\":\"Line\"},{\"attributes\":{\"coordinates\":null,\"data_source\":{\"id\":\"5517\"},\"glyph\":{\"id\":\"5518\"},\"group\":null,\"hover_glyph\":null,\"muted_glyph\":{\"id\":\"5520\"},\"nonselection_glyph\":{\"id\":\"5519\"},\"view\":{\"id\":\"5522\"}},\"id\":\"5521\",\"type\":\"GlyphRenderer\"},{\"attributes\":{\"line_alpha\":0.1,\"line_color\":\"green\",\"line_width\":2,\"x\":{\"field\":\"x\"},\"y\":{\"field\":\"y\"}},\"id\":\"5519\",\"type\":\"Line\"},{\"attributes\":{\"coordinates\":null,\"group\":null,\"text\":\"Background colors example\",\"text_color\":\"#5B5B5B\",\"text_font\":\"Calibri Light\",\"text_font_size\":\"1.25em\",\"text_font_style\":\"bold\"},\"id\":\"5485\",\"type\":\"Title\"},{\"attributes\":{},\"id\":\"5508\",\"type\":\"HelpTool\"},{\"attributes\":{\"bottom_units\":\"screen\",\"coordinates\":null,\"fill_alpha\":0.5,\"fill_color\":\"lightgrey\",\"group\":null,\"left_units\":\"screen\",\"level\":\"overlay\",\"line_alpha\":1.0,\"line_color\":\"black\",\"line_dash\":[4,4],\"line_width\":2,\"right_units\":\"screen\",\"syncable\":false,\"top_units\":\"screen\"},\"id\":\"5509\",\"type\":\"BoxAnnotation\"},{\"attributes\":{\"data\":{\"x\":[1,2,3,4,5],\"y\":[4,5,5,7,2]},\"selected\":{\"id\":\"5759\"},\"selection_policy\":{\"id\":\"5758\"}},\"id\":\"5517\",\"type\":\"ColumnDataSource\"},{\"attributes\":{\"source\":{\"id\":\"5517\"}},\"id\":\"5522\",\"type\":\"CDSView\"},{\"attributes\":{},\"id\":\"5496\",\"type\":\"BasicTicker\"},{\"attributes\":{\"overlay\":{\"id\":\"5509\"}},\"id\":\"5505\",\"type\":\"BoxZoomTool\"},{\"attributes\":{\"axis\":{\"id\":\"5499\"},\"coordinates\":null,\"dimension\":1,\"group\":null,\"ticker\":null},\"id\":\"5502\",\"type\":\"Grid\"},{\"attributes\":{},\"id\":\"5503\",\"type\":\"PanTool\"},{\"attributes\":{},\"id\":\"5507\",\"type\":\"ResetTool\"},{\"attributes\":{\"axis\":{\"id\":\"5495\"},\"coordinates\":null,\"group\":null,\"ticker\":null},\"id\":\"5498\",\"type\":\"Grid\"},{\"attributes\":{\"line_alpha\":0.2,\"line_color\":\"green\",\"line_width\":2,\"x\":{\"field\":\"x\"},\"y\":{\"field\":\"y\"}},\"id\":\"5520\",\"type\":\"Line\"},{\"attributes\":{},\"id\":\"5504\",\"type\":\"WheelZoomTool\"},{\"attributes\":{},\"id\":\"5500\",\"type\":\"BasicTicker\"},{\"attributes\":{\"tools\":[{\"id\":\"5503\"},{\"id\":\"5504\"},{\"id\":\"5505\"},{\"id\":\"5506\"},{\"id\":\"5507\"},{\"id\":\"5508\"}]},\"id\":\"5510\",\"type\":\"Toolbar\"},{\"attributes\":{},\"id\":\"5753\",\"type\":\"BasicTickFormatter\"},{\"attributes\":{\"axis_label_standoff\":10,\"axis_label_text_color\":\"#5B5B5B\",\"axis_label_text_font\":\"Calibri Light\",\"axis_label_text_font_size\":\"1.15em\",\"axis_label_text_font_style\":\"bold\",\"axis_line_alpha\":1,\"axis_line_color\":\"#5B5B5B\",\"coordinates\":null,\"formatter\":{\"id\":\"5756\"},\"group\":null,\"major_label_policy\":{\"id\":\"5757\"},\"major_label_text_color\":\"#5B5B5B\",\"major_label_text_font\":\"Calibri Light\",\"major_label_text_font_size\":\"0.95em\",\"major_label_text_font_style\":\"bold\",\"major_tick_in\":0,\"major_tick_line_alpha\":0.25,\"major_tick_line_color\":\"#5B5B5B\",\"major_tick_out\":3,\"minor_tick_line_alpha\":0.25,\"minor_tick_line_color\":\"#5B5B5B\",\"ticker\":{\"id\":\"5496\"}},\"id\":\"5495\",\"type\":\"LinearAxis\"},{\"attributes\":{},\"id\":\"5754\",\"type\":\"AllLabels\"},{\"attributes\":{},\"id\":\"5493\",\"type\":\"LinearScale\"},{\"attributes\":{},\"id\":\"5491\",\"type\":\"LinearScale\"},{\"attributes\":{\"axis_label_standoff\":10,\"axis_label_text_color\":\"#5B5B5B\",\"axis_label_text_font\":\"Calibri Light\",\"axis_label_text_font_size\":\"1.15em\",\"axis_label_text_font_style\":\"bold\",\"axis_line_alpha\":1,\"axis_line_color\":\"#5B5B5B\",\"coordinates\":null,\"formatter\":{\"id\":\"5753\"},\"group\":null,\"major_label_policy\":{\"id\":\"5754\"},\"major_label_text_color\":\"#5B5B5B\",\"major_label_text_font\":\"Calibri Light\",\"major_label_text_font_size\":\"0.95em\",\"major_label_text_font_style\":\"bold\",\"major_tick_in\":0,\"major_tick_line_alpha\":0.25,\"major_tick_line_color\":\"#5B5B5B\",\"major_tick_out\":3,\"minor_tick_line_alpha\":0.25,\"minor_tick_line_color\":\"#5B5B5B\",\"ticker\":{\"id\":\"5500\"}},\"id\":\"5499\",\"type\":\"LinearAxis\"},{\"attributes\":{},\"id\":\"5489\",\"type\":\"DataRange1d\"},{\"attributes\":{},\"id\":\"5756\",\"type\":\"BasicTickFormatter\"},{\"attributes\":{},\"id\":\"5757\",\"type\":\"AllLabels\"},{\"attributes\":{},\"id\":\"5758\",\"type\":\"UnionRenderers\"},{\"attributes\":{},\"id\":\"5759\",\"type\":\"Selection\"},{\"attributes\":{},\"id\":\"5506\",\"type\":\"SaveTool\"}],\"root_ids\":[\"5484\"]},\"title\":\"Bokeh Application\",\"version\":\"2.4.3\"}};\n",
       "  const render_items = [{\"docid\":\"185b15e7-70af-41b8-9e90-7b8016d5d1ef\",\"root_ids\":[\"5484\"],\"roots\":{\"5484\":\"5a73a2e5-35fb-4659-97e7-4cfabf66a3ea\"}}];\n",
       "  root.Bokeh.embed.embed_items_notebook(docs_json, render_items);\n",
       "  }\n",
       "  if (root.Bokeh !== undefined) {\n",
       "    embed_document(root);\n",
       "  } else {\n",
       "    let attempts = 0;\n",
       "    const timer = setInterval(function(root) {\n",
       "      if (root.Bokeh !== undefined) {\n",
       "        clearInterval(timer);\n",
       "        embed_document(root);\n",
       "      } else {\n",
       "        attempts++;\n",
       "        if (attempts > 100) {\n",
       "          clearInterval(timer);\n",
       "          console.log(\"Bokeh: ERROR: Unable to run BokehJS code because BokehJS library is missing\");\n",
       "        }\n",
       "      }\n",
       "    }, 10, root)\n",
       "  }\n",
       "})(window);"
      ],
      "application/vnd.bokehjs_exec.v0+json": ""
     },
     "metadata": {
      "application/vnd.bokehjs_exec.v0+json": {
       "id": "5484"
      }
     },
     "output_type": "display_data"
    }
   ],
   "source": [
    "from bokeh.plotting import figure, show\n",
    "\n",
    "# prepare some data\n",
    "x = [1, 2, 3, 4, 5]\n",
    "y = [4, 5, 5, 7, 2]\n",
    "\n",
    "# create a plot\n",
    "p = figure(\n",
    "    title=\"Background colors example\",\n",
    "    sizing_mode=\"stretch_width\",\n",
    "    max_width=500,\n",
    "    height=250,\n",
    ")\n",
    "\n",
    "# add a renderer\n",
    "p.line(x, y, line_color=\"green\", line_width=2)\n",
    "\n",
    "# change the fill colors\n",
    "p.background_fill_color = (204, 255, 255)\n",
    "p.border_fill_color = (102, 204, 255)\n",
    "p.outline_line_color = (0, 0, 255)\n",
    "\n",
    "# show the results\n",
    "show(p)"
   ]
  },
  {
   "cell_type": "markdown",
   "id": "3dbf94e9-5cb0-4e94-a2ae-d29b89b98301",
   "metadata": {},
   "source": [
    "Customizing available tools"
   ]
  },
  {
   "cell_type": "code",
   "execution_count": 23,
   "id": "f6f56bfc-ef8b-4fce-a9e3-e09e891b3408",
   "metadata": {},
   "outputs": [
    {
     "data": {
      "text/html": [
       "\n",
       "  <div class=\"bk-root\" id=\"a03c6db8-403e-45ad-9acd-a40f19b2268c\" data-root-id=\"5813\"></div>\n"
      ]
     },
     "metadata": {},
     "output_type": "display_data"
    },
    {
     "data": {
      "application/javascript": [
       "(function(root) {\n",
       "  function embed_document(root) {\n",
       "  const docs_json = {\"83f1ded7-c47c-46a4-9e7b-87092a620d79\":{\"defs\":[],\"roots\":{\"references\":[{\"attributes\":{\"below\":[{\"id\":\"5824\"}],\"center\":[{\"id\":\"5827\"},{\"id\":\"5831\"}],\"height\":250,\"left\":[{\"id\":\"5828\"}],\"max_width\":500,\"renderers\":[{\"id\":\"5842\"}],\"sizing_mode\":\"stretch_width\",\"title\":{\"id\":\"5814\"},\"toolbar\":{\"id\":\"5833\"},\"x_range\":{\"id\":\"5816\"},\"x_scale\":{\"id\":\"5820\"},\"y_range\":{\"id\":\"5818\"},\"y_scale\":{\"id\":\"5822\"}},\"id\":\"5813\",\"subtype\":\"Figure\",\"type\":\"Plot\"},{\"attributes\":{},\"id\":\"6084\",\"type\":\"BasicTickFormatter\"},{\"attributes\":{\"fill_alpha\":{\"value\":0.1},\"fill_color\":{\"value\":\"#1f77b4\"},\"hatch_alpha\":{\"value\":0.1},\"line_alpha\":{\"value\":0.1},\"line_color\":{\"value\":\"#1f77b4\"},\"size\":{\"value\":10},\"x\":{\"field\":\"x\"},\"y\":{\"field\":\"y\"}},\"id\":\"5840\",\"type\":\"Circle\"},{\"attributes\":{\"source\":{\"id\":\"5838\"}},\"id\":\"5843\",\"type\":\"CDSView\"},{\"attributes\":{},\"id\":\"6085\",\"type\":\"AllLabels\"},{\"attributes\":{\"axis\":{\"id\":\"5828\"},\"coordinates\":null,\"dimension\":1,\"group\":null,\"ticker\":null},\"id\":\"5831\",\"type\":\"Grid\"},{\"attributes\":{\"axis_label_standoff\":10,\"axis_label_text_color\":\"#5B5B5B\",\"axis_label_text_font\":\"Calibri Light\",\"axis_label_text_font_size\":\"1.15em\",\"axis_label_text_font_style\":\"bold\",\"axis_line_alpha\":1,\"axis_line_color\":\"#5B5B5B\",\"coordinates\":null,\"formatter\":{\"id\":\"6084\"},\"group\":null,\"major_label_policy\":{\"id\":\"6085\"},\"major_label_text_color\":\"#5B5B5B\",\"major_label_text_font\":\"Calibri Light\",\"major_label_text_font_size\":\"0.95em\",\"major_label_text_font_style\":\"bold\",\"major_tick_in\":0,\"major_tick_line_alpha\":0.25,\"major_tick_line_color\":\"#5B5B5B\",\"major_tick_out\":3,\"minor_tick_line_alpha\":0.25,\"minor_tick_line_color\":\"#5B5B5B\",\"ticker\":{\"id\":\"5829\"}},\"id\":\"5828\",\"type\":\"LinearAxis\"},{\"attributes\":{},\"id\":\"6087\",\"type\":\"BasicTickFormatter\"},{\"attributes\":{\"tools\":[{\"id\":\"5811\"},{\"id\":\"5812\"},{\"id\":\"5836\"}]},\"id\":\"5833\",\"type\":\"Toolbar\"},{\"attributes\":{},\"id\":\"5829\",\"type\":\"BasicTicker\"},{\"attributes\":{},\"id\":\"5825\",\"type\":\"BasicTicker\"},{\"attributes\":{},\"id\":\"6088\",\"type\":\"AllLabels\"},{\"attributes\":{},\"id\":\"5822\",\"type\":\"LinearScale\"},{\"attributes\":{\"coordinates\":null,\"data_source\":{\"id\":\"5838\"},\"glyph\":{\"id\":\"5839\"},\"group\":null,\"hover_glyph\":null,\"muted_glyph\":{\"id\":\"5841\"},\"nonselection_glyph\":{\"id\":\"5840\"},\"view\":{\"id\":\"5843\"}},\"id\":\"5842\",\"type\":\"GlyphRenderer\"},{\"attributes\":{},\"id\":\"6089\",\"type\":\"UnionRenderers\"},{\"attributes\":{\"axis\":{\"id\":\"5824\"},\"coordinates\":null,\"group\":null,\"ticker\":null},\"id\":\"5827\",\"type\":\"Grid\"},{\"attributes\":{},\"id\":\"6090\",\"type\":\"Selection\"},{\"attributes\":{},\"id\":\"5818\",\"type\":\"DataRange1d\"},{\"attributes\":{},\"id\":\"5812\",\"type\":\"ResetTool\"},{\"attributes\":{},\"id\":\"5820\",\"type\":\"LinearScale\"},{\"attributes\":{\"axis_label_standoff\":10,\"axis_label_text_color\":\"#5B5B5B\",\"axis_label_text_font\":\"Calibri Light\",\"axis_label_text_font_size\":\"1.15em\",\"axis_label_text_font_style\":\"bold\",\"axis_line_alpha\":1,\"axis_line_color\":\"#5B5B5B\",\"coordinates\":null,\"formatter\":{\"id\":\"6087\"},\"group\":null,\"major_label_policy\":{\"id\":\"6088\"},\"major_label_text_color\":\"#5B5B5B\",\"major_label_text_font\":\"Calibri Light\",\"major_label_text_font_size\":\"0.95em\",\"major_label_text_font_style\":\"bold\",\"major_tick_in\":0,\"major_tick_line_alpha\":0.25,\"major_tick_line_color\":\"#5B5B5B\",\"major_tick_out\":3,\"minor_tick_line_alpha\":0.25,\"minor_tick_line_color\":\"#5B5B5B\",\"ticker\":{\"id\":\"5825\"}},\"id\":\"5824\",\"type\":\"LinearAxis\"},{\"attributes\":{\"fill_alpha\":{\"value\":0.2},\"fill_color\":{\"value\":\"#1f77b4\"},\"hatch_alpha\":{\"value\":0.2},\"line_alpha\":{\"value\":0.2},\"line_color\":{\"value\":\"#1f77b4\"},\"size\":{\"value\":10},\"x\":{\"field\":\"x\"},\"y\":{\"field\":\"y\"}},\"id\":\"5841\",\"type\":\"Circle\"},{\"attributes\":{\"coordinates\":null,\"group\":null,\"text\":\"Modifying tools example\",\"text_color\":\"#5B5B5B\",\"text_font\":\"Calibri Light\",\"text_font_size\":\"1.25em\",\"text_font_style\":\"bold\"},\"id\":\"5814\",\"type\":\"Title\"},{\"attributes\":{\"data\":{\"x\":[1,2,3,4,5],\"y\":[4,5,5,7,2]},\"selected\":{\"id\":\"6090\"},\"selection_policy\":{\"id\":\"6089\"}},\"id\":\"5838\",\"type\":\"ColumnDataSource\"},{\"attributes\":{\"overlay\":{\"id\":\"5832\"}},\"id\":\"5811\",\"type\":\"BoxZoomTool\"},{\"attributes\":{\"fill_color\":{\"value\":\"#1f77b4\"},\"line_color\":{\"value\":\"#1f77b4\"},\"size\":{\"value\":10},\"x\":{\"field\":\"x\"},\"y\":{\"field\":\"y\"}},\"id\":\"5839\",\"type\":\"Circle\"},{\"attributes\":{\"bottom_units\":\"screen\",\"coordinates\":null,\"fill_alpha\":0.5,\"fill_color\":\"lightgrey\",\"group\":null,\"left_units\":\"screen\",\"level\":\"overlay\",\"line_alpha\":1.0,\"line_color\":\"black\",\"line_dash\":[4,4],\"line_width\":2,\"right_units\":\"screen\",\"syncable\":false,\"top_units\":\"screen\"},\"id\":\"5832\",\"type\":\"BoxAnnotation\"},{\"attributes\":{\"dimensions\":\"width\"},\"id\":\"5836\",\"type\":\"PanTool\"},{\"attributes\":{},\"id\":\"5816\",\"type\":\"DataRange1d\"}],\"root_ids\":[\"5813\"]},\"title\":\"Bokeh Application\",\"version\":\"2.4.3\"}};\n",
       "  const render_items = [{\"docid\":\"83f1ded7-c47c-46a4-9e7b-87092a620d79\",\"root_ids\":[\"5813\"],\"roots\":{\"5813\":\"a03c6db8-403e-45ad-9acd-a40f19b2268c\"}}];\n",
       "  root.Bokeh.embed.embed_items_notebook(docs_json, render_items);\n",
       "  }\n",
       "  if (root.Bokeh !== undefined) {\n",
       "    embed_document(root);\n",
       "  } else {\n",
       "    let attempts = 0;\n",
       "    const timer = setInterval(function(root) {\n",
       "      if (root.Bokeh !== undefined) {\n",
       "        clearInterval(timer);\n",
       "        embed_document(root);\n",
       "      } else {\n",
       "        attempts++;\n",
       "        if (attempts > 100) {\n",
       "          clearInterval(timer);\n",
       "          console.log(\"Bokeh: ERROR: Unable to run BokehJS code because BokehJS library is missing\");\n",
       "        }\n",
       "      }\n",
       "    }, 10, root)\n",
       "  }\n",
       "})(window);"
      ],
      "application/vnd.bokehjs_exec.v0+json": ""
     },
     "metadata": {
      "application/vnd.bokehjs_exec.v0+json": {
       "id": "5813"
      }
     },
     "output_type": "display_data"
    }
   ],
   "source": [
    "from bokeh.models import BoxZoomTool, PanTool, ResetTool\n",
    "from bokeh.plotting import figure, show\n",
    "\n",
    "# prepare some data\n",
    "x = [1, 2, 3, 4, 5]\n",
    "y = [4, 5, 5, 7, 2]\n",
    "\n",
    "# create a plot\n",
    "p = figure(\n",
    "    title=\"Modifying tools example\",\n",
    "    tools=[BoxZoomTool(), ResetTool()],\n",
    "    sizing_mode=\"stretch_width\",\n",
    "    max_width=500,\n",
    "    height=250,\n",
    ")\n",
    "\n",
    "# add an additional pan tool\n",
    "# only vertical panning is allowed\n",
    "p.add_tools(PanTool(dimensions=\"width\"))\n",
    "\n",
    "# add a renderer\n",
    "p.circle(x, y, size=10)\n",
    "\n",
    "# show the results\n",
    "show(p)"
   ]
  },
  {
   "cell_type": "markdown",
   "id": "cf68c4a2-f930-4567-b8ee-329dbcbfb2f1",
   "metadata": {},
   "source": [
    "Adding tooltips"
   ]
  },
  {
   "cell_type": "code",
   "execution_count": 24,
   "id": "6da135dd-40a5-4616-98fd-b5020ca7bb6c",
   "metadata": {},
   "outputs": [
    {
     "data": {
      "text/html": [
       "\n",
       "  <div class=\"bk-root\" id=\"6e8b99da-9446-4a30-915a-151c8b005296\" data-root-id=\"6143\"></div>\n"
      ]
     },
     "metadata": {},
     "output_type": "display_data"
    },
    {
     "data": {
      "application/javascript": [
       "(function(root) {\n",
       "  function embed_document(root) {\n",
       "  const docs_json = {\"babbaa4e-68a1-4637-8b03-b77485c3ac6a\":{\"defs\":[],\"roots\":{\"references\":[{\"attributes\":{\"below\":[{\"id\":\"6152\"}],\"center\":[{\"id\":\"6155\"},{\"id\":\"6159\"}],\"height\":250,\"left\":[{\"id\":\"6156\"}],\"max_width\":500,\"renderers\":[{\"id\":\"6166\"},{\"id\":\"6172\"}],\"sizing_mode\":\"stretch_width\",\"title\":{\"id\":\"6422\"},\"toolbar\":{\"id\":\"6160\"},\"toolbar_location\":null,\"x_range\":{\"id\":\"6144\"},\"x_scale\":{\"id\":\"6148\"},\"y_range\":{\"id\":\"6146\"},\"y_scale\":{\"id\":\"6150\"}},\"id\":\"6143\",\"subtype\":\"Figure\",\"type\":\"Plot\"},{\"attributes\":{\"axis_label_standoff\":10,\"axis_label_text_color\":\"#5B5B5B\",\"axis_label_text_font\":\"Calibri Light\",\"axis_label_text_font_size\":\"1.15em\",\"axis_label_text_font_style\":\"bold\",\"axis_line_alpha\":1,\"axis_line_color\":\"#5B5B5B\",\"coordinates\":null,\"formatter\":{\"id\":\"6425\"},\"group\":null,\"major_label_policy\":{\"id\":\"6426\"},\"major_label_text_color\":\"#5B5B5B\",\"major_label_text_font\":\"Calibri Light\",\"major_label_text_font_size\":\"0.95em\",\"major_label_text_font_style\":\"bold\",\"major_tick_in\":0,\"major_tick_line_alpha\":0.25,\"major_tick_line_color\":\"#5B5B5B\",\"major_tick_out\":3,\"minor_tick_line_alpha\":0.25,\"minor_tick_line_color\":\"#5B5B5B\",\"ticker\":{\"id\":\"6157\"}},\"id\":\"6156\",\"type\":\"LinearAxis\"},{\"attributes\":{},\"id\":\"6430\",\"type\":\"UnionRenderers\"},{\"attributes\":{},\"id\":\"6431\",\"type\":\"Selection\"},{\"attributes\":{\"fill_alpha\":{\"value\":0.1},\"fill_color\":{\"value\":\"#1f77b4\"},\"hatch_alpha\":{\"value\":0.1},\"line_alpha\":{\"value\":0.1},\"line_color\":{\"value\":\"#1f77b4\"},\"size\":{\"value\":10},\"x\":{\"field\":\"x\"},\"y\":{\"field\":\"y\"}},\"id\":\"6164\",\"type\":\"Circle\"},{\"attributes\":{},\"id\":\"6144\",\"type\":\"DataRange1d\"},{\"attributes\":{\"callback\":null,\"tooltips\":\"Data point @x has the value @y\"},\"id\":\"6142\",\"type\":\"HoverTool\"},{\"attributes\":{\"line_color\":\"#1f77b4\",\"line_width\":2,\"x\":{\"field\":\"x\"},\"y\":{\"field\":\"y\"}},\"id\":\"6169\",\"type\":\"Line\"},{\"attributes\":{},\"id\":\"6426\",\"type\":\"AllLabels\"},{\"attributes\":{\"coordinates\":null,\"group\":null,\"text_color\":\"#5B5B5B\",\"text_font\":\"Calibri Light\",\"text_font_size\":\"1.25em\",\"text_font_style\":\"bold\"},\"id\":\"6422\",\"type\":\"Title\"},{\"attributes\":{},\"id\":\"6432\",\"type\":\"UnionRenderers\"},{\"attributes\":{\"coordinates\":null,\"data_source\":{\"id\":\"6168\"},\"glyph\":{\"id\":\"6169\"},\"group\":null,\"hover_glyph\":null,\"muted_glyph\":{\"id\":\"6171\"},\"nonselection_glyph\":{\"id\":\"6170\"},\"view\":{\"id\":\"6173\"}},\"id\":\"6172\",\"type\":\"GlyphRenderer\"},{\"attributes\":{},\"id\":\"6433\",\"type\":\"Selection\"},{\"attributes\":{},\"id\":\"6425\",\"type\":\"BasicTickFormatter\"},{\"attributes\":{\"data\":{\"x\":[1,2,3,4,5],\"y\":[4,5,5,7,2]},\"selected\":{\"id\":\"6433\"},\"selection_policy\":{\"id\":\"6432\"}},\"id\":\"6168\",\"type\":\"ColumnDataSource\"},{\"attributes\":{},\"id\":\"6429\",\"type\":\"AllLabels\"},{\"attributes\":{\"line_alpha\":0.1,\"line_color\":\"#1f77b4\",\"line_width\":2,\"x\":{\"field\":\"x\"},\"y\":{\"field\":\"y\"}},\"id\":\"6170\",\"type\":\"Line\"},{\"attributes\":{\"fill_alpha\":{\"value\":0.2},\"fill_color\":{\"value\":\"#1f77b4\"},\"hatch_alpha\":{\"value\":0.2},\"line_alpha\":{\"value\":0.2},\"line_color\":{\"value\":\"#1f77b4\"},\"size\":{\"value\":10},\"x\":{\"field\":\"x\"},\"y\":{\"field\":\"y\"}},\"id\":\"6165\",\"type\":\"Circle\"},{\"attributes\":{},\"id\":\"6428\",\"type\":\"BasicTickFormatter\"},{\"attributes\":{\"coordinates\":null,\"data_source\":{\"id\":\"6162\"},\"glyph\":{\"id\":\"6163\"},\"group\":null,\"hover_glyph\":null,\"muted_glyph\":{\"id\":\"6165\"},\"nonselection_glyph\":{\"id\":\"6164\"},\"view\":{\"id\":\"6167\"}},\"id\":\"6166\",\"type\":\"GlyphRenderer\"},{\"attributes\":{\"source\":{\"id\":\"6168\"}},\"id\":\"6173\",\"type\":\"CDSView\"},{\"attributes\":{\"line_alpha\":0.2,\"line_color\":\"#1f77b4\",\"line_width\":2,\"x\":{\"field\":\"x\"},\"y\":{\"field\":\"y\"}},\"id\":\"6171\",\"type\":\"Line\"},{\"attributes\":{},\"id\":\"6153\",\"type\":\"BasicTicker\"},{\"attributes\":{\"fill_color\":{\"value\":\"#1f77b4\"},\"line_color\":{\"value\":\"#1f77b4\"},\"size\":{\"value\":10},\"x\":{\"field\":\"x\"},\"y\":{\"field\":\"y\"}},\"id\":\"6163\",\"type\":\"Circle\"},{\"attributes\":{},\"id\":\"6157\",\"type\":\"BasicTicker\"},{\"attributes\":{},\"id\":\"6148\",\"type\":\"LinearScale\"},{\"attributes\":{\"data\":{\"x\":[1,2,3,4,5],\"y\":[4,5,5,7,2]},\"selected\":{\"id\":\"6431\"},\"selection_policy\":{\"id\":\"6430\"}},\"id\":\"6162\",\"type\":\"ColumnDataSource\"},{\"attributes\":{\"axis\":{\"id\":\"6156\"},\"coordinates\":null,\"dimension\":1,\"group\":null,\"ticker\":null},\"id\":\"6159\",\"type\":\"Grid\"},{\"attributes\":{\"end\":10},\"id\":\"6146\",\"type\":\"Range1d\"},{\"attributes\":{\"tools\":[{\"id\":\"6142\"}]},\"id\":\"6160\",\"type\":\"Toolbar\"},{\"attributes\":{\"axis\":{\"id\":\"6152\"},\"coordinates\":null,\"group\":null,\"ticker\":null},\"id\":\"6155\",\"type\":\"Grid\"},{\"attributes\":{},\"id\":\"6150\",\"type\":\"LinearScale\"},{\"attributes\":{\"axis_label_standoff\":10,\"axis_label_text_color\":\"#5B5B5B\",\"axis_label_text_font\":\"Calibri Light\",\"axis_label_text_font_size\":\"1.15em\",\"axis_label_text_font_style\":\"bold\",\"axis_line_alpha\":1,\"axis_line_color\":\"#5B5B5B\",\"coordinates\":null,\"formatter\":{\"id\":\"6428\"},\"group\":null,\"major_label_policy\":{\"id\":\"6429\"},\"major_label_text_color\":\"#5B5B5B\",\"major_label_text_font\":\"Calibri Light\",\"major_label_text_font_size\":\"0.95em\",\"major_label_text_font_style\":\"bold\",\"major_tick_in\":0,\"major_tick_line_alpha\":0.25,\"major_tick_line_color\":\"#5B5B5B\",\"major_tick_out\":3,\"minor_tick_line_alpha\":0.25,\"minor_tick_line_color\":\"#5B5B5B\",\"ticker\":{\"id\":\"6153\"}},\"id\":\"6152\",\"type\":\"LinearAxis\"},{\"attributes\":{\"source\":{\"id\":\"6162\"}},\"id\":\"6167\",\"type\":\"CDSView\"}],\"root_ids\":[\"6143\"]},\"title\":\"Bokeh Application\",\"version\":\"2.4.3\"}};\n",
       "  const render_items = [{\"docid\":\"babbaa4e-68a1-4637-8b03-b77485c3ac6a\",\"root_ids\":[\"6143\"],\"roots\":{\"6143\":\"6e8b99da-9446-4a30-915a-151c8b005296\"}}];\n",
       "  root.Bokeh.embed.embed_items_notebook(docs_json, render_items);\n",
       "  }\n",
       "  if (root.Bokeh !== undefined) {\n",
       "    embed_document(root);\n",
       "  } else {\n",
       "    let attempts = 0;\n",
       "    const timer = setInterval(function(root) {\n",
       "      if (root.Bokeh !== undefined) {\n",
       "        clearInterval(timer);\n",
       "        embed_document(root);\n",
       "      } else {\n",
       "        attempts++;\n",
       "        if (attempts > 100) {\n",
       "          clearInterval(timer);\n",
       "          console.log(\"Bokeh: ERROR: Unable to run BokehJS code because BokehJS library is missing\");\n",
       "        }\n",
       "      }\n",
       "    }, 10, root)\n",
       "  }\n",
       "})(window);"
      ],
      "application/vnd.bokehjs_exec.v0+json": ""
     },
     "metadata": {
      "application/vnd.bokehjs_exec.v0+json": {
       "id": "6143"
      }
     },
     "output_type": "display_data"
    }
   ],
   "source": [
    "from bokeh.models import HoverTool\n",
    "from bokeh.plotting import figure, show\n",
    "\n",
    "# prepare some data\n",
    "x = [1, 2, 3, 4, 5]\n",
    "y = [4, 5, 5, 7, 2]\n",
    "\n",
    "p = figure(\n",
    "    y_range=(0, 10),\n",
    "    toolbar_location=None,\n",
    "    tools=[HoverTool()],\n",
    "    tooltips=\"Data point @x has the value @y\",\n",
    "    sizing_mode=\"stretch_width\",\n",
    "    max_width=500,\n",
    "    height=250,\n",
    ")\n",
    "\n",
    "# add renderers\n",
    "p.circle(x, y, size=10)\n",
    "p.line(x, y, line_width=2)\n",
    "\n",
    "# show the results\n",
    "show(p)"
   ]
  },
  {
   "cell_type": "markdown",
   "id": "cf3549e5-e0f5-489d-9d96-452b14dbad3a",
   "metadata": {},
   "source": [
    "Vectorizing colors"
   ]
  },
  {
   "cell_type": "code",
   "execution_count": 25,
   "id": "83b476f3-53a2-4ecb-ad46-c715a3f3e242",
   "metadata": {},
   "outputs": [
    {
     "data": {
      "text/html": [
       "\n",
       "  <div class=\"bk-root\" id=\"0830aa3e-f8eb-43ee-a352-6a03f0e33d85\" data-root-id=\"6494\"></div>\n"
      ]
     },
     "metadata": {},
     "output_type": "display_data"
    },
    {
     "data": {
      "application/javascript": [
       "(function(root) {\n",
       "  function embed_document(root) {\n",
       "  const docs_json = {\"34dc0df9-001a-4759-9c17-4db9d399da78\":{\"defs\":[],\"roots\":{\"references\":[{\"attributes\":{\"below\":[{\"id\":\"6505\"}],\"center\":[{\"id\":\"6508\"},{\"id\":\"6512\"}],\"height\":250,\"left\":[{\"id\":\"6509\"}],\"max_width\":500,\"renderers\":[{\"id\":\"6531\"},{\"id\":\"6537\"}],\"sizing_mode\":\"stretch_width\",\"title\":{\"id\":\"6495\"},\"toolbar\":{\"id\":\"6520\"},\"x_range\":{\"id\":\"6497\"},\"x_scale\":{\"id\":\"6501\"},\"y_range\":{\"id\":\"6499\"},\"y_scale\":{\"id\":\"6503\"}},\"id\":\"6494\",\"subtype\":\"Figure\",\"type\":\"Plot\"},{\"attributes\":{},\"id\":\"6506\",\"type\":\"BasicTicker\"},{\"attributes\":{},\"id\":\"6503\",\"type\":\"LinearScale\"},{\"attributes\":{\"coordinates\":null,\"group\":null,\"text\":\"Vectorized colors example\",\"text_color\":\"#5B5B5B\",\"text_font\":\"Calibri Light\",\"text_font_size\":\"1.25em\",\"text_font_style\":\"bold\"},\"id\":\"6495\",\"type\":\"Title\"},{\"attributes\":{\"source\":{\"id\":\"6527\"}},\"id\":\"6532\",\"type\":\"CDSView\"},{\"attributes\":{\"axis\":{\"id\":\"6505\"},\"coordinates\":null,\"group\":null,\"ticker\":null},\"id\":\"6508\",\"type\":\"Grid\"},{\"attributes\":{},\"id\":\"6514\",\"type\":\"WheelZoomTool\"},{\"attributes\":{\"axis_label_standoff\":10,\"axis_label_text_color\":\"#5B5B5B\",\"axis_label_text_font\":\"Calibri Light\",\"axis_label_text_font_size\":\"1.15em\",\"axis_label_text_font_style\":\"bold\",\"axis_line_alpha\":1,\"axis_line_color\":\"#5B5B5B\",\"coordinates\":null,\"formatter\":{\"id\":\"6804\"},\"group\":null,\"major_label_policy\":{\"id\":\"6805\"},\"major_label_text_color\":\"#5B5B5B\",\"major_label_text_font\":\"Calibri Light\",\"major_label_text_font_size\":\"0.95em\",\"major_label_text_font_style\":\"bold\",\"major_tick_in\":0,\"major_tick_line_alpha\":0.25,\"major_tick_line_color\":\"#5B5B5B\",\"major_tick_out\":3,\"minor_tick_line_alpha\":0.25,\"minor_tick_line_color\":\"#5B5B5B\",\"ticker\":{\"id\":\"6506\"}},\"id\":\"6505\",\"type\":\"LinearAxis\"},{\"attributes\":{},\"id\":\"6802\",\"type\":\"AllLabels\"},{\"attributes\":{},\"id\":\"6501\",\"type\":\"LinearScale\"},{\"attributes\":{},\"id\":\"6499\",\"type\":\"DataRange1d\"},{\"attributes\":{},\"id\":\"6497\",\"type\":\"DataRange1d\"},{\"attributes\":{\"fill_alpha\":{\"value\":0.1},\"fill_color\":{\"field\":\"fill_color\"},\"hatch_alpha\":{\"value\":0.1},\"line_alpha\":{\"value\":0.1},\"line_color\":{\"value\":\"blue\"},\"size\":{\"value\":15},\"x\":{\"field\":\"x\"},\"y\":{\"field\":\"y\"}},\"id\":\"6535\",\"type\":\"Circle\"},{\"attributes\":{\"data\":{\"x\":[0,1,2,3,4,5,6,7,8,9,10,11,12,13,14,15,16,17,18,19,20,21,22,23,24,25],\"y\":[20,39,83,65,96,31,14,50,73,44,99,89,34,23,51,4,38,21,16,94,48,2,81,97,75,24]},\"selected\":{\"id\":\"6807\"},\"selection_policy\":{\"id\":\"6806\"}},\"id\":\"6527\",\"type\":\"ColumnDataSource\"},{\"attributes\":{},\"id\":\"6805\",\"type\":\"AllLabels\"},{\"attributes\":{\"axis\":{\"id\":\"6509\"},\"coordinates\":null,\"dimension\":1,\"group\":null,\"ticker\":null},\"id\":\"6512\",\"type\":\"Grid\"},{\"attributes\":{\"line_alpha\":0.1,\"line_color\":\"blue\",\"x\":{\"field\":\"x\"},\"y\":{\"field\":\"y\"}},\"id\":\"6529\",\"type\":\"Line\"},{\"attributes\":{\"fill_alpha\":{\"value\":0.2},\"fill_color\":{\"field\":\"fill_color\"},\"hatch_alpha\":{\"value\":0.2},\"line_alpha\":{\"value\":0.2},\"line_color\":{\"value\":\"blue\"},\"size\":{\"value\":15},\"x\":{\"field\":\"x\"},\"y\":{\"field\":\"y\"}},\"id\":\"6536\",\"type\":\"Circle\"},{\"attributes\":{\"line_alpha\":0.2,\"line_color\":\"blue\",\"x\":{\"field\":\"x\"},\"y\":{\"field\":\"y\"}},\"id\":\"6530\",\"type\":\"Line\"},{\"attributes\":{},\"id\":\"6510\",\"type\":\"BasicTicker\"},{\"attributes\":{\"source\":{\"id\":\"6533\"}},\"id\":\"6538\",\"type\":\"CDSView\"},{\"attributes\":{\"data\":{\"fill_color\":[\"#ff33ff\",\"#ff63ff\",\"#ffd4ff\",\"#ffa6ff\",\"#fff5ff\",\"#ff4fff\",\"#ff24ff\",\"#ff80ff\",\"#ffbaff\",\"#ff70ff\",\"#fffcff\",\"#ffe3ff\",\"#ff57ff\",\"#ff3bff\",\"#ff82ff\",\"#ff0aff\",\"#ff61ff\",\"#ff36ff\",\"#ff29ff\",\"#fff0ff\",\"#ff7aff\",\"#ff05ff\",\"#ffcfff\",\"#fff7ff\",\"#ffbfff\",\"#ff3dff\"],\"x\":[0,1,2,3,4,5,6,7,8,9,10,11,12,13,14,15,16,17,18,19,20,21,22,23,24,25],\"y\":[20,39,83,65,96,31,14,50,73,44,99,89,34,23,51,4,38,21,16,94,48,2,81,97,75,24]},\"selected\":{\"id\":\"6809\"},\"selection_policy\":{\"id\":\"6808\"}},\"id\":\"6533\",\"type\":\"ColumnDataSource\"},{\"attributes\":{},\"id\":\"6807\",\"type\":\"Selection\"},{\"attributes\":{},\"id\":\"6808\",\"type\":\"UnionRenderers\"},{\"attributes\":{},\"id\":\"6809\",\"type\":\"Selection\"},{\"attributes\":{\"fill_color\":{\"field\":\"fill_color\"},\"line_color\":{\"value\":\"blue\"},\"size\":{\"value\":15},\"x\":{\"field\":\"x\"},\"y\":{\"field\":\"y\"}},\"id\":\"6534\",\"type\":\"Circle\"},{\"attributes\":{},\"id\":\"6516\",\"type\":\"SaveTool\"},{\"attributes\":{},\"id\":\"6804\",\"type\":\"BasicTickFormatter\"},{\"attributes\":{},\"id\":\"6517\",\"type\":\"ResetTool\"},{\"attributes\":{},\"id\":\"6801\",\"type\":\"BasicTickFormatter\"},{\"attributes\":{\"coordinates\":null,\"data_source\":{\"id\":\"6527\"},\"glyph\":{\"id\":\"6528\"},\"group\":null,\"hover_glyph\":null,\"muted_glyph\":{\"id\":\"6530\"},\"nonselection_glyph\":{\"id\":\"6529\"},\"view\":{\"id\":\"6532\"}},\"id\":\"6531\",\"type\":\"GlyphRenderer\"},{\"attributes\":{\"bottom_units\":\"screen\",\"coordinates\":null,\"fill_alpha\":0.5,\"fill_color\":\"lightgrey\",\"group\":null,\"left_units\":\"screen\",\"level\":\"overlay\",\"line_alpha\":1.0,\"line_color\":\"black\",\"line_dash\":[4,4],\"line_width\":2,\"right_units\":\"screen\",\"syncable\":false,\"top_units\":\"screen\"},\"id\":\"6519\",\"type\":\"BoxAnnotation\"},{\"attributes\":{\"overlay\":{\"id\":\"6519\"}},\"id\":\"6515\",\"type\":\"BoxZoomTool\"},{\"attributes\":{},\"id\":\"6513\",\"type\":\"PanTool\"},{\"attributes\":{},\"id\":\"6518\",\"type\":\"HelpTool\"},{\"attributes\":{\"line_color\":\"blue\",\"x\":{\"field\":\"x\"},\"y\":{\"field\":\"y\"}},\"id\":\"6528\",\"type\":\"Line\"},{\"attributes\":{},\"id\":\"6806\",\"type\":\"UnionRenderers\"},{\"attributes\":{\"axis_label_standoff\":10,\"axis_label_text_color\":\"#5B5B5B\",\"axis_label_text_font\":\"Calibri Light\",\"axis_label_text_font_size\":\"1.15em\",\"axis_label_text_font_style\":\"bold\",\"axis_line_alpha\":1,\"axis_line_color\":\"#5B5B5B\",\"coordinates\":null,\"formatter\":{\"id\":\"6801\"},\"group\":null,\"major_label_policy\":{\"id\":\"6802\"},\"major_label_text_color\":\"#5B5B5B\",\"major_label_text_font\":\"Calibri Light\",\"major_label_text_font_size\":\"0.95em\",\"major_label_text_font_style\":\"bold\",\"major_tick_in\":0,\"major_tick_line_alpha\":0.25,\"major_tick_line_color\":\"#5B5B5B\",\"major_tick_out\":3,\"minor_tick_line_alpha\":0.25,\"minor_tick_line_color\":\"#5B5B5B\",\"ticker\":{\"id\":\"6510\"}},\"id\":\"6509\",\"type\":\"LinearAxis\"},{\"attributes\":{\"coordinates\":null,\"data_source\":{\"id\":\"6533\"},\"glyph\":{\"id\":\"6534\"},\"group\":null,\"hover_glyph\":null,\"muted_glyph\":{\"id\":\"6536\"},\"nonselection_glyph\":{\"id\":\"6535\"},\"view\":{\"id\":\"6538\"}},\"id\":\"6537\",\"type\":\"GlyphRenderer\"},{\"attributes\":{\"tools\":[{\"id\":\"6513\"},{\"id\":\"6514\"},{\"id\":\"6515\"},{\"id\":\"6516\"},{\"id\":\"6517\"},{\"id\":\"6518\"}]},\"id\":\"6520\",\"type\":\"Toolbar\"}],\"root_ids\":[\"6494\"]},\"title\":\"Bokeh Application\",\"version\":\"2.4.3\"}};\n",
       "  const render_items = [{\"docid\":\"34dc0df9-001a-4759-9c17-4db9d399da78\",\"root_ids\":[\"6494\"],\"roots\":{\"6494\":\"0830aa3e-f8eb-43ee-a352-6a03f0e33d85\"}}];\n",
       "  root.Bokeh.embed.embed_items_notebook(docs_json, render_items);\n",
       "  }\n",
       "  if (root.Bokeh !== undefined) {\n",
       "    embed_document(root);\n",
       "  } else {\n",
       "    let attempts = 0;\n",
       "    const timer = setInterval(function(root) {\n",
       "      if (root.Bokeh !== undefined) {\n",
       "        clearInterval(timer);\n",
       "        embed_document(root);\n",
       "      } else {\n",
       "        attempts++;\n",
       "        if (attempts > 100) {\n",
       "          clearInterval(timer);\n",
       "          console.log(\"Bokeh: ERROR: Unable to run BokehJS code because BokehJS library is missing\");\n",
       "        }\n",
       "      }\n",
       "    }, 10, root)\n",
       "  }\n",
       "})(window);"
      ],
      "application/vnd.bokehjs_exec.v0+json": ""
     },
     "metadata": {
      "application/vnd.bokehjs_exec.v0+json": {
       "id": "6494"
      }
     },
     "output_type": "display_data"
    }
   ],
   "source": [
    "import random\n",
    "\n",
    "from bokeh.plotting import figure, show\n",
    "\n",
    "# generate some data (1-10 for x, random values for y)\n",
    "x = list(range(0, 26))\n",
    "y = random.sample(range(0, 100), 26)\n",
    "\n",
    "# generate list of rgb hex colors in relation to y\n",
    "colors = [\"#%02x%02x%02x\" % (255, int(round(value * 255 / 100)), 255) for value in y]\n",
    "\n",
    "# create new plot\n",
    "p = figure(\n",
    "    title=\"Vectorized colors example\",\n",
    "    sizing_mode=\"stretch_width\",\n",
    "    max_width=500,\n",
    "    height=250,\n",
    ")\n",
    "\n",
    "# add circle and line renderers\n",
    "line = p.line(x, y, line_color=\"blue\", line_width=1)\n",
    "circle = p.circle(x, y, fill_color=colors, line_color=\"blue\", size=15)\n",
    "\n",
    "# show the results\n",
    "show(p)"
   ]
  },
  {
   "cell_type": "markdown",
   "id": "ee43ee26-55b3-4b76-86d6-3abd4c025421",
   "metadata": {},
   "source": [
    "Vectorizing colors and sizes"
   ]
  },
  {
   "cell_type": "code",
   "execution_count": 26,
   "id": "e2f3b706-a3e3-4f76-89b9-9d86b0dd3ad3",
   "metadata": {},
   "outputs": [
    {
     "data": {
      "text/html": [
       "\n",
       "  <div class=\"bk-root\" id=\"b5139f16-cff5-432f-99e0-689c9ee2e042\" data-root-id=\"6871\"></div>\n"
      ]
     },
     "metadata": {},
     "output_type": "display_data"
    },
    {
     "data": {
      "application/javascript": [
       "(function(root) {\n",
       "  function embed_document(root) {\n",
       "  const docs_json = {\"b771df79-cb6e-4844-8689-4e55f7984f2b\":{\"defs\":[],\"roots\":{\"references\":[{\"attributes\":{\"below\":[{\"id\":\"6882\"}],\"center\":[{\"id\":\"6885\"},{\"id\":\"6889\"}],\"height\":250,\"left\":[{\"id\":\"6886\"}],\"max_width\":500,\"renderers\":[{\"id\":\"6908\"}],\"sizing_mode\":\"stretch_width\",\"title\":{\"id\":\"6872\"},\"toolbar\":{\"id\":\"6897\"},\"x_range\":{\"id\":\"6874\"},\"x_scale\":{\"id\":\"6878\"},\"y_range\":{\"id\":\"6876\"},\"y_scale\":{\"id\":\"6880\"}},\"id\":\"6871\",\"subtype\":\"Figure\",\"type\":\"Plot\"},{\"attributes\":{\"fill_alpha\":{\"value\":0.6},\"fill_color\":{\"field\":\"fill_color\"},\"line_color\":{\"value\":\"lightgrey\"},\"radius\":{\"field\":\"radius\"},\"x\":{\"field\":\"x\"},\"y\":{\"field\":\"y\"}},\"id\":\"6905\",\"type\":\"Circle\"},{\"attributes\":{},\"id\":\"7184\",\"type\":\"BasicTickFormatter\"},{\"attributes\":{\"data\":{\"fill_color\":[\"#ff4eff\",\"#ff13ff\",\"#ff97ff\",\"#ffb0ff\",\"#ffcdff\",\"#fff5ff\",\"#ff14ff\",\"#ff25ff\",\"#ffe4ff\",\"#ffd4ff\",\"#ffadff\",\"#fff2ff\",\"#ffa7ff\",\"#ff7bff\",\"#ffdbff\",\"#ff4fff\",\"#ffa4ff\",\"#fffaff\",\"#ff35ff\",\"#ffd4ff\",\"#ff35ff\",\"#ffd7ff\",\"#ffdfff\",\"#ffaeff\",\"#ffb8ff\",\"#ff0aff\",\"#ffd4ff\",\"#ff6bff\",\"#ff43ff\",\"#ffb9ff\",\"#ff56ff\",\"#ff6eff\",\"#ff80ff\",\"#ffc7ff\",\"#ffd7ff\",\"#ff44ff\",\"#ff84ff\",\"#ffaeff\",\"#fffaff\",\"#ff44ff\",\"#ff69ff\",\"#ffecff\",\"#ffb5ff\",\"#ff6fff\",\"#ffa6ff\",\"#ffa1ff\",\"#ff0cff\",\"#ffadff\",\"#ffe8ff\",\"#ffdcff\",\"#ff09ff\",\"#ff2dff\",\"#ff8eff\",\"#ffbaff\",\"#ff32ff\",\"#ff18ff\",\"#ffbfff\",\"#ff6eff\",\"#fff2ff\",\"#ff82ff\",\"#ff65ff\",\"#fffdff\",\"#ffa3ff\",\"#ffc3ff\",\"#ff4eff\",\"#ffecff\",\"#ffefff\",\"#ff6cff\",\"#ff4eff\",\"#ff4aff\",\"#ff70ff\",\"#ff4eff\",\"#ff46ff\",\"#ff4cff\",\"#ffccff\",\"#ff1fff\",\"#ff05ff\",\"#ffe7ff\",\"#ffbbff\",\"#ff19ff\",\"#ff0eff\",\"#ff76ff\",\"#ff9eff\",\"#ff84ff\",\"#fff8ff\",\"#ff03ff\",\"#ff2eff\",\"#ff91ff\",\"#ff37ff\",\"#ffd1ff\",\"#ffb7ff\",\"#ff60ff\",\"#ffa0ff\",\"#ffd3ff\",\"#ffdfff\",\"#fff9ff\",\"#ff6fff\",\"#ffe1ff\",\"#ffa8ff\",\"#ff1dff\",\"#ff82ff\",\"#ff8bff\",\"#ff82ff\",\"#ff8bff\",\"#fff4ff\",\"#ff66ff\",\"#ff93ff\",\"#ff26ff\",\"#ff77ff\",\"#ffd2ff\",\"#ffb3ff\",\"#ff70ff\",\"#ff63ff\",\"#ff60ff\",\"#ff91ff\",\"#ff96ff\",\"#ff90ff\",\"#fff3ff\",\"#ff50ff\",\"#ff4eff\",\"#ff30ff\",\"#ff1eff\",\"#ff55ff\",\"#ff8fff\",\"#ff43ff\",\"#ffe8ff\",\"#ff55ff\",\"#ff76ff\",\"#ffbdff\",\"#ffd0ff\",\"#ffa0ff\",\"#ff3fff\",\"#fffaff\",\"#ff31ff\",\"#ff85ff\",\"#ff94ff\",\"#fff2ff\",\"#ff7bff\",\"#ffd2ff\",\"#ff66ff\",\"#ff62ff\",\"#ffd1ff\",\"#ffacff\",\"#ff14ff\",\"#ff78ff\",\"#ffe4ff\",\"#fff0ff\",\"#ff06ff\",\"#ff88ff\",\"#fffdff\",\"#ffabff\",\"#ffcbff\",\"#ffd6ff\",\"#ff17ff\",\"#ff84ff\",\"#ffdcff\",\"#ffddff\",\"#ff2aff\",\"#ff5bff\",\"#ff5dff\",\"#ff58ff\",\"#fff7ff\",\"#ff00ff\",\"#ff24ff\",\"#ffb1ff\",\"#ff16ff\",\"#ffb8ff\",\"#fff3ff\",\"#ffbbff\",\"#ff56ff\",\"#ffa0ff\",\"#ffb3ff\",\"#ff8bff\",\"#ffe8ff\",\"#ff21ff\",\"#ffaeff\",\"#ffa6ff\",\"#fff2ff\",\"#ff16ff\",\"#ff76ff\",\"#ff4dff\",\"#ff51ff\",\"#ff8eff\",\"#ff24ff\",\"#ff4aff\",\"#ff21ff\",\"#ff0dff\",\"#ff41ff\",\"#ff0fff\",\"#ff12ff\",\"#ffa7ff\",\"#ff67ff\",\"#ff85ff\",\"#ff1aff\",\"#ff9bff\",\"#ffabff\",\"#ffcfff\",\"#ff44ff\",\"#ffefff\",\"#ff44ff\",\"#ffc2ff\",\"#ffa9ff\",\"#ff51ff\",\"#ffbfff\",\"#ff28ff\",\"#ff1eff\",\"#ff7aff\",\"#ff24ff\",\"#ff59ff\",\"#ffd0ff\",\"#ffdaff\",\"#ff24ff\",\"#ff32ff\",\"#ffb9ff\",\"#ffaaff\",\"#ffceff\",\"#ffe1ff\",\"#ff3bff\",\"#ff84ff\",\"#ffceff\",\"#ff03ff\",\"#ff5fff\",\"#ffd1ff\",\"#ff73ff\",\"#ff91ff\",\"#ff1dff\",\"#ffecff\",\"#ff4aff\",\"#ff9bff\",\"#ffefff\",\"#ffdcff\",\"#fff0ff\",\"#fffcff\",\"#ffcbff\",\"#ff4fff\",\"#ffaaff\",\"#ffe3ff\",\"#ff8bff\",\"#ff6eff\",\"#ff3aff\",\"#ffd2ff\",\"#ff47ff\",\"#ff48ff\",\"#ff72ff\",\"#ffd5ff\",\"#ffb2ff\",\"#ffd5ff\",\"#ff7dff\",\"#ff32ff\",\"#ff1aff\",\"#ff8fff\",\"#ff6cff\",\"#ff52ff\",\"#ff55ff\",\"#ff63ff\",\"#ff70ff\",\"#ffd0ff\",\"#ffd0ff\",\"#ffe0ff\",\"#ff16ff\",\"#ff02ff\",\"#ff98ff\",\"#ff77ff\",\"#ff22ff\",\"#ffeaff\",\"#ff16ff\",\"#ff15ff\",\"#ff29ff\",\"#ff08ff\",\"#ffbdff\",\"#ffeeff\",\"#ff46ff\",\"#ffbbff\",\"#ff68ff\",\"#ff6fff\",\"#ffd9ff\",\"#fff5ff\",\"#ffb1ff\",\"#ffb6ff\",\"#ff26ff\",\"#ffadff\",\"#ff3eff\",\"#ff6cff\",\"#ffedff\",\"#ffe7ff\",\"#ffb7ff\",\"#ff3aff\",\"#ff6dff\",\"#ff37ff\",\"#ff83ff\",\"#ffd7ff\",\"#ff61ff\",\"#ffe3ff\",\"#ff7eff\",\"#ff74ff\",\"#ff08ff\",\"#fff8ff\",\"#ffa8ff\",\"#ff54ff\",\"#ffa6ff\",\"#ff5cff\",\"#ffbdff\",\"#ffb9ff\",\"#ff27ff\",\"#ff52ff\",\"#ffc3ff\",\"#ff64ff\",\"#ff95ff\",\"#ff86ff\",\"#ffccff\",\"#ffa1ff\",\"#ff68ff\",\"#ff09ff\",\"#ff60ff\",\"#ff34ff\",\"#fffaff\",\"#ff75ff\",\"#ff93ff\",\"#ff8dff\",\"#ff34ff\",\"#ff43ff\",\"#ffdfff\",\"#ffaaff\",\"#ff77ff\",\"#ffb5ff\",\"#ffbdff\",\"#ff48ff\",\"#fff6ff\",\"#ffb7ff\",\"#ff33ff\",\"#ff9dff\",\"#ff90ff\",\"#ff9bff\",\"#ffccff\",\"#ffcfff\",\"#ffe6ff\",\"#ff83ff\",\"#ff80ff\",\"#ffbaff\",\"#ff80ff\",\"#ffb2ff\",\"#ffc9ff\",\"#ffdcff\",\"#ff62ff\",\"#ff4aff\",\"#ff7aff\",\"#ffaeff\",\"#ff0cff\",\"#ffb6ff\",\"#ff82ff\",\"#ff5bff\",\"#ff5fff\",\"#ff41ff\",\"#ff16ff\",\"#ff7cff\",\"#ff71ff\",\"#fffeff\",\"#ff4cff\",\"#ffb2ff\",\"#ff37ff\",\"#fff8ff\",\"#ff29ff\",\"#ff9dff\",\"#ff27ff\",\"#ff80ff\",\"#ffccff\",\"#ff2dff\",\"#ff8eff\",\"#ff2bff\",\"#ff14ff\",\"#ff9cff\",\"#ffadff\",\"#ff8aff\",\"#ffbcff\",\"#ff0eff\",\"#ff5fff\",\"#ffb7ff\",\"#ff5dff\",\"#ff59ff\",\"#ffffff\",\"#ff33ff\",\"#ff98ff\",\"#ffaeff\",\"#ffb4ff\",\"#ff08ff\",\"#ff8bff\",\"#ffacff\",\"#ffb5ff\",\"#ff55ff\",\"#ffc8ff\",\"#ff51ff\",\"#ff55ff\",\"#ffa8ff\",\"#ffebff\",\"#ff67ff\",\"#ff7eff\",\"#ff0aff\",\"#ff7dff\",\"#ff4dff\",\"#ff73ff\",\"#ff4eff\",\"#ff88ff\",\"#ff4bff\",\"#fffaff\",\"#fff4ff\",\"#fff1ff\",\"#ffcaff\",\"#fff9ff\",\"#ffaaff\",\"#ff51ff\",\"#fff1ff\",\"#ffc6ff\",\"#ff77ff\",\"#ff60ff\",\"#ffe9ff\",\"#fff8ff\",\"#ff86ff\",\"#ff1eff\",\"#ff7fff\",\"#ffffff\",\"#ff23ff\",\"#ffd8ff\",\"#ff75ff\",\"#ffefff\",\"#fff7ff\",\"#ff56ff\",\"#ff9dff\",\"#ff8eff\",\"#ff42ff\",\"#ffedff\",\"#ff69ff\",\"#ff1fff\",\"#ff5cff\",\"#ff27ff\",\"#ff39ff\",\"#ff69ff\",\"#ff59ff\",\"#ffb4ff\",\"#ffcdff\",\"#ffefff\",\"#ff4dff\",\"#ff69ff\",\"#fff7ff\",\"#fff8ff\",\"#ffc7ff\",\"#ff35ff\",\"#ff60ff\",\"#ff08ff\",\"#ff78ff\",\"#ffaeff\",\"#ffd8ff\",\"#ffa2ff\",\"#ff10ff\",\"#fff6ff\",\"#ff7fff\",\"#ffacff\",\"#ff34ff\",\"#ff3dff\",\"#ff97ff\",\"#ff76ff\",\"#ff07ff\",\"#ff47ff\",\"#ffb5ff\",\"#ffafff\",\"#ff0aff\",\"#ff54ff\",\"#ffabff\",\"#ff07ff\",\"#ff56ff\",\"#ffbdff\",\"#ff6dff\",\"#ff6eff\",\"#ffc3ff\",\"#ff7cff\",\"#ff0dff\",\"#ffa6ff\",\"#ffcaff\",\"#ff9fff\",\"#ff6aff\",\"#ffbcff\",\"#ff12ff\",\"#ff05ff\",\"#ffdeff\",\"#ff1eff\",\"#ff9dff\",\"#ffb5ff\",\"#ffadff\",\"#ff80ff\",\"#ff14ff\",\"#ffecff\",\"#ffa3ff\",\"#ff59ff\",\"#ff7eff\",\"#ff2eff\",\"#fff7ff\",\"#ff21ff\",\"#ffb8ff\",\"#ff28ff\",\"#ff09ff\",\"#ff05ff\",\"#ffdeff\",\"#ff2bff\",\"#ff8fff\",\"#ffe9ff\",\"#ff0bff\",\"#ff7cff\",\"#ff12ff\",\"#ff5aff\",\"#ff8cff\",\"#fff0ff\",\"#ff49ff\",\"#ffb7ff\",\"#ff60ff\",\"#ffa1ff\",\"#ff12ff\",\"#ffa8ff\",\"#ff12ff\",\"#ff2bff\",\"#ff45ff\",\"#ff77ff\",\"#ff14ff\",\"#fffbff\",\"#ff68ff\",\"#ffd4ff\",\"#ff58ff\",\"#ff3aff\",\"#ffc8ff\",\"#ffd8ff\",\"#ffa8ff\",\"#ffabff\",\"#ff04ff\",\"#ffe8ff\",\"#ff10ff\",\"#ff87ff\",\"#ffbdff\",\"#ffc2ff\",\"#ff52ff\",\"#ffe9ff\",\"#ff30ff\",\"#ff36ff\",\"#ffb4ff\",\"#ffdaff\",\"#ff2bff\",\"#ffb4ff\",\"#fff8ff\",\"#ff43ff\",\"#ffefff\",\"#ffbcff\",\"#ff4cff\",\"#ff95ff\",\"#ff37ff\",\"#ff1bff\",\"#ff87ff\",\"#ff59ff\",\"#ff2cff\",\"#ff86ff\",\"#ff06ff\",\"#ff04ff\",\"#fff2ff\",\"#ff49ff\",\"#ffc4ff\",\"#fff6ff\",\"#ff69ff\",\"#ffaaff\",\"#ff5aff\",\"#ff3eff\",\"#ff4aff\",\"#fff8ff\",\"#ff7dff\",\"#ffa2ff\",\"#ffa4ff\",\"#ff12ff\",\"#fffbff\",\"#fffeff\",\"#ff50ff\",\"#ffe2ff\",\"#ff9bff\",\"#ff38ff\",\"#ffa6ff\",\"#ff96ff\",\"#ff84ff\",\"#ff60ff\",\"#ff79ff\",\"#ff87ff\",\"#ff45ff\",\"#ffe1ff\",\"#ff5dff\",\"#ff31ff\",\"#ffcbff\",\"#ffb8ff\",\"#ff4bff\",\"#ffe8ff\",\"#ffb1ff\",\"#ff5dff\",\"#ffaeff\",\"#ff47ff\",\"#ff07ff\",\"#ff49ff\",\"#ff17ff\",\"#ff8cff\",\"#ff81ff\",\"#ff85ff\",\"#ff72ff\",\"#ff69ff\",\"#ff03ff\",\"#ff70ff\",\"#ff78ff\",\"#ff0aff\",\"#ffacff\",\"#ffa5ff\",\"#ff7dff\",\"#ff94ff\",\"#fffcff\",\"#ff27ff\",\"#ffe8ff\",\"#ff11ff\",\"#ff7aff\",\"#ff39ff\",\"#ff98ff\",\"#fff9ff\",\"#ffbdff\",\"#ffd7ff\",\"#ff40ff\",\"#ffe8ff\",\"#ff5aff\",\"#ffe3ff\",\"#ff7cff\",\"#ffa8ff\",\"#ff7fff\",\"#ffb6ff\",\"#ff4eff\",\"#ff53ff\",\"#ff9bff\",\"#ff3dff\",\"#ff57ff\",\"#ffd1ff\",\"#ff5bff\",\"#ffd5ff\",\"#ff89ff\",\"#ff4cff\",\"#fff4ff\",\"#ff82ff\",\"#ff6fff\",\"#ffdfff\",\"#ff99ff\",\"#ffb8ff\",\"#ff73ff\",\"#ff40ff\",\"#ff5fff\",\"#ff1bff\",\"#ffdfff\",\"#ff8fff\",\"#ffbaff\",\"#fffcff\",\"#ffbfff\",\"#ffc5ff\",\"#fffcff\",\"#ff50ff\",\"#ff3aff\",\"#ff2eff\",\"#ff16ff\",\"#ffbdff\",\"#fff9ff\",\"#ffd7ff\",\"#ff11ff\",\"#ffe2ff\",\"#ffd6ff\",\"#ff41ff\",\"#ff19ff\",\"#ff27ff\",\"#ff44ff\",\"#fffaff\",\"#ffbeff\",\"#ff2dff\",\"#ffe9ff\",\"#ff33ff\",\"#ff04ff\",\"#ffdcff\",\"#ff7aff\",\"#ffdcff\",\"#ff27ff\",\"#ff30ff\",\"#ffa9ff\",\"#ff19ff\",\"#ff28ff\",\"#ff62ff\",\"#ff29ff\",\"#ff0bff\",\"#ffdaff\",\"#ffe7ff\",\"#ff58ff\",\"#ff74ff\",\"#ff40ff\",\"#ff13ff\",\"#ff93ff\",\"#ffa2ff\",\"#ffb3ff\",\"#ff0eff\",\"#ffc5ff\",\"#ff80ff\",\"#ffd9ff\",\"#ff87ff\",\"#ff44ff\",\"#ffc9ff\",\"#ff06ff\",\"#ff59ff\",\"#ff12ff\",\"#ffe3ff\",\"#ffefff\",\"#ff14ff\",\"#ff27ff\",\"#ff8fff\",\"#ffd8ff\",\"#ff53ff\",\"#ff19ff\",\"#ffabff\",\"#ff2cff\",\"#ffc8ff\",\"#ff48ff\",\"#ffabff\",\"#ff66ff\",\"#ff5dff\",\"#ff7cff\",\"#fff2ff\",\"#ffb8ff\",\"#ff5bff\",\"#ffd2ff\",\"#ffdfff\",\"#ff50ff\",\"#ff99ff\",\"#ff19ff\",\"#ff48ff\",\"#ff8aff\",\"#ff8cff\",\"#ff77ff\",\"#ffddff\",\"#ff7aff\",\"#ff54ff\",\"#fff0ff\",\"#ff3bff\",\"#ff8eff\",\"#ff2dff\",\"#ff96ff\",\"#ff2dff\",\"#ffe4ff\",\"#fff9ff\",\"#ff84ff\",\"#ff51ff\",\"#ffeeff\",\"#ffa5ff\",\"#ff3dff\",\"#ff7cff\",\"#ff51ff\",\"#ff81ff\",\"#ff81ff\",\"#ff31ff\",\"#ff34ff\",\"#ff9cff\",\"#ff58ff\",\"#ff80ff\",\"#ffb9ff\",\"#ff68ff\",\"#ff21ff\",\"#ff5cff\",\"#fff0ff\",\"#ffbfff\",\"#ff8fff\",\"#ff76ff\",\"#ff11ff\",\"#ffbfff\",\"#ffd6ff\",\"#ff8fff\",\"#ff7fff\",\"#ff98ff\",\"#ff69ff\",\"#ffe0ff\",\"#ff46ff\",\"#ff43ff\",\"#ff99ff\",\"#ff63ff\",\"#ffa5ff\",\"#ffafff\",\"#ff94ff\",\"#ff31ff\",\"#ff3dff\",\"#ffd9ff\",\"#ffb6ff\",\"#ff0cff\",\"#ff67ff\",\"#fff8ff\",\"#ffb3ff\",\"#ff81ff\",\"#ff5fff\",\"#ffa2ff\",\"#ff68ff\",\"#ff69ff\",\"#ff36ff\",\"#ffbfff\",\"#ff36ff\",\"#ff5fff\",\"#ffb5ff\",\"#ffa2ff\",\"#ff56ff\",\"#fff1ff\",\"#ffb5ff\",\"#ffdbff\",\"#ff7cff\",\"#ff8dff\",\"#ff1bff\",\"#ffe0ff\",\"#ff00ff\",\"#ff23ff\",\"#ff65ff\",\"#ff49ff\",\"#ff3cff\",\"#ff3fff\",\"#ff0bff\",\"#ffb7ff\",\"#ff86ff\",\"#ff2fff\",\"#ff2aff\",\"#ff14ff\",\"#ffd0ff\",\"#ff14ff\",\"#ff58ff\",\"#ff49ff\",\"#ff12ff\",\"#ff39ff\",\"#ffceff\",\"#ff99ff\",\"#ff32ff\",\"#ffd4ff\",\"#ff00ff\",\"#ff1cff\",\"#ffb1ff\",\"#ffb3ff\",\"#ff2aff\",\"#ff86ff\",\"#ff6dff\",\"#ff86ff\",\"#ffd0ff\",\"#ff39ff\",\"#ff15ff\",\"#ff75ff\",\"#ffabff\",\"#ff55ff\",\"#ff35ff\",\"#ffd1ff\",\"#ffb3ff\",\"#fff9ff\",\"#ffbcff\",\"#ff95ff\",\"#fffdff\",\"#ff92ff\",\"#ff8bff\",\"#fff9ff\",\"#ffd1ff\",\"#ff41ff\",\"#ffa1ff\",\"#ffc0ff\",\"#ffd9ff\",\"#ffbeff\",\"#ff37ff\",\"#ff7eff\",\"#ff9aff\",\"#ff0cff\",\"#ff94ff\",\"#ff1dff\",\"#ffffff\",\"#fff8ff\",\"#ff88ff\",\"#ff67ff\",\"#ff83ff\",\"#ff92ff\",\"#ffc4ff\",\"#ff51ff\",\"#ff15ff\",\"#ff13ff\",\"#ff1cff\",\"#ffacff\",\"#fffaff\",\"#ffc5ff\",\"#ff19ff\",\"#ff2bff\",\"#ff68ff\",\"#ff94ff\",\"#ff67ff\",\"#ffaaff\",\"#ffa7ff\",\"#ff21ff\",\"#ff52ff\",\"#ffd9ff\",\"#ff44ff\",\"#fff1ff\",\"#ff01ff\",\"#ff9aff\",\"#ffebff\",\"#ff3fff\",\"#ff2eff\",\"#ff9fff\",\"#fffbff\",\"#ff37ff\",\"#ff90ff\",\"#ff09ff\",\"#ffa8ff\",\"#ff39ff\",\"#ff1dff\",\"#ff34ff\",\"#ff42ff\",\"#ff37ff\",\"#ff46ff\",\"#ff65ff\",\"#ff5cff\",\"#ff99ff\",\"#ff37ff\",\"#ff78ff\",\"#ffb9ff\",\"#ff20ff\",\"#ff50ff\",\"#ff7aff\",\"#ff88ff\",\"#ff08ff\",\"#ff08ff\",\"#ffaaff\",\"#ffbaff\",\"#ff50ff\",\"#ff7eff\",\"#ff87ff\",\"#ff55ff\",\"#ff2dff\",\"#ff58ff\",\"#ffb6ff\",\"#ffe7ff\",\"#ff49ff\",\"#ff96ff\",\"#ffc7ff\",\"#ffabff\",\"#ffb5ff\",\"#ff50ff\",\"#ff56ff\",\"#ffedff\",\"#ffe7ff\",\"#ffd0ff\",\"#ff05ff\",\"#ff22ff\",\"#ff9fff\",\"#ffa8ff\",\"#ff36ff\",\"#ff71ff\",\"#ffd4ff\",\"#ff8cff\",\"#ff92ff\",\"#ffb8ff\",\"#fff8ff\",\"#ff05ff\",\"#ff26ff\",\"#ff30ff\",\"#ff63ff\",\"#ff8fff\",\"#ffc3ff\",\"#fff6ff\",\"#ff2eff\",\"#ff5eff\",\"#ff96ff\",\"#ff8dff\",\"#ffddff\",\"#ffebff\",\"#ff78ff\",\"#ff70ff\",\"#ffaeff\",\"#ff4cff\",\"#ff34ff\",\"#ff0fff\",\"#ff53ff\",\"#ffdfff\",\"#ff54ff\",\"#ff28ff\",\"#ff69ff\",\"#ff04ff\",\"#ffabff\",\"#ff0bff\",\"#ffa3ff\",\"#ff7fff\",\"#ff9bff\",\"#ff07ff\",\"#ff67ff\",\"#ff05ff\",\"#ffb8ff\",\"#ff0cff\",\"#ffaeff\",\"#ffa3ff\",\"#ff22ff\",\"#ff29ff\",\"#ff17ff\",\"#ff10ff\",\"#ffc3ff\",\"#ff9eff\",\"#ff76ff\",\"#ff44ff\",\"#ff0fff\"],\"radius\":{\"__ndarray__\":\"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\",\"dtype\":\"float64\",\"order\":\"little\",\"shape\":[1000]},\"x\":{\"__ndarray__\":\"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\",\"dtype\":\"float64\",\"order\":\"little\",\"shape\":[1000]},\"y\":{\"__ndarray__\":\"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\",\"dtype\":\"float64\",\"order\":\"little\",\"shape\":[1000]}},\"selected\":{\"id\":\"7190\"},\"selection_policy\":{\"id\":\"7189\"}},\"id\":\"6904\",\"type\":\"ColumnDataSource\"},{\"attributes\":{\"fill_alpha\":{\"value\":0.2},\"fill_color\":{\"field\":\"fill_color\"},\"hatch_alpha\":{\"value\":0.2},\"line_alpha\":{\"value\":0.2},\"line_color\":{\"value\":\"lightgrey\"},\"radius\":{\"field\":\"radius\"},\"x\":{\"field\":\"x\"},\"y\":{\"field\":\"y\"}},\"id\":\"6907\",\"type\":\"Circle\"},{\"attributes\":{\"axis_label_standoff\":10,\"axis_label_text_color\":\"#5B5B5B\",\"axis_label_text_font\":\"Calibri Light\",\"axis_label_text_font_size\":\"1.15em\",\"axis_label_text_font_style\":\"bold\",\"axis_line_alpha\":1,\"axis_line_color\":\"#5B5B5B\",\"coordinates\":null,\"formatter\":{\"id\":\"7187\"},\"group\":null,\"major_label_policy\":{\"id\":\"7188\"},\"major_label_text_color\":\"#5B5B5B\",\"major_label_text_font\":\"Calibri Light\",\"major_label_text_font_size\":\"0.95em\",\"major_label_text_font_style\":\"bold\",\"major_tick_in\":0,\"major_tick_line_alpha\":0.25,\"major_tick_line_color\":\"#5B5B5B\",\"major_tick_out\":3,\"minor_tick_line_alpha\":0.25,\"minor_tick_line_color\":\"#5B5B5B\",\"ticker\":{\"id\":\"6883\"}},\"id\":\"6882\",\"type\":\"LinearAxis\"},{\"attributes\":{},\"id\":\"7189\",\"type\":\"UnionRenderers\"},{\"attributes\":{},\"id\":\"6895\",\"type\":\"HelpTool\"},{\"attributes\":{\"source\":{\"id\":\"6904\"}},\"id\":\"6909\",\"type\":\"CDSView\"},{\"attributes\":{},\"id\":\"6894\",\"type\":\"ResetTool\"},{\"attributes\":{},\"id\":\"7188\",\"type\":\"AllLabels\"},{\"attributes\":{},\"id\":\"6893\",\"type\":\"SaveTool\"},{\"attributes\":{},\"id\":\"6876\",\"type\":\"DataRange1d\"},{\"attributes\":{\"overlay\":{\"id\":\"6896\"}},\"id\":\"6892\",\"type\":\"BoxZoomTool\"},{\"attributes\":{\"coordinates\":null,\"group\":null,\"text\":\"Vectorized colors and radii example\",\"text_color\":\"#5B5B5B\",\"text_font\":\"Calibri Light\",\"text_font_size\":\"1.25em\",\"text_font_style\":\"bold\"},\"id\":\"6872\",\"type\":\"Title\"},{\"attributes\":{},\"id\":\"6890\",\"type\":\"PanTool\"},{\"attributes\":{},\"id\":\"7190\",\"type\":\"Selection\"},{\"attributes\":{},\"id\":\"6878\",\"type\":\"LinearScale\"},{\"attributes\":{\"coordinates\":null,\"data_source\":{\"id\":\"6904\"},\"glyph\":{\"id\":\"6905\"},\"group\":null,\"hover_glyph\":null,\"muted_glyph\":{\"id\":\"6907\"},\"nonselection_glyph\":{\"id\":\"6906\"},\"view\":{\"id\":\"6909\"}},\"id\":\"6908\",\"type\":\"GlyphRenderer\"},{\"attributes\":{},\"id\":\"6891\",\"type\":\"WheelZoomTool\"},{\"attributes\":{\"axis_label_standoff\":10,\"axis_label_text_color\":\"#5B5B5B\",\"axis_label_text_font\":\"Calibri Light\",\"axis_label_text_font_size\":\"1.15em\",\"axis_label_text_font_style\":\"bold\",\"axis_line_alpha\":1,\"axis_line_color\":\"#5B5B5B\",\"coordinates\":null,\"formatter\":{\"id\":\"7184\"},\"group\":null,\"major_label_policy\":{\"id\":\"7185\"},\"major_label_text_color\":\"#5B5B5B\",\"major_label_text_font\":\"Calibri Light\",\"major_label_text_font_size\":\"0.95em\",\"major_label_text_font_style\":\"bold\",\"major_tick_in\":0,\"major_tick_line_alpha\":0.25,\"major_tick_line_color\":\"#5B5B5B\",\"major_tick_out\":3,\"minor_tick_line_alpha\":0.25,\"minor_tick_line_color\":\"#5B5B5B\",\"ticker\":{\"id\":\"6887\"}},\"id\":\"6886\",\"type\":\"LinearAxis\"},{\"attributes\":{},\"id\":\"7187\",\"type\":\"BasicTickFormatter\"},{\"attributes\":{\"bottom_units\":\"screen\",\"coordinates\":null,\"fill_alpha\":0.5,\"fill_color\":\"lightgrey\",\"group\":null,\"left_units\":\"screen\",\"level\":\"overlay\",\"line_alpha\":1.0,\"line_color\":\"black\",\"line_dash\":[4,4],\"line_width\":2,\"right_units\":\"screen\",\"syncable\":false,\"top_units\":\"screen\"},\"id\":\"6896\",\"type\":\"BoxAnnotation\"},{\"attributes\":{\"fill_alpha\":{\"value\":0.1},\"fill_color\":{\"field\":\"fill_color\"},\"hatch_alpha\":{\"value\":0.1},\"line_alpha\":{\"value\":0.1},\"line_color\":{\"value\":\"lightgrey\"},\"radius\":{\"field\":\"radius\"},\"x\":{\"field\":\"x\"},\"y\":{\"field\":\"y\"}},\"id\":\"6906\",\"type\":\"Circle\"},{\"attributes\":{\"tools\":[{\"id\":\"6890\"},{\"id\":\"6891\"},{\"id\":\"6892\"},{\"id\":\"6893\"},{\"id\":\"6894\"},{\"id\":\"6895\"}]},\"id\":\"6897\",\"type\":\"Toolbar\"},{\"attributes\":{},\"id\":\"6887\",\"type\":\"BasicTicker\"},{\"attributes\":{},\"id\":\"7185\",\"type\":\"AllLabels\"},{\"attributes\":{},\"id\":\"6874\",\"type\":\"DataRange1d\"},{\"attributes\":{\"axis\":{\"id\":\"6886\"},\"coordinates\":null,\"dimension\":1,\"group\":null,\"ticker\":null},\"id\":\"6889\",\"type\":\"Grid\"},{\"attributes\":{\"axis\":{\"id\":\"6882\"},\"coordinates\":null,\"group\":null,\"ticker\":null},\"id\":\"6885\",\"type\":\"Grid\"},{\"attributes\":{},\"id\":\"6880\",\"type\":\"LinearScale\"},{\"attributes\":{},\"id\":\"6883\",\"type\":\"BasicTicker\"}],\"root_ids\":[\"6871\"]},\"title\":\"Bokeh Application\",\"version\":\"2.4.3\"}};\n",
       "  const render_items = [{\"docid\":\"b771df79-cb6e-4844-8689-4e55f7984f2b\",\"root_ids\":[\"6871\"],\"roots\":{\"6871\":\"b5139f16-cff5-432f-99e0-689c9ee2e042\"}}];\n",
       "  root.Bokeh.embed.embed_items_notebook(docs_json, render_items);\n",
       "  }\n",
       "  if (root.Bokeh !== undefined) {\n",
       "    embed_document(root);\n",
       "  } else {\n",
       "    let attempts = 0;\n",
       "    const timer = setInterval(function(root) {\n",
       "      if (root.Bokeh !== undefined) {\n",
       "        clearInterval(timer);\n",
       "        embed_document(root);\n",
       "      } else {\n",
       "        attempts++;\n",
       "        if (attempts > 100) {\n",
       "          clearInterval(timer);\n",
       "          console.log(\"Bokeh: ERROR: Unable to run BokehJS code because BokehJS library is missing\");\n",
       "        }\n",
       "      }\n",
       "    }, 10, root)\n",
       "  }\n",
       "})(window);"
      ],
      "application/vnd.bokehjs_exec.v0+json": ""
     },
     "metadata": {
      "application/vnd.bokehjs_exec.v0+json": {
       "id": "6871"
      }
     },
     "output_type": "display_data"
    }
   ],
   "source": [
    "import numpy as np\n",
    "\n",
    "from bokeh.plotting import figure, show\n",
    "\n",
    "# generate some data\n",
    "N = 1000\n",
    "x = np.random.random(size=N) * 100\n",
    "y = np.random.random(size=N) * 100\n",
    "\n",
    "# generate radii and colors based on data\n",
    "radii = y / 100 * 2\n",
    "colors = [\"#%02x%02x%02x\" % (255, int(round(value * 255 / 100)), 255) for value in y]\n",
    "\n",
    "# create a new plot with a specific size\n",
    "p = figure(\n",
    "    title=\"Vectorized colors and radii example\",\n",
    "    sizing_mode=\"stretch_width\",\n",
    "    max_width=500,\n",
    "    height=250,\n",
    ")\n",
    "\n",
    "# add circle renderer\n",
    "p.circle(\n",
    "    x,\n",
    "    y,\n",
    "    radius=radii,\n",
    "    fill_color=colors,\n",
    "    fill_alpha=0.6,\n",
    "    line_color=\"lightgrey\",\n",
    ")\n",
    "\n",
    "# show the results\n",
    "show(p)"
   ]
  },
  {
   "cell_type": "markdown",
   "id": "90e43cf3-45a3-43ff-b01c-6ef828da5781",
   "metadata": {},
   "source": [
    "Color mapping with palettes"
   ]
  },
  {
   "cell_type": "code",
   "execution_count": 27,
   "id": "5e194fc9-18c5-4446-af5f-4d6c820ee9a0",
   "metadata": {},
   "outputs": [
    {
     "data": {
      "text/html": [
       "\n",
       "  <div class=\"bk-root\" id=\"24958ec0-063f-43d5-87f4-b3f7b7ed4cb8\" data-root-id=\"7243\"></div>\n"
      ]
     },
     "metadata": {},
     "output_type": "display_data"
    },
    {
     "data": {
      "application/javascript": [
       "(function(root) {\n",
       "  function embed_document(root) {\n",
       "  const docs_json = {\"74a55c7f-296e-4eaf-9182-de8118dcaa27\":{\"defs\":[],\"roots\":{\"references\":[{\"attributes\":{\"below\":[{\"id\":\"7252\"}],\"center\":[{\"id\":\"7255\"},{\"id\":\"7259\"}],\"height\":250,\"left\":[{\"id\":\"7256\"}],\"renderers\":[{\"id\":\"7278\"}],\"title\":{\"id\":\"7562\"},\"toolbar\":{\"id\":\"7267\"},\"width\":500,\"x_range\":{\"id\":\"7244\"},\"x_scale\":{\"id\":\"7248\"},\"y_range\":{\"id\":\"7246\"},\"y_scale\":{\"id\":\"7250\"}},\"id\":\"7243\",\"subtype\":\"Figure\",\"type\":\"Plot\"},{\"attributes\":{},\"id\":\"7253\",\"type\":\"BasicTicker\"},{\"attributes\":{\"axis\":{\"id\":\"7252\"},\"coordinates\":null,\"group\":null,\"ticker\":null},\"id\":\"7255\",\"type\":\"Grid\"},{\"attributes\":{\"bottom_units\":\"screen\",\"coordinates\":null,\"fill_alpha\":0.5,\"fill_color\":\"lightgrey\",\"group\":null,\"left_units\":\"screen\",\"level\":\"overlay\",\"line_alpha\":1.0,\"line_color\":\"black\",\"line_dash\":[4,4],\"line_width\":2,\"right_units\":\"screen\",\"syncable\":false,\"top_units\":\"screen\"},\"id\":\"7266\",\"type\":\"BoxAnnotation\"},{\"attributes\":{},\"id\":\"7565\",\"type\":\"BasicTickFormatter\"},{\"attributes\":{},\"id\":\"7566\",\"type\":\"AllLabels\"},{\"attributes\":{\"source\":{\"id\":\"7274\"}},\"id\":\"7279\",\"type\":\"CDSView\"},{\"attributes\":{\"overlay\":{\"id\":\"7266\"}},\"id\":\"7262\",\"type\":\"BoxZoomTool\"},{\"attributes\":{},\"id\":\"7568\",\"type\":\"BasicTickFormatter\"},{\"attributes\":{},\"id\":\"7263\",\"type\":\"SaveTool\"},{\"attributes\":{\"coordinates\":null,\"group\":null,\"text_color\":\"#5B5B5B\",\"text_font\":\"Calibri Light\",\"text_font_size\":\"1.25em\",\"text_font_style\":\"bold\"},\"id\":\"7562\",\"type\":\"Title\"},{\"attributes\":{},\"id\":\"7569\",\"type\":\"AllLabels\"},{\"attributes\":{},\"id\":\"7265\",\"type\":\"HelpTool\"},{\"attributes\":{},\"id\":\"7264\",\"type\":\"ResetTool\"},{\"attributes\":{\"axis\":{\"id\":\"7256\"},\"coordinates\":null,\"dimension\":1,\"group\":null,\"ticker\":null},\"id\":\"7259\",\"type\":\"Grid\"},{\"attributes\":{\"axis_label_standoff\":10,\"axis_label_text_color\":\"#5B5B5B\",\"axis_label_text_font\":\"Calibri Light\",\"axis_label_text_font_size\":\"1.15em\",\"axis_label_text_font_style\":\"bold\",\"axis_line_alpha\":1,\"axis_line_color\":\"#5B5B5B\",\"coordinates\":null,\"formatter\":{\"id\":\"7565\"},\"group\":null,\"major_label_policy\":{\"id\":\"7566\"},\"major_label_text_color\":\"#5B5B5B\",\"major_label_text_font\":\"Calibri Light\",\"major_label_text_font_size\":\"0.95em\",\"major_label_text_font_style\":\"bold\",\"major_tick_in\":0,\"major_tick_line_alpha\":0.25,\"major_tick_line_color\":\"#5B5B5B\",\"major_tick_out\":3,\"minor_tick_line_alpha\":0.25,\"minor_tick_line_color\":\"#5B5B5B\",\"ticker\":{\"id\":\"7257\"}},\"id\":\"7256\",\"type\":\"LinearAxis\"},{\"attributes\":{\"tools\":[{\"id\":\"7260\"},{\"id\":\"7261\"},{\"id\":\"7262\"},{\"id\":\"7263\"},{\"id\":\"7264\"},{\"id\":\"7265\"}]},\"id\":\"7267\",\"type\":\"Toolbar\"},{\"attributes\":{},\"id\":\"7248\",\"type\":\"LinearScale\"},{\"attributes\":{},\"id\":\"7257\",\"type\":\"BasicTicker\"},{\"attributes\":{\"axis_label_standoff\":10,\"axis_label_text_color\":\"#5B5B5B\",\"axis_label_text_font\":\"Calibri Light\",\"axis_label_text_font_size\":\"1.15em\",\"axis_label_text_font_style\":\"bold\",\"axis_line_alpha\":1,\"axis_line_color\":\"#5B5B5B\",\"coordinates\":null,\"formatter\":{\"id\":\"7568\"},\"group\":null,\"major_label_policy\":{\"id\":\"7569\"},\"major_label_text_color\":\"#5B5B5B\",\"major_label_text_font\":\"Calibri Light\",\"major_label_text_font_size\":\"0.95em\",\"major_label_text_font_style\":\"bold\",\"major_tick_in\":0,\"major_tick_line_alpha\":0.25,\"major_tick_line_color\":\"#5B5B5B\",\"major_tick_out\":3,\"minor_tick_line_alpha\":0.25,\"minor_tick_line_color\":\"#5B5B5B\",\"ticker\":{\"id\":\"7253\"}},\"id\":\"7252\",\"type\":\"LinearAxis\"},{\"attributes\":{},\"id\":\"7246\",\"type\":\"DataRange1d\"},{\"attributes\":{},\"id\":\"7261\",\"type\":\"WheelZoomTool\"},{\"attributes\":{},\"id\":\"7260\",\"type\":\"PanTool\"},{\"attributes\":{},\"id\":\"7570\",\"type\":\"UnionRenderers\"},{\"attributes\":{\"fill_alpha\":{\"value\":0.1},\"fill_color\":{\"field\":\"y\",\"transform\":{\"id\":\"7242\"}},\"hatch_alpha\":{\"value\":0.1},\"hatch_color\":{\"field\":\"y\",\"transform\":{\"id\":\"7242\"}},\"line_alpha\":{\"value\":0.1},\"line_color\":{\"field\":\"y\",\"transform\":{\"id\":\"7242\"}},\"size\":{\"value\":10},\"x\":{\"field\":\"x\"},\"y\":{\"field\":\"y\"}},\"id\":\"7276\",\"type\":\"Circle\"},{\"attributes\":{},\"id\":\"7571\",\"type\":\"Selection\"},{\"attributes\":{},\"id\":\"7250\",\"type\":\"LinearScale\"},{\"attributes\":{},\"id\":\"7244\",\"type\":\"DataRange1d\"},{\"attributes\":{\"data\":{\"x\":[-32,-31,-30,-29,-28,-27,-26,-25,-24,-23,-22,-21,-20,-19,-18,-17,-16,-15,-14,-13,-12,-11,-10,-9,-8,-7,-6,-5,-4,-3,-2,-1,0,1,2,3,4,5,6,7,8,9,10,11,12,13,14,15,16,17,18,19,20,21,22,23,24,25,26,27,28,29,30,31,32],\"y\":[1024,961,900,841,784,729,676,625,576,529,484,441,400,361,324,289,256,225,196,169,144,121,100,81,64,49,36,25,16,9,4,1,0,1,4,9,16,25,36,49,64,81,100,121,144,169,196,225,256,289,324,361,400,441,484,529,576,625,676,729,784,841,900,961,1024]},\"selected\":{\"id\":\"7571\"},\"selection_policy\":{\"id\":\"7570\"}},\"id\":\"7274\",\"type\":\"ColumnDataSource\"},{\"attributes\":{\"high\":1024,\"low\":0,\"palette\":[\"#30123b\",\"#311542\",\"#32184a\",\"#341b51\",\"#351e58\",\"#36215f\",\"#372365\",\"#38266c\",\"#392972\",\"#3a2c79\",\"#3b2f7f\",\"#3c3285\",\"#3c358b\",\"#3d3791\",\"#3e3a96\",\"#3f3d9c\",\"#4040a1\",\"#4043a6\",\"#4145ab\",\"#4148b0\",\"#424bb5\",\"#434eba\",\"#4350be\",\"#4353c2\",\"#4456c7\",\"#4458cb\",\"#455bce\",\"#455ed2\",\"#4560d6\",\"#4563d9\",\"#4666dd\",\"#4668e0\",\"#466be3\",\"#466de6\",\"#4670e8\",\"#4673eb\",\"#4675ed\",\"#4678f0\",\"#467af2\",\"#467df4\",\"#467ff6\",\"#4682f8\",\"#4584f9\",\"#4587fb\",\"#4589fc\",\"#448cfd\",\"#438efd\",\"#4291fe\",\"#4193fe\",\"#4096fe\",\"#3f98fe\",\"#3e9bfe\",\"#3c9dfd\",\"#3ba0fc\",\"#39a2fc\",\"#38a5fb\",\"#36a8f9\",\"#34aaf8\",\"#33acf6\",\"#31aff5\",\"#2fb1f3\",\"#2db4f1\",\"#2bb6ef\",\"#2ab9ed\",\"#28bbeb\",\"#26bde9\",\"#25c0e6\",\"#23c2e4\",\"#21c4e1\",\"#20c6df\",\"#1ec9dc\",\"#1dcbda\",\"#1ccdd7\",\"#1bcfd4\",\"#1ad1d2\",\"#19d3cf\",\"#18d5cc\",\"#18d7ca\",\"#17d9c7\",\"#17dac4\",\"#17dcc2\",\"#17debf\",\"#18e0bd\",\"#18e1ba\",\"#19e3b8\",\"#1ae4b6\",\"#1be5b4\",\"#1de7b1\",\"#1ee8af\",\"#20e9ac\",\"#22eba9\",\"#24eca6\",\"#27eda3\",\"#29eea0\",\"#2cef9d\",\"#2ff09a\",\"#32f197\",\"#35f394\",\"#38f491\",\"#3bf48d\",\"#3ff58a\",\"#42f687\",\"#46f783\",\"#4af880\",\"#4df97c\",\"#51f979\",\"#55fa76\",\"#59fb72\",\"#5dfb6f\",\"#61fc6c\",\"#65fc68\",\"#69fd65\",\"#6dfd62\",\"#71fd5f\",\"#74fe5c\",\"#78fe59\",\"#7cfe56\",\"#80fe53\",\"#84fe50\",\"#87fe4d\",\"#8bfe4b\",\"#8efe48\",\"#92fe46\",\"#95fe44\",\"#98fe42\",\"#9bfd40\",\"#9efd3e\",\"#a1fc3d\",\"#a4fc3b\",\"#a6fb3a\",\"#a9fb39\",\"#acfa37\",\"#aef937\",\"#b1f836\",\"#b3f835\",\"#b6f735\",\"#b9f534\",\"#bbf434\",\"#bef334\",\"#c0f233\",\"#c3f133\",\"#c5ef33\",\"#c8ee33\",\"#caed33\",\"#cdeb34\",\"#cfea34\",\"#d1e834\",\"#d4e735\",\"#d6e535\",\"#d8e335\",\"#dae236\",\"#dde036\",\"#dfde36\",\"#e1dc37\",\"#e3da37\",\"#e5d838\",\"#e7d738\",\"#e8d538\",\"#ead339\",\"#ecd139\",\"#edcf39\",\"#efcd39\",\"#f0cb3a\",\"#f2c83a\",\"#f3c63a\",\"#f4c43a\",\"#f6c23a\",\"#f7c039\",\"#f8be39\",\"#f9bc39\",\"#f9ba38\",\"#fab737\",\"#fbb537\",\"#fbb336\",\"#fcb035\",\"#fcae34\",\"#fdab33\",\"#fda932\",\"#fda631\",\"#fda330\",\"#fea12f\",\"#fe9e2e\",\"#fe9b2d\",\"#fe982c\",\"#fd952b\",\"#fd9229\",\"#fd8f28\",\"#fd8c27\",\"#fc8926\",\"#fc8624\",\"#fb8323\",\"#fb8022\",\"#fa7d20\",\"#fa7a1f\",\"#f9771e\",\"#f8741c\",\"#f7711b\",\"#f76e1a\",\"#f66b18\",\"#f56817\",\"#f46516\",\"#f36315\",\"#f26014\",\"#f15d13\",\"#ef5a11\",\"#ee5810\",\"#ed550f\",\"#ec520e\",\"#ea500d\",\"#e94d0d\",\"#e84b0c\",\"#e6490b\",\"#e5460a\",\"#e3440a\",\"#e24209\",\"#e04008\",\"#de3e08\",\"#dd3c07\",\"#db3a07\",\"#d93806\",\"#d73606\",\"#d63405\",\"#d43205\",\"#d23005\",\"#d02f04\",\"#ce2d04\",\"#cb2b03\",\"#c92903\",\"#c72803\",\"#c52602\",\"#c32402\",\"#c02302\",\"#be2102\",\"#bb1f01\",\"#b91e01\",\"#b61c01\",\"#b41b01\",\"#b11901\",\"#ae1801\",\"#ac1601\",\"#a91501\",\"#a61401\",\"#a31201\",\"#a01101\",\"#9d1001\",\"#9a0e01\",\"#970d01\",\"#940c01\",\"#910b01\",\"#8e0a01\",\"#8b0901\",\"#870801\",\"#840701\",\"#810602\",\"#7d0502\",\"#7a0402\"]},\"id\":\"7242\",\"type\":\"LinearColorMapper\"},{\"attributes\":{\"coordinates\":null,\"data_source\":{\"id\":\"7274\"},\"glyph\":{\"id\":\"7275\"},\"group\":null,\"hover_glyph\":null,\"muted_glyph\":{\"id\":\"7277\"},\"nonselection_glyph\":{\"id\":\"7276\"},\"view\":{\"id\":\"7279\"}},\"id\":\"7278\",\"type\":\"GlyphRenderer\"},{\"attributes\":{\"fill_alpha\":{\"value\":0.2},\"fill_color\":{\"field\":\"y\",\"transform\":{\"id\":\"7242\"}},\"hatch_alpha\":{\"value\":0.2},\"hatch_color\":{\"field\":\"y\",\"transform\":{\"id\":\"7242\"}},\"line_alpha\":{\"value\":0.2},\"line_color\":{\"field\":\"y\",\"transform\":{\"id\":\"7242\"}},\"size\":{\"value\":10},\"x\":{\"field\":\"x\"},\"y\":{\"field\":\"y\"}},\"id\":\"7277\",\"type\":\"Circle\"},{\"attributes\":{\"fill_color\":{\"field\":\"y\",\"transform\":{\"id\":\"7242\"}},\"hatch_color\":{\"field\":\"y\",\"transform\":{\"id\":\"7242\"}},\"line_color\":{\"field\":\"y\",\"transform\":{\"id\":\"7242\"}},\"size\":{\"value\":10},\"x\":{\"field\":\"x\"},\"y\":{\"field\":\"y\"}},\"id\":\"7275\",\"type\":\"Circle\"}],\"root_ids\":[\"7243\"]},\"title\":\"Bokeh Application\",\"version\":\"2.4.3\"}};\n",
       "  const render_items = [{\"docid\":\"74a55c7f-296e-4eaf-9182-de8118dcaa27\",\"root_ids\":[\"7243\"],\"roots\":{\"7243\":\"24958ec0-063f-43d5-87f4-b3f7b7ed4cb8\"}}];\n",
       "  root.Bokeh.embed.embed_items_notebook(docs_json, render_items);\n",
       "  }\n",
       "  if (root.Bokeh !== undefined) {\n",
       "    embed_document(root);\n",
       "  } else {\n",
       "    let attempts = 0;\n",
       "    const timer = setInterval(function(root) {\n",
       "      if (root.Bokeh !== undefined) {\n",
       "        clearInterval(timer);\n",
       "        embed_document(root);\n",
       "      } else {\n",
       "        attempts++;\n",
       "        if (attempts > 100) {\n",
       "          clearInterval(timer);\n",
       "          console.log(\"Bokeh: ERROR: Unable to run BokehJS code because BokehJS library is missing\");\n",
       "        }\n",
       "      }\n",
       "    }, 10, root)\n",
       "  }\n",
       "})(window);"
      ],
      "application/vnd.bokehjs_exec.v0+json": ""
     },
     "metadata": {
      "application/vnd.bokehjs_exec.v0+json": {
       "id": "7243"
      }
     },
     "output_type": "display_data"
    }
   ],
   "source": [
    "from bokeh.io import show\n",
    "from bokeh.palettes import Turbo256\n",
    "from bokeh.plotting import figure\n",
    "from bokeh.transform import linear_cmap\n",
    "\n",
    "# generate data\n",
    "x = list(range(-32, 33))\n",
    "y = [i**2 for i in x]\n",
    "\n",
    "# create linear color mapper\n",
    "mapper = linear_cmap(field_name=\"y\", palette=Turbo256, low=min(y), high=max(y))\n",
    "\n",
    "# create plot\n",
    "p = figure(width=500, height=250)\n",
    "\n",
    "# create circle renderer with color mapper\n",
    "p.circle(x, y, color=mapper, size=10)\n",
    "\n",
    "show(p)"
   ]
  },
  {
   "cell_type": "markdown",
   "id": "b99cb76b-0228-419a-b880-92514d028f95",
   "metadata": {},
   "source": [
    "Creating rows, columns, and grids"
   ]
  },
  {
   "cell_type": "code",
   "execution_count": 28,
   "id": "3fea890c-d1bf-44fc-b3f9-91be6262cbb1",
   "metadata": {},
   "outputs": [
    {
     "data": {
      "text/html": [
       "\n",
       "  <div class=\"bk-root\" id=\"de10b355-f3c8-4680-a18f-3d82f4481953\" data-root-id=\"7739\"></div>\n"
      ]
     },
     "metadata": {},
     "output_type": "display_data"
    },
    {
     "data": {
      "application/javascript": [
       "(function(root) {\n",
       "  function embed_document(root) {\n",
       "  const docs_json = {\"8317e8ec-1042-42e1-8127-5c0a43966e38\":{\"defs\":[],\"roots\":{\"references\":[{\"attributes\":{\"children\":[{\"id\":\"7628\"},{\"id\":\"7665\"},{\"id\":\"7702\"}]},\"id\":\"7739\",\"type\":\"Row\"},{\"attributes\":{\"bottom_units\":\"screen\",\"coordinates\":null,\"fill_alpha\":0.5,\"fill_color\":\"lightgrey\",\"group\":null,\"left_units\":\"screen\",\"level\":\"overlay\",\"line_alpha\":1.0,\"line_color\":\"black\",\"line_dash\":[4,4],\"line_width\":2,\"right_units\":\"screen\",\"syncable\":false,\"top_units\":\"screen\"},\"id\":\"7688\",\"type\":\"BoxAnnotation\"},{\"attributes\":{\"bottom_units\":\"screen\",\"coordinates\":null,\"fill_alpha\":0.5,\"fill_color\":\"lightgrey\",\"group\":null,\"left_units\":\"screen\",\"level\":\"overlay\",\"line_alpha\":1.0,\"line_color\":\"black\",\"line_dash\":[4,4],\"line_width\":2,\"right_units\":\"screen\",\"syncable\":false,\"top_units\":\"screen\"},\"id\":\"7651\",\"type\":\"BoxAnnotation\"},{\"attributes\":{\"source\":{\"id\":\"7659\"}},\"id\":\"7664\",\"type\":\"CDSView\"},{\"attributes\":{\"coordinates\":null,\"group\":null,\"text_color\":\"#5B5B5B\",\"text_font\":\"Calibri Light\",\"text_font_size\":\"1.25em\",\"text_font_style\":\"bold\"},\"id\":\"8033\",\"type\":\"Title\"},{\"attributes\":{\"coordinates\":null,\"data_source\":{\"id\":\"7659\"},\"glyph\":{\"id\":\"7660\"},\"group\":null,\"hover_glyph\":null,\"muted_glyph\":{\"id\":\"7662\"},\"nonselection_glyph\":{\"id\":\"7661\"},\"view\":{\"id\":\"7664\"}},\"id\":\"7663\",\"type\":\"GlyphRenderer\"},{\"attributes\":{\"axis_label_standoff\":10,\"axis_label_text_color\":\"#5B5B5B\",\"axis_label_text_font\":\"Calibri Light\",\"axis_label_text_font_size\":\"1.15em\",\"axis_label_text_font_style\":\"bold\",\"axis_line_alpha\":1,\"axis_line_color\":\"#5B5B5B\",\"coordinates\":null,\"formatter\":{\"id\":\"8043\"},\"group\":null,\"major_label_policy\":{\"id\":\"8044\"},\"major_label_text_color\":\"#5B5B5B\",\"major_label_text_font\":\"Calibri Light\",\"major_label_text_font_size\":\"0.95em\",\"major_label_text_font_style\":\"bold\",\"major_tick_in\":0,\"major_tick_line_alpha\":0.25,\"major_tick_line_color\":\"#5B5B5B\",\"major_tick_out\":3,\"minor_tick_line_alpha\":0.25,\"minor_tick_line_color\":\"#5B5B5B\",\"ticker\":{\"id\":\"7638\"}},\"id\":\"7637\",\"type\":\"LinearAxis\"},{\"attributes\":{\"axis_label_standoff\":10,\"axis_label_text_color\":\"#5B5B5B\",\"axis_label_text_font\":\"Calibri Light\",\"axis_label_text_font_size\":\"1.15em\",\"axis_label_text_font_style\":\"bold\",\"axis_line_alpha\":1,\"axis_line_color\":\"#5B5B5B\",\"coordinates\":null,\"formatter\":{\"id\":\"8040\"},\"group\":null,\"major_label_policy\":{\"id\":\"8041\"},\"major_label_text_color\":\"#5B5B5B\",\"major_label_text_font\":\"Calibri Light\",\"major_label_text_font_size\":\"0.95em\",\"major_label_text_font_style\":\"bold\",\"major_tick_in\":0,\"major_tick_line_alpha\":0.25,\"major_tick_line_color\":\"#5B5B5B\",\"major_tick_out\":3,\"minor_tick_line_alpha\":0.25,\"minor_tick_line_color\":\"#5B5B5B\",\"ticker\":{\"id\":\"7642\"}},\"id\":\"7641\",\"type\":\"LinearAxis\"},{\"attributes\":{\"tools\":[{\"id\":\"7682\"},{\"id\":\"7683\"},{\"id\":\"7684\"},{\"id\":\"7685\"},{\"id\":\"7686\"},{\"id\":\"7687\"}]},\"id\":\"7689\",\"type\":\"Toolbar\"},{\"attributes\":{\"fill_alpha\":{\"value\":0.2},\"fill_color\":{\"value\":\"#53777a\"},\"hatch_alpha\":{\"value\":0.2},\"hatch_color\":{\"value\":\"#53777a\"},\"line_alpha\":{\"value\":0.2},\"line_color\":{\"value\":\"#53777a\"},\"size\":{\"value\":12},\"x\":{\"field\":\"x\"},\"y\":{\"field\":\"y\"}},\"id\":\"7662\",\"type\":\"Circle\"},{\"attributes\":{},\"id\":\"7650\",\"type\":\"HelpTool\"},{\"attributes\":{\"fill_alpha\":{\"value\":0.8},\"fill_color\":{\"value\":\"#53777a\"},\"hatch_alpha\":{\"value\":0.8},\"hatch_color\":{\"value\":\"#53777a\"},\"line_alpha\":{\"value\":0.8},\"line_color\":{\"value\":\"#53777a\"},\"size\":{\"value\":12},\"x\":{\"field\":\"x\"},\"y\":{\"field\":\"y\"}},\"id\":\"7660\",\"type\":\"Circle\"},{\"attributes\":{\"data\":{\"x\":[0,1,2,3,4,5,6,7,8,9,10],\"y\":[0,1,2,3,4,5,6,7,8,9,10]},\"selected\":{\"id\":\"8058\"},\"selection_policy\":{\"id\":\"8057\"}},\"id\":\"7659\",\"type\":\"ColumnDataSource\"},{\"attributes\":{\"axis\":{\"id\":\"7641\"},\"coordinates\":null,\"dimension\":1,\"group\":null,\"ticker\":null},\"id\":\"7644\",\"type\":\"Grid\"},{\"attributes\":{\"background_fill_color\":\"#fafafa\",\"below\":[{\"id\":\"7674\"}],\"center\":[{\"id\":\"7677\"},{\"id\":\"7681\"}],\"height\":250,\"left\":[{\"id\":\"7678\"}],\"renderers\":[{\"id\":\"7700\"}],\"title\":{\"id\":\"8035\"},\"toolbar\":{\"id\":\"7689\"},\"width\":250,\"x_range\":{\"id\":\"7666\"},\"x_scale\":{\"id\":\"7670\"},\"y_range\":{\"id\":\"7668\"},\"y_scale\":{\"id\":\"7672\"}},\"id\":\"7665\",\"subtype\":\"Figure\",\"type\":\"Plot\"},{\"attributes\":{\"tools\":[{\"id\":\"7645\"},{\"id\":\"7646\"},{\"id\":\"7647\"},{\"id\":\"7648\"},{\"id\":\"7649\"},{\"id\":\"7650\"}]},\"id\":\"7652\",\"type\":\"Toolbar\"},{\"attributes\":{},\"id\":\"7629\",\"type\":\"DataRange1d\"},{\"attributes\":{\"fill_alpha\":{\"value\":0.1},\"fill_color\":{\"value\":\"#53777a\"},\"hatch_alpha\":{\"value\":0.1},\"hatch_color\":{\"value\":\"#53777a\"},\"line_alpha\":{\"value\":0.1},\"line_color\":{\"value\":\"#53777a\"},\"size\":{\"value\":12},\"x\":{\"field\":\"x\"},\"y\":{\"field\":\"y\"}},\"id\":\"7661\",\"type\":\"Circle\"},{\"attributes\":{},\"id\":\"7646\",\"type\":\"WheelZoomTool\"},{\"attributes\":{\"background_fill_color\":\"#fafafa\",\"below\":[{\"id\":\"7637\"}],\"center\":[{\"id\":\"7640\"},{\"id\":\"7644\"}],\"height\":250,\"left\":[{\"id\":\"7641\"}],\"renderers\":[{\"id\":\"7663\"}],\"title\":{\"id\":\"8033\"},\"toolbar\":{\"id\":\"7652\"},\"width\":250,\"x_range\":{\"id\":\"7629\"},\"x_scale\":{\"id\":\"7633\"},\"y_range\":{\"id\":\"7631\"},\"y_scale\":{\"id\":\"7635\"}},\"id\":\"7628\",\"subtype\":\"Figure\",\"type\":\"Plot\"},{\"attributes\":{\"background_fill_color\":\"#fafafa\",\"below\":[{\"id\":\"7711\"}],\"center\":[{\"id\":\"7714\"},{\"id\":\"7718\"}],\"height\":250,\"left\":[{\"id\":\"7715\"}],\"renderers\":[{\"id\":\"7737\"}],\"title\":{\"id\":\"8037\"},\"toolbar\":{\"id\":\"7726\"},\"width\":250,\"x_range\":{\"id\":\"7703\"},\"x_scale\":{\"id\":\"7707\"},\"y_range\":{\"id\":\"7705\"},\"y_scale\":{\"id\":\"7709\"}},\"id\":\"7702\",\"subtype\":\"Figure\",\"type\":\"Plot\"},{\"attributes\":{},\"id\":\"7645\",\"type\":\"PanTool\"},{\"attributes\":{\"overlay\":{\"id\":\"7651\"}},\"id\":\"7647\",\"type\":\"BoxZoomTool\"},{\"attributes\":{},\"id\":\"7642\",\"type\":\"BasicTicker\"},{\"attributes\":{},\"id\":\"7648\",\"type\":\"SaveTool\"},{\"attributes\":{},\"id\":\"7635\",\"type\":\"LinearScale\"},{\"attributes\":{},\"id\":\"7649\",\"type\":\"ResetTool\"},{\"attributes\":{},\"id\":\"7631\",\"type\":\"DataRange1d\"},{\"attributes\":{},\"id\":\"7633\",\"type\":\"LinearScale\"},{\"attributes\":{\"coordinates\":null,\"group\":null,\"text_color\":\"#5B5B5B\",\"text_font\":\"Calibri Light\",\"text_font_size\":\"1.25em\",\"text_font_style\":\"bold\"},\"id\":\"8037\",\"type\":\"Title\"},{\"attributes\":{\"source\":{\"id\":\"7733\"}},\"id\":\"7738\",\"type\":\"CDSView\"},{\"attributes\":{},\"id\":\"7705\",\"type\":\"DataRange1d\"},{\"attributes\":{},\"id\":\"7709\",\"type\":\"LinearScale\"},{\"attributes\":{\"axis_label_standoff\":10,\"axis_label_text_color\":\"#5B5B5B\",\"axis_label_text_font\":\"Calibri Light\",\"axis_label_text_font_size\":\"1.15em\",\"axis_label_text_font_style\":\"bold\",\"axis_line_alpha\":1,\"axis_line_color\":\"#5B5B5B\",\"coordinates\":null,\"formatter\":{\"id\":\"8055\"},\"group\":null,\"major_label_policy\":{\"id\":\"8056\"},\"major_label_text_color\":\"#5B5B5B\",\"major_label_text_font\":\"Calibri Light\",\"major_label_text_font_size\":\"0.95em\",\"major_label_text_font_style\":\"bold\",\"major_tick_in\":0,\"major_tick_line_alpha\":0.25,\"major_tick_line_color\":\"#5B5B5B\",\"major_tick_out\":3,\"minor_tick_line_alpha\":0.25,\"minor_tick_line_color\":\"#5B5B5B\",\"ticker\":{\"id\":\"7712\"}},\"id\":\"7711\",\"type\":\"LinearAxis\"},{\"attributes\":{\"axis_label_standoff\":10,\"axis_label_text_color\":\"#5B5B5B\",\"axis_label_text_font\":\"Calibri Light\",\"axis_label_text_font_size\":\"1.15em\",\"axis_label_text_font_style\":\"bold\",\"axis_line_alpha\":1,\"axis_line_color\":\"#5B5B5B\",\"coordinates\":null,\"formatter\":{\"id\":\"8052\"},\"group\":null,\"major_label_policy\":{\"id\":\"8053\"},\"major_label_text_color\":\"#5B5B5B\",\"major_label_text_font\":\"Calibri Light\",\"major_label_text_font_size\":\"0.95em\",\"major_label_text_font_style\":\"bold\",\"major_tick_in\":0,\"major_tick_line_alpha\":0.25,\"major_tick_line_color\":\"#5B5B5B\",\"major_tick_out\":3,\"minor_tick_line_alpha\":0.25,\"minor_tick_line_color\":\"#5B5B5B\",\"ticker\":{\"id\":\"7716\"}},\"id\":\"7715\",\"type\":\"LinearAxis\"},{\"attributes\":{},\"id\":\"7707\",\"type\":\"LinearScale\"},{\"attributes\":{},\"id\":\"7724\",\"type\":\"HelpTool\"},{\"attributes\":{},\"id\":\"7712\",\"type\":\"BasicTicker\"},{\"attributes\":{\"axis\":{\"id\":\"7711\"},\"coordinates\":null,\"group\":null,\"ticker\":null},\"id\":\"7714\",\"type\":\"Grid\"},{\"attributes\":{\"axis\":{\"id\":\"7715\"},\"coordinates\":null,\"dimension\":1,\"group\":null,\"ticker\":null},\"id\":\"7718\",\"type\":\"Grid\"},{\"attributes\":{},\"id\":\"7716\",\"type\":\"BasicTicker\"},{\"attributes\":{\"axis_label_standoff\":10,\"axis_label_text_color\":\"#5B5B5B\",\"axis_label_text_font\":\"Calibri Light\",\"axis_label_text_font_size\":\"1.15em\",\"axis_label_text_font_style\":\"bold\",\"axis_line_alpha\":1,\"axis_line_color\":\"#5B5B5B\",\"coordinates\":null,\"formatter\":{\"id\":\"8049\"},\"group\":null,\"major_label_policy\":{\"id\":\"8050\"},\"major_label_text_color\":\"#5B5B5B\",\"major_label_text_font\":\"Calibri Light\",\"major_label_text_font_size\":\"0.95em\",\"major_label_text_font_style\":\"bold\",\"major_tick_in\":0,\"major_tick_line_alpha\":0.25,\"major_tick_line_color\":\"#5B5B5B\",\"major_tick_out\":3,\"minor_tick_line_alpha\":0.25,\"minor_tick_line_color\":\"#5B5B5B\",\"ticker\":{\"id\":\"7675\"}},\"id\":\"7674\",\"type\":\"LinearAxis\"},{\"attributes\":{},\"id\":\"7720\",\"type\":\"WheelZoomTool\"},{\"attributes\":{},\"id\":\"7719\",\"type\":\"PanTool\"},{\"attributes\":{\"overlay\":{\"id\":\"7725\"}},\"id\":\"7721\",\"type\":\"BoxZoomTool\"},{\"attributes\":{},\"id\":\"8052\",\"type\":\"BasicTickFormatter\"},{\"attributes\":{},\"id\":\"7722\",\"type\":\"SaveTool\"},{\"attributes\":{},\"id\":\"7723\",\"type\":\"ResetTool\"},{\"attributes\":{},\"id\":\"7685\",\"type\":\"SaveTool\"},{\"attributes\":{},\"id\":\"8053\",\"type\":\"AllLabels\"},{\"attributes\":{},\"id\":\"7672\",\"type\":\"LinearScale\"},{\"attributes\":{},\"id\":\"7675\",\"type\":\"BasicTicker\"},{\"attributes\":{\"bottom_units\":\"screen\",\"coordinates\":null,\"fill_alpha\":0.5,\"fill_color\":\"lightgrey\",\"group\":null,\"left_units\":\"screen\",\"level\":\"overlay\",\"line_alpha\":1.0,\"line_color\":\"black\",\"line_dash\":[4,4],\"line_width\":2,\"right_units\":\"screen\",\"syncable\":false,\"top_units\":\"screen\"},\"id\":\"7725\",\"type\":\"BoxAnnotation\"},{\"attributes\":{},\"id\":\"8055\",\"type\":\"BasicTickFormatter\"},{\"attributes\":{},\"id\":\"8040\",\"type\":\"BasicTickFormatter\"},{\"attributes\":{},\"id\":\"8056\",\"type\":\"AllLabels\"},{\"attributes\":{\"coordinates\":null,\"data_source\":{\"id\":\"7733\"},\"glyph\":{\"id\":\"7734\"},\"group\":null,\"hover_glyph\":null,\"muted_glyph\":{\"id\":\"7736\"},\"nonselection_glyph\":{\"id\":\"7735\"},\"view\":{\"id\":\"7738\"}},\"id\":\"7737\",\"type\":\"GlyphRenderer\"},{\"attributes\":{},\"id\":\"8041\",\"type\":\"AllLabels\"},{\"attributes\":{},\"id\":\"7703\",\"type\":\"DataRange1d\"},{\"attributes\":{},\"id\":\"8043\",\"type\":\"BasicTickFormatter\"},{\"attributes\":{},\"id\":\"8063\",\"type\":\"UnionRenderers\"},{\"attributes\":{},\"id\":\"8044\",\"type\":\"AllLabels\"},{\"attributes\":{},\"id\":\"8064\",\"type\":\"Selection\"},{\"attributes\":{},\"id\":\"7686\",\"type\":\"ResetTool\"},{\"attributes\":{},\"id\":\"7666\",\"type\":\"DataRange1d\"},{\"attributes\":{},\"id\":\"8057\",\"type\":\"UnionRenderers\"},{\"attributes\":{},\"id\":\"7668\",\"type\":\"DataRange1d\"},{\"attributes\":{\"data\":{\"x\":[0,1,2,3,4,5,6,7,8,9,10],\"y\":[10,9,8,7,6,5,4,3,2,1,0]},\"selected\":{\"id\":\"8061\"},\"selection_policy\":{\"id\":\"8060\"}},\"id\":\"7696\",\"type\":\"ColumnDataSource\"},{\"attributes\":{},\"id\":\"8058\",\"type\":\"Selection\"},{\"attributes\":{\"overlay\":{\"id\":\"7688\"}},\"id\":\"7684\",\"type\":\"BoxZoomTool\"},{\"attributes\":{\"axis\":{\"id\":\"7678\"},\"coordinates\":null,\"dimension\":1,\"group\":null,\"ticker\":null},\"id\":\"7681\",\"type\":\"Grid\"},{\"attributes\":{},\"id\":\"7679\",\"type\":\"BasicTicker\"},{\"attributes\":{\"coordinates\":null,\"data_source\":{\"id\":\"7696\"},\"glyph\":{\"id\":\"7697\"},\"group\":null,\"hover_glyph\":null,\"muted_glyph\":{\"id\":\"7699\"},\"nonselection_glyph\":{\"id\":\"7698\"},\"view\":{\"id\":\"7701\"}},\"id\":\"7700\",\"type\":\"GlyphRenderer\"},{\"attributes\":{},\"id\":\"7670\",\"type\":\"LinearScale\"},{\"attributes\":{},\"id\":\"7687\",\"type\":\"HelpTool\"},{\"attributes\":{\"coordinates\":null,\"group\":null,\"text_color\":\"#5B5B5B\",\"text_font\":\"Calibri Light\",\"text_font_size\":\"1.25em\",\"text_font_style\":\"bold\"},\"id\":\"8035\",\"type\":\"Title\"},{\"attributes\":{},\"id\":\"7683\",\"type\":\"WheelZoomTool\"},{\"attributes\":{\"source\":{\"id\":\"7696\"}},\"id\":\"7701\",\"type\":\"CDSView\"},{\"attributes\":{},\"id\":\"8046\",\"type\":\"BasicTickFormatter\"},{\"attributes\":{\"fill_alpha\":{\"value\":0.8},\"fill_color\":{\"value\":\"#d95b43\"},\"hatch_alpha\":{\"value\":0.8},\"hatch_color\":{\"value\":\"#d95b43\"},\"line_alpha\":{\"value\":0.8},\"line_color\":{\"value\":\"#d95b43\"},\"marker\":{\"value\":\"square\"},\"size\":{\"value\":12},\"x\":{\"field\":\"x\"},\"y\":{\"field\":\"y\"}},\"id\":\"7734\",\"type\":\"Scatter\"},{\"attributes\":{\"fill_alpha\":{\"value\":0.1},\"fill_color\":{\"value\":\"#c02942\"},\"hatch_alpha\":{\"value\":0.1},\"hatch_color\":{\"value\":\"#c02942\"},\"line_alpha\":{\"value\":0.1},\"line_color\":{\"value\":\"#c02942\"},\"marker\":{\"value\":\"triangle\"},\"size\":{\"value\":12},\"x\":{\"field\":\"x\"},\"y\":{\"field\":\"y\"}},\"id\":\"7698\",\"type\":\"Scatter\"},{\"attributes\":{},\"id\":\"8047\",\"type\":\"AllLabels\"},{\"attributes\":{},\"id\":\"8049\",\"type\":\"BasicTickFormatter\"},{\"attributes\":{\"tools\":[{\"id\":\"7719\"},{\"id\":\"7720\"},{\"id\":\"7721\"},{\"id\":\"7722\"},{\"id\":\"7723\"},{\"id\":\"7724\"}]},\"id\":\"7726\",\"type\":\"Toolbar\"},{\"attributes\":{\"fill_alpha\":{\"value\":0.8},\"fill_color\":{\"value\":\"#c02942\"},\"hatch_alpha\":{\"value\":0.8},\"hatch_color\":{\"value\":\"#c02942\"},\"line_alpha\":{\"value\":0.8},\"line_color\":{\"value\":\"#c02942\"},\"marker\":{\"value\":\"triangle\"},\"size\":{\"value\":12},\"x\":{\"field\":\"x\"},\"y\":{\"field\":\"y\"}},\"id\":\"7697\",\"type\":\"Scatter\"},{\"attributes\":{\"axis\":{\"id\":\"7674\"},\"coordinates\":null,\"group\":null,\"ticker\":null},\"id\":\"7677\",\"type\":\"Grid\"},{\"attributes\":{},\"id\":\"8050\",\"type\":\"AllLabels\"},{\"attributes\":{\"data\":{\"x\":[0,1,2,3,4,5,6,7,8,9,10],\"y\":[5,4,3,2,1,0,1,2,3,4,5]},\"selected\":{\"id\":\"8064\"},\"selection_policy\":{\"id\":\"8063\"}},\"id\":\"7733\",\"type\":\"ColumnDataSource\"},{\"attributes\":{},\"id\":\"7638\",\"type\":\"BasicTicker\"},{\"attributes\":{\"fill_alpha\":{\"value\":0.2},\"fill_color\":{\"value\":\"#c02942\"},\"hatch_alpha\":{\"value\":0.2},\"hatch_color\":{\"value\":\"#c02942\"},\"line_alpha\":{\"value\":0.2},\"line_color\":{\"value\":\"#c02942\"},\"marker\":{\"value\":\"triangle\"},\"size\":{\"value\":12},\"x\":{\"field\":\"x\"},\"y\":{\"field\":\"y\"}},\"id\":\"7699\",\"type\":\"Scatter\"},{\"attributes\":{},\"id\":\"8060\",\"type\":\"UnionRenderers\"},{\"attributes\":{\"fill_alpha\":{\"value\":0.2},\"fill_color\":{\"value\":\"#d95b43\"},\"hatch_alpha\":{\"value\":0.2},\"hatch_color\":{\"value\":\"#d95b43\"},\"line_alpha\":{\"value\":0.2},\"line_color\":{\"value\":\"#d95b43\"},\"marker\":{\"value\":\"square\"},\"size\":{\"value\":12},\"x\":{\"field\":\"x\"},\"y\":{\"field\":\"y\"}},\"id\":\"7736\",\"type\":\"Scatter\"},{\"attributes\":{\"axis\":{\"id\":\"7637\"},\"coordinates\":null,\"group\":null,\"ticker\":null},\"id\":\"7640\",\"type\":\"Grid\"},{\"attributes\":{\"fill_alpha\":{\"value\":0.1},\"fill_color\":{\"value\":\"#d95b43\"},\"hatch_alpha\":{\"value\":0.1},\"hatch_color\":{\"value\":\"#d95b43\"},\"line_alpha\":{\"value\":0.1},\"line_color\":{\"value\":\"#d95b43\"},\"marker\":{\"value\":\"square\"},\"size\":{\"value\":12},\"x\":{\"field\":\"x\"},\"y\":{\"field\":\"y\"}},\"id\":\"7735\",\"type\":\"Scatter\"},{\"attributes\":{},\"id\":\"8061\",\"type\":\"Selection\"},{\"attributes\":{},\"id\":\"7682\",\"type\":\"PanTool\"},{\"attributes\":{\"axis_label_standoff\":10,\"axis_label_text_color\":\"#5B5B5B\",\"axis_label_text_font\":\"Calibri Light\",\"axis_label_text_font_size\":\"1.15em\",\"axis_label_text_font_style\":\"bold\",\"axis_line_alpha\":1,\"axis_line_color\":\"#5B5B5B\",\"coordinates\":null,\"formatter\":{\"id\":\"8046\"},\"group\":null,\"major_label_policy\":{\"id\":\"8047\"},\"major_label_text_color\":\"#5B5B5B\",\"major_label_text_font\":\"Calibri Light\",\"major_label_text_font_size\":\"0.95em\",\"major_label_text_font_style\":\"bold\",\"major_tick_in\":0,\"major_tick_line_alpha\":0.25,\"major_tick_line_color\":\"#5B5B5B\",\"major_tick_out\":3,\"minor_tick_line_alpha\":0.25,\"minor_tick_line_color\":\"#5B5B5B\",\"ticker\":{\"id\":\"7679\"}},\"id\":\"7678\",\"type\":\"LinearAxis\"}],\"root_ids\":[\"7739\"]},\"title\":\"Bokeh Application\",\"version\":\"2.4.3\"}};\n",
       "  const render_items = [{\"docid\":\"8317e8ec-1042-42e1-8127-5c0a43966e38\",\"root_ids\":[\"7739\"],\"roots\":{\"7739\":\"de10b355-f3c8-4680-a18f-3d82f4481953\"}}];\n",
       "  root.Bokeh.embed.embed_items_notebook(docs_json, render_items);\n",
       "  }\n",
       "  if (root.Bokeh !== undefined) {\n",
       "    embed_document(root);\n",
       "  } else {\n",
       "    let attempts = 0;\n",
       "    const timer = setInterval(function(root) {\n",
       "      if (root.Bokeh !== undefined) {\n",
       "        clearInterval(timer);\n",
       "        embed_document(root);\n",
       "      } else {\n",
       "        attempts++;\n",
       "        if (attempts > 100) {\n",
       "          clearInterval(timer);\n",
       "          console.log(\"Bokeh: ERROR: Unable to run BokehJS code because BokehJS library is missing\");\n",
       "        }\n",
       "      }\n",
       "    }, 10, root)\n",
       "  }\n",
       "})(window);"
      ],
      "application/vnd.bokehjs_exec.v0+json": ""
     },
     "metadata": {
      "application/vnd.bokehjs_exec.v0+json": {
       "id": "7739"
      }
     },
     "output_type": "display_data"
    }
   ],
   "source": [
    "from bokeh.layouts import row\n",
    "from bokeh.plotting import figure, show\n",
    "\n",
    "# prepare some data\n",
    "x = list(range(11))\n",
    "y0 = x\n",
    "y1 = [10 - i for i in x]\n",
    "y2 = [abs(i - 5) for i in x]\n",
    "\n",
    "# create three plots with one renderer each\n",
    "s1 = figure(width=250, height=250, background_fill_color=\"#fafafa\")\n",
    "s1.circle(x, y0, size=12, color=\"#53777a\", alpha=0.8)\n",
    "\n",
    "s2 = figure(width=250, height=250, background_fill_color=\"#fafafa\")\n",
    "s2.triangle(x, y1, size=12, color=\"#c02942\", alpha=0.8)\n",
    "\n",
    "s3 = figure(width=250, height=250, background_fill_color=\"#fafafa\")\n",
    "s3.square(x, y2, size=12, color=\"#d95b43\", alpha=0.8)\n",
    "\n",
    "# put the results in a row and show\n",
    "show(row(s1, s2, s3))"
   ]
  },
  {
   "cell_type": "markdown",
   "id": "f3ffdf47-6fa0-4330-a457-60c2845807e4",
   "metadata": {},
   "source": [
    "Defining sizing behavior"
   ]
  },
  {
   "cell_type": "code",
   "execution_count": 29,
   "id": "52c5c9b3-972d-42bc-a0ef-e5f951d170b3",
   "metadata": {},
   "outputs": [
    {
     "data": {
      "text/html": [
       "\n",
       "  <div class=\"bk-root\" id=\"b77587a0-0eb0-4d7f-b088-61622b17f806\" data-root-id=\"8342\"></div>\n"
      ]
     },
     "metadata": {},
     "output_type": "display_data"
    },
    {
     "data": {
      "application/javascript": [
       "(function(root) {\n",
       "  function embed_document(root) {\n",
       "  const docs_json = {\"575d944c-df64-4d57-86ce-9df297646e3c\":{\"defs\":[],\"roots\":{\"references\":[{\"attributes\":{\"children\":[{\"id\":\"8231\"},{\"id\":\"8268\"},{\"id\":\"8305\"}],\"sizing_mode\":\"scale_width\"},\"id\":\"8342\",\"type\":\"Row\"},{\"attributes\":{\"axis_label_standoff\":10,\"axis_label_text_color\":\"#5B5B5B\",\"axis_label_text_font\":\"Calibri Light\",\"axis_label_text_font_size\":\"1.15em\",\"axis_label_text_font_style\":\"bold\",\"axis_line_alpha\":1,\"axis_line_color\":\"#5B5B5B\",\"coordinates\":null,\"formatter\":{\"id\":\"8688\"},\"group\":null,\"major_label_policy\":{\"id\":\"8689\"},\"major_label_text_color\":\"#5B5B5B\",\"major_label_text_font\":\"Calibri Light\",\"major_label_text_font_size\":\"0.95em\",\"major_label_text_font_style\":\"bold\",\"major_tick_in\":0,\"major_tick_line_alpha\":0.25,\"major_tick_line_color\":\"#5B5B5B\",\"major_tick_out\":3,\"minor_tick_line_alpha\":0.25,\"minor_tick_line_color\":\"#5B5B5B\",\"ticker\":{\"id\":\"8319\"}},\"id\":\"8318\",\"type\":\"LinearAxis\"},{\"attributes\":{\"axis_label_standoff\":10,\"axis_label_text_color\":\"#5B5B5B\",\"axis_label_text_font\":\"Calibri Light\",\"axis_label_text_font_size\":\"1.15em\",\"axis_label_text_font_style\":\"bold\",\"axis_line_alpha\":1,\"axis_line_color\":\"#5B5B5B\",\"coordinates\":null,\"formatter\":{\"id\":\"8691\"},\"group\":null,\"major_label_policy\":{\"id\":\"8692\"},\"major_label_text_color\":\"#5B5B5B\",\"major_label_text_font\":\"Calibri Light\",\"major_label_text_font_size\":\"0.95em\",\"major_label_text_font_style\":\"bold\",\"major_tick_in\":0,\"major_tick_line_alpha\":0.25,\"major_tick_line_color\":\"#5B5B5B\",\"major_tick_out\":3,\"minor_tick_line_alpha\":0.25,\"minor_tick_line_color\":\"#5B5B5B\",\"ticker\":{\"id\":\"8315\"}},\"id\":\"8314\",\"type\":\"LinearAxis\"},{\"attributes\":{\"source\":{\"id\":\"8262\"}},\"id\":\"8267\",\"type\":\"CDSView\"},{\"attributes\":{},\"id\":\"8327\",\"type\":\"HelpTool\"},{\"attributes\":{},\"id\":\"8688\",\"type\":\"BasicTickFormatter\"},{\"attributes\":{},\"id\":\"8315\",\"type\":\"BasicTicker\"},{\"attributes\":{\"axis\":{\"id\":\"8314\"},\"coordinates\":null,\"group\":null,\"ticker\":null},\"id\":\"8317\",\"type\":\"Grid\"},{\"attributes\":{},\"id\":\"8676\",\"type\":\"BasicTickFormatter\"},{\"attributes\":{},\"id\":\"8269\",\"type\":\"DataRange1d\"},{\"attributes\":{},\"id\":\"8689\",\"type\":\"AllLabels\"},{\"attributes\":{},\"id\":\"8677\",\"type\":\"AllLabels\"},{\"attributes\":{\"axis\":{\"id\":\"8318\"},\"coordinates\":null,\"dimension\":1,\"group\":null,\"ticker\":null},\"id\":\"8321\",\"type\":\"Grid\"},{\"attributes\":{},\"id\":\"8691\",\"type\":\"BasicTickFormatter\"},{\"attributes\":{\"axis\":{\"id\":\"8277\"},\"coordinates\":null,\"group\":null,\"ticker\":null},\"id\":\"8280\",\"type\":\"Grid\"},{\"attributes\":{},\"id\":\"8288\",\"type\":\"SaveTool\"},{\"attributes\":{},\"id\":\"8319\",\"type\":\"BasicTicker\"},{\"attributes\":{},\"id\":\"8679\",\"type\":\"BasicTickFormatter\"},{\"attributes\":{},\"id\":\"8692\",\"type\":\"AllLabels\"},{\"attributes\":{\"fill_alpha\":{\"value\":0.1},\"fill_color\":{\"value\":\"#53777a\"},\"hatch_alpha\":{\"value\":0.1},\"hatch_color\":{\"value\":\"#53777a\"},\"line_alpha\":{\"value\":0.1},\"line_color\":{\"value\":\"#53777a\"},\"size\":{\"value\":12},\"x\":{\"field\":\"x\"},\"y\":{\"field\":\"y\"}},\"id\":\"8264\",\"type\":\"Circle\"},{\"attributes\":{},\"id\":\"8323\",\"type\":\"WheelZoomTool\"},{\"attributes\":{},\"id\":\"8308\",\"type\":\"DataRange1d\"},{\"attributes\":{},\"id\":\"8680\",\"type\":\"AllLabels\"},{\"attributes\":{},\"id\":\"8322\",\"type\":\"PanTool\"},{\"attributes\":{\"overlay\":{\"id\":\"8328\"}},\"id\":\"8324\",\"type\":\"BoxZoomTool\"},{\"attributes\":{\"axis\":{\"id\":\"8281\"},\"coordinates\":null,\"dimension\":1,\"group\":null,\"ticker\":null},\"id\":\"8284\",\"type\":\"Grid\"},{\"attributes\":{},\"id\":\"8325\",\"type\":\"SaveTool\"},{\"attributes\":{},\"id\":\"8326\",\"type\":\"ResetTool\"},{\"attributes\":{},\"id\":\"8282\",\"type\":\"BasicTicker\"},{\"attributes\":{\"bottom_units\":\"screen\",\"coordinates\":null,\"fill_alpha\":0.5,\"fill_color\":\"lightgrey\",\"group\":null,\"left_units\":\"screen\",\"level\":\"overlay\",\"line_alpha\":1.0,\"line_color\":\"black\",\"line_dash\":[4,4],\"line_width\":2,\"right_units\":\"screen\",\"syncable\":false,\"top_units\":\"screen\"},\"id\":\"8328\",\"type\":\"BoxAnnotation\"},{\"attributes\":{\"overlay\":{\"id\":\"8291\"}},\"id\":\"8287\",\"type\":\"BoxZoomTool\"},{\"attributes\":{\"coordinates\":null,\"data_source\":{\"id\":\"8336\"},\"glyph\":{\"id\":\"8337\"},\"group\":null,\"hover_glyph\":null,\"muted_glyph\":{\"id\":\"8339\"},\"nonselection_glyph\":{\"id\":\"8338\"},\"view\":{\"id\":\"8341\"}},\"id\":\"8340\",\"type\":\"GlyphRenderer\"},{\"attributes\":{\"data\":{\"x\":[0,1,2,3,4,5,6,7,8,9,10],\"y\":[10,9,8,7,6,5,4,3,2,1,0]},\"selected\":{\"id\":\"8697\"},\"selection_policy\":{\"id\":\"8696\"}},\"id\":\"8299\",\"type\":\"ColumnDataSource\"},{\"attributes\":{},\"id\":\"8693\",\"type\":\"UnionRenderers\"},{\"attributes\":{\"axis_label_standoff\":10,\"axis_label_text_color\":\"#5B5B5B\",\"axis_label_text_font\":\"Calibri Light\",\"axis_label_text_font_size\":\"1.15em\",\"axis_label_text_font_style\":\"bold\",\"axis_line_alpha\":1,\"axis_line_color\":\"#5B5B5B\",\"coordinates\":null,\"formatter\":{\"id\":\"8685\"},\"group\":null,\"major_label_policy\":{\"id\":\"8686\"},\"major_label_text_color\":\"#5B5B5B\",\"major_label_text_font\":\"Calibri Light\",\"major_label_text_font_size\":\"0.95em\",\"major_label_text_font_style\":\"bold\",\"major_tick_in\":0,\"major_tick_line_alpha\":0.25,\"major_tick_line_color\":\"#5B5B5B\",\"major_tick_out\":3,\"minor_tick_line_alpha\":0.25,\"minor_tick_line_color\":\"#5B5B5B\",\"ticker\":{\"id\":\"8278\"}},\"id\":\"8277\",\"type\":\"LinearAxis\"},{\"attributes\":{},\"id\":\"8275\",\"type\":\"LinearScale\"},{\"attributes\":{},\"id\":\"8694\",\"type\":\"Selection\"},{\"attributes\":{\"fill_alpha\":{\"value\":0.2},\"fill_color\":{\"value\":\"#53777a\"},\"hatch_alpha\":{\"value\":0.2},\"hatch_color\":{\"value\":\"#53777a\"},\"line_alpha\":{\"value\":0.2},\"line_color\":{\"value\":\"#53777a\"},\"size\":{\"value\":12},\"x\":{\"field\":\"x\"},\"y\":{\"field\":\"y\"}},\"id\":\"8265\",\"type\":\"Circle\"},{\"attributes\":{\"axis_label_standoff\":10,\"axis_label_text_color\":\"#5B5B5B\",\"axis_label_text_font\":\"Calibri Light\",\"axis_label_text_font_size\":\"1.15em\",\"axis_label_text_font_style\":\"bold\",\"axis_line_alpha\":1,\"axis_line_color\":\"#5B5B5B\",\"coordinates\":null,\"formatter\":{\"id\":\"8682\"},\"group\":null,\"major_label_policy\":{\"id\":\"8683\"},\"major_label_text_color\":\"#5B5B5B\",\"major_label_text_font\":\"Calibri Light\",\"major_label_text_font_size\":\"0.95em\",\"major_label_text_font_style\":\"bold\",\"major_tick_in\":0,\"major_tick_line_alpha\":0.25,\"major_tick_line_color\":\"#5B5B5B\",\"major_tick_out\":3,\"minor_tick_line_alpha\":0.25,\"minor_tick_line_color\":\"#5B5B5B\",\"ticker\":{\"id\":\"8282\"}},\"id\":\"8281\",\"type\":\"LinearAxis\"},{\"attributes\":{\"fill_alpha\":{\"value\":0.1},\"fill_color\":{\"value\":\"#c02942\"},\"hatch_alpha\":{\"value\":0.1},\"hatch_color\":{\"value\":\"#c02942\"},\"line_alpha\":{\"value\":0.1},\"line_color\":{\"value\":\"#c02942\"},\"marker\":{\"value\":\"triangle\"},\"size\":{\"value\":12},\"x\":{\"field\":\"x\"},\"y\":{\"field\":\"y\"}},\"id\":\"8301\",\"type\":\"Scatter\"},{\"attributes\":{},\"id\":\"8271\",\"type\":\"DataRange1d\"},{\"attributes\":{},\"id\":\"8273\",\"type\":\"LinearScale\"},{\"attributes\":{\"fill_alpha\":{\"value\":0.8},\"fill_color\":{\"value\":\"#c02942\"},\"hatch_alpha\":{\"value\":0.8},\"hatch_color\":{\"value\":\"#c02942\"},\"line_alpha\":{\"value\":0.8},\"line_color\":{\"value\":\"#c02942\"},\"marker\":{\"value\":\"triangle\"},\"size\":{\"value\":12},\"x\":{\"field\":\"x\"},\"y\":{\"field\":\"y\"}},\"id\":\"8300\",\"type\":\"Scatter\"},{\"attributes\":{\"background_fill_color\":\"#fafafa\",\"below\":[{\"id\":\"8314\"}],\"center\":[{\"id\":\"8317\"},{\"id\":\"8321\"}],\"height\":250,\"left\":[{\"id\":\"8318\"}],\"renderers\":[{\"id\":\"8340\"}],\"sizing_mode\":\"scale_width\",\"title\":{\"id\":\"8673\"},\"toolbar\":{\"id\":\"8329\"},\"width\":250,\"x_range\":{\"id\":\"8306\"},\"x_scale\":{\"id\":\"8310\"},\"y_range\":{\"id\":\"8308\"},\"y_scale\":{\"id\":\"8312\"}},\"id\":\"8305\",\"subtype\":\"Figure\",\"type\":\"Plot\"},{\"attributes\":{\"tools\":[{\"id\":\"8322\"},{\"id\":\"8323\"},{\"id\":\"8324\"},{\"id\":\"8325\"},{\"id\":\"8326\"},{\"id\":\"8327\"}]},\"id\":\"8329\",\"type\":\"Toolbar\"},{\"attributes\":{},\"id\":\"8312\",\"type\":\"LinearScale\"},{\"attributes\":{\"coordinates\":null,\"data_source\":{\"id\":\"8262\"},\"glyph\":{\"id\":\"8263\"},\"group\":null,\"hover_glyph\":null,\"muted_glyph\":{\"id\":\"8265\"},\"nonselection_glyph\":{\"id\":\"8264\"},\"view\":{\"id\":\"8267\"}},\"id\":\"8266\",\"type\":\"GlyphRenderer\"},{\"attributes\":{\"source\":{\"id\":\"8336\"}},\"id\":\"8341\",\"type\":\"CDSView\"},{\"attributes\":{},\"id\":\"8278\",\"type\":\"BasicTicker\"},{\"attributes\":{\"fill_alpha\":{\"value\":0.2},\"fill_color\":{\"value\":\"#d95b43\"},\"hatch_alpha\":{\"value\":0.2},\"hatch_color\":{\"value\":\"#d95b43\"},\"line_alpha\":{\"value\":0.2},\"line_color\":{\"value\":\"#d95b43\"},\"marker\":{\"value\":\"square\"},\"size\":{\"value\":12},\"x\":{\"field\":\"x\"},\"y\":{\"field\":\"y\"}},\"id\":\"8339\",\"type\":\"Scatter\"},{\"attributes\":{},\"id\":\"8252\",\"type\":\"ResetTool\"},{\"attributes\":{\"bottom_units\":\"screen\",\"coordinates\":null,\"fill_alpha\":0.5,\"fill_color\":\"lightgrey\",\"group\":null,\"left_units\":\"screen\",\"level\":\"overlay\",\"line_alpha\":1.0,\"line_color\":\"black\",\"line_dash\":[4,4],\"line_width\":2,\"right_units\":\"screen\",\"syncable\":false,\"top_units\":\"screen\"},\"id\":\"8291\",\"type\":\"BoxAnnotation\"},{\"attributes\":{\"tools\":[{\"id\":\"8285\"},{\"id\":\"8286\"},{\"id\":\"8287\"},{\"id\":\"8288\"},{\"id\":\"8289\"},{\"id\":\"8290\"}]},\"id\":\"8292\",\"type\":\"Toolbar\"},{\"attributes\":{\"fill_alpha\":{\"value\":0.1},\"fill_color\":{\"value\":\"#d95b43\"},\"hatch_alpha\":{\"value\":0.1},\"hatch_color\":{\"value\":\"#d95b43\"},\"line_alpha\":{\"value\":0.1},\"line_color\":{\"value\":\"#d95b43\"},\"marker\":{\"value\":\"square\"},\"size\":{\"value\":12},\"x\":{\"field\":\"x\"},\"y\":{\"field\":\"y\"}},\"id\":\"8338\",\"type\":\"Scatter\"},{\"attributes\":{},\"id\":\"8306\",\"type\":\"DataRange1d\"},{\"attributes\":{\"coordinates\":null,\"group\":null,\"text_color\":\"#5B5B5B\",\"text_font\":\"Calibri Light\",\"text_font_size\":\"1.25em\",\"text_font_style\":\"bold\"},\"id\":\"8673\",\"type\":\"Title\"},{\"attributes\":{},\"id\":\"8682\",\"type\":\"BasicTickFormatter\"},{\"attributes\":{},\"id\":\"8683\",\"type\":\"AllLabels\"},{\"attributes\":{},\"id\":\"8310\",\"type\":\"LinearScale\"},{\"attributes\":{},\"id\":\"8685\",\"type\":\"BasicTickFormatter\"},{\"attributes\":{},\"id\":\"8285\",\"type\":\"PanTool\"},{\"attributes\":{},\"id\":\"8686\",\"type\":\"AllLabels\"},{\"attributes\":{\"fill_alpha\":{\"value\":0.8},\"fill_color\":{\"value\":\"#53777a\"},\"hatch_alpha\":{\"value\":0.8},\"hatch_color\":{\"value\":\"#53777a\"},\"line_alpha\":{\"value\":0.8},\"line_color\":{\"value\":\"#53777a\"},\"size\":{\"value\":12},\"x\":{\"field\":\"x\"},\"y\":{\"field\":\"y\"}},\"id\":\"8263\",\"type\":\"Circle\"},{\"attributes\":{},\"id\":\"8696\",\"type\":\"UnionRenderers\"},{\"attributes\":{},\"id\":\"8286\",\"type\":\"WheelZoomTool\"},{\"attributes\":{},\"id\":\"8697\",\"type\":\"Selection\"},{\"attributes\":{},\"id\":\"8238\",\"type\":\"LinearScale\"},{\"attributes\":{\"fill_alpha\":{\"value\":0.2},\"fill_color\":{\"value\":\"#c02942\"},\"hatch_alpha\":{\"value\":0.2},\"hatch_color\":{\"value\":\"#c02942\"},\"line_alpha\":{\"value\":0.2},\"line_color\":{\"value\":\"#c02942\"},\"marker\":{\"value\":\"triangle\"},\"size\":{\"value\":12},\"x\":{\"field\":\"x\"},\"y\":{\"field\":\"y\"}},\"id\":\"8302\",\"type\":\"Scatter\"},{\"attributes\":{\"data\":{\"x\":[0,1,2,3,4,5,6,7,8,9,10],\"y\":[5,4,3,2,1,0,1,2,3,4,5]},\"selected\":{\"id\":\"8700\"},\"selection_policy\":{\"id\":\"8699\"}},\"id\":\"8336\",\"type\":\"ColumnDataSource\"},{\"attributes\":{\"source\":{\"id\":\"8299\"}},\"id\":\"8304\",\"type\":\"CDSView\"},{\"attributes\":{\"axis_label_standoff\":10,\"axis_label_text_color\":\"#5B5B5B\",\"axis_label_text_font\":\"Calibri Light\",\"axis_label_text_font_size\":\"1.15em\",\"axis_label_text_font_style\":\"bold\",\"axis_line_alpha\":1,\"axis_line_color\":\"#5B5B5B\",\"coordinates\":null,\"formatter\":{\"id\":\"8679\"},\"group\":null,\"major_label_policy\":{\"id\":\"8680\"},\"major_label_text_color\":\"#5B5B5B\",\"major_label_text_font\":\"Calibri Light\",\"major_label_text_font_size\":\"0.95em\",\"major_label_text_font_style\":\"bold\",\"major_tick_in\":0,\"major_tick_line_alpha\":0.25,\"major_tick_line_color\":\"#5B5B5B\",\"major_tick_out\":3,\"minor_tick_line_alpha\":0.25,\"minor_tick_line_color\":\"#5B5B5B\",\"ticker\":{\"id\":\"8241\"}},\"id\":\"8240\",\"type\":\"LinearAxis\"},{\"attributes\":{\"background_fill_color\":\"#fafafa\",\"below\":[{\"id\":\"8240\"}],\"center\":[{\"id\":\"8243\"},{\"id\":\"8247\"}],\"height\":250,\"left\":[{\"id\":\"8244\"}],\"renderers\":[{\"id\":\"8266\"}],\"sizing_mode\":\"scale_width\",\"title\":{\"id\":\"8669\"},\"toolbar\":{\"id\":\"8255\"},\"width\":250,\"x_range\":{\"id\":\"8232\"},\"x_scale\":{\"id\":\"8236\"},\"y_range\":{\"id\":\"8234\"},\"y_scale\":{\"id\":\"8238\"}},\"id\":\"8231\",\"subtype\":\"Figure\",\"type\":\"Plot\"},{\"attributes\":{},\"id\":\"8290\",\"type\":\"HelpTool\"},{\"attributes\":{\"coordinates\":null,\"group\":null,\"text_color\":\"#5B5B5B\",\"text_font\":\"Calibri Light\",\"text_font_size\":\"1.25em\",\"text_font_style\":\"bold\"},\"id\":\"8671\",\"type\":\"Title\"},{\"attributes\":{},\"id\":\"8232\",\"type\":\"DataRange1d\"},{\"attributes\":{\"background_fill_color\":\"#fafafa\",\"below\":[{\"id\":\"8277\"}],\"center\":[{\"id\":\"8280\"},{\"id\":\"8284\"}],\"height\":250,\"left\":[{\"id\":\"8281\"}],\"renderers\":[{\"id\":\"8303\"}],\"sizing_mode\":\"scale_width\",\"title\":{\"id\":\"8671\"},\"toolbar\":{\"id\":\"8292\"},\"width\":250,\"x_range\":{\"id\":\"8269\"},\"x_scale\":{\"id\":\"8273\"},\"y_range\":{\"id\":\"8271\"},\"y_scale\":{\"id\":\"8275\"}},\"id\":\"8268\",\"subtype\":\"Figure\",\"type\":\"Plot\"},{\"attributes\":{\"fill_alpha\":{\"value\":0.8},\"fill_color\":{\"value\":\"#d95b43\"},\"hatch_alpha\":{\"value\":0.8},\"hatch_color\":{\"value\":\"#d95b43\"},\"line_alpha\":{\"value\":0.8},\"line_color\":{\"value\":\"#d95b43\"},\"marker\":{\"value\":\"square\"},\"size\":{\"value\":12},\"x\":{\"field\":\"x\"},\"y\":{\"field\":\"y\"}},\"id\":\"8337\",\"type\":\"Scatter\"},{\"attributes\":{\"coordinates\":null,\"group\":null,\"text_color\":\"#5B5B5B\",\"text_font\":\"Calibri Light\",\"text_font_size\":\"1.25em\",\"text_font_style\":\"bold\"},\"id\":\"8669\",\"type\":\"Title\"},{\"attributes\":{\"data\":{\"x\":[0,1,2,3,4,5,6,7,8,9,10],\"y\":[0,1,2,3,4,5,6,7,8,9,10]},\"selected\":{\"id\":\"8694\"},\"selection_policy\":{\"id\":\"8693\"}},\"id\":\"8262\",\"type\":\"ColumnDataSource\"},{\"attributes\":{\"coordinates\":null,\"data_source\":{\"id\":\"8299\"},\"glyph\":{\"id\":\"8300\"},\"group\":null,\"hover_glyph\":null,\"muted_glyph\":{\"id\":\"8302\"},\"nonselection_glyph\":{\"id\":\"8301\"},\"view\":{\"id\":\"8304\"}},\"id\":\"8303\",\"type\":\"GlyphRenderer\"},{\"attributes\":{},\"id\":\"8699\",\"type\":\"UnionRenderers\"},{\"attributes\":{},\"id\":\"8700\",\"type\":\"Selection\"},{\"attributes\":{},\"id\":\"8251\",\"type\":\"SaveTool\"},{\"attributes\":{\"tools\":[{\"id\":\"8248\"},{\"id\":\"8249\"},{\"id\":\"8250\"},{\"id\":\"8251\"},{\"id\":\"8252\"},{\"id\":\"8253\"}]},\"id\":\"8255\",\"type\":\"Toolbar\"},{\"attributes\":{},\"id\":\"8234\",\"type\":\"DataRange1d\"},{\"attributes\":{\"axis\":{\"id\":\"8244\"},\"coordinates\":null,\"dimension\":1,\"group\":null,\"ticker\":null},\"id\":\"8247\",\"type\":\"Grid\"},{\"attributes\":{\"axis_label_standoff\":10,\"axis_label_text_color\":\"#5B5B5B\",\"axis_label_text_font\":\"Calibri Light\",\"axis_label_text_font_size\":\"1.15em\",\"axis_label_text_font_style\":\"bold\",\"axis_line_alpha\":1,\"axis_line_color\":\"#5B5B5B\",\"coordinates\":null,\"formatter\":{\"id\":\"8676\"},\"group\":null,\"major_label_policy\":{\"id\":\"8677\"},\"major_label_text_color\":\"#5B5B5B\",\"major_label_text_font\":\"Calibri Light\",\"major_label_text_font_size\":\"0.95em\",\"major_label_text_font_style\":\"bold\",\"major_tick_in\":0,\"major_tick_line_alpha\":0.25,\"major_tick_line_color\":\"#5B5B5B\",\"major_tick_out\":3,\"minor_tick_line_alpha\":0.25,\"minor_tick_line_color\":\"#5B5B5B\",\"ticker\":{\"id\":\"8245\"}},\"id\":\"8244\",\"type\":\"LinearAxis\"},{\"attributes\":{},\"id\":\"8241\",\"type\":\"BasicTicker\"},{\"attributes\":{\"axis\":{\"id\":\"8240\"},\"coordinates\":null,\"group\":null,\"ticker\":null},\"id\":\"8243\",\"type\":\"Grid\"},{\"attributes\":{\"bottom_units\":\"screen\",\"coordinates\":null,\"fill_alpha\":0.5,\"fill_color\":\"lightgrey\",\"group\":null,\"left_units\":\"screen\",\"level\":\"overlay\",\"line_alpha\":1.0,\"line_color\":\"black\",\"line_dash\":[4,4],\"line_width\":2,\"right_units\":\"screen\",\"syncable\":false,\"top_units\":\"screen\"},\"id\":\"8254\",\"type\":\"BoxAnnotation\"},{\"attributes\":{\"overlay\":{\"id\":\"8254\"}},\"id\":\"8250\",\"type\":\"BoxZoomTool\"},{\"attributes\":{},\"id\":\"8245\",\"type\":\"BasicTicker\"},{\"attributes\":{},\"id\":\"8253\",\"type\":\"HelpTool\"},{\"attributes\":{},\"id\":\"8249\",\"type\":\"WheelZoomTool\"},{\"attributes\":{},\"id\":\"8289\",\"type\":\"ResetTool\"},{\"attributes\":{},\"id\":\"8248\",\"type\":\"PanTool\"},{\"attributes\":{},\"id\":\"8236\",\"type\":\"LinearScale\"}],\"root_ids\":[\"8342\"]},\"title\":\"Bokeh Application\",\"version\":\"2.4.3\"}};\n",
       "  const render_items = [{\"docid\":\"575d944c-df64-4d57-86ce-9df297646e3c\",\"root_ids\":[\"8342\"],\"roots\":{\"8342\":\"b77587a0-0eb0-4d7f-b088-61622b17f806\"}}];\n",
       "  root.Bokeh.embed.embed_items_notebook(docs_json, render_items);\n",
       "  }\n",
       "  if (root.Bokeh !== undefined) {\n",
       "    embed_document(root);\n",
       "  } else {\n",
       "    let attempts = 0;\n",
       "    const timer = setInterval(function(root) {\n",
       "      if (root.Bokeh !== undefined) {\n",
       "        clearInterval(timer);\n",
       "        embed_document(root);\n",
       "      } else {\n",
       "        attempts++;\n",
       "        if (attempts > 100) {\n",
       "          clearInterval(timer);\n",
       "          console.log(\"Bokeh: ERROR: Unable to run BokehJS code because BokehJS library is missing\");\n",
       "        }\n",
       "      }\n",
       "    }, 10, root)\n",
       "  }\n",
       "})(window);"
      ],
      "application/vnd.bokehjs_exec.v0+json": ""
     },
     "metadata": {
      "application/vnd.bokehjs_exec.v0+json": {
       "id": "8342"
      }
     },
     "output_type": "display_data"
    }
   ],
   "source": [
    "from bokeh.layouts import row\n",
    "from bokeh.plotting import figure, show\n",
    "\n",
    "# prepare some data\n",
    "x = list(range(11))\n",
    "y0 = x\n",
    "y1 = [10 - i for i in x]\n",
    "y2 = [abs(i - 5) for i in x]\n",
    "\n",
    "# create three plots with one renderer each\n",
    "s1 = figure(width=250, height=250, background_fill_color=\"#fafafa\")\n",
    "s1.circle(x, y0, size=12, color=\"#53777a\", alpha=0.8)\n",
    "\n",
    "s2 = figure(width=250, height=250, background_fill_color=\"#fafafa\")\n",
    "s2.triangle(x, y1, size=12, color=\"#c02942\", alpha=0.8)\n",
    "\n",
    "s3 = figure(width=250, height=250, background_fill_color=\"#fafafa\")\n",
    "s3.square(x, y2, size=12, color=\"#d95b43\", alpha=0.8)\n",
    "\n",
    "# put the results in a row that automatically adjusts\n",
    "# to the browser window's width\n",
    "show(row(children=[s1, s2, s3], sizing_mode=\"scale_width\"))"
   ]
  },
  {
   "cell_type": "markdown",
   "id": "23306192-e107-4e5b-84a6-894bdcd4354a",
   "metadata": {},
   "source": [
    "Using ColumnDataSource"
   ]
  },
  {
   "cell_type": "code",
   "execution_count": 30,
   "id": "2ad4bc90-71b3-4b5e-8f83-f5f0d342095b",
   "metadata": {},
   "outputs": [
    {
     "data": {
      "text/html": [
       "\n",
       "  <div class=\"bk-root\" id=\"5ff1e43d-dc2e-429e-98d9-caadfc1f73d0\" data-root-id=\"8868\"></div>\n"
      ]
     },
     "metadata": {},
     "output_type": "display_data"
    },
    {
     "data": {
      "application/javascript": [
       "(function(root) {\n",
       "  function embed_document(root) {\n",
       "  const docs_json = {\"068d8b35-ac6f-4d1a-b495-def2f88d3367\":{\"defs\":[],\"roots\":{\"references\":[{\"attributes\":{\"below\":[{\"id\":\"8877\"}],\"center\":[{\"id\":\"8880\"},{\"id\":\"8884\"}],\"left\":[{\"id\":\"8881\"}],\"renderers\":[{\"id\":\"8903\"}],\"title\":{\"id\":\"9264\"},\"toolbar\":{\"id\":\"8892\"},\"x_range\":{\"id\":\"8869\"},\"x_scale\":{\"id\":\"8873\"},\"y_range\":{\"id\":\"8871\"},\"y_scale\":{\"id\":\"8875\"}},\"id\":\"8868\",\"subtype\":\"Figure\",\"type\":\"Plot\"},{\"attributes\":{\"source\":{\"id\":\"8867\"}},\"id\":\"8904\",\"type\":\"CDSView\"},{\"attributes\":{\"fill_color\":{\"value\":\"#1f77b4\"},\"line_color\":{\"value\":\"#1f77b4\"},\"size\":{\"value\":20},\"x\":{\"field\":\"x_values\"},\"y\":{\"field\":\"y_values\"}},\"id\":\"8900\",\"type\":\"Circle\"},{\"attributes\":{\"data\":{\"x_values\":[1,2,3,4,5],\"y_values\":[6,7,2,3,6]},\"selected\":{\"id\":\"9273\"},\"selection_policy\":{\"id\":\"9272\"}},\"id\":\"8867\",\"type\":\"ColumnDataSource\"},{\"attributes\":{},\"id\":\"8871\",\"type\":\"DataRange1d\"},{\"attributes\":{},\"id\":\"8875\",\"type\":\"LinearScale\"},{\"attributes\":{},\"id\":\"8885\",\"type\":\"PanTool\"},{\"attributes\":{},\"id\":\"9273\",\"type\":\"Selection\"},{\"attributes\":{\"overlay\":{\"id\":\"8891\"}},\"id\":\"8887\",\"type\":\"BoxZoomTool\"},{\"attributes\":{\"bottom_units\":\"screen\",\"coordinates\":null,\"fill_alpha\":0.5,\"fill_color\":\"lightgrey\",\"group\":null,\"left_units\":\"screen\",\"level\":\"overlay\",\"line_alpha\":1.0,\"line_color\":\"black\",\"line_dash\":[4,4],\"line_width\":2,\"right_units\":\"screen\",\"syncable\":false,\"top_units\":\"screen\"},\"id\":\"8891\",\"type\":\"BoxAnnotation\"},{\"attributes\":{},\"id\":\"9272\",\"type\":\"UnionRenderers\"},{\"attributes\":{},\"id\":\"8890\",\"type\":\"HelpTool\"},{\"attributes\":{\"coordinates\":null,\"group\":null,\"text_color\":\"#5B5B5B\",\"text_font\":\"Calibri Light\",\"text_font_size\":\"1.25em\",\"text_font_style\":\"bold\"},\"id\":\"9264\",\"type\":\"Title\"},{\"attributes\":{},\"id\":\"8869\",\"type\":\"DataRange1d\"},{\"attributes\":{\"coordinates\":null,\"data_source\":{\"id\":\"8867\"},\"glyph\":{\"id\":\"8900\"},\"group\":null,\"hover_glyph\":null,\"muted_glyph\":{\"id\":\"8902\"},\"nonselection_glyph\":{\"id\":\"8901\"},\"view\":{\"id\":\"8904\"}},\"id\":\"8903\",\"type\":\"GlyphRenderer\"},{\"attributes\":{\"fill_alpha\":{\"value\":0.1},\"fill_color\":{\"value\":\"#1f77b4\"},\"hatch_alpha\":{\"value\":0.1},\"line_alpha\":{\"value\":0.1},\"line_color\":{\"value\":\"#1f77b4\"},\"size\":{\"value\":20},\"x\":{\"field\":\"x_values\"},\"y\":{\"field\":\"y_values\"}},\"id\":\"8901\",\"type\":\"Circle\"},{\"attributes\":{},\"id\":\"8889\",\"type\":\"ResetTool\"},{\"attributes\":{},\"id\":\"8873\",\"type\":\"LinearScale\"},{\"attributes\":{},\"id\":\"8888\",\"type\":\"SaveTool\"},{\"attributes\":{\"axis_label_standoff\":10,\"axis_label_text_color\":\"#5B5B5B\",\"axis_label_text_font\":\"Calibri Light\",\"axis_label_text_font_size\":\"1.15em\",\"axis_label_text_font_style\":\"bold\",\"axis_line_alpha\":1,\"axis_line_color\":\"#5B5B5B\",\"coordinates\":null,\"formatter\":{\"id\":\"9270\"},\"group\":null,\"major_label_policy\":{\"id\":\"9271\"},\"major_label_text_color\":\"#5B5B5B\",\"major_label_text_font\":\"Calibri Light\",\"major_label_text_font_size\":\"0.95em\",\"major_label_text_font_style\":\"bold\",\"major_tick_in\":0,\"major_tick_line_alpha\":0.25,\"major_tick_line_color\":\"#5B5B5B\",\"major_tick_out\":3,\"minor_tick_line_alpha\":0.25,\"minor_tick_line_color\":\"#5B5B5B\",\"ticker\":{\"id\":\"8878\"}},\"id\":\"8877\",\"type\":\"LinearAxis\"},{\"attributes\":{},\"id\":\"9267\",\"type\":\"BasicTickFormatter\"},{\"attributes\":{\"axis_label_standoff\":10,\"axis_label_text_color\":\"#5B5B5B\",\"axis_label_text_font\":\"Calibri Light\",\"axis_label_text_font_size\":\"1.15em\",\"axis_label_text_font_style\":\"bold\",\"axis_line_alpha\":1,\"axis_line_color\":\"#5B5B5B\",\"coordinates\":null,\"formatter\":{\"id\":\"9267\"},\"group\":null,\"major_label_policy\":{\"id\":\"9268\"},\"major_label_text_color\":\"#5B5B5B\",\"major_label_text_font\":\"Calibri Light\",\"major_label_text_font_size\":\"0.95em\",\"major_label_text_font_style\":\"bold\",\"major_tick_in\":0,\"major_tick_line_alpha\":0.25,\"major_tick_line_color\":\"#5B5B5B\",\"major_tick_out\":3,\"minor_tick_line_alpha\":0.25,\"minor_tick_line_color\":\"#5B5B5B\",\"ticker\":{\"id\":\"8882\"}},\"id\":\"8881\",\"type\":\"LinearAxis\"},{\"attributes\":{\"fill_alpha\":{\"value\":0.2},\"fill_color\":{\"value\":\"#1f77b4\"},\"hatch_alpha\":{\"value\":0.2},\"line_alpha\":{\"value\":0.2},\"line_color\":{\"value\":\"#1f77b4\"},\"size\":{\"value\":20},\"x\":{\"field\":\"x_values\"},\"y\":{\"field\":\"y_values\"}},\"id\":\"8902\",\"type\":\"Circle\"},{\"attributes\":{\"axis\":{\"id\":\"8881\"},\"coordinates\":null,\"dimension\":1,\"group\":null,\"ticker\":null},\"id\":\"8884\",\"type\":\"Grid\"},{\"attributes\":{\"tools\":[{\"id\":\"8885\"},{\"id\":\"8886\"},{\"id\":\"8887\"},{\"id\":\"8888\"},{\"id\":\"8889\"},{\"id\":\"8890\"}]},\"id\":\"8892\",\"type\":\"Toolbar\"},{\"attributes\":{\"axis\":{\"id\":\"8877\"},\"coordinates\":null,\"group\":null,\"ticker\":null},\"id\":\"8880\",\"type\":\"Grid\"},{\"attributes\":{},\"id\":\"9270\",\"type\":\"BasicTickFormatter\"},{\"attributes\":{},\"id\":\"8878\",\"type\":\"BasicTicker\"},{\"attributes\":{},\"id\":\"9268\",\"type\":\"AllLabels\"},{\"attributes\":{},\"id\":\"9271\",\"type\":\"AllLabels\"},{\"attributes\":{},\"id\":\"8882\",\"type\":\"BasicTicker\"},{\"attributes\":{},\"id\":\"8886\",\"type\":\"WheelZoomTool\"}],\"root_ids\":[\"8868\"]},\"title\":\"Bokeh Application\",\"version\":\"2.4.3\"}};\n",
       "  const render_items = [{\"docid\":\"068d8b35-ac6f-4d1a-b495-def2f88d3367\",\"root_ids\":[\"8868\"],\"roots\":{\"8868\":\"5ff1e43d-dc2e-429e-98d9-caadfc1f73d0\"}}];\n",
       "  root.Bokeh.embed.embed_items_notebook(docs_json, render_items);\n",
       "  }\n",
       "  if (root.Bokeh !== undefined) {\n",
       "    embed_document(root);\n",
       "  } else {\n",
       "    let attempts = 0;\n",
       "    const timer = setInterval(function(root) {\n",
       "      if (root.Bokeh !== undefined) {\n",
       "        clearInterval(timer);\n",
       "        embed_document(root);\n",
       "      } else {\n",
       "        attempts++;\n",
       "        if (attempts > 100) {\n",
       "          clearInterval(timer);\n",
       "          console.log(\"Bokeh: ERROR: Unable to run BokehJS code because BokehJS library is missing\");\n",
       "        }\n",
       "      }\n",
       "    }, 10, root)\n",
       "  }\n",
       "})(window);"
      ],
      "application/vnd.bokehjs_exec.v0+json": ""
     },
     "metadata": {
      "application/vnd.bokehjs_exec.v0+json": {
       "id": "8868"
      }
     },
     "output_type": "display_data"
    }
   ],
   "source": [
    "from bokeh.plotting import figure\n",
    "from bokeh.models import ColumnDataSource\n",
    "\n",
    "# create dict as basis for ColumnDataSource\n",
    "data = {'x_values': [1, 2, 3, 4, 5],\n",
    "        'y_values': [6, 7, 2, 3, 6]}\n",
    "\n",
    "# create ColumnDataSource based on dict\n",
    "source = ColumnDataSource(data=data)\n",
    "\n",
    "# create a plot and renderer with ColumnDataSource data\n",
    "p = figure()\n",
    "p.circle(x='x_values', y='y_values', size=20, source=source)\n",
    "\n",
    "show(p)"
   ]
  },
  {
   "cell_type": "markdown",
   "id": "9e2e2921-8ed5-4465-9e91-b0d4a791298d",
   "metadata": {},
   "source": [
    "Filtering data"
   ]
  },
  {
   "cell_type": "code",
   "execution_count": 31,
   "id": "b72f7589-a955-4c29-8d90-58792723b033",
   "metadata": {},
   "outputs": [
    {
     "data": {
      "text/html": [
       "\n",
       "  <div class=\"bk-root\" id=\"a3decfad-ef14-4b73-8eb0-4d52a8e0078d\" data-root-id=\"9423\"></div>\n"
      ]
     },
     "metadata": {},
     "output_type": "display_data"
    },
    {
     "data": {
      "application/javascript": [
       "(function(root) {\n",
       "  function embed_document(root) {\n",
       "  const docs_json = {\"ce79d80a-f98d-44d9-9bab-60eb8166db77\":{\"defs\":[],\"roots\":{\"references\":[{\"attributes\":{\"children\":[{\"id\":\"9422\"},{\"id\":\"9420\"}]},\"id\":\"9423\",\"type\":\"Column\"},{\"attributes\":{\"callback\":null},\"id\":\"9351\",\"type\":\"HoverTool\"},{\"attributes\":{\"overlay\":{\"id\":\"9353\"}},\"id\":\"9350\",\"type\":\"BoxSelectTool\"},{\"attributes\":{},\"id\":\"9366\",\"type\":\"DataRange1d\"},{\"attributes\":{\"bottom_units\":\"screen\",\"coordinates\":null,\"fill_alpha\":0.5,\"fill_color\":\"lightgrey\",\"group\":null,\"left_units\":\"screen\",\"level\":\"overlay\",\"line_alpha\":1.0,\"line_color\":\"black\",\"line_dash\":[4,4],\"line_width\":2,\"right_units\":\"screen\",\"syncable\":false,\"top_units\":\"screen\"},\"id\":\"9385\",\"type\":\"BoxAnnotation\"},{\"attributes\":{\"fill_color\":{\"value\":\"#1f77b4\"},\"line_color\":{\"value\":\"#1f77b4\"},\"size\":{\"value\":10},\"x\":{\"field\":\"x\"},\"y\":{\"field\":\"y\"}},\"id\":\"9359\",\"type\":\"Circle\"},{\"attributes\":{\"overlay\":{\"id\":\"9385\"}},\"id\":\"9382\",\"type\":\"BoxSelectTool\"},{\"attributes\":{},\"id\":\"9384\",\"type\":\"ResetTool\"},{\"attributes\":{\"axis_label_standoff\":10,\"axis_label_text_color\":\"#5B5B5B\",\"axis_label_text_font\":\"Calibri Light\",\"axis_label_text_font_size\":\"1.15em\",\"axis_label_text_font_style\":\"bold\",\"axis_line_alpha\":1,\"axis_line_color\":\"#5B5B5B\",\"coordinates\":null,\"formatter\":{\"id\":\"9414\"},\"group\":null,\"major_label_policy\":{\"id\":\"9415\"},\"major_label_text_color\":\"#5B5B5B\",\"major_label_text_font\":\"Calibri Light\",\"major_label_text_font_size\":\"0.95em\",\"major_label_text_font_style\":\"bold\",\"major_tick_in\":0,\"major_tick_line_alpha\":0.25,\"major_tick_line_color\":\"#5B5B5B\",\"major_tick_out\":3,\"minor_tick_line_alpha\":0.25,\"minor_tick_line_color\":\"#5B5B5B\",\"ticker\":{\"id\":\"9375\"}},\"id\":\"9374\",\"type\":\"LinearAxis\"},{\"attributes\":{\"tools\":[{\"id\":\"9382\"},{\"id\":\"9383\"},{\"id\":\"9384\"}]},\"id\":\"9386\",\"type\":\"Toolbar\"},{\"attributes\":{\"fill_color\":{\"value\":\"red\"},\"hatch_color\":{\"value\":\"red\"},\"line_color\":{\"value\":\"red\"},\"size\":{\"value\":10},\"x\":{\"field\":\"x\"},\"y\":{\"field\":\"y\"}},\"id\":\"9361\",\"type\":\"Circle\"},{\"attributes\":{\"coordinates\":null,\"data_source\":{\"id\":\"9330\"},\"glyph\":{\"id\":\"9359\"},\"group\":null,\"hover_glyph\":{\"id\":\"9361\"},\"muted_glyph\":{\"id\":\"9362\"},\"nonselection_glyph\":{\"id\":\"9360\"},\"view\":{\"id\":\"9364\"}},\"id\":\"9363\",\"type\":\"GlyphRenderer\"},{\"attributes\":{\"fill_alpha\":{\"value\":0.1},\"fill_color\":{\"value\":\"#1f77b4\"},\"hatch_alpha\":{\"value\":0.1},\"line_alpha\":{\"value\":0.1},\"line_color\":{\"value\":\"#1f77b4\"},\"size\":{\"value\":10},\"x\":{\"field\":\"x\"},\"y\":{\"field\":\"y\"}},\"id\":\"9360\",\"type\":\"Circle\"},{\"attributes\":{\"below\":[{\"id\":\"9342\"}],\"center\":[{\"id\":\"9345\"},{\"id\":\"9349\"}],\"height\":300,\"left\":[{\"id\":\"9346\"}],\"renderers\":[{\"id\":\"9363\"}],\"title\":{\"id\":\"9396\"},\"toolbar\":{\"id\":\"9354\"},\"toolbar_location\":null,\"width\":300,\"x_range\":{\"id\":\"9334\"},\"x_scale\":{\"id\":\"9338\"},\"y_range\":{\"id\":\"9336\"},\"y_scale\":{\"id\":\"9340\"}},\"id\":\"9333\",\"subtype\":\"Figure\",\"type\":\"Plot\"},{\"attributes\":{\"toolbar\":{\"id\":\"9421\"},\"toolbar_location\":\"above\"},\"id\":\"9422\",\"type\":\"ToolbarBox\"},{\"attributes\":{\"fill_alpha\":{\"value\":0.1},\"fill_color\":{\"value\":\"#1f77b4\"},\"hatch_alpha\":{\"value\":0.1},\"line_alpha\":{\"value\":0.1},\"line_color\":{\"value\":\"#1f77b4\"},\"size\":{\"value\":10},\"x\":{\"field\":\"x\"},\"y\":{\"field\":\"y\"}},\"id\":\"9392\",\"type\":\"Circle\"},{\"attributes\":{\"below\":[{\"id\":\"9374\"}],\"center\":[{\"id\":\"9377\"},{\"id\":\"9381\"}],\"height\":300,\"left\":[{\"id\":\"9378\"}],\"renderers\":[{\"id\":\"9395\"}],\"title\":{\"id\":\"9408\"},\"toolbar\":{\"id\":\"9386\"},\"toolbar_location\":null,\"width\":300,\"x_range\":{\"id\":\"9366\"},\"x_scale\":{\"id\":\"9370\"},\"y_range\":{\"id\":\"9368\"},\"y_scale\":{\"id\":\"9372\"}},\"id\":\"9365\",\"subtype\":\"Figure\",\"type\":\"Plot\"},{\"attributes\":{\"axis\":{\"id\":\"9374\"},\"coordinates\":null,\"group\":null,\"ticker\":null},\"id\":\"9377\",\"type\":\"Grid\"},{\"attributes\":{},\"id\":\"9352\",\"type\":\"ResetTool\"},{\"attributes\":{},\"id\":\"9336\",\"type\":\"DataRange1d\"},{\"attributes\":{},\"id\":\"9411\",\"type\":\"BasicTickFormatter\"},{\"attributes\":{\"coordinates\":null,\"group\":null,\"text_color\":\"#5B5B5B\",\"text_font\":\"Calibri Light\",\"text_font_size\":\"1.25em\",\"text_font_style\":\"bold\"},\"id\":\"9396\",\"type\":\"Title\"},{\"attributes\":{},\"id\":\"9334\",\"type\":\"DataRange1d\"},{\"attributes\":{},\"id\":\"9375\",\"type\":\"BasicTicker\"},{\"attributes\":{\"children\":[[{\"id\":\"9333\"},0,0],[{\"id\":\"9365\"},0,1]]},\"id\":\"9420\",\"type\":\"GridBox\"},{\"attributes\":{\"bottom_units\":\"screen\",\"coordinates\":null,\"fill_alpha\":0.5,\"fill_color\":\"lightgrey\",\"group\":null,\"left_units\":\"screen\",\"level\":\"overlay\",\"line_alpha\":1.0,\"line_color\":\"black\",\"line_dash\":[4,4],\"line_width\":2,\"right_units\":\"screen\",\"syncable\":false,\"top_units\":\"screen\"},\"id\":\"9353\",\"type\":\"BoxAnnotation\"},{\"attributes\":{},\"id\":\"9338\",\"type\":\"LinearScale\"},{\"attributes\":{},\"id\":\"9412\",\"type\":\"AllLabels\"},{\"attributes\":{\"toolbars\":[{\"id\":\"9354\"},{\"id\":\"9386\"}],\"tools\":[{\"id\":\"9350\"},{\"id\":\"9351\"},{\"id\":\"9352\"},{\"id\":\"9382\"},{\"id\":\"9383\"},{\"id\":\"9384\"}]},\"id\":\"9421\",\"type\":\"ProxyToolbar\"},{\"attributes\":{},\"id\":\"9414\",\"type\":\"BasicTickFormatter\"},{\"attributes\":{\"axis\":{\"id\":\"9342\"},\"coordinates\":null,\"group\":null,\"ticker\":null},\"id\":\"9345\",\"type\":\"Grid\"},{\"attributes\":{},\"id\":\"9370\",\"type\":\"LinearScale\"},{\"attributes\":{\"fill_alpha\":{\"value\":0.2},\"fill_color\":{\"value\":\"#1f77b4\"},\"hatch_alpha\":{\"value\":0.2},\"line_alpha\":{\"value\":0.2},\"line_color\":{\"value\":\"#1f77b4\"},\"size\":{\"value\":10},\"x\":{\"field\":\"x\"},\"y\":{\"field\":\"y\"}},\"id\":\"9394\",\"type\":\"Circle\"},{\"attributes\":{},\"id\":\"9399\",\"type\":\"BasicTickFormatter\"},{\"attributes\":{\"axis_label_standoff\":10,\"axis_label_text_color\":\"#5B5B5B\",\"axis_label_text_font\":\"Calibri Light\",\"axis_label_text_font_size\":\"1.15em\",\"axis_label_text_font_style\":\"bold\",\"axis_line_alpha\":1,\"axis_line_color\":\"#5B5B5B\",\"coordinates\":null,\"formatter\":{\"id\":\"9411\"},\"group\":null,\"major_label_policy\":{\"id\":\"9412\"},\"major_label_text_color\":\"#5B5B5B\",\"major_label_text_font\":\"Calibri Light\",\"major_label_text_font_size\":\"0.95em\",\"major_label_text_font_style\":\"bold\",\"major_tick_in\":0,\"major_tick_line_alpha\":0.25,\"major_tick_line_color\":\"#5B5B5B\",\"major_tick_out\":3,\"minor_tick_line_alpha\":0.25,\"minor_tick_line_color\":\"#5B5B5B\",\"ticker\":{\"id\":\"9379\"}},\"id\":\"9378\",\"type\":\"LinearAxis\"},{\"attributes\":{\"fill_color\":{\"value\":\"red\"},\"hatch_color\":{\"value\":\"red\"},\"line_color\":{\"value\":\"red\"},\"size\":{\"value\":10},\"x\":{\"field\":\"x\"},\"y\":{\"field\":\"y\"}},\"id\":\"9393\",\"type\":\"Circle\"},{\"attributes\":{},\"id\":\"9415\",\"type\":\"AllLabels\"},{\"attributes\":{\"filters\":[{\"id\":\"9331\"}],\"source\":{\"id\":\"9330\"}},\"id\":\"9332\",\"type\":\"CDSView\"},{\"attributes\":{\"callback\":null},\"id\":\"9383\",\"type\":\"HoverTool\"},{\"attributes\":{\"coordinates\":null,\"data_source\":{\"id\":\"9330\"},\"glyph\":{\"id\":\"9391\"},\"group\":null,\"hover_glyph\":{\"id\":\"9393\"},\"muted_glyph\":{\"id\":\"9394\"},\"nonselection_glyph\":{\"id\":\"9392\"},\"view\":{\"id\":\"9332\"}},\"id\":\"9395\",\"type\":\"GlyphRenderer\"},{\"attributes\":{},\"id\":\"9400\",\"type\":\"AllLabels\"},{\"attributes\":{\"indices\":[0,2,4]},\"id\":\"9331\",\"type\":\"IndexFilter\"},{\"attributes\":{\"source\":{\"id\":\"9330\"}},\"id\":\"9364\",\"type\":\"CDSView\"},{\"attributes\":{},\"id\":\"9343\",\"type\":\"BasicTicker\"},{\"attributes\":{\"fill_alpha\":{\"value\":0.2},\"fill_color\":{\"value\":\"#1f77b4\"},\"hatch_alpha\":{\"value\":0.2},\"line_alpha\":{\"value\":0.2},\"line_color\":{\"value\":\"#1f77b4\"},\"size\":{\"value\":10},\"x\":{\"field\":\"x\"},\"y\":{\"field\":\"y\"}},\"id\":\"9362\",\"type\":\"Circle\"},{\"attributes\":{\"tools\":[{\"id\":\"9350\"},{\"id\":\"9351\"},{\"id\":\"9352\"}]},\"id\":\"9354\",\"type\":\"Toolbar\"},{\"attributes\":{\"data\":{\"x\":[1,2,3,4,5],\"y\":[1,2,3,4,5]},\"selected\":{\"id\":\"9405\"},\"selection_policy\":{\"id\":\"9404\"}},\"id\":\"9330\",\"type\":\"ColumnDataSource\"},{\"attributes\":{},\"id\":\"9372\",\"type\":\"LinearScale\"},{\"attributes\":{},\"id\":\"9340\",\"type\":\"LinearScale\"},{\"attributes\":{},\"id\":\"9402\",\"type\":\"BasicTickFormatter\"},{\"attributes\":{\"coordinates\":null,\"group\":null,\"text_color\":\"#5B5B5B\",\"text_font\":\"Calibri Light\",\"text_font_size\":\"1.25em\",\"text_font_style\":\"bold\"},\"id\":\"9408\",\"type\":\"Title\"},{\"attributes\":{},\"id\":\"9405\",\"type\":\"Selection\"},{\"attributes\":{\"fill_color\":{\"value\":\"#1f77b4\"},\"line_color\":{\"value\":\"#1f77b4\"},\"size\":{\"value\":10},\"x\":{\"field\":\"x\"},\"y\":{\"field\":\"y\"}},\"id\":\"9391\",\"type\":\"Circle\"},{\"attributes\":{},\"id\":\"9404\",\"type\":\"UnionRenderers\"},{\"attributes\":{\"axis\":{\"id\":\"9378\"},\"coordinates\":null,\"dimension\":1,\"group\":null,\"ticker\":null},\"id\":\"9381\",\"type\":\"Grid\"},{\"attributes\":{},\"id\":\"9379\",\"type\":\"BasicTicker\"},{\"attributes\":{\"axis\":{\"id\":\"9346\"},\"coordinates\":null,\"dimension\":1,\"group\":null,\"ticker\":null},\"id\":\"9349\",\"type\":\"Grid\"},{\"attributes\":{\"axis_label_standoff\":10,\"axis_label_text_color\":\"#5B5B5B\",\"axis_label_text_font\":\"Calibri Light\",\"axis_label_text_font_size\":\"1.15em\",\"axis_label_text_font_style\":\"bold\",\"axis_line_alpha\":1,\"axis_line_color\":\"#5B5B5B\",\"coordinates\":null,\"formatter\":{\"id\":\"9399\"},\"group\":null,\"major_label_policy\":{\"id\":\"9400\"},\"major_label_text_color\":\"#5B5B5B\",\"major_label_text_font\":\"Calibri Light\",\"major_label_text_font_size\":\"0.95em\",\"major_label_text_font_style\":\"bold\",\"major_tick_in\":0,\"major_tick_line_alpha\":0.25,\"major_tick_line_color\":\"#5B5B5B\",\"major_tick_out\":3,\"minor_tick_line_alpha\":0.25,\"minor_tick_line_color\":\"#5B5B5B\",\"ticker\":{\"id\":\"9347\"}},\"id\":\"9346\",\"type\":\"LinearAxis\"},{\"attributes\":{},\"id\":\"9403\",\"type\":\"AllLabels\"},{\"attributes\":{},\"id\":\"9347\",\"type\":\"BasicTicker\"},{\"attributes\":{},\"id\":\"9368\",\"type\":\"DataRange1d\"},{\"attributes\":{\"axis_label_standoff\":10,\"axis_label_text_color\":\"#5B5B5B\",\"axis_label_text_font\":\"Calibri Light\",\"axis_label_text_font_size\":\"1.15em\",\"axis_label_text_font_style\":\"bold\",\"axis_line_alpha\":1,\"axis_line_color\":\"#5B5B5B\",\"coordinates\":null,\"formatter\":{\"id\":\"9402\"},\"group\":null,\"major_label_policy\":{\"id\":\"9403\"},\"major_label_text_color\":\"#5B5B5B\",\"major_label_text_font\":\"Calibri Light\",\"major_label_text_font_size\":\"0.95em\",\"major_label_text_font_style\":\"bold\",\"major_tick_in\":0,\"major_tick_line_alpha\":0.25,\"major_tick_line_color\":\"#5B5B5B\",\"major_tick_out\":3,\"minor_tick_line_alpha\":0.25,\"minor_tick_line_color\":\"#5B5B5B\",\"ticker\":{\"id\":\"9343\"}},\"id\":\"9342\",\"type\":\"LinearAxis\"}],\"root_ids\":[\"9423\"]},\"title\":\"Bokeh Application\",\"version\":\"2.4.3\"}};\n",
       "  const render_items = [{\"docid\":\"ce79d80a-f98d-44d9-9bab-60eb8166db77\",\"root_ids\":[\"9423\"],\"roots\":{\"9423\":\"a3decfad-ef14-4b73-8eb0-4d52a8e0078d\"}}];\n",
       "  root.Bokeh.embed.embed_items_notebook(docs_json, render_items);\n",
       "  }\n",
       "  if (root.Bokeh !== undefined) {\n",
       "    embed_document(root);\n",
       "  } else {\n",
       "    let attempts = 0;\n",
       "    const timer = setInterval(function(root) {\n",
       "      if (root.Bokeh !== undefined) {\n",
       "        clearInterval(timer);\n",
       "        embed_document(root);\n",
       "      } else {\n",
       "        attempts++;\n",
       "        if (attempts > 100) {\n",
       "          clearInterval(timer);\n",
       "          console.log(\"Bokeh: ERROR: Unable to run BokehJS code because BokehJS library is missing\");\n",
       "        }\n",
       "      }\n",
       "    }, 10, root)\n",
       "  }\n",
       "})(window);"
      ],
      "application/vnd.bokehjs_exec.v0+json": ""
     },
     "metadata": {
      "application/vnd.bokehjs_exec.v0+json": {
       "id": "9423"
      }
     },
     "output_type": "display_data"
    }
   ],
   "source": [
    "from bokeh.layouts import gridplot\n",
    "from bokeh.models import CDSView, ColumnDataSource, IndexFilter\n",
    "from bokeh.plotting import figure, show\n",
    "\n",
    "# create ColumnDataSource from a dict\n",
    "source = ColumnDataSource(data=dict(x=[1, 2, 3, 4, 5], y=[1, 2, 3, 4, 5]))\n",
    "\n",
    "# create a view using an IndexFilter with the index positions [0, 2, 4]\n",
    "view = CDSView(source=source, filters=[IndexFilter([0, 2, 4])])\n",
    "\n",
    "# setup tools\n",
    "tools = [\"box_select\", \"hover\", \"reset\"]\n",
    "\n",
    "# create a first plot with all data in the ColumnDataSource\n",
    "p = figure(height=300, width=300, tools=tools)\n",
    "p.circle(x=\"x\", y=\"y\", size=10, hover_color=\"red\", source=source)\n",
    "\n",
    "# create a second plot with a subset of ColumnDataSource, based on view\n",
    "p_filtered = figure(height=300, width=300, tools=tools)\n",
    "p_filtered.circle(x=\"x\", y=\"y\", size=10, hover_color=\"red\", source=source, view=view)\n",
    "\n",
    "# show both plots next to each other in a gridplot layout\n",
    "show(gridplot([[p, p_filtered]]))"
   ]
  },
  {
   "cell_type": "markdown",
   "id": "7c2e2665-846b-408d-a53d-63a0a7c026ca",
   "metadata": {},
   "source": [
    "Using widgets"
   ]
  },
  {
   "cell_type": "code",
   "execution_count": 32,
   "id": "cbbc6da9-8c87-4414-acb8-6e1f1c710be4",
   "metadata": {},
   "outputs": [
    {
     "data": {
      "text/html": [
       "\n",
       "  <div class=\"bk-root\" id=\"04034045-7a8c-4cae-8bcb-1cda8cad8e27\" data-root-id=\"9960\"></div>\n"
      ]
     },
     "metadata": {},
     "output_type": "display_data"
    },
    {
     "data": {
      "application/javascript": [
       "(function(root) {\n",
       "  function embed_document(root) {\n",
       "  const docs_json = {\"7f4a654a-fc3b-44b4-8e56-4223bdbb5054\":{\"defs\":[],\"roots\":{\"references\":[{\"attributes\":{\"children\":[{\"id\":\"9957\"},{\"id\":\"9958\"},{\"id\":\"9959\"}]},\"id\":\"9960\",\"type\":\"Column\"},{\"attributes\":{},\"id\":\"9936\",\"type\":\"HelpTool\"},{\"attributes\":{\"children\":[{\"id\":\"9954\"}]},\"id\":\"9958\",\"type\":\"Row\"},{\"attributes\":{\"source\":{\"id\":\"9945\"}},\"id\":\"9950\",\"type\":\"CDSView\"},{\"attributes\":{\"fill_alpha\":{\"value\":0.2},\"fill_color\":{\"value\":\"#21a7df\"},\"hatch_alpha\":{\"value\":0.2},\"line_alpha\":{\"value\":0.2},\"line_color\":{\"value\":\"#1f77b4\"},\"size\":{\"value\":30},\"x\":{\"field\":\"x\"},\"y\":{\"field\":\"y\"}},\"id\":\"9948\",\"type\":\"Circle\"},{\"attributes\":{\"children\":[{\"id\":\"9951\"},{\"id\":\"9952\"}]},\"id\":\"9957\",\"type\":\"Row\"},{\"attributes\":{\"end\":10,\"js_property_callbacks\":{\"change:value\":[{\"id\":\"9955\"},{\"id\":\"9956\"}]},\"start\":0,\"title\":\"Adjust x-axis range\",\"value\":[1,9]},\"id\":\"9954\",\"type\":\"RangeSlider\"},{\"attributes\":{\"fill_alpha\":{\"value\":0.1},\"fill_color\":{\"value\":\"#21a7df\"},\"hatch_alpha\":{\"value\":0.1},\"line_alpha\":{\"value\":0.1},\"line_color\":{\"value\":\"#1f77b4\"},\"size\":{\"value\":30},\"x\":{\"field\":\"x\"},\"y\":{\"field\":\"y\"}},\"id\":\"9947\",\"type\":\"Circle\"},{\"attributes\":{\"high\":60,\"js_property_callbacks\":{\"change:value\":[{\"id\":\"9953\"}]},\"low\":0,\"step\":5,\"title\":\"Circle size\",\"value\":30,\"value_throttled\":30,\"width\":200},\"id\":\"9952\",\"type\":\"Spinner\"},{\"attributes\":{\"coordinates\":null,\"group\":null,\"text_color\":\"#5B5B5B\",\"text_font\":\"Calibri Light\",\"text_font_size\":\"1.25em\",\"text_font_style\":\"bold\"},\"id\":\"10351\",\"type\":\"Title\"},{\"attributes\":{\"end\":9,\"start\":1},\"id\":\"9915\",\"type\":\"Range1d\"},{\"attributes\":{},\"id\":\"10355\",\"type\":\"AllLabels\"},{\"attributes\":{\"fill_color\":{\"value\":\"#21a7df\"},\"line_color\":{\"value\":\"#1f77b4\"},\"size\":{\"value\":30},\"x\":{\"field\":\"x\"},\"y\":{\"field\":\"y\"}},\"id\":\"9946\",\"type\":\"Circle\"},{\"attributes\":{\"children\":[{\"id\":\"9914\"}]},\"id\":\"9959\",\"type\":\"Row\"},{\"attributes\":{\"args\":{\"other\":{\"id\":\"9915\"}},\"code\":\"other.end = this.value[1]\"},\"id\":\"9956\",\"type\":\"CustomJS\"},{\"attributes\":{\"coordinates\":null,\"data_source\":{\"id\":\"9945\"},\"glyph\":{\"id\":\"9946\"},\"group\":null,\"hover_glyph\":null,\"muted_glyph\":{\"id\":\"9948\"},\"nonselection_glyph\":{\"id\":\"9947\"},\"view\":{\"id\":\"9950\"}},\"id\":\"9949\",\"type\":\"GlyphRenderer\"},{\"attributes\":{\"axis\":{\"id\":\"9923\"},\"coordinates\":null,\"group\":null,\"ticker\":null},\"id\":\"9926\",\"type\":\"Grid\"},{\"attributes\":{},\"id\":\"10354\",\"type\":\"BasicTickFormatter\"},{\"attributes\":{},\"id\":\"10358\",\"type\":\"AllLabels\"},{\"attributes\":{\"args\":{\"other\":{\"id\":\"9946\"}},\"code\":\"other.size = this.value\"},\"id\":\"9953\",\"type\":\"CustomJS\"},{\"attributes\":{},\"id\":\"9921\",\"type\":\"LinearScale\"},{\"attributes\":{\"below\":[{\"id\":\"9923\"}],\"center\":[{\"id\":\"9926\"},{\"id\":\"9930\"}],\"height\":250,\"left\":[{\"id\":\"9927\"}],\"renderers\":[{\"id\":\"9949\"}],\"title\":{\"id\":\"10351\"},\"toolbar\":{\"id\":\"9938\"},\"width\":500,\"x_range\":{\"id\":\"9915\"},\"x_scale\":{\"id\":\"9919\"},\"y_range\":{\"id\":\"9917\"},\"y_scale\":{\"id\":\"9921\"}},\"id\":\"9914\",\"subtype\":\"Figure\",\"type\":\"Plot\"},{\"attributes\":{\"height\":30,\"text\":\"\\n          <p>Select the circle's size using this control element:</p>\\n          \",\"width\":200},\"id\":\"9951\",\"type\":\"Div\"},{\"attributes\":{\"args\":{\"other\":{\"id\":\"9915\"}},\"code\":\"other.start = this.value[0]\"},\"id\":\"9955\",\"type\":\"CustomJS\"},{\"attributes\":{},\"id\":\"10359\",\"type\":\"UnionRenderers\"},{\"attributes\":{\"data\":{\"x\":[1,2,3,4,5,6,7,8,9,10],\"y\":[4,5,5,7,2,6,4,9,1,3]},\"selected\":{\"id\":\"10360\"},\"selection_policy\":{\"id\":\"10359\"}},\"id\":\"9945\",\"type\":\"ColumnDataSource\"},{\"attributes\":{},\"id\":\"10357\",\"type\":\"BasicTickFormatter\"},{\"attributes\":{},\"id\":\"9935\",\"type\":\"ResetTool\"},{\"attributes\":{},\"id\":\"9934\",\"type\":\"SaveTool\"},{\"attributes\":{},\"id\":\"10360\",\"type\":\"Selection\"},{\"attributes\":{\"overlay\":{\"id\":\"9937\"}},\"id\":\"9933\",\"type\":\"BoxZoomTool\"},{\"attributes\":{},\"id\":\"9924\",\"type\":\"BasicTicker\"},{\"attributes\":{},\"id\":\"9931\",\"type\":\"PanTool\"},{\"attributes\":{},\"id\":\"9932\",\"type\":\"WheelZoomTool\"},{\"attributes\":{},\"id\":\"9919\",\"type\":\"LinearScale\"},{\"attributes\":{},\"id\":\"9917\",\"type\":\"DataRange1d\"},{\"attributes\":{\"tools\":[{\"id\":\"9931\"},{\"id\":\"9932\"},{\"id\":\"9933\"},{\"id\":\"9934\"},{\"id\":\"9935\"},{\"id\":\"9936\"}]},\"id\":\"9938\",\"type\":\"Toolbar\"},{\"attributes\":{},\"id\":\"9928\",\"type\":\"BasicTicker\"},{\"attributes\":{\"axis_label_standoff\":10,\"axis_label_text_color\":\"#5B5B5B\",\"axis_label_text_font\":\"Calibri Light\",\"axis_label_text_font_size\":\"1.15em\",\"axis_label_text_font_style\":\"bold\",\"axis_line_alpha\":1,\"axis_line_color\":\"#5B5B5B\",\"coordinates\":null,\"formatter\":{\"id\":\"10354\"},\"group\":null,\"major_label_policy\":{\"id\":\"10355\"},\"major_label_text_color\":\"#5B5B5B\",\"major_label_text_font\":\"Calibri Light\",\"major_label_text_font_size\":\"0.95em\",\"major_label_text_font_style\":\"bold\",\"major_tick_in\":0,\"major_tick_line_alpha\":0.25,\"major_tick_line_color\":\"#5B5B5B\",\"major_tick_out\":3,\"minor_tick_line_alpha\":0.25,\"minor_tick_line_color\":\"#5B5B5B\",\"ticker\":{\"id\":\"9928\"}},\"id\":\"9927\",\"type\":\"LinearAxis\"},{\"attributes\":{\"bottom_units\":\"screen\",\"coordinates\":null,\"fill_alpha\":0.5,\"fill_color\":\"lightgrey\",\"group\":null,\"left_units\":\"screen\",\"level\":\"overlay\",\"line_alpha\":1.0,\"line_color\":\"black\",\"line_dash\":[4,4],\"line_width\":2,\"right_units\":\"screen\",\"syncable\":false,\"top_units\":\"screen\"},\"id\":\"9937\",\"type\":\"BoxAnnotation\"},{\"attributes\":{\"axis\":{\"id\":\"9927\"},\"coordinates\":null,\"dimension\":1,\"group\":null,\"ticker\":null},\"id\":\"9930\",\"type\":\"Grid\"},{\"attributes\":{\"axis_label_standoff\":10,\"axis_label_text_color\":\"#5B5B5B\",\"axis_label_text_font\":\"Calibri Light\",\"axis_label_text_font_size\":\"1.15em\",\"axis_label_text_font_style\":\"bold\",\"axis_line_alpha\":1,\"axis_line_color\":\"#5B5B5B\",\"coordinates\":null,\"formatter\":{\"id\":\"10357\"},\"group\":null,\"major_label_policy\":{\"id\":\"10358\"},\"major_label_text_color\":\"#5B5B5B\",\"major_label_text_font\":\"Calibri Light\",\"major_label_text_font_size\":\"0.95em\",\"major_label_text_font_style\":\"bold\",\"major_tick_in\":0,\"major_tick_line_alpha\":0.25,\"major_tick_line_color\":\"#5B5B5B\",\"major_tick_out\":3,\"minor_tick_line_alpha\":0.25,\"minor_tick_line_color\":\"#5B5B5B\",\"ticker\":{\"id\":\"9924\"}},\"id\":\"9923\",\"type\":\"LinearAxis\"}],\"root_ids\":[\"9960\"]},\"title\":\"Bokeh Application\",\"version\":\"2.4.3\"}};\n",
       "  const render_items = [{\"docid\":\"7f4a654a-fc3b-44b4-8e56-4223bdbb5054\",\"root_ids\":[\"9960\"],\"roots\":{\"9960\":\"04034045-7a8c-4cae-8bcb-1cda8cad8e27\"}}];\n",
       "  root.Bokeh.embed.embed_items_notebook(docs_json, render_items);\n",
       "  }\n",
       "  if (root.Bokeh !== undefined) {\n",
       "    embed_document(root);\n",
       "  } else {\n",
       "    let attempts = 0;\n",
       "    const timer = setInterval(function(root) {\n",
       "      if (root.Bokeh !== undefined) {\n",
       "        clearInterval(timer);\n",
       "        embed_document(root);\n",
       "      } else {\n",
       "        attempts++;\n",
       "        if (attempts > 100) {\n",
       "          clearInterval(timer);\n",
       "          console.log(\"Bokeh: ERROR: Unable to run BokehJS code because BokehJS library is missing\");\n",
       "        }\n",
       "      }\n",
       "    }, 10, root)\n",
       "  }\n",
       "})(window);"
      ],
      "application/vnd.bokehjs_exec.v0+json": ""
     },
     "metadata": {
      "application/vnd.bokehjs_exec.v0+json": {
       "id": "9960"
      }
     },
     "output_type": "display_data"
    }
   ],
   "source": [
    "from bokeh.layouts import layout\n",
    "from bokeh.models import Div, RangeSlider, Spinner\n",
    "from bokeh.plotting import figure, show\n",
    "\n",
    "# prepare some data\n",
    "x = [1, 2, 3, 4, 5, 6, 7, 8, 9, 10]\n",
    "y = [4, 5, 5, 7, 2, 6, 4, 9, 1, 3]\n",
    "\n",
    "# create plot with circle glyphs\n",
    "p = figure(x_range=(1, 9), width=500, height=250)\n",
    "points = p.circle(x=x, y=y, size=30, fill_color=\"#21a7df\")\n",
    "\n",
    "# set up textarea (div)\n",
    "div = Div(\n",
    "    text=\"\"\"\n",
    "          <p>Select the circle's size using this control element:</p>\n",
    "          \"\"\",\n",
    "    width=200,\n",
    "    height=30,\n",
    ")\n",
    "\n",
    "# set up spinner\n",
    "spinner = Spinner(\n",
    "    title=\"Circle size\",\n",
    "    low=0,\n",
    "    high=60,\n",
    "    step=5,\n",
    "    value=points.glyph.size,\n",
    "    width=200,\n",
    ")\n",
    "spinner.js_link(\"value\", points.glyph, \"size\")\n",
    "\n",
    "# set up RangeSlider\n",
    "range_slider = RangeSlider(\n",
    "    title=\"Adjust x-axis range\",\n",
    "    start=0,\n",
    "    end=10,\n",
    "    step=1,\n",
    "    value=(p.x_range.start, p.x_range.end),\n",
    ")\n",
    "range_slider.js_link(\"value\", p.x_range, \"start\", attr_selector=0)\n",
    "range_slider.js_link(\"value\", p.x_range, \"end\", attr_selector=1)\n",
    "\n",
    "# create layout\n",
    "layout = layout(\n",
    "    [\n",
    "        [div, spinner],\n",
    "        [range_slider],\n",
    "        [p],\n",
    "    ]\n",
    ")\n",
    "\n",
    "# show result\n",
    "show(layout)"
   ]
  },
  {
   "cell_type": "code",
   "execution_count": null,
   "id": "1f943560-9b89-4700-a821-d619226aeb1e",
   "metadata": {},
   "outputs": [],
   "source": []
  }
 ],
 "metadata": {
  "kernelspec": {
   "display_name": "Python 3 (ipykernel)",
   "language": "python",
   "name": "python3"
  },
  "language_info": {
   "codemirror_mode": {
    "name": "ipython",
    "version": 3
   },
   "file_extension": ".py",
   "mimetype": "text/x-python",
   "name": "python",
   "nbconvert_exporter": "python",
   "pygments_lexer": "ipython3",
   "version": "3.9.2"
  }
 },
 "nbformat": 4,
 "nbformat_minor": 5
}
