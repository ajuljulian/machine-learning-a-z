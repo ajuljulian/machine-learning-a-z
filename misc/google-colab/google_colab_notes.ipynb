{
  "nbformat": 4,
  "nbformat_minor": 0,
  "metadata": {
    "colab": {
      "name": "google_colab_notes",
      "version": "0.3.2",
      "provenance": [],
      "collapsed_sections": [],
      "include_colab_link": true
    },
    "kernelspec": {
      "name": "python3",
      "display_name": "Python 3"
    }
  },
  "cells": [
    {
      "cell_type": "markdown",
      "metadata": {
        "id": "view-in-github",
        "colab_type": "text"
      },
      "source": [
        "<a href=\"https://colab.research.google.com/github/ajuljulian/machine-learning-a-z/blob/master/misc/google-colab/google_colab_notes.ipynb\" target=\"_parent\"><img src=\"https://colab.research.google.com/assets/colab-badge.svg\" alt=\"Open In Colab\"/></a>"
      ]
    },
    {
      "metadata": {
        "id": "PB-kgSCDQEXg",
        "colab_type": "text"
      },
      "cell_type": "markdown",
      "source": [
        "**Connecting to Google Drive**"
      ]
    },
    {
      "metadata": {
        "id": "WYrbWUmYOvtN",
        "colab_type": "code",
        "colab": {
          "base_uri": "https://localhost:8080/",
          "height": 34
        },
        "outputId": "c2fb615c-3e6a-4ee3-e12a-e951dd6d83d2"
      },
      "cell_type": "code",
      "source": [
        "from google.colab import drive\n",
        "drive.mount('/content/gdrive')"
      ],
      "execution_count": 8,
      "outputs": [
        {
          "output_type": "stream",
          "text": [
            "Drive already mounted at /content/gdrive; to attempt to forcibly remount, call drive.mount(\"/content/gdrive\", force_remount=True).\n"
          ],
          "name": "stdout"
        }
      ]
    },
    {
      "metadata": {
        "id": "QZM1KDFTQ2xt",
        "colab_type": "text"
      },
      "cell_type": "markdown",
      "source": [
        "**Writing to Google Drive**"
      ]
    },
    {
      "metadata": {
        "id": "H2k1krNeQYXm",
        "colab_type": "code",
        "colab": {
          "base_uri": "https://localhost:8080/",
          "height": 48
        },
        "outputId": "35074121-2a98-42bf-e159-d2395258cb3d"
      },
      "cell_type": "code",
      "source": [
        "with open('/content/gdrive/My Drive/foo.txt', 'w') as f:\n",
        "  f.write('Hello World!')\n",
        "!cat /content/gdrive/My\\ Drive/foo.txt"
      ],
      "execution_count": 9,
      "outputs": [
        {
          "output_type": "stream",
          "text": [
            "Hello World!"
          ],
          "name": "stdout"
        }
      ]
    },
    {
      "metadata": {
        "id": "pO1HqYbDRNlc",
        "colab_type": "text"
      },
      "cell_type": "markdown",
      "source": [
        "**Downloading a file using wget**"
      ]
    },
    {
      "metadata": {
        "id": "gAjQz0OHRSK2",
        "colab_type": "code",
        "colab": {
          "base_uri": "https://localhost:8080/",
          "height": 167
        },
        "outputId": "6063cec9-a6e4-49af-9731-a8a6718436a5"
      },
      "cell_type": "code",
      "source": [
        "!wget -c https://raw.githubusercontent.com/udacity/deep-learning-v2-pytorch/master/project-tv-script-generation/helper.py"
      ],
      "execution_count": 10,
      "outputs": [
        {
          "output_type": "stream",
          "text": [
            "--2019-01-29 22:50:37--  https://raw.githubusercontent.com/udacity/deep-learning-v2-pytorch/master/project-tv-script-generation/helper.py\n",
            "Resolving raw.githubusercontent.com (raw.githubusercontent.com)... 151.101.0.133, 151.101.64.133, 151.101.128.133, ...\n",
            "Connecting to raw.githubusercontent.com (raw.githubusercontent.com)|151.101.0.133|:443... connected.\n",
            "HTTP request sent, awaiting response... 416 Range Not Satisfiable\n",
            "\n",
            "    The file is already fully retrieved; nothing to do.\n",
            "\n"
          ],
          "name": "stdout"
        }
      ]
    },
    {
      "metadata": {
        "id": "w0tVBZt8Ra0n",
        "colab_type": "text"
      },
      "cell_type": "markdown",
      "source": [
        "**Reading a file from Google Drive**"
      ]
    },
    {
      "metadata": {
        "id": "7d9jQh09RTNu",
        "colab_type": "code",
        "colab": {}
      },
      "cell_type": "code",
      "source": [
        "import helper\n",
        "data_dir = '/content/gdrive/My Drive/datasets/Seinfeld_Scripts.txt'\n",
        "text = helper.load_data(data_dir)"
      ],
      "execution_count": 0,
      "outputs": []
    },
    {
      "metadata": {
        "id": "14xWF4CTRkZa",
        "colab_type": "text"
      },
      "cell_type": "markdown",
      "source": [
        "**Converting between code and text cells**\n",
        "\n",
        "1.   Convert from code cell to text cell: Ctrl-m-m\n",
        "2.   Convert from text cell to code cell: Ctrl-m-y\n",
        "\n",
        "\n"
      ]
    },
    {
      "metadata": {
        "id": "RZHhAml5ScJq",
        "colab_type": "text"
      },
      "cell_type": "markdown",
      "source": [
        "**Install python module using pip**"
      ]
    },
    {
      "metadata": {
        "id": "X0K7LTrtStSm",
        "colab_type": "code",
        "colab": {
          "base_uri": "https://localhost:8080/",
          "height": 82
        },
        "outputId": "5484b6b2-3299-424f-924c-9f06b549ba6a"
      },
      "cell_type": "code",
      "source": [
        "!pip install nltk"
      ],
      "execution_count": 12,
      "outputs": [
        {
          "output_type": "stream",
          "text": [
            "Requirement already satisfied: nltk in /usr/local/lib/python3.6/dist-packages (3.2.5)\n",
            "Requirement already satisfied: six in /usr/local/lib/python3.6/dist-packages (from nltk) (1.11.0)\n"
          ],
          "name": "stdout"
        }
      ]
    },
    {
      "metadata": {
        "id": "id-glRKmTInE",
        "colab_type": "text"
      },
      "cell_type": "markdown",
      "source": [
        "**Executing commands on the command line **"
      ]
    },
    {
      "metadata": {
        "id": "3KcNxMdXWbeb",
        "colab_type": "code",
        "colab": {
          "base_uri": "https://localhost:8080/",
          "height": 65
        },
        "outputId": "2429464f-1543-4da6-f712-981b634a4d29"
      },
      "cell_type": "code",
      "source": [
        "!ls ./"
      ],
      "execution_count": 13,
      "outputs": [
        {
          "output_type": "stream",
          "text": [
            "gdrive\thelper.py  __pycache__\tsample_data\n"
          ],
          "name": "stdout"
        }
      ]
    }
  ]
}