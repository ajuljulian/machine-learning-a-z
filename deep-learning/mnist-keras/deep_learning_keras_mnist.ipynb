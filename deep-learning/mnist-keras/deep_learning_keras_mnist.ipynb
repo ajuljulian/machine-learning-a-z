{
 "cells": [
  {
   "cell_type": "markdown",
   "metadata": {},
   "source": [
    "## MNIST digit recognition using a deep neural net with Keras\n",
    "\n",
    "Let's create a deep neural network using Keras and try to classify digits"
   ]
  },
  {
   "cell_type": "code",
   "execution_count": 1,
   "metadata": {},
   "outputs": [
    {
     "name": "stderr",
     "output_type": "stream",
     "text": [
      "Using TensorFlow backend.\n"
     ]
    }
   ],
   "source": [
    "import numpy as np\n",
    "import matplotlib.pyplot as plt\n",
    "\n",
    "from keras.datasets import mnist\n",
    "from keras.models import Sequential\n",
    "from keras.layers.core import Dense, Dropout, Activation\n",
    "from keras.utils import np_utils"
   ]
  },
  {
   "cell_type": "code",
   "execution_count": 2,
   "metadata": {},
   "outputs": [
    {
     "name": "stdout",
     "output_type": "stream",
     "text": [
      "X_train original shape (60000, 28, 28)\n",
      "y_train original shape (60000,)\n"
     ]
    }
   ],
   "source": [
    "nb_classes = 10\n",
    "\n",
    "(X_train, y_train), (X_test, y_test) = mnist.load_data()\n",
    "print(\"X_train original shape\", X_train.shape)\n",
    "print(\"y_train original shape\", y_train.shape)"
   ]
  },
  {
   "cell_type": "markdown",
   "metadata": {},
   "source": [
    "Let's look at some examples of the training data"
   ]
  },
  {
   "cell_type": "code",
   "execution_count": 3,
   "metadata": {},
   "outputs": [
    {
     "data": {
      "image/png": "[encoded data removed]",
      "text/plain": [
       "<Figure size 432x288 with 9 Axes>"
      ]
     },
     "metadata": {},
     "output_type": "display_data"
    }
   ],
   "source": [
    "for i in range(9):\n",
    "    plt.subplot(3, 3, i+1)\n",
    "    plt.imshow(X_train[i], cmap='gray', interpolation='none')\n",
    "    plt.title(\"Class {}\".format(y_train[i]))\n",
    "plt.show()"
   ]
  },
  {
   "cell_type": "markdown",
   "metadata": {},
   "source": [
    "Format the data for training"
   ]
  },
  {
   "cell_type": "code",
   "execution_count": 4,
   "metadata": {},
   "outputs": [
    {
     "name": "stdout",
     "output_type": "stream",
     "text": [
      "Training matrix shape (60000, 784)\n",
      "Testing matrix shape (10000, 784)\n"
     ]
    }
   ],
   "source": [
    "X_train = X_train.reshape(60000, 784)\n",
    "X_test = X_test.reshape(10000, 784)\n",
    "X_train = X_train.astype('float32')\n",
    "X_test = X_test.astype('float32')\n",
    "X_train /= 255\n",
    "X_test /= 255\n",
    "print(\"Training matrix shape\", X_train.shape)\n",
    "print(\"Testing matrix shape\", X_test.shape)"
   ]
  },
  {
   "cell_type": "markdown",
   "metadata": {},
   "source": [
    "Modify the target matrices to be in the one-hot format<br/>\n",
    "\n",
    "0 -> [0, 0, 0, 0, 0, 0, 0, 0, 0, 0]<br>\n",
    "1 -> [0, 1, 0, 0, 0, 0, 0, 0, 0, 0]<br>\n",
    "2 -> [0, 0, 1, 0, 0, 0, 0, 0, 0, 0]<br>\n",
    "..."
   ]
  },
  {
   "cell_type": "code",
   "execution_count": 5,
   "metadata": {},
   "outputs": [],
   "source": [
    "Y_train = np_utils.to_categorical(y_train, nb_classes)\n",
    "Y_test = np_utils.to_categorical(y_test, nb_classes)"
   ]
  },
  {
   "cell_type": "markdown",
   "metadata": {},
   "source": [
    "Let's create the network<br>\n",
    "    <img src=\"images/mnist_network.png\" alt=\"MNIST network\" title=\"MNIST network\" />"
   ]
  },
  {
   "cell_type": "code",
   "execution_count": 6,
   "metadata": {},
   "outputs": [],
   "source": [
    "from keras.callbacks import EarlyStopping\n",
    "\n",
    "model = Sequential()\n",
    "model.add(Dense(512, activation='relu', input_shape=(784,)))\n",
    "model.add(Dropout(0.2)) # Dropout helps protect the model against overfitting\n",
    "model.add(Dense(512, activation='relu'))\n",
    "model.add(Dropout(0.2))\n",
    "model.add(Dense(10, activation='softmax'))"
   ]
  },
  {
   "cell_type": "code",
   "execution_count": 7,
   "metadata": {},
   "outputs": [
    {
     "name": "stdout",
     "output_type": "stream",
     "text": [
      "WARNING:tensorflow:From /Users/arajuljulian/.pyenv/versions/3.6.5/lib/python3.6/site-packages/keras/backend/tensorflow_backend.py:2885: calling reduce_sum (from tensorflow.python.ops.math_ops) with keep_dims is deprecated and will be removed in a future version.\n",
      "Instructions for updating:\n",
      "keep_dims is deprecated, use keepdims instead\n",
      "WARNING:tensorflow:From /Users/arajuljulian/.pyenv/versions/3.6.5/lib/python3.6/site-packages/keras/backend/tensorflow_backend.py:1349: calling reduce_mean (from tensorflow.python.ops.math_ops) with keep_dims is deprecated and will be removed in a future version.\n",
      "Instructions for updating:\n",
      "keep_dims is deprecated, use keepdims instead\n"
     ]
    }
   ],
   "source": [
    "model.compile(optimizer='adam', loss='categorical_crossentropy', metrics=['accuracy'])"
   ]
  },
  {
   "cell_type": "code",
   "execution_count": 8,
   "metadata": {},
   "outputs": [
    {
     "name": "stdout",
     "output_type": "stream",
     "text": [
      "Train on 60000 samples, validate on 10000 samples\n",
      "Epoch 1/30\n",
      "60000/60000 [==============================] - 6s 93us/step - loss: 0.2488 - acc: 0.9257 - val_loss: 0.1067 - val_acc: 0.9668\n",
      "Epoch 2/30\n",
      "60000/60000 [==============================] - 5s 87us/step - loss: 0.1010 - acc: 0.9694 - val_loss: 0.0814 - val_acc: 0.9752\n",
      "Epoch 3/30\n",
      "60000/60000 [==============================] - 5s 89us/step - loss: 0.0712 - acc: 0.9778 - val_loss: 0.0692 - val_acc: 0.9789\n",
      "Epoch 4/30\n",
      "60000/60000 [==============================] - 5s 90us/step - loss: 0.0550 - acc: 0.9827 - val_loss: 0.0694 - val_acc: 0.9792\n",
      "Epoch 5/30\n",
      "60000/60000 [==============================] - 5s 87us/step - loss: 0.0465 - acc: 0.9846 - val_loss: 0.0679 - val_acc: 0.9789\n",
      "Epoch 6/30\n",
      "60000/60000 [==============================] - 6s 92us/step - loss: 0.0407 - acc: 0.9866 - val_loss: 0.0708 - val_acc: 0.9803\n",
      "Epoch 7/30\n",
      "60000/60000 [==============================] - 5s 88us/step - loss: 0.0365 - acc: 0.9880 - val_loss: 0.0599 - val_acc: 0.9829\n",
      "Epoch 8/30\n",
      "60000/60000 [==============================] - 6s 94us/step - loss: 0.0316 - acc: 0.9892 - val_loss: 0.0680 - val_acc: 0.9811\n",
      "Epoch 9/30\n",
      "60000/60000 [==============================] - 6s 98us/step - loss: 0.0248 - acc: 0.9921 - val_loss: 0.0737 - val_acc: 0.9811\n"
     ]
    },
    {
     "data": {
      "text/plain": [
       "<keras.callbacks.History at 0x128b14b70>"
      ]
     },
     "execution_count": 8,
     "metadata": {},
     "output_type": "execute_result"
    }
   ],
   "source": [
    "early_stopping_monitor = EarlyStopping(patience=2)\n",
    "\n",
    "model.fit(X_train, Y_train, batch_size=128, epochs=30, verbose=1, validation_data=(X_test, Y_test), callbacks=[early_stopping_monitor])"
   ]
  },
  {
   "cell_type": "markdown",
   "metadata": {},
   "source": [
    "Evaluate the performance"
   ]
  },
  {
   "cell_type": "code",
   "execution_count": 9,
   "metadata": {},
   "outputs": [
    {
     "name": "stdout",
     "output_type": "stream",
     "text": [
      "Test score: 0.07369526913755399\n",
      "Test accuracy 0.9811\n"
     ]
    }
   ],
   "source": [
    "score = model.evaluate(X_test, Y_test, verbose=0)\n",
    "\n",
    "print('Test score:', score[0])\n",
    "print('Test accuracy', score[1])"
   ]
  },
  {
   "cell_type": "markdown",
   "metadata": {
    "collapsed": true
   },
   "source": [
    "Inspect the output"
   ]
  },
  {
   "cell_type": "code",
   "execution_count": 10,
   "metadata": {},
   "outputs": [
    {
     "data": {
      "text/plain": [
       "array([1.1609123e-09, 4.5111932e-08, 3.8193739e-06, 3.9364895e-08,\n",
       "       4.3662168e-11, 1.6196122e-10, 3.4862023e-14, 9.9998355e-01,\n",
       "       2.2708900e-08, 1.2671095e-05], dtype=float32)"
      ]
     },
     "execution_count": 10,
     "metadata": {},
     "output_type": "execute_result"
    }
   ],
   "source": [
    "predicted_classes = model.predict(X_test)\n",
    "predicted_classes[0]"
   ]
  },
  {
   "cell_type": "code",
   "execution_count": 11,
   "metadata": {},
   "outputs": [],
   "source": [
    "predictions = np.argmax(predicted_classes, axis=1)"
   ]
  },
  {
   "cell_type": "code",
   "execution_count": 12,
   "metadata": {},
   "outputs": [
    {
     "data": {
      "text/plain": [
       "(10000,)"
      ]
     },
     "execution_count": 12,
     "metadata": {},
     "output_type": "execute_result"
    }
   ],
   "source": [
    "predictions.shape"
   ]
  },
  {
   "cell_type": "code",
   "execution_count": 13,
   "metadata": {},
   "outputs": [
    {
     "data": {
      "text/plain": [
       "9"
      ]
     },
     "execution_count": 13,
     "metadata": {},
     "output_type": "execute_result"
    }
   ],
   "source": [
    "predictions[501]"
   ]
  },
  {
   "cell_type": "code",
   "execution_count": 14,
   "metadata": {},
   "outputs": [
    {
     "data": {
      "image/png": "[encoded data removed]",
      "text/plain": [
       "<Figure size 432x288 with 1 Axes>"
      ]
     },
     "metadata": {},
     "output_type": "display_data"
    }
   ],
   "source": [
    "plt.imshow(X_test[501].reshape(28, 28), cmap='gray', interpolation='none')\n",
    "plt.show()"
   ]
  },
  {
   "cell_type": "code",
   "execution_count": 15,
   "metadata": {},
   "outputs": [
    {
     "data": {
      "text/plain": [
       "9"
      ]
     },
     "execution_count": 15,
     "metadata": {},
     "output_type": "execute_result"
    }
   ],
   "source": [
    "y_test[501]"
   ]
  },
  {
   "cell_type": "code",
   "execution_count": 16,
   "metadata": {},
   "outputs": [],
   "source": [
    "correct_indices = (predictions == y_test)\n",
    "incorrect_indices = (predictions != y_test)"
   ]
  },
  {
   "cell_type": "code",
   "execution_count": 17,
   "metadata": {},
   "outputs": [
    {
     "data": {
      "text/plain": [
       "array([ True,  True,  True, ...,  True,  True,  True])"
      ]
     },
     "execution_count": 17,
     "metadata": {},
     "output_type": "execute_result"
    }
   ],
   "source": [
    "correct_indices"
   ]
  },
  {
   "cell_type": "code",
   "execution_count": 18,
   "metadata": {},
   "outputs": [
    {
     "data": {
      "text/plain": [
       "array([False, False, False, False, False, False, False, False, False,\n",
       "       False, False, False, False, False, False, False, False, False,\n",
       "       False, False, False, False, False, False, False, False, False,\n",
       "       False, False, False, False, False, False, False, False, False,\n",
       "       False, False, False, False, False, False, False, False, False,\n",
       "       False, False, False, False, False, False,  True, False, False,\n",
       "       False, False, False, False, False, False, False, False, False,\n",
       "       False, False, False, False, False, False, False, False, False,\n",
       "       False, False, False, False, False, False, False, False, False,\n",
       "       False, False, False, False, False, False, False, False, False,\n",
       "       False, False, False, False, False, False, False, False, False,\n",
       "       False])"
      ]
     },
     "execution_count": 18,
     "metadata": {},
     "output_type": "execute_result"
    }
   ],
   "source": [
    "incorrect_indices[100:200]"
   ]
  },
  {
   "cell_type": "code",
   "execution_count": 19,
   "metadata": {},
   "outputs": [
    {
     "data": {
      "text/plain": [
       "array([7, 2, 1, ..., 4, 5, 6])"
      ]
     },
     "execution_count": 19,
     "metadata": {},
     "output_type": "execute_result"
    }
   ],
   "source": [
    "predictions"
   ]
  },
  {
   "cell_type": "code",
   "execution_count": 20,
   "metadata": {},
   "outputs": [
    {
     "name": "stdout",
     "output_type": "stream",
     "text": [
      "Accuracy on the test samples 0.9811\n"
     ]
    }
   ],
   "source": [
    "print(\"Accuracy on the test samples\", np.count_nonzero(correct_indices)/len(correct_indices))"
   ]
  },
  {
   "cell_type": "code",
   "execution_count": 21,
   "metadata": {},
   "outputs": [
    {
     "data": {
      "text/plain": [
       "array([7, 2, 1, ..., 4, 5, 6])"
      ]
     },
     "execution_count": 21,
     "metadata": {},
     "output_type": "execute_result"
    }
   ],
   "source": [
    "predictions[correct_indices]"
   ]
  },
  {
   "cell_type": "code",
   "execution_count": 22,
   "metadata": {},
   "outputs": [
    {
     "data": {
      "text/plain": [
       "array([7, 2, 1, ..., 4, 5, 6], dtype=uint8)"
      ]
     },
     "execution_count": 22,
     "metadata": {},
     "output_type": "execute_result"
    }
   ],
   "source": [
    "y_test[correct_indices]"
   ]
  },
  {
   "cell_type": "code",
   "execution_count": 23,
   "metadata": {},
   "outputs": [
    {
     "data": {
      "text/plain": [
       "array([8, 5, 2, 0, 7, 3, 4, 0, 5, 2, 8, 2, 7, 8, 8, 7, 5, 8, 9, 4, 2, 0,\n",
       "       5, 2, 8, 6, 8, 8, 2, 4, 9, 5, 1, 3, 2, 9, 3, 8, 5, 9, 7, 2, 3, 5,\n",
       "       7, 0, 2, 8, 4, 5, 3, 4, 2, 0, 5, 9, 2, 3, 7, 4, 1, 3, 0, 1, 4, 4,\n",
       "       4, 5, 4, 5, 7, 3, 1, 4, 5, 5, 0, 2, 5, 5, 5, 5, 8, 2, 9, 0, 5, 0,\n",
       "       7, 1, 4, 5, 0, 5, 3, 4, 2, 8, 2, 8, 4, 1, 2, 4, 3, 2, 5, 4, 4, 5,\n",
       "       3, 7, 7, 4, 7, 8, 5, 4, 7, 5, 4, 8, 2, 2, 2, 5, 2, 5, 4, 5, 8, 5,\n",
       "       4, 4, 2, 2, 8, 5, 2, 7, 0, 2, 8, 8, 5, 9, 0, 5, 9, 2, 2, 7, 4, 8,\n",
       "       9, 2, 3, 8, 8, 8, 8, 4, 9, 4, 2, 5, 5, 3, 9, 2, 2, 5, 2, 5, 4, 1,\n",
       "       7, 3, 6, 2, 0, 0, 5, 4, 3, 8, 2, 0, 8])"
      ]
     },
     "execution_count": 23,
     "metadata": {},
     "output_type": "execute_result"
    }
   ],
   "source": [
    "predictions[incorrect_indices]"
   ]
  },
  {
   "cell_type": "code",
   "execution_count": 24,
   "metadata": {},
   "outputs": [
    {
     "data": {
      "text/plain": [
       "array([9, 6, 4, 6, 2, 5, 9, 6, 3, 8, 3, 8, 2, 1, 5, 9, 3, 3, 8, 5, 1, 6,\n",
       "       6, 7, 6, 4, 7, 6, 7, 9, 4, 9, 7, 8, 8, 7, 5, 1, 6, 7, 8, 4, 9, 6,\n",
       "       3, 8, 4, 2, 6, 6, 8, 9, 7, 6, 6, 0, 7, 5, 3, 6, 6, 5, 9, 9, 9, 6,\n",
       "       9, 6, 2, 3, 9, 5, 6, 9, 6, 6, 8, 3, 9, 3, 6, 8, 6, 1, 5, 6, 6, 6,\n",
       "       3, 9, 6, 6, 5, 8, 9, 6, 7, 5, 4, 7, 0, 7, 6, 9, 1, 4, 3, 9, 9, 6,\n",
       "       0, 9, 2, 6, 1, 2, 9, 9, 8, 6, 7, 6, 6, 7, 6, 3, 6, 3, 9, 6, 0, 6,\n",
       "       9, 8, 3, 1, 1, 1, 3, 9, 6, 4, 3, 3, 3, 3, 3, 9, 8, 0, 6, 0, 8, 0,\n",
       "       8, 0, 0, 1, 1, 1, 1, 6, 3, 6, 0, 3, 8, 5, 4, 7, 7, 0, 7, 8, 9, 0,\n",
       "       2, 6, 5, 4, 2, 5, 6, 9, 2, 6, 0, 6, 3], dtype=uint8)"
      ]
     },
     "execution_count": 24,
     "metadata": {},
     "output_type": "execute_result"
    }
   ],
   "source": [
    "y_test[incorrect_indices]"
   ]
  },
  {
   "cell_type": "code",
   "execution_count": 25,
   "metadata": {},
   "outputs": [
    {
     "data": {
      "image/png": "[encoded data removed]",
      "text/plain": [
       "<Figure size 720x720 with 9 Axes>"
      ]
     },
     "metadata": {},
     "output_type": "display_data"
    }
   ],
   "source": [
    "plt.rcParams['figure.figsize'] = (10,10) # Make the figures a bit bigger\n",
    "\n",
    "for i, enum in enumerate(zip(predictions[correct_indices][:9], y_test[correct_indices][:9], X_test[correct_indices][:9])):\n",
    "    plt.subplot(3, 3, i+1)\n",
    "    plt.imshow(enum[2].reshape(28, 28), cmap='gray', interpolation='none')\n",
    "    plt.title(\"Predicted {}, Actual {}\".format(enum[0],enum[1]))\n",
    "plt.show()"
   ]
  },
  {
   "cell_type": "code",
   "execution_count": 26,
   "metadata": {},
   "outputs": [
    {
     "data": {
      "image/png": "[encoded data removed]",
      "text/plain": [
       "<Figure size 720x720 with 9 Axes>"
      ]
     },
     "metadata": {},
     "output_type": "display_data"
    }
   ],
   "source": [
    "plt.rcParams['figure.figsize'] = (10,10) # Make the figures a bit bigger\n",
    "\n",
    "for i, enum in enumerate(zip(predictions[incorrect_indices][:9], y_test[incorrect_indices][:9], X_test[incorrect_indices][:9])):\n",
    "    plt.subplot(3, 3, i+1)\n",
    "    plt.imshow(enum[2].reshape(28, 28), cmap='gray', interpolation='none')\n",
    "    plt.title(\"Predicted {}, Actual {}\".format(enum[0],enum[1]))\n",
    "plt.show()"
   ]
  },
  {
   "cell_type": "code",
   "execution_count": null,
   "metadata": {},
   "outputs": [],
   "source": []
  }
 ],
 "metadata": {
  "kernelspec": {
   "display_name": "Python 3",
   "language": "python",
   "name": "python3"
  },
  "language_info": {
   "codemirror_mode": {
    "name": "ipython",
    "version": 3
   },
   "file_extension": ".py",
   "mimetype": "text/x-python",
   "name": "python",
   "nbconvert_exporter": "python",
   "pygments_lexer": "ipython3",
   "version": "3.6.5"
  }
 },
 "nbformat": 4,
 "nbformat_minor": 2
}
